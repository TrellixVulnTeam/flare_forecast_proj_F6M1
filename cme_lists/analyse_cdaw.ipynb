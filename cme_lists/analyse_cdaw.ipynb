{
 "cells": [
  {
   "cell_type": "markdown",
   "id": "alleged-casting",
   "metadata": {},
   "source": [
    "## Notebook to inspect and analyse CDAW catalog\n",
    "\n",
    "The CDAW csv file read into a pandas DataFrame here is created in `get_cdaw.py` by reading the univseral CDAW txt file catalog.\n",
    "\n",
    "A full description of the CDAW catalog is here https://cdaw.gsfc.nasa.gov/CME_list/catalog_description.htm\n",
    "\n",
    "But here's a summary of column descriptions:\n",
    "\n",
    "* `date` : Date of first appearance of CME \n",
    "* `time` : Time of first appearance of CME in LASCO C2 field of view\n",
    "* `central_pa` : Central position angle. Halo CMEs have an apparent width of 360$^{\\circ}$ and hence are marked as \"halo\" rather than given an angle.\n",
    "* `width` : sky-plane width of CME, typically measured in C2. Further detailed on when the width was measured can be found in associated txt files (not in this csv file).\n",
    "* `linear_speed` : the linear speed obtained by fitting a straight line to the height-time measurements,\n",
    "* `2nd_order_speed_inital` : quadratic speed obtained by fitting a parabola to the height-time measurements and evaluating the speed at the time of initial height measurement\n",
    "* `2nd_order_speed_final` : same as previous but evaluated at final height measurement\n",
    "* `2nd_order_speed_20R` : same as previous but evaluated at 20 solar radii\n",
    "\n",
    "* `accel` : acceleration, can be positive, negative or 0. At least three measurements are required, if only three are used an * is also included with the value.\n",
    "* `mass` :  estimation of CME mass involves a number of assumptions, so the values given should be taken as representative, and marked with * is large uncertainty associated with it.\n",
    "* `kinetic_energy` : kinetic energy is obtained from the linear speed and the representative mass. Again also very uncertain - large uncertainties marked with * too.\n",
    "* `MPA` : measurement position angle, he position angle at which the height-time measurements are made. In ideal case MPA and central_pa should be the same, however some CMEs move non-radially and so these do not coincide. For halo CMEs a MPA is given and this refers to the fastest moving front of the leading edge.\n",
    "* `remarks` : notes quality of observation and some notes referring to detection\n",
    "* `quality_index` : this is the index that I pulled from each individual event text files, and denotes the quality of the observation with 0 being the worse (ill-defined) to 5 (excellent)\n",
    "\n",
    "Some notes on the associated txt file:\n",
    "\n",
    "\" _We regard the linear speed, width, CPA, and acceleration as the basic attributes of a CME. The text file linked to the first appearance time contains the actual height-time measurements, which may be useful for over plotting with other data. The text file also contains the CME onset times obtained by extrapolating the linear fit (#ONSET1) or quadratic fit (#ONSET2) to the solar surface (height = 1 solar radius). Note that theses extrapolations are accurate only for limb events. For disk events, the estimated onset is likely to be after the actual onset time. There is a quality index listed in the text file for each CME, on a scale of 1-5, 1 being poor and 5 being excellent._\""
   ]
  },
  {
   "cell_type": "code",
   "execution_count": 17,
   "id": "premier-freeware",
   "metadata": {},
   "outputs": [],
   "source": [
    "import pandas as pd \n",
    "import matplotlib.pyplot as plt\n",
    "import numpy as np\n",
    "import seaborn as sns"
   ]
  },
  {
   "cell_type": "code",
   "execution_count": 31,
   "id": "greatest-documentation",
   "metadata": {},
   "outputs": [
    {
     "data": {
      "text/plain": [
       "Index(['date', 'time', 'central_pa', 'width', 'linear_speed',\n",
       "       '2nd_order_speed_inital', '2nd_order_speed_final',\n",
       "       '2nd_order_speed_20R', 'accel', 'mass', 'kinetic_energy', 'MPA',\n",
       "       'remarks', 'time_c2', 'quality_index'],\n",
       "      dtype='object')"
      ]
     },
     "execution_count": 31,
     "metadata": {},
     "output_type": "execute_result"
    }
   ],
   "source": [
    "cdaw = pd.read_csv(\"cdaw_2010_2018_w_quality.csv\")\n",
    "cdaw.keys()"
   ]
  },
  {
   "cell_type": "code",
   "execution_count": 30,
   "id": "likely-regular",
   "metadata": {},
   "outputs": [
    {
     "data": {
      "text/html": [
       "<div>\n",
       "<style scoped>\n",
       "    .dataframe tbody tr th:only-of-type {\n",
       "        vertical-align: middle;\n",
       "    }\n",
       "\n",
       "    .dataframe tbody tr th {\n",
       "        vertical-align: top;\n",
       "    }\n",
       "\n",
       "    .dataframe thead th {\n",
       "        text-align: right;\n",
       "    }\n",
       "</style>\n",
       "<table border=\"1\" class=\"dataframe\">\n",
       "  <thead>\n",
       "    <tr style=\"text-align: right;\">\n",
       "      <th></th>\n",
       "      <th>date</th>\n",
       "      <th>time</th>\n",
       "      <th>central_pa</th>\n",
       "      <th>width</th>\n",
       "      <th>linear_speed</th>\n",
       "      <th>2nd_order_speed_inital</th>\n",
       "      <th>2nd_order_speed_final</th>\n",
       "      <th>2nd_order_speed_20R</th>\n",
       "      <th>accel</th>\n",
       "      <th>mass</th>\n",
       "      <th>kinetic_energy</th>\n",
       "      <th>MPA</th>\n",
       "      <th>remarks</th>\n",
       "      <th>time_c2</th>\n",
       "      <th>quality_index</th>\n",
       "    </tr>\n",
       "  </thead>\n",
       "  <tbody>\n",
       "    <tr>\n",
       "      <th>0</th>\n",
       "      <td>2010/01/01</td>\n",
       "      <td>06:54:03</td>\n",
       "      <td>354</td>\n",
       "      <td>6</td>\n",
       "      <td>330</td>\n",
       "      <td>269</td>\n",
       "      <td>396</td>\n",
       "      <td>959</td>\n",
       "      <td>35.5*</td>\n",
       "      <td>-------</td>\n",
       "      <td>-------</td>\n",
       "      <td>355</td>\n",
       "      <td>Very Poor Event; Only 3 points; Only C2</td>\n",
       "      <td>2010-01-01 06:54:03</td>\n",
       "      <td>#QUALITY_INDEX: 0 (Ill-Defined)</td>\n",
       "    </tr>\n",
       "    <tr>\n",
       "      <th>1</th>\n",
       "      <td>2010/01/01</td>\n",
       "      <td>08:30:03</td>\n",
       "      <td>248</td>\n",
       "      <td>75</td>\n",
       "      <td>148</td>\n",
       "      <td>60</td>\n",
       "      <td>244</td>\n",
       "      <td>220</td>\n",
       "      <td>1.9*</td>\n",
       "      <td>4.2e+14</td>\n",
       "      <td>4.6e+28</td>\n",
       "      <td>253</td>\n",
       "      <td>Poor Event</td>\n",
       "      <td>2010-01-01 08:30:03</td>\n",
       "      <td>#QUALITY_INDEX: 1 (Poor)</td>\n",
       "    </tr>\n",
       "    <tr>\n",
       "      <th>2</th>\n",
       "      <td>2010/01/01</td>\n",
       "      <td>17:06:03</td>\n",
       "      <td>49</td>\n",
       "      <td>21</td>\n",
       "      <td>729</td>\n",
       "      <td>764</td>\n",
       "      <td>694</td>\n",
       "      <td>700</td>\n",
       "      <td>-3.9</td>\n",
       "      <td>4.0e+14</td>\n",
       "      <td>1.1e+30</td>\n",
       "      <td>52</td>\n",
       "      <td>NaN</td>\n",
       "      <td>2010-01-01 17:06:03</td>\n",
       "      <td>#QUALITY_INDEX: 3 (Typical)</td>\n",
       "    </tr>\n",
       "  </tbody>\n",
       "</table>\n",
       "</div>"
      ],
      "text/plain": [
       "         date      time central_pa  width  linear_speed  \\\n",
       "0  2010/01/01  06:54:03        354      6           330   \n",
       "1  2010/01/01  08:30:03        248     75           148   \n",
       "2  2010/01/01  17:06:03         49     21           729   \n",
       "\n",
       "  2nd_order_speed_inital 2nd_order_speed_final 2nd_order_speed_20R  accel  \\\n",
       "0                    269                   396                 959  35.5*   \n",
       "1                     60                   244                 220   1.9*   \n",
       "2                    764                   694                 700   -3.9   \n",
       "\n",
       "      mass kinetic_energy  MPA                                  remarks  \\\n",
       "0  -------        -------  355  Very Poor Event; Only 3 points; Only C2   \n",
       "1  4.2e+14        4.6e+28  253                               Poor Event   \n",
       "2  4.0e+14        1.1e+30   52                                      NaN   \n",
       "\n",
       "               time_c2                    quality_index  \n",
       "0  2010-01-01 06:54:03  #QUALITY_INDEX: 0 (Ill-Defined)  \n",
       "1  2010-01-01 08:30:03         #QUALITY_INDEX: 1 (Poor)  \n",
       "2  2010-01-01 17:06:03      #QUALITY_INDEX: 3 (Typical)  "
      ]
     },
     "execution_count": 30,
     "metadata": {},
     "output_type": "execute_result"
    }
   ],
   "source": [
    "cdaw.head(3)"
   ]
  },
  {
   "cell_type": "code",
   "execution_count": 28,
   "id": "covered-behavior",
   "metadata": {},
   "outputs": [
    {
     "data": {
      "text/plain": [
       "Index(['date', 'time', 'central_pa', 'width', 'linear_speed',\n",
       "       '2nd_order_speed_inital', '2nd_order_speed_final',\n",
       "       '2nd_order_speed_20R', 'accel', 'mass', 'kinetic_energy', 'MPA',\n",
       "       'remarks', 'time_c2', 'quality_index', 'quality_val'],\n",
       "      dtype='object')"
      ]
     },
     "execution_count": 28,
     "metadata": {},
     "output_type": "execute_result"
    }
   ],
   "source": [
    "cdaw.keys()"
   ]
  },
  {
   "cell_type": "code",
   "execution_count": 19,
   "id": "unauthorized-bachelor",
   "metadata": {},
   "outputs": [],
   "source": [
    "cdaw.time_c2 = pd.to_datetime(cdaw.time_c2)"
   ]
  },
  {
   "cell_type": "code",
   "execution_count": 20,
   "id": "hourly-wales",
   "metadata": {},
   "outputs": [
    {
     "data": {
      "text/plain": [
       "array(['#QUALITY_INDEX: 0 (Ill-Defined)', '#QUALITY_INDEX: 1 (Poor)',\n",
       "       '#QUALITY_INDEX: 3 (Typical)', '#QUALITY_INDEX: 2 (Fair)',\n",
       "       '#QUALITY_INDEX: 4 (Good)', '#QUALITY_INDEX: 5 (Excellent)', nan,\n",
       "       '#QUALITY_INDEX: -1 (Not assigned)'], dtype=object)"
      ]
     },
     "execution_count": 20,
     "metadata": {},
     "output_type": "execute_result"
    }
   ],
   "source": [
    "cdaw[\"quality_index\"].unique()"
   ]
  },
  {
   "cell_type": "code",
   "execution_count": 21,
   "id": "charged-variety",
   "metadata": {},
   "outputs": [
    {
     "data": {
      "text/html": [
       "<div>\n",
       "<style scoped>\n",
       "    .dataframe tbody tr th:only-of-type {\n",
       "        vertical-align: middle;\n",
       "    }\n",
       "\n",
       "    .dataframe tbody tr th {\n",
       "        vertical-align: top;\n",
       "    }\n",
       "\n",
       "    .dataframe thead th {\n",
       "        text-align: right;\n",
       "    }\n",
       "</style>\n",
       "<table border=\"1\" class=\"dataframe\">\n",
       "  <thead>\n",
       "    <tr style=\"text-align: right;\">\n",
       "      <th></th>\n",
       "      <th>date</th>\n",
       "      <th>time</th>\n",
       "      <th>central_pa</th>\n",
       "      <th>width</th>\n",
       "      <th>linear_speed</th>\n",
       "      <th>2nd_order_speed_inital</th>\n",
       "      <th>2nd_order_speed_final</th>\n",
       "      <th>2nd_order_speed_20R</th>\n",
       "      <th>accel</th>\n",
       "      <th>mass</th>\n",
       "      <th>kinetic_energy</th>\n",
       "      <th>MPA</th>\n",
       "      <th>remarks</th>\n",
       "      <th>time_c2</th>\n",
       "      <th>quality_index</th>\n",
       "    </tr>\n",
       "  </thead>\n",
       "  <tbody>\n",
       "    <tr>\n",
       "      <th>1349</th>\n",
       "      <td>2011/03/12</td>\n",
       "      <td>16:36:05</td>\n",
       "      <td>285</td>\n",
       "      <td>15</td>\n",
       "      <td>466</td>\n",
       "      <td>407</td>\n",
       "      <td>527</td>\n",
       "      <td>917</td>\n",
       "      <td>27.8</td>\n",
       "      <td>-------</td>\n",
       "      <td>-------</td>\n",
       "      <td>282</td>\n",
       "      <td>Newly inserted on 2012/03/29; Only C2</td>\n",
       "      <td>2011-03-12 16:36:05</td>\n",
       "      <td>NaN</td>\n",
       "    </tr>\n",
       "    <tr>\n",
       "      <th>2527</th>\n",
       "      <td>2011/09/30</td>\n",
       "      <td>20:00:06</td>\n",
       "      <td>77</td>\n",
       "      <td>183</td>\n",
       "      <td>337</td>\n",
       "      <td>278</td>\n",
       "      <td>396</td>\n",
       "      <td>1037</td>\n",
       "      <td>40.7*</td>\n",
       "      <td>2.1e+14*</td>\n",
       "      <td>1.2e+29*</td>\n",
       "      <td>62</td>\n",
       "      <td>Poor Event; Only C2; Partial Halo</td>\n",
       "      <td>2011-09-30 20:00:06</td>\n",
       "      <td>NaN</td>\n",
       "    </tr>\n",
       "    <tr>\n",
       "      <th>3624</th>\n",
       "      <td>2012/04/19</td>\n",
       "      <td>12:12:05</td>\n",
       "      <td>208</td>\n",
       "      <td>60</td>\n",
       "      <td>298</td>\n",
       "      <td>293</td>\n",
       "      <td>303</td>\n",
       "      <td>337</td>\n",
       "      <td>1.1*</td>\n",
       "      <td>-------</td>\n",
       "      <td>-------</td>\n",
       "      <td>208</td>\n",
       "      <td>Newly inserted on 2013/08/27; Only C2</td>\n",
       "      <td>2012-04-19 12:12:05</td>\n",
       "      <td>NaN</td>\n",
       "    </tr>\n",
       "  </tbody>\n",
       "</table>\n",
       "</div>"
      ],
      "text/plain": [
       "            date      time central_pa  width  linear_speed  \\\n",
       "1349  2011/03/12  16:36:05        285     15           466   \n",
       "2527  2011/09/30  20:00:06         77    183           337   \n",
       "3624  2012/04/19  12:12:05        208     60           298   \n",
       "\n",
       "     2nd_order_speed_inital 2nd_order_speed_final 2nd_order_speed_20R  accel  \\\n",
       "1349                    407                   527                 917   27.8   \n",
       "2527                    278                   396                1037  40.7*   \n",
       "3624                    293                   303                 337   1.1*   \n",
       "\n",
       "          mass kinetic_energy  MPA                                remarks  \\\n",
       "1349   -------        -------  282  Newly inserted on 2012/03/29; Only C2   \n",
       "2527  2.1e+14*       1.2e+29*   62      Poor Event; Only C2; Partial Halo   \n",
       "3624   -------        -------  208  Newly inserted on 2013/08/27; Only C2   \n",
       "\n",
       "                 time_c2 quality_index  \n",
       "1349 2011-03-12 16:36:05           NaN  \n",
       "2527 2011-09-30 20:00:06           NaN  \n",
       "3624 2012-04-19 12:12:05           NaN  "
      ]
     },
     "execution_count": 21,
     "metadata": {},
     "output_type": "execute_result"
    }
   ],
   "source": [
    "cdaw[cdaw[\"quality_index\"].isnull()].head(3)"
   ]
  },
  {
   "cell_type": "code",
   "execution_count": 22,
   "id": "familiar-kinase",
   "metadata": {},
   "outputs": [
    {
     "data": {
      "text/plain": [
       "48"
      ]
     },
     "execution_count": 22,
     "metadata": {},
     "output_type": "execute_result"
    }
   ],
   "source": [
    "len(cdaw[cdaw[\"quality_index\"].isnull()])"
   ]
  },
  {
   "cell_type": "markdown",
   "id": "tropical-labor",
   "metadata": {},
   "source": [
    "Lets just drop nan values (worry about this later, but its only like 48 events so grande punto."
   ]
  },
  {
   "cell_type": "code",
   "execution_count": 23,
   "id": "industrial-jimmy",
   "metadata": {},
   "outputs": [],
   "source": [
    "cdaw = cdaw.dropna(subset=['quality_index'])"
   ]
  },
  {
   "cell_type": "code",
   "execution_count": 24,
   "id": "driving-ghana",
   "metadata": {},
   "outputs": [],
   "source": [
    "cdaw[\"quality_val\"] = [int(x.split()[1]) for x in cdaw[\"quality_index\"]]"
   ]
  },
  {
   "cell_type": "markdown",
   "id": "flush-stewart",
   "metadata": {},
   "source": [
    "So basically any event with a `quality_val` >= 3 is noted as a \"good\" event. Lets just focus on these"
   ]
  },
  {
   "cell_type": "code",
   "execution_count": 25,
   "id": "sudden-chorus",
   "metadata": {},
   "outputs": [
    {
     "name": "stdout",
     "output_type": "stream",
     "text": [
      "The number of `good` events is 1621 from the full list of 14764 events\n"
     ]
    }
   ],
   "source": [
    "print(\"The number of `good` events is {:d} from the full list of {:d} events\" \\\n",
    "      .format(np.sum(cdaw[\"quality_val\"]>=3),\n",
    "      len(cdaw)))"
   ]
  },
  {
   "cell_type": "code",
   "execution_count": 26,
   "id": "exciting-medicare",
   "metadata": {},
   "outputs": [],
   "source": [
    "cdaw_final = cdaw[cdaw[\"quality_val\"]>=3]"
   ]
  },
  {
   "cell_type": "code",
   "execution_count": 27,
   "id": "liked-ivory",
   "metadata": {},
   "outputs": [
    {
     "data": {
      "text/plain": [
       "Index(['date', 'time', 'central_pa', 'width', 'linear_speed',\n",
       "       '2nd_order_speed_inital', '2nd_order_speed_final',\n",
       "       '2nd_order_speed_20R', 'accel', 'mass', 'kinetic_energy', 'MPA',\n",
       "       'remarks', 'time_c2', 'quality_index', 'quality_val'],\n",
       "      dtype='object')"
      ]
     },
     "execution_count": 27,
     "metadata": {},
     "output_type": "execute_result"
    }
   ],
   "source": [
    "cdaw_final.keys()"
   ]
  },
  {
   "cell_type": "code",
   "execution_count": 12,
   "id": "advised-drilling",
   "metadata": {},
   "outputs": [
    {
     "data": {
      "text/plain": [
       "<AxesSubplot:xlabel='central_pa'>"
      ]
     },
     "execution_count": 12,
     "metadata": {},
     "output_type": "execute_result"
    },
    {
     "data": {
      "image/png": "[encoded data removed]",
      "text/plain": [
       "<Figure size 432x288 with 1 Axes>"
      ]
     },
     "metadata": {
      "needs_background": "light"
     },
     "output_type": "display_data"
    }
   ],
   "source": [
    "central_pa = cdaw_final[\"central_pa\"]\n",
    "sns.distplot(central_pa.replace(\"Halo\", np.nan))"
   ]
  },
  {
   "cell_type": "code",
   "execution_count": 13,
   "id": "friendly-valentine",
   "metadata": {},
   "outputs": [
    {
     "data": {
      "text/plain": [
       "<AxesSubplot:xlabel='width'>"
      ]
     },
     "execution_count": 13,
     "metadata": {},
     "output_type": "execute_result"
    },
    {
     "data": {
      "image/png": "[encoded data removed]",
      "text/plain": [
       "<Figure size 432x288 with 1 Axes>"
      ]
     },
     "metadata": {
      "needs_background": "light"
     },
     "output_type": "display_data"
    }
   ],
   "source": [
    "sns.distplot(cdaw[\"width\"].astype(float))"
   ]
  },
  {
   "cell_type": "code",
   "execution_count": 14,
   "id": "active-facial",
   "metadata": {},
   "outputs": [
    {
     "data": {
      "text/plain": [
       "<AxesSubplot:xlabel='linear_speed'>"
      ]
     },
     "execution_count": 14,
     "metadata": {},
     "output_type": "execute_result"
    },
    {
     "data": {
      "image/png": "[encoded data removed]",
      "text/plain": [
       "<Figure size 432x288 with 1 Axes>"
      ]
     },
     "metadata": {
      "needs_background": "light"
     },
     "output_type": "display_data"
    }
   ],
   "source": [
    "sns.distplot(cdaw[\"linear_speed\"].astype(float))"
   ]
  },
  {
   "cell_type": "code",
   "execution_count": 15,
   "id": "rural-compiler",
   "metadata": {},
   "outputs": [
    {
     "data": {
      "text/plain": [
       "<AxesSubplot:xlabel='MPA'>"
      ]
     },
     "execution_count": 15,
     "metadata": {},
     "output_type": "execute_result"
    },
    {
     "data": {
      "image/png": "[encoded data removed]",
      "text/plain": [
       "<Figure size 432x288 with 1 Axes>"
      ]
     },
     "metadata": {
      "needs_background": "light"
     },
     "output_type": "display_data"
    }
   ],
   "source": [
    "sns.distplot(cdaw[\"MPA\"].astype(float))"
   ]
  },
  {
   "cell_type": "code",
   "execution_count": 16,
   "id": "detailed-variable",
   "metadata": {},
   "outputs": [
    {
     "data": {
      "text/plain": [
       "<AxesSubplot:xlabel='2nd_order_speed_20R'>"
      ]
     },
     "execution_count": 16,
     "metadata": {},
     "output_type": "execute_result"
    },
    {
     "data": {
      "image/png": "[encoded data removed]",
      "text/plain": [
       "<Figure size 432x288 with 1 Axes>"
      ]
     },
     "metadata": {
      "needs_background": "light"
     },
     "output_type": "display_data"
    }
   ],
   "source": [
    "sns.distplot(cdaw[\"2nd_order_speed_inital\"].replace(\"----\", np.nan).astype(float))\n",
    "sns.distplot(cdaw[\"2nd_order_speed_final\"].replace(\"----\", np.nan).astype(float))\n",
    "sns.distplot(cdaw[\"2nd_order_speed_20R\"].replace(\"----\", np.nan).astype(float))"
   ]
  },
  {
   "cell_type": "code",
   "execution_count": null,
   "id": "lyric-directive",
   "metadata": {},
   "outputs": [],
   "source": []
  },
  {
   "cell_type": "code",
   "execution_count": null,
   "id": "directed-calvin",
   "metadata": {},
   "outputs": [],
   "source": []
  },
  {
   "cell_type": "code",
   "execution_count": null,
   "id": "decreased-poison",
   "metadata": {},
   "outputs": [],
   "source": []
  },
  {
   "cell_type": "code",
   "execution_count": null,
   "id": "absolute-costs",
   "metadata": {},
   "outputs": [],
   "source": []
  }
 ],
 "metadata": {
  "kernelspec": {
   "display_name": "Python 3",
   "language": "python",
   "name": "python3"
  },
  "language_info": {
   "codemirror_mode": {
    "name": "ipython",
    "version": 3
   },
   "file_extension": ".py",
   "mimetype": "text/x-python",
   "name": "python",
   "nbconvert_exporter": "python",
   "pygments_lexer": "ipython3",
   "version": "3.7.8"
  }
 },
 "nbformat": 4,
 "nbformat_minor": 5
}
