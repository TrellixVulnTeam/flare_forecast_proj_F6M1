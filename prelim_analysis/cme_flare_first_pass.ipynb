{
 "cells": [
  {
   "cell_type": "code",
   "execution_count": 276,
   "id": "c8a20b69",
   "metadata": {},
   "outputs": [],
   "source": [
    "import pandas as pd \n",
    "import matplotlib.pyplot as plt \n",
    "from sunpy.coordinates import frames\n",
    "import sunpy.map\n",
    "from astropy.coordinates import SkyCoord, angles\n",
    "from astropy import units as u \n",
    "import datetime\n",
    "from astropy.coordinates import SkyCoord, CylindricalRepresentation\n",
    "import numpy as np \n",
    "import warnings\n",
    "import seaborn as sns\n",
    "warnings.filterwarnings(\"ignore\")"
   ]
  },
  {
   "cell_type": "markdown",
   "id": "a008a25f",
   "metadata": {},
   "source": [
    "# flare list"
   ]
  },
  {
   "cell_type": "code",
   "execution_count": 258,
   "id": "47d2c18b",
   "metadata": {},
   "outputs": [],
   "source": [
    "flare_list = pd.read_csv(\"/Users/laurahayes/ml_project_flares/flare_analysis/goes_flare_list/final_flare_list.csv\")\n",
    "flare_list = flare_list.set_index(pd.to_datetime(flare_list[\"event_starttime\"]))\n",
    "flare_list.sort_index(inplace=True)\n",
    "flare_list[\"event_starttime\"] = pd.to_datetime(flare_list[\"event_starttime\"])\n",
    "\n",
    "\n",
    "hpc_coords = SkyCoord(flare_list[\"hpc_x\"]*u.arcsec, flare_list[\"hpc_y\"]*u.arcsec, \n",
    "                      frame=frames.Helioprojective, obstime=flare_list[\"event_starttime\"], \n",
    "                      observer=\"earth\")\n",
    "\n",
    "hcr_coords = hpc_coords.transform_to(frames.Heliocentric)\n",
    "phi = hcr_coords.cylindrical.phi.wrap_at(360*u.deg).value\n",
    "flare_list.loc[(pd.to_datetime(flare_list.event_endtime)<flare_list.event_starttime),'event_endtime']=pd.to_datetime(flare_list[\"event_endtime\"]) + datetime.timedelta(days=1)\n",
    "flare_list.loc[(pd.to_datetime(flare_list.event_peaktime)<flare_list.event_starttime),'event_peaktime']=pd.to_datetime(flare_list[\"event_peaktime\"]) + datetime.timedelta(days=1)\n",
    "\n",
    "def get_new_phis(x):\n",
    "    if np.isnan(x):\n",
    "        return np.nan\n",
    "    else:\n",
    "        return (angles.Angle(phi[0]*u.deg) - 90*u.deg).wrap_at(360*u.deg).value\n",
    "# 90 degrees offset in the way sunpy makes it\n",
    "new_phis = [get_new_phis(x) for x in phi]\n",
    "flare_list[\"phi\"] = phi-90#new_phis"
   ]
  },
  {
   "cell_type": "code",
   "execution_count": 259,
   "id": "f139982a",
   "metadata": {},
   "outputs": [],
   "source": [
    "flare_list[\"phi\"].unique()\n",
    "flare_list.loc[(flare_list.phi < 0),'phi']=flare_list.phi+360"
   ]
  },
  {
   "cell_type": "code",
   "execution_count": 260,
   "id": "ba978cc9",
   "metadata": {},
   "outputs": [
    {
     "data": {
      "text/plain": [
       "(array([ 180.,  662., 1903., 1211.,  284.,  305., 1046., 1718.,  784.,\n",
       "         209.]),\n",
       " array([  0.        ,  35.83854659,  71.67709318, 107.51563978,\n",
       "        143.35418637, 179.19273296, 215.03127955, 250.86982614,\n",
       "        286.70837273, 322.54691933, 358.38546592]),\n",
       " <BarContainer object of 10 artists>)"
      ]
     },
     "execution_count": 260,
     "metadata": {},
     "output_type": "execute_result"
    },
    {
     "data": {
      "image/png": "[encoded data removed]",
      "text/plain": [
       "<Figure size 432x288 with 1 Axes>"
      ]
     },
     "metadata": {
      "needs_background": "light"
     },
     "output_type": "display_data"
    }
   ],
   "source": [
    "plt.hist(flare_list[\"phi\"])"
   ]
  },
  {
   "cell_type": "code",
   "execution_count": 261,
   "id": "c1575a36",
   "metadata": {},
   "outputs": [
    {
     "data": {
      "text/plain": [
       "(array([1030., 1834., 2461., 1581.,  577.,  637., 1617., 2268., 1737.,\n",
       "        1022.]),\n",
       " array([  0.,  36.,  72., 108., 144., 180., 216., 252., 288., 324., 360.]),\n",
       " <BarContainer object of 10 artists>)"
      ]
     },
     "execution_count": 261,
     "metadata": {},
     "output_type": "execute_result"
    },
    {
     "data": {
      "image/png": "[encoded data removed]",
      "text/plain": [
       "<Figure size 432x288 with 1 Axes>"
      ]
     },
     "metadata": {
      "needs_background": "light"
     },
     "output_type": "display_data"
    }
   ],
   "source": [
    "plt.hist(cme_list[\"MPA\"])"
   ]
  },
  {
   "cell_type": "markdown",
   "id": "24ae1eaa",
   "metadata": {},
   "source": [
    "# CME list "
   ]
  },
  {
   "cell_type": "code",
   "execution_count": 262,
   "id": "fe682ba4",
   "metadata": {},
   "outputs": [],
   "source": [
    "cme_list = pd.read_csv(\"/Users/laurahayes/ml_project_flares/flare_analysis/cme_lists/final_cme_list_2010_2018.csv\")\n",
    "cme_list[\"start_time_c2\"] = pd.to_datetime(cme_list.date + cme_list.time, format=\"%Y/%m/%d%H:%M:%S\") \n",
    "#cme_list = cme_list.set_index(pd.to_datetime(cme_list.date + cme_list.time, format=\"%Y/%m/%d%H:%M:%S\"))\n",
    "def get_times(x):\n",
    "    xx = x.split()\n",
    "    if len(xx)==3:\n",
    "        return pd.to_datetime(\" \".join(xx[1:]))\n",
    "    else:\n",
    "        return np.nan\n",
    "\n",
    "cme_list[\"onset_times1\"] = cme_list.onset_times1.map(get_times)\n",
    "cme_list[\"onset_times2\"] = cme_list.onset_times2.map(get_times)"
   ]
  },
  {
   "cell_type": "code",
   "execution_count": 555,
   "id": "edc1ae31",
   "metadata": {},
   "outputs": [],
   "source": [
    "#flare_xm = flare_list[flare_list[\"goes_class_ind\"].isin([\"X\", \"M\"])]"
   ]
  },
  {
   "cell_type": "code",
   "execution_count": 556,
   "id": "de99d571",
   "metadata": {},
   "outputs": [],
   "source": [
    "flare_xm = flare_list[flare_list[\"goes_class_val\"]>=5e-6]"
   ]
  },
  {
   "cell_type": "code",
   "execution_count": 580,
   "id": "f7d6f720",
   "metadata": {},
   "outputs": [
    {
     "data": {
      "text/plain": [
       "C    980\n",
       "M    748\n",
       "X     49\n",
       "Name: goes_class_ind, dtype: int64"
      ]
     },
     "execution_count": 580,
     "metadata": {},
     "output_type": "execute_result"
    }
   ],
   "source": [
    "flare_xm[\"goes_class_ind\"].value_counts()"
   ]
  },
  {
   "cell_type": "markdown",
   "id": "19e3bdf8",
   "metadata": {},
   "source": [
    "## Lets merge the two together"
   ]
  },
  {
   "cell_type": "code",
   "execution_count": 557,
   "id": "c40143ef",
   "metadata": {},
   "outputs": [
    {
     "data": {
      "text/html": [
       "<div>\n",
       "<style scoped>\n",
       "    .dataframe tbody tr th:only-of-type {\n",
       "        vertical-align: middle;\n",
       "    }\n",
       "\n",
       "    .dataframe tbody tr th {\n",
       "        vertical-align: top;\n",
       "    }\n",
       "\n",
       "    .dataframe thead th {\n",
       "        text-align: right;\n",
       "    }\n",
       "</style>\n",
       "<table border=\"1\" class=\"dataframe\">\n",
       "  <thead>\n",
       "    <tr style=\"text-align: right;\">\n",
       "      <th></th>\n",
       "      <th>date</th>\n",
       "      <th>time</th>\n",
       "      <th>central_pa</th>\n",
       "      <th>width</th>\n",
       "      <th>linear_speed</th>\n",
       "      <th>2nd_order_speed_inital</th>\n",
       "      <th>2nd_order_speed_final</th>\n",
       "      <th>2nd_order_speed_20R</th>\n",
       "      <th>accel</th>\n",
       "      <th>mass</th>\n",
       "      <th>kinetic_energy</th>\n",
       "      <th>MPA</th>\n",
       "      <th>remarks</th>\n",
       "      <th>time_c2</th>\n",
       "      <th>onset_times1</th>\n",
       "      <th>onset_times2</th>\n",
       "      <th>onset_times2_rsun</th>\n",
       "      <th>quality_index</th>\n",
       "      <th>quality_val</th>\n",
       "      <th>start_time_c2</th>\n",
       "    </tr>\n",
       "  </thead>\n",
       "  <tbody>\n",
       "    <tr>\n",
       "      <th>0</th>\n",
       "      <td>2010/01/01</td>\n",
       "      <td>06:54:03</td>\n",
       "      <td>354</td>\n",
       "      <td>6</td>\n",
       "      <td>330</td>\n",
       "      <td>269</td>\n",
       "      <td>396</td>\n",
       "      <td>959</td>\n",
       "      <td>35.5*</td>\n",
       "      <td>-------</td>\n",
       "      <td>-------</td>\n",
       "      <td>355</td>\n",
       "      <td>Very Poor Event; Only 3 points; Only C2</td>\n",
       "      <td>2010-01-01 06:54:03</td>\n",
       "      <td>2010-01-01 05:50:03</td>\n",
       "      <td>2010-01-01 04:48:01</td>\n",
       "      <td>#ONSET2_RSUN: 1.38</td>\n",
       "      <td>#QUALITY_INDEX: 0 (Ill-Defined)</td>\n",
       "      <td>0</td>\n",
       "      <td>2010-01-01 06:54:03</td>\n",
       "    </tr>\n",
       "    <tr>\n",
       "      <th>1</th>\n",
       "      <td>2010/01/01</td>\n",
       "      <td>08:30:03</td>\n",
       "      <td>248</td>\n",
       "      <td>75</td>\n",
       "      <td>148</td>\n",
       "      <td>60</td>\n",
       "      <td>244</td>\n",
       "      <td>220</td>\n",
       "      <td>1.9*</td>\n",
       "      <td>4.2e+14</td>\n",
       "      <td>4.6e+28</td>\n",
       "      <td>253</td>\n",
       "      <td>Poor Event</td>\n",
       "      <td>2010-01-01 08:30:03</td>\n",
       "      <td>2010-01-01 07:11:32</td>\n",
       "      <td>2009-12-31 23:10:35</td>\n",
       "      <td>#ONSET2_RSUN: 1.98</td>\n",
       "      <td>#QUALITY_INDEX: 1 (Poor)</td>\n",
       "      <td>1</td>\n",
       "      <td>2010-01-01 08:30:03</td>\n",
       "    </tr>\n",
       "    <tr>\n",
       "      <th>2</th>\n",
       "      <td>2010/01/01</td>\n",
       "      <td>17:06:03</td>\n",
       "      <td>49</td>\n",
       "      <td>21</td>\n",
       "      <td>729</td>\n",
       "      <td>764</td>\n",
       "      <td>694</td>\n",
       "      <td>700</td>\n",
       "      <td>-3.9</td>\n",
       "      <td>4.0e+14</td>\n",
       "      <td>1.1e+30</td>\n",
       "      <td>52</td>\n",
       "      <td>NaN</td>\n",
       "      <td>2010-01-01 17:06:03</td>\n",
       "      <td>2010-01-01 16:45:44</td>\n",
       "      <td>2010-01-01 16:48:50</td>\n",
       "      <td>#ONSET2_RSUN: 1.00</td>\n",
       "      <td>#QUALITY_INDEX: 3 (Typical)</td>\n",
       "      <td>3</td>\n",
       "      <td>2010-01-01 17:06:03</td>\n",
       "    </tr>\n",
       "    <tr>\n",
       "      <th>3</th>\n",
       "      <td>2010/01/02</td>\n",
       "      <td>07:31:38</td>\n",
       "      <td>100</td>\n",
       "      <td>14</td>\n",
       "      <td>141</td>\n",
       "      <td>123</td>\n",
       "      <td>159</td>\n",
       "      <td>176</td>\n",
       "      <td>0.8*</td>\n",
       "      <td>-------</td>\n",
       "      <td>-------</td>\n",
       "      <td>106</td>\n",
       "      <td>Very Poor Event</td>\n",
       "      <td>2010-01-02 07:31:38</td>\n",
       "      <td>2010-01-02 02:18:04</td>\n",
       "      <td>2010-01-02 00:45:03</td>\n",
       "      <td>#ONSET2_RSUN: 1.00</td>\n",
       "      <td>#QUALITY_INDEX: 0 (Ill-Defined)</td>\n",
       "      <td>0</td>\n",
       "      <td>2010-01-02 07:31:38</td>\n",
       "    </tr>\n",
       "    <tr>\n",
       "      <th>4</th>\n",
       "      <td>2010/01/03</td>\n",
       "      <td>05:30:03</td>\n",
       "      <td>267</td>\n",
       "      <td>50</td>\n",
       "      <td>219</td>\n",
       "      <td>73</td>\n",
       "      <td>375</td>\n",
       "      <td>385</td>\n",
       "      <td>5.9*</td>\n",
       "      <td>6.3e+14</td>\n",
       "      <td>1.5e+29</td>\n",
       "      <td>261</td>\n",
       "      <td>NaN</td>\n",
       "      <td>2010-01-03 05:30:03</td>\n",
       "      <td>2010-01-03 05:43:23</td>\n",
       "      <td>2010-01-03 02:22:08</td>\n",
       "      <td>#ONSET2_RSUN: 1.96</td>\n",
       "      <td>#QUALITY_INDEX: 2 (Fair)</td>\n",
       "      <td>2</td>\n",
       "      <td>2010-01-03 05:30:03</td>\n",
       "    </tr>\n",
       "  </tbody>\n",
       "</table>\n",
       "</div>"
      ],
      "text/plain": [
       "         date      time central_pa  width  linear_speed  \\\n",
       "0  2010/01/01  06:54:03        354      6           330   \n",
       "1  2010/01/01  08:30:03        248     75           148   \n",
       "2  2010/01/01  17:06:03         49     21           729   \n",
       "3  2010/01/02  07:31:38        100     14           141   \n",
       "4  2010/01/03  05:30:03        267     50           219   \n",
       "\n",
       "  2nd_order_speed_inital 2nd_order_speed_final 2nd_order_speed_20R  accel  \\\n",
       "0                    269                   396                 959  35.5*   \n",
       "1                     60                   244                 220   1.9*   \n",
       "2                    764                   694                 700   -3.9   \n",
       "3                    123                   159                 176   0.8*   \n",
       "4                     73                   375                 385   5.9*   \n",
       "\n",
       "      mass kinetic_energy  MPA                                  remarks  \\\n",
       "0  -------        -------  355  Very Poor Event; Only 3 points; Only C2   \n",
       "1  4.2e+14        4.6e+28  253                               Poor Event   \n",
       "2  4.0e+14        1.1e+30   52                                      NaN   \n",
       "3  -------        -------  106                          Very Poor Event   \n",
       "4  6.3e+14        1.5e+29  261                                      NaN   \n",
       "\n",
       "               time_c2        onset_times1        onset_times2  \\\n",
       "0  2010-01-01 06:54:03 2010-01-01 05:50:03 2010-01-01 04:48:01   \n",
       "1  2010-01-01 08:30:03 2010-01-01 07:11:32 2009-12-31 23:10:35   \n",
       "2  2010-01-01 17:06:03 2010-01-01 16:45:44 2010-01-01 16:48:50   \n",
       "3  2010-01-02 07:31:38 2010-01-02 02:18:04 2010-01-02 00:45:03   \n",
       "4  2010-01-03 05:30:03 2010-01-03 05:43:23 2010-01-03 02:22:08   \n",
       "\n",
       "    onset_times2_rsun                    quality_index  quality_val  \\\n",
       "0  #ONSET2_RSUN: 1.38  #QUALITY_INDEX: 0 (Ill-Defined)            0   \n",
       "1  #ONSET2_RSUN: 1.98         #QUALITY_INDEX: 1 (Poor)            1   \n",
       "2  #ONSET2_RSUN: 1.00      #QUALITY_INDEX: 3 (Typical)            3   \n",
       "3  #ONSET2_RSUN: 1.00  #QUALITY_INDEX: 0 (Ill-Defined)            0   \n",
       "4  #ONSET2_RSUN: 1.96         #QUALITY_INDEX: 2 (Fair)            2   \n",
       "\n",
       "        start_time_c2  \n",
       "0 2010-01-01 06:54:03  \n",
       "1 2010-01-01 08:30:03  \n",
       "2 2010-01-01 17:06:03  \n",
       "3 2010-01-02 07:31:38  \n",
       "4 2010-01-03 05:30:03  "
      ]
     },
     "execution_count": 557,
     "metadata": {},
     "output_type": "execute_result"
    }
   ],
   "source": [
    "cme_list.head()"
   ]
  },
  {
   "cell_type": "code",
   "execution_count": 558,
   "id": "66a4bbe6",
   "metadata": {},
   "outputs": [],
   "source": [
    "def find_cme(i):\n",
    "    # check its within 3 hours of flare\n",
    "    cme_list_compare = cme_list[(cme_list[\"start_time_c2\"]>=flare_xm.iloc[i][\"event_starttime\"]\\\n",
    "                                 -datetime.timedelta(minutes=30)) &\n",
    "                                (cme_list[\"start_time_c2\"]<=flare_xm.iloc[i][\"event_starttime\"]\\\n",
    "                                 +datetime.timedelta(hours=2))]\n",
    "    # make sure the position locations make sense\n",
    "    cme_list_compare = cme_list_compare[np.abs(cme_list_compare.MPA - flare_xm.iloc[i].phi)<=45]\n",
    "    if len(cme_list_compare)==0:\n",
    "        return \"no\", np.nan, 0\n",
    "    elif len(cme_list_compare)==1:\n",
    "        return \"yes\", np.abs(cme_list_compare.MPA - flare_xm.iloc[i].phi).values[0], cme_list_compare.quality_val.values[0]\n",
    "    else:\n",
    "        print(\"more that one! {:d} has {:d} CMEs\".format(i, len(cme_list_compare)))\n",
    "        print(cme_list_compare.quality_val.values, np.abs(cme_list_compare.MPA - flare_xm.iloc[i].phi).values)\n",
    "        return \"yes\", np.abs(cme_list_compare.MPA - flare_xm.iloc[i].phi).values[0], cme_list_compare.quality_val.values[0]\n",
    "        #return \"CME (more that 1!) {:d} has {:d} CMEs\".format(i, len(cme_list_compare))\n",
    "    \n",
    "\n",
    "        "
   ]
  },
  {
   "cell_type": "code",
   "execution_count": 559,
   "id": "c1bad14d",
   "metadata": {},
   "outputs": [
    {
     "data": {
      "text/plain": [
       "39    46\n",
       "40     4\n",
       "Name: width, dtype: int64"
      ]
     },
     "execution_count": 559,
     "metadata": {},
     "output_type": "execute_result"
    }
   ],
   "source": [
    "cme_list_compare.width"
   ]
  },
  {
   "cell_type": "code",
   "execution_count": 560,
   "id": "bdf04753",
   "metadata": {},
   "outputs": [
    {
     "name": "stdout",
     "output_type": "stream",
     "text": [
      "more that one! 120 has 2 CMEs\n",
      "[1 2] [42.65189248 24.34810752]\n",
      "more that one! 142 has 2 CMEs\n",
      "[2 3] [9.61772999 4.61772999]\n",
      "more that one! 165 has 2 CMEs\n",
      "[1 1] [19.80993285 23.19006715]\n",
      "more that one! 183 has 2 CMEs\n",
      "[1 0] [41.45804977  0.45804977]\n",
      "more that one! 215 has 2 CMEs\n",
      "[1 2] [36.46176022 34.46176022]\n",
      "more that one! 235 has 2 CMEs\n",
      "[0 1] [ 8.44699323 11.44699323]\n",
      "more that one! 260 has 2 CMEs\n",
      "[4 5] [20.45174259 14.45174259]\n",
      "more that one! 274 has 2 CMEs\n",
      "[1 2] [24.9888431 32.0111569]\n",
      "more that one! 294 has 2 CMEs\n",
      "[1 2] [1.11029341 5.11029341]\n",
      "more that one! 321 has 2 CMEs\n",
      "[3 5] [15.92415176  7.92415176]\n",
      "more that one! 336 has 2 CMEs\n",
      "[3 4] [18.28252332  3.28252332]\n",
      "more that one! 354 has 2 CMEs\n",
      "[5 3] [ 6.89153332 31.89153332]\n",
      "more that one! 400 has 2 CMEs\n",
      "[5 2] [16.08065583 22.08065583]\n",
      "more that one! 425 has 2 CMEs\n",
      "[2 4] [12.64020738 11.64020738]\n",
      "more that one! 426 has 2 CMEs\n",
      "[2 4] [10.  9.]\n",
      "more that one! 434 has 2 CMEs\n",
      "[2 4] [ 1.11403243 12.88596757]\n",
      "more that one! 435 has 2 CMEs\n",
      "[2 4] [ 7.25060177 21.25060177]\n",
      "more that one! 462 has 2 CMEs\n",
      "[1 0] [5.55784338 2.44215662]\n",
      "more that one! 476 has 2 CMEs\n",
      "[2 2] [28.90721828  6.09278172]\n",
      "more that one! 478 has 2 CMEs\n",
      "[3 1] [21.32863319  1.67136681]\n",
      "more that one! 492 has 2 CMEs\n",
      "[1 1] [11.45830287 21.45830287]\n",
      "more that one! 493 has 2 CMEs\n",
      "[1 1] [21.63721265 37.36278735]\n",
      "more that one! 494 has 2 CMEs\n",
      "[1 1] [22.84735502 36.15264498]\n",
      "more that one! 495 has 2 CMEs\n",
      "[1 1] [21.63598103 37.36401897]\n",
      "more that one! 580 has 3 CMEs\n",
      "[2 2 3] [24.05540001 28.94459999  8.05540001]\n",
      "more that one! 616 has 2 CMEs\n",
      "[0 4] [4.17695602 8.17695602]\n",
      "more that one! 648 has 2 CMEs\n",
      "[1 5] [17.03654113 14.96345887]\n",
      "more that one! 649 has 2 CMEs\n",
      "[1 5] [17.03649469 14.96350531]\n",
      "more that one! 655 has 2 CMEs\n",
      "[1 5] [10.21161447 14.78838553]\n",
      "more that one! 706 has 2 CMEs\n",
      "[1 2] [10.71488663 34.28511337]\n",
      "more that one! 748 has 2 CMEs\n",
      "[1 5] [ 0.70103839 22.29896161]\n",
      "more that one! 752 has 2 CMEs\n",
      "[2 3] [ 2.16567318 25.83432682]\n",
      "more that one! 823 has 2 CMEs\n",
      "[0 1] [32.3942057 44.3942057]\n",
      "more that one! 865 has 2 CMEs\n",
      "[3 3] [ 5.80260033 13.19739967]\n",
      "more that one! 869 has 3 CMEs\n",
      "[1 1 3] [ 9.79731712  4.79731712 14.20268288]\n",
      "more that one! 872 has 2 CMEs\n",
      "[2 4] [10.2459623 34.7540377]\n",
      "more that one! 873 has 2 CMEs\n",
      "[2 4] [13.23997036 31.76002964]\n",
      "more that one! 879 has 2 CMEs\n",
      "[1 2] [30.75293168 32.75293168]\n",
      "more that one! 880 has 2 CMEs\n",
      "[2 1] [27.92344451  1.07655549]\n",
      "more that one! 881 has 2 CMEs\n",
      "[1 2] [ 1.19738361 39.80261639]\n",
      "more that one! 890 has 3 CMEs\n",
      "[1 0 4] [36.06396825 26.93603175  8.93603175]\n",
      "more that one! 891 has 2 CMEs\n",
      "[0 4] [30.66249816 12.66249816]\n",
      "more that one! 892 has 2 CMEs\n",
      "[1 5] [22.63906045 17.63906045]\n",
      "more that one! 935 has 2 CMEs\n",
      "[1 1] [38.23581303 17.76418697]\n",
      "more that one! 982 has 2 CMEs\n",
      "[1 1] [0.67346168 7.67346168]\n",
      "more that one! 1006 has 2 CMEs\n",
      "[1 1] [44.4625747  0.5374253]\n",
      "more that one! 1033 has 2 CMEs\n",
      "[2 3] [4.38488168 8.61511832]\n",
      "more that one! 1037 has 2 CMEs\n",
      "[3 2] [1.74672223 5.25327777]\n",
      "more that one! 1040 has 2 CMEs\n",
      "[0 0] [10.13214826 13.13214826]\n",
      "more that one! 1070 has 2 CMEs\n",
      "[2 0] [43.71391327  0.71391327]\n",
      "more that one! 1073 has 2 CMEs\n",
      "[2 1] [ 1.99211195 41.00788805]\n",
      "more that one! 1083 has 2 CMEs\n",
      "[2 1] [ 2.97034639 32.02965361]\n",
      "more that one! 1085 has 2 CMEs\n",
      "[2 3] [11.13796977 11.13796977]\n",
      "more that one! 1086 has 2 CMEs\n",
      "[3 1] [41.8222036  9.8222036]\n",
      "more that one! 1091 has 2 CMEs\n",
      "[2 3] [ 3.55126007 22.55126007]\n",
      "more that one! 1097 has 3 CMEs\n",
      "[1 2 1] [35.98287565 42.98287565 30.01712435]\n",
      "more that one! 1098 has 2 CMEs\n",
      "[1 1] [31.01711506 27.98288494]\n",
      "more that one! 1102 has 2 CMEs\n",
      "[4 2] [28.98193108 19.98193108]\n",
      "more that one! 1111 has 2 CMEs\n",
      "[1 2] [17.468884 39.531116]\n",
      "more that one! 1158 has 2 CMEs\n",
      "[1 2] [16.09116332  0.09116332]\n",
      "more that one! 1177 has 2 CMEs\n",
      "[0 3] [7.13495654 7.13495654]\n",
      "more that one! 1185 has 2 CMEs\n",
      "[0 0] [ 8.0772007 25.9227993]\n",
      "more that one! 1270 has 2 CMEs\n",
      "[2 2] [36.02405487 39.97594513]\n",
      "more that one! 1273 has 2 CMEs\n",
      "[2 5] [3.19170931 2.19170931]\n",
      "more that one! 1274 has 2 CMEs\n",
      "[2 5] [7.68816808 6.68816808]\n",
      "more that one! 1315 has 2 CMEs\n",
      "[0 1] [22.21790433 17.78209567]\n",
      "more that one! 1367 has 2 CMEs\n",
      "[1 0] [ 1.94652618 25.94652618]\n",
      "more that one! 1377 has 2 CMEs\n",
      "[1 1] [25.31657981  6.31657981]\n",
      "more that one! 1378 has 2 CMEs\n",
      "[1 2] [ 2.14041158 38.85958842]\n",
      "more that one! 1394 has 2 CMEs\n",
      "[3 3] [ 2.67731626 25.67731626]\n",
      "more that one! 1401 has 2 CMEs\n",
      "[3 4] [ 9.34280594 30.65719406]\n",
      "more that one! 1436 has 2 CMEs\n",
      "[0 1] [26.56191987 38.43808013]\n",
      "more that one! 1451 has 2 CMEs\n",
      "[2 5] [8.62819442 9.62819442]\n",
      "more that one! 1454 has 2 CMEs\n",
      "[2 0] [24.69634655 20.30365345]\n",
      "more that one! 1471 has 2 CMEs\n",
      "[1 4] [15.40057254 27.59942746]\n",
      "more that one! 1482 has 2 CMEs\n",
      "[1 1] [18.41789971 19.58210029]\n",
      "more that one! 1519 has 2 CMEs\n",
      "[1 2] [40.24774498 43.75225502]\n",
      "more that one! 1551 has 2 CMEs\n",
      "[1 2] [8.31212211 2.68787789]\n",
      "more that one! 1558 has 2 CMEs\n",
      "[1 1] [28.82618244 39.82618244]\n",
      "more that one! 1628 has 2 CMEs\n",
      "[1 1] [8.47804519 2.52195481]\n",
      "more that one! 1634 has 2 CMEs\n",
      "[2 1] [ 3.73521881 13.73521881]\n",
      "more that one! 1635 has 2 CMEs\n",
      "[1 2] [13.73418901 27.26581099]\n",
      "more that one! 1708 has 2 CMEs\n",
      "[2 3] [25.85642596 15.85642596]\n"
     ]
    }
   ],
   "source": [
    "cmes = []; angle_list = []; qual = []\n",
    "for i in range(len(flare_xm)):\n",
    "    cme, ang, q = find_cme(i)\n",
    "    cmes.append(cme)\n",
    "    angle_list.append(ang)\n",
    "    qual.append(q)\n",
    "flare_xm[\"cmes\"] = cmes\n",
    "flare_xm[\"angles\"] = angle_list\n",
    "flare_xm[\"qual\"] = qual"
   ]
  },
  {
   "cell_type": "code",
   "execution_count": 561,
   "id": "6e986207",
   "metadata": {},
   "outputs": [
    {
     "name": "stdout",
     "output_type": "stream",
     "text": [
      "X \n",
      " yes    81.632653\n",
      "no     18.367347\n",
      "Name: cmes, dtype: float64\n",
      "M \n",
      " no     53.475936\n",
      "yes    46.524064\n",
      "Name: cmes, dtype: float64\n"
     ]
    }
   ],
   "source": [
    "flare_x = flare_xm[flare_xm[\"goes_class_ind\"].isin([\"X\"])]\n",
    "flare_m = flare_xm[flare_xm[\"goes_class_ind\"].isin([\"M\"])]\n",
    "\n",
    "print(\"X \\n\",100*flare_x[\"cmes\"].value_counts()/len(flare_x))\n",
    "print(\"M \\n\",100*flare_m[\"cmes\"].value_counts()/len(flare_m))"
   ]
  },
  {
   "cell_type": "code",
   "execution_count": null,
   "id": "3ba2db04",
   "metadata": {},
   "outputs": [],
   "source": []
  },
  {
   "cell_type": "code",
   "execution_count": null,
   "id": "01769500",
   "metadata": {},
   "outputs": [],
   "source": []
  },
  {
   "cell_type": "code",
   "execution_count": null,
   "id": "054c773c",
   "metadata": {},
   "outputs": [],
   "source": []
  },
  {
   "cell_type": "code",
   "execution_count": 562,
   "id": "9b94a476",
   "metadata": {},
   "outputs": [],
   "source": [
    "flare_xm[\"dur_peak\"] = [x.total_seconds() for x in pd.to_datetime(flare_xm[\"event_peaktime\"]) - pd.to_datetime(flare_xm[\"event_starttime\"])]\n",
    "flare_xm[\"dur_full\"] = [x.total_seconds() for x in pd.to_datetime(flare_xm[\"event_endtime\"]) - pd.to_datetime(flare_xm[\"event_starttime\"])]\n"
   ]
  },
  {
   "cell_type": "code",
   "execution_count": 563,
   "id": "e185e947",
   "metadata": {},
   "outputs": [],
   "source": [
    "flare_cmes = flare_xm[(flare_xm.qual>1)]\n",
    "flare_nocmes = flare_xm[(flare_xm.qual<=1)]"
   ]
  },
  {
   "cell_type": "code",
   "execution_count": 564,
   "id": "0893c847",
   "metadata": {},
   "outputs": [
    {
     "data": {
      "text/plain": [
       "event_starttime\n",
       "2010-01-19 08:34:00     True\n",
       "2010-01-19 13:03:00     True\n",
       "2010-01-19 17:44:00     True\n",
       "2010-01-19 20:23:00     True\n",
       "2010-01-20 04:48:00     True\n",
       "                       ...  \n",
       "2017-09-09 22:04:00    False\n",
       "2017-09-10 02:40:00     True\n",
       "2017-09-10 15:35:00    False\n",
       "2017-10-20 23:10:00    False\n",
       "2018-02-07 13:31:00     True\n",
       "Name: qual, Length: 1777, dtype: bool"
      ]
     },
     "execution_count": 564,
     "metadata": {},
     "output_type": "execute_result"
    }
   ],
   "source": [
    "~flare_xm.qual.isin([2, 3, 4, 5])"
   ]
  },
  {
   "cell_type": "code",
   "execution_count": 565,
   "id": "a3786eb8",
   "metadata": {},
   "outputs": [
    {
     "data": {
      "text/plain": [
       "429"
      ]
     },
     "execution_count": 565,
     "metadata": {},
     "output_type": "execute_result"
    }
   ],
   "source": [
    "len(flare_cmes.dur_full)"
   ]
  },
  {
   "cell_type": "code",
   "execution_count": 566,
   "id": "81ba6852",
   "metadata": {},
   "outputs": [
    {
     "data": {
      "text/plain": [
       "1348"
      ]
     },
     "execution_count": 566,
     "metadata": {},
     "output_type": "execute_result"
    }
   ],
   "source": [
    "len(flare_nocmes)"
   ]
  },
  {
   "cell_type": "code",
   "execution_count": 567,
   "id": "374ea98d",
   "metadata": {},
   "outputs": [
    {
     "data": {
      "image/png": "[encoded data removed]",
      "text/plain": [
       "<Figure size 432x288 with 1 Axes>"
      ]
     },
     "metadata": {
      "needs_background": "light"
     },
     "output_type": "display_data"
    }
   ],
   "source": [
    "from astropy.visualization import hist\n",
    "n, bins, _ = hist(np.log10(flare_cmes.dur_full/60), bins=\"freedman\", alpha=0.5, density=True)\n",
    "_ = hist(np.log10(flare_nocmes.dur_full/60), bins=bins, alpha=0.5, density=True)"
   ]
  },
  {
   "cell_type": "code",
   "execution_count": 579,
   "id": "e0c3f4f7",
   "metadata": {
    "scrolled": true
   },
   "outputs": [
    {
     "data": {
      "image/png": "[encoded data removed]",
      "text/plain": [
       "<Figure size 432x288 with 1 Axes>"
      ]
     },
     "metadata": {
      "needs_background": "light"
     },
     "output_type": "display_data"
    }
   ],
   "source": [
    "plt.rcParams['font.family'] = 'Helvetica'\n",
    "sns.distplot(np.log10(flare_cmes.dur_full/60), bins=26, label=\"CME\")\n",
    "sns.distplot(np.log10(flare_nocmes.dur_full/60), bins=26, label=\"No CME\")\n",
    "plt.legend()\n",
    "plt.xlabel(\"log (flare duration (min))\")\n",
    "plt.title(\"Flares > C5\")\n",
    "ax = plt.gca()\n",
    "ax.tick_params(which=\"both\", direction=\"in\")\n",
    "plt.tight_layout()\n",
    "plt.savefig(\"flare_duration_cme_c5.png\", dpi=300, facecolor=\"w\")\n",
    "# sns.distplot(np.log10(flare_xm.dur_full))"
   ]
  },
  {
   "cell_type": "code",
   "execution_count": 569,
   "id": "2f19bcd3",
   "metadata": {},
   "outputs": [],
   "source": [
    "flare_xm = flare_xm[flare_xm.dur_peak>0]\n",
    "flare_xm = flare_xm[~flare_xm.dur_peak.isnull()]"
   ]
  },
  {
   "cell_type": "code",
   "execution_count": 570,
   "id": "8a95bc46",
   "metadata": {},
   "outputs": [],
   "source": [
    "flare_cmes = flare_xm[(flare_xm.qual>1)]\n",
    "flare_nocmes = flare_xm[(flare_xm.qual<=1)]"
   ]
  },
  {
   "cell_type": "code",
   "execution_count": 573,
   "id": "7dade01a",
   "metadata": {},
   "outputs": [
    {
     "data": {
      "text/plain": [
       "<AxesSubplot:xlabel='dur_peak', ylabel='Density'>"
      ]
     },
     "execution_count": 573,
     "metadata": {},
     "output_type": "execute_result"
    },
    {
     "data": {
      "image/png": "[encoded data removed]",
      "text/plain": [
       "<Figure size 432x288 with 1 Axes>"
      ]
     },
     "metadata": {
      "needs_background": "light"
     },
     "output_type": "display_data"
    }
   ],
   "source": [
    "%matplotlib inline\n",
    "sns.distplot(np.log10(flare_cmes.dur_peak), bins=28, label=\"CMEs\")\n",
    "sns.distplot(np.log10(flare_nocmes.dur_peak), bins=28, label=\"No CMEs\")\n"
   ]
  },
  {
   "cell_type": "code",
   "execution_count": 499,
   "id": "49d0422c",
   "metadata": {},
   "outputs": [
    {
     "data": {
      "image/png": "[encoded data removed]",
      "text/plain": [
       "<Figure size 432x288 with 1 Axes>"
      ]
     },
     "metadata": {
      "needs_background": "light"
     },
     "output_type": "display_data"
    }
   ],
   "source": [
    "_, bins, _ = plt.hist(flare_cmes.dur_peak/60, bins=50, alpha=0.4, edgecolor=\"k\", density=True)\n",
    "_ = plt.hist(flare_nocmes.dur_peak/60, bins=bins, alpha=0.4, edgecolor=\"k\", density=True)\n",
    "plt.yscale(\"log\")\n"
   ]
  },
  {
   "cell_type": "code",
   "execution_count": 500,
   "id": "fce4caa6",
   "metadata": {},
   "outputs": [
    {
     "data": {
      "text/plain": [
       "<matplotlib.legend.Legend at 0x7fe48f19b5b0>"
      ]
     },
     "execution_count": 500,
     "metadata": {},
     "output_type": "execute_result"
    },
    {
     "data": {
      "image/png": "[encoded data removed]",
      "text/plain": [
       "<Figure size 432x288 with 1 Axes>"
      ]
     },
     "metadata": {
      "needs_background": "light"
     },
     "output_type": "display_data"
    }
   ],
   "source": [
    "_, bins, _ = plt.hist(flare_cmes.dur_full/60, bins=40, alpha=0.4, edgecolor=\"k\", density=True, label=\"CME\")\n",
    "_ = plt.hist(flare_nocmes.dur_full/60, bins=bins, alpha=0.4, edgecolor=\"k\", density=True, label=\"No CME\")\n",
    "plt.yscale(\"log\")\n",
    "plt.xlabel(\"Flare duration (min)\")\n",
    "plt.ylabel(\"Density\")\n",
    "plt.legend()"
   ]
  },
  {
   "cell_type": "code",
   "execution_count": null,
   "id": "d58f1e85",
   "metadata": {},
   "outputs": [],
   "source": []
  },
  {
   "cell_type": "code",
   "execution_count": null,
   "id": "f6f7291a",
   "metadata": {},
   "outputs": [],
   "source": []
  },
  {
   "cell_type": "code",
   "execution_count": 256,
   "id": "3f331f6d",
   "metadata": {},
   "outputs": [],
   "source": [
    "i = 4\n",
    "cme_list_compare = cme_list[(cme_list[\"start_time_c2\"]>=flare_xm.iloc[i][\"event_starttime\"]\\\n",
    "                             -datetime.timedelta(hours=1)) &\n",
    "                            (cme_list[\"start_time_c2\"]<=flare_xm.iloc[i][\"event_starttime\"]\\\n",
    "                             +datetime.timedelta(hours=2))]"
   ]
  },
  {
   "cell_type": "code",
   "execution_count": 63,
   "id": "3cdb8740",
   "metadata": {},
   "outputs": [
    {
     "data": {
      "text/plain": [
       "15.725976959580521"
      ]
     },
     "execution_count": 63,
     "metadata": {},
     "output_type": "execute_result"
    }
   ],
   "source": [
    "np.abs(cme_list_compare.MPA - flare_xm.iloc[i].phi).values[0]"
   ]
  },
  {
   "cell_type": "code",
   "execution_count": null,
   "id": "633f51e7",
   "metadata": {},
   "outputs": [],
   "source": []
  },
  {
   "cell_type": "code",
   "execution_count": 76,
   "id": "467f0f2e",
   "metadata": {},
   "outputs": [
    {
     "name": "stdout",
     "output_type": "stream",
     "text": [
      "X \n",
      " yes    73.469388\n",
      "no     26.530612\n",
      "Name: cmes, dtype: float64\n",
      "M \n",
      " no     56.684492\n",
      "yes    43.315508\n",
      "Name: cmes, dtype: float64\n"
     ]
    }
   ],
   "source": []
  },
  {
   "cell_type": "code",
   "execution_count": null,
   "id": "7692671f",
   "metadata": {},
   "outputs": [],
   "source": []
  },
  {
   "cell_type": "code",
   "execution_count": null,
   "id": "19341958",
   "metadata": {},
   "outputs": [],
   "source": []
  }
 ],
 "metadata": {
  "kernelspec": {
   "display_name": "Python 3",
   "language": "python",
   "name": "python3"
  },
  "language_info": {
   "codemirror_mode": {
    "name": "ipython",
    "version": 3
   },
   "file_extension": ".py",
   "mimetype": "text/x-python",
   "name": "python",
   "nbconvert_exporter": "python",
   "pygments_lexer": "ipython3",
   "version": "3.9.4"
  }
 },
 "nbformat": 4,
 "nbformat_minor": 5
}
