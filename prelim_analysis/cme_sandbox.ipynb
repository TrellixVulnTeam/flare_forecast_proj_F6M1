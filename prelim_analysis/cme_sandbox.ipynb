{
 "cells": [
  {
   "cell_type": "code",
   "execution_count": 1,
   "id": "2aa4e9f5",
   "metadata": {},
   "outputs": [],
   "source": [
    "import pandas as pd \n",
    "import matplotlib.pyplot as plt \n",
    "from sunpy.coordinates import frames\n",
    "import sunpy.map\n",
    "from astropy.coordinates import SkyCoord\n",
    "from astropy import units as u \n",
    "import datetime\n",
    "import numpy as np \n",
    "from matplotlib.colors import LogNorm\n",
    "import seaborn as sns\n",
    "import scipy.stats\n",
    "\n",
    "import warnings\n",
    "warnings.filterwarnings(\"ignore\")"
   ]
  },
  {
   "cell_type": "code",
   "execution_count": 2,
   "id": "0c2573e6",
   "metadata": {},
   "outputs": [],
   "source": [
    "flare_list = pd.read_csv(\"flare_list_w_fwhm.csv\")\n",
    "flare_list = pd.read_csv(\"test_fwhm.csv\")\n",
    "\n",
    "flare_list[\"event_starttime\"] = pd.to_datetime(flare_list[\"event_starttime\"])"
   ]
  },
  {
   "cell_type": "code",
   "execution_count": 3,
   "id": "dffbcb2d",
   "metadata": {},
   "outputs": [
    {
     "data": {
      "text/plain": [
       "M    748\n",
       "X     49\n",
       "Name: goes_class_ind, dtype: int64"
      ]
     },
     "execution_count": 3,
     "metadata": {},
     "output_type": "execute_result"
    }
   ],
   "source": [
    "flare_list[\"goes_class_ind\"].value_counts()"
   ]
  },
  {
   "cell_type": "code",
   "execution_count": 4,
   "id": "d331011f",
   "metadata": {},
   "outputs": [],
   "source": [
    "hpc_coords = SkyCoord(flare_list[\"hpc_x\"]*u.arcsec, flare_list[\"hpc_y\"]*u.arcsec, \n",
    "                      frame=frames.Helioprojective, obstime=flare_list[\"event_starttime\"], \n",
    "                      observer=\"earth\")\n",
    "\n",
    "hcr_coords = hpc_coords.transform_to(frames.Heliocentric)\n",
    "phi = hcr_coords.cylindrical.phi.wrap_at(360*u.deg).value\n",
    "\n",
    "flare_list[\"phi\"] = phi-90\n",
    "\n",
    "\n",
    "flare_list.loc[(flare_list.phi < 0),'phi']=flare_list.phi+360"
   ]
  },
  {
   "cell_type": "code",
   "execution_count": 5,
   "id": "2506260f",
   "metadata": {},
   "outputs": [],
   "source": [
    "cme_list = pd.read_csv(\"/Users/laurahayes/ml_project_flares/flare_analysis/cme_lists/final_cme_list_2010_2018.csv\")\n",
    "cme_list[\"start_time_c2\"] = pd.to_datetime(cme_list.date + cme_list.time, format=\"%Y/%m/%d%H:%M:%S\") \n",
    "\n",
    "def get_times(x):\n",
    "    xx = x.split()\n",
    "    if len(xx)==3:\n",
    "        return pd.to_datetime(\" \".join(xx[1:]))\n",
    "    else:\n",
    "        return np.nan\n",
    "\n",
    "cme_list[\"onset_times1\"] = cme_list.onset_times1.map(get_times)\n",
    "cme_list[\"onset_times2\"] = cme_list.onset_times2.map(get_times)"
   ]
  },
  {
   "cell_type": "code",
   "execution_count": 6,
   "id": "0552a512",
   "metadata": {},
   "outputs": [],
   "source": [
    "cme_list = cme_list[cme_list[\"quality_val\"] >1]"
   ]
  },
  {
   "cell_type": "code",
   "execution_count": 7,
   "id": "42a05beb",
   "metadata": {},
   "outputs": [],
   "source": [
    "flare_interest = flare_list#[flare_list[\"goes_class_val\"]>=5e-6]"
   ]
  },
  {
   "cell_type": "code",
   "execution_count": 8,
   "id": "c7647bcd",
   "metadata": {},
   "outputs": [],
   "source": [
    "def find_cme(flare_list, i):\n",
    "    \"\"\"\n",
    "    Function to find is there is an associated CME for a particular flare\n",
    "    \n",
    "    Parameters\n",
    "    ----------\n",
    "    flare_list : pd.DataFrame\n",
    "        flare list to search from\n",
    "    i : ~int\n",
    "        index of flare_list row to search for\n",
    "        \n",
    "    Returns\n",
    "    -------\n",
    "    yes/no : `str` \n",
    "        if there is an associated eruption\n",
    "    positional angle difference : `float`\n",
    "        absolute value of difference in angle between flare/CME\n",
    "    quality : `int`\n",
    "        quality index of eruptive event\n",
    "    \"\"\"\n",
    "    \n",
    "    \n",
    "    # check its within 3 hours of flare\n",
    "    cme_list_compare = cme_list[(cme_list[\"start_time_c2\"]>=flare_list.iloc[i][\"event_starttime\"]\\\n",
    "                                 -datetime.timedelta(minutes=5)) &\n",
    "                                (cme_list[\"start_time_c2\"]<=flare_list.iloc[i][\"event_starttime\"]\\\n",
    "                                 +datetime.timedelta(hours=2))]\n",
    "    \n",
    "    # make sure the position locations make sense - absolute value <45 degrees between two\n",
    "    cme_list_compare = cme_list_compare[np.abs(cme_list_compare.MPA - flare_list.iloc[i].phi)<=90]\n",
    "\n",
    "    # checks outputs and returns values if CMEs available\n",
    "    if len(cme_list_compare)==0:\n",
    "        return \"no\", np.nan, 0\n",
    "    \n",
    "    elif len(cme_list_compare)==1:\n",
    "        return \"yes\", np.abs(cme_list_compare.MPA - flare_list.iloc[i].phi).values[0], cme_list_compare.quality_val.values[0]\n",
    "    \n",
    "    else:\n",
    "#         print(\"more that one! {:d} has {:d} CMEs\".format(i, len(cme_list_compare)))\n",
    "#         print(cme_list_compare.quality_val.values, np.abs(cme_list_compare.MPA - flare_list.iloc[i].phi).values)\n",
    "        return \"yes\", np.abs(cme_list_compare.MPA - flare_list.iloc[i].phi).values[0], cme_list_compare.quality_val.values[0]\n",
    "\n",
    "    \n",
    "\n",
    "\n"
   ]
  },
  {
   "cell_type": "code",
   "execution_count": 9,
   "id": "a6080f54",
   "metadata": {},
   "outputs": [
    {
     "data": {
      "text/plain": [
       "('no', nan, 0)"
      ]
     },
     "execution_count": 9,
     "metadata": {},
     "output_type": "execute_result"
    }
   ],
   "source": [
    "find_cme(flare_interest, 0)"
   ]
  },
  {
   "cell_type": "code",
   "execution_count": 10,
   "id": "ef1fff16",
   "metadata": {},
   "outputs": [],
   "source": [
    "cmes = []; angle_list = []; qual = []\n",
    "for i in range(len(flare_interest)):\n",
    "    cme, ang, q = find_cme(flare_interest, i)\n",
    "    cmes.append(cme)\n",
    "    angle_list.append(ang)\n",
    "    qual.append(q)\n",
    "    \n",
    "flare_interest[\"cmes\"] = cmes\n",
    "flare_interest[\"angles\"] = angle_list\n",
    "flare_interest[\"qual\"] = qual"
   ]
  },
  {
   "cell_type": "code",
   "execution_count": 11,
   "id": "93b53d7e",
   "metadata": {},
   "outputs": [
    {
     "name": "stdout",
     "output_type": "stream",
     "text": [
      "X \n",
      " yes    73.469388\n",
      "no     26.530612\n",
      "Name: cmes, dtype: float64\n",
      "M \n",
      " no     65.106952\n",
      "yes    34.893048\n",
      "Name: cmes, dtype: float64\n",
      "C \n",
      " Series([], Name: cmes, dtype: float64)\n"
     ]
    }
   ],
   "source": [
    "flare_x = flare_interest[flare_interest[\"goes_class_ind\"].isin([\"X\"])]\n",
    "flare_m = flare_interest[flare_interest[\"goes_class_ind\"].isin([\"M\"])]\n",
    "flare_c = flare_interest[flare_interest[\"goes_class_ind\"].isin([\"C\"])]\n",
    "\n",
    "\n",
    "print(\"X \\n\",100*flare_x[\"cmes\"].value_counts()/len(flare_x))\n",
    "print(\"M \\n\",100*flare_m[\"cmes\"].value_counts()/len(flare_m))\n",
    "print(\"C \\n\",100*flare_c[\"cmes\"].value_counts()/len(flare_c))"
   ]
  },
  {
   "cell_type": "code",
   "execution_count": 12,
   "id": "1f66e1b0",
   "metadata": {},
   "outputs": [
    {
     "data": {
      "text/html": [
       "<div>\n",
       "<style scoped>\n",
       "    .dataframe tbody tr th:only-of-type {\n",
       "        vertical-align: middle;\n",
       "    }\n",
       "\n",
       "    .dataframe tbody tr th {\n",
       "        vertical-align: top;\n",
       "    }\n",
       "\n",
       "    .dataframe thead th {\n",
       "        text-align: right;\n",
       "    }\n",
       "</style>\n",
       "<table border=\"1\" class=\"dataframe\">\n",
       "  <thead>\n",
       "    <tr style=\"text-align: right;\">\n",
       "      <th></th>\n",
       "      <th>event_starttime</th>\n",
       "      <th>cmes</th>\n",
       "      <th>goes_class</th>\n",
       "      <th>qual</th>\n",
       "    </tr>\n",
       "  </thead>\n",
       "  <tbody>\n",
       "    <tr>\n",
       "      <th>364</th>\n",
       "      <td>2013-11-08 04:20:00</td>\n",
       "      <td>no</td>\n",
       "      <td>X1.1</td>\n",
       "      <td>0</td>\n",
       "    </tr>\n",
       "    <tr>\n",
       "      <th>365</th>\n",
       "      <td>2013-11-08 09:22:00</td>\n",
       "      <td>no</td>\n",
       "      <td>M2.3</td>\n",
       "      <td>0</td>\n",
       "    </tr>\n",
       "    <tr>\n",
       "      <th>366</th>\n",
       "      <td>2013-11-10 05:08:00</td>\n",
       "      <td>yes</td>\n",
       "      <td>X1.1</td>\n",
       "      <td>2</td>\n",
       "    </tr>\n",
       "    <tr>\n",
       "      <th>367</th>\n",
       "      <td>2013-11-11 11:01:00</td>\n",
       "      <td>no</td>\n",
       "      <td>M2.4</td>\n",
       "      <td>0</td>\n",
       "    </tr>\n",
       "    <tr>\n",
       "      <th>368</th>\n",
       "      <td>2013-11-13 14:57:00</td>\n",
       "      <td>yes</td>\n",
       "      <td>M1.4</td>\n",
       "      <td>3</td>\n",
       "    </tr>\n",
       "    <tr>\n",
       "      <th>...</th>\n",
       "      <td>...</td>\n",
       "      <td>...</td>\n",
       "      <td>...</td>\n",
       "      <td>...</td>\n",
       "    </tr>\n",
       "    <tr>\n",
       "      <th>792</th>\n",
       "      <td>2017-09-09 04:14:00</td>\n",
       "      <td>yes</td>\n",
       "      <td>M1.1</td>\n",
       "      <td>2</td>\n",
       "    </tr>\n",
       "    <tr>\n",
       "      <th>793</th>\n",
       "      <td>2017-09-09 10:50:00</td>\n",
       "      <td>no</td>\n",
       "      <td>M3.7</td>\n",
       "      <td>0</td>\n",
       "    </tr>\n",
       "    <tr>\n",
       "      <th>794</th>\n",
       "      <td>2017-09-09 22:04:00</td>\n",
       "      <td>yes</td>\n",
       "      <td>M1.1</td>\n",
       "      <td>5</td>\n",
       "    </tr>\n",
       "    <tr>\n",
       "      <th>795</th>\n",
       "      <td>2017-09-10 15:35:00</td>\n",
       "      <td>yes</td>\n",
       "      <td>X8.2</td>\n",
       "      <td>5</td>\n",
       "    </tr>\n",
       "    <tr>\n",
       "      <th>796</th>\n",
       "      <td>2017-10-20 23:10:00</td>\n",
       "      <td>yes</td>\n",
       "      <td>M1.1</td>\n",
       "      <td>4</td>\n",
       "    </tr>\n",
       "  </tbody>\n",
       "</table>\n",
       "<p>433 rows × 4 columns</p>\n",
       "</div>"
      ],
      "text/plain": [
       "        event_starttime cmes goes_class  qual\n",
       "364 2013-11-08 04:20:00   no       X1.1     0\n",
       "365 2013-11-08 09:22:00   no       M2.3     0\n",
       "366 2013-11-10 05:08:00  yes       X1.1     2\n",
       "367 2013-11-11 11:01:00   no       M2.4     0\n",
       "368 2013-11-13 14:57:00  yes       M1.4     3\n",
       "..                  ...  ...        ...   ...\n",
       "792 2017-09-09 04:14:00  yes       M1.1     2\n",
       "793 2017-09-09 10:50:00   no       M3.7     0\n",
       "794 2017-09-09 22:04:00  yes       M1.1     5\n",
       "795 2017-09-10 15:35:00  yes       X8.2     5\n",
       "796 2017-10-20 23:10:00  yes       M1.1     4\n",
       "\n",
       "[433 rows x 4 columns]"
      ]
     },
     "execution_count": 12,
     "metadata": {},
     "output_type": "execute_result"
    }
   ],
   "source": [
    "flare_interest[flare_interest[\"event_starttime\"]>\"2013-11-08 02:00\"][[\"event_starttime\", \"cmes\", \"goes_class\", \"qual\"]]"
   ]
  },
  {
   "cell_type": "code",
   "execution_count": 13,
   "id": "871fe45b",
   "metadata": {},
   "outputs": [
    {
     "data": {
      "text/html": [
       "<div>\n",
       "<style scoped>\n",
       "    .dataframe tbody tr th:only-of-type {\n",
       "        vertical-align: middle;\n",
       "    }\n",
       "\n",
       "    .dataframe tbody tr th {\n",
       "        vertical-align: top;\n",
       "    }\n",
       "\n",
       "    .dataframe thead th {\n",
       "        text-align: right;\n",
       "    }\n",
       "</style>\n",
       "<table border=\"1\" class=\"dataframe\">\n",
       "  <thead>\n",
       "    <tr style=\"text-align: right;\">\n",
       "      <th></th>\n",
       "      <th>event_starttime</th>\n",
       "      <th>cmes</th>\n",
       "      <th>goes_class</th>\n",
       "      <th>qual</th>\n",
       "    </tr>\n",
       "  </thead>\n",
       "  <tbody>\n",
       "    <tr>\n",
       "      <th>27</th>\n",
       "      <td>2011-02-15 01:44:00</td>\n",
       "      <td>yes</td>\n",
       "      <td>X2.2</td>\n",
       "      <td>3</td>\n",
       "    </tr>\n",
       "    <tr>\n",
       "      <th>52</th>\n",
       "      <td>2011-03-09 23:13:00</td>\n",
       "      <td>no</td>\n",
       "      <td>X1.5</td>\n",
       "      <td>0</td>\n",
       "    </tr>\n",
       "    <tr>\n",
       "      <th>76</th>\n",
       "      <td>2011-08-09 07:48:00</td>\n",
       "      <td>yes</td>\n",
       "      <td>X6.9</td>\n",
       "      <td>3</td>\n",
       "    </tr>\n",
       "    <tr>\n",
       "      <th>81</th>\n",
       "      <td>2011-09-06 22:12:00</td>\n",
       "      <td>yes</td>\n",
       "      <td>X2.1</td>\n",
       "      <td>2</td>\n",
       "    </tr>\n",
       "    <tr>\n",
       "      <th>82</th>\n",
       "      <td>2011-09-07 22:32:00</td>\n",
       "      <td>yes</td>\n",
       "      <td>X1.8</td>\n",
       "      <td>2</td>\n",
       "    </tr>\n",
       "    <tr>\n",
       "      <th>89</th>\n",
       "      <td>2011-09-22 10:29:00</td>\n",
       "      <td>yes</td>\n",
       "      <td>X1.4</td>\n",
       "      <td>5</td>\n",
       "    </tr>\n",
       "    <tr>\n",
       "      <th>93</th>\n",
       "      <td>2011-09-24 09:21:00</td>\n",
       "      <td>yes</td>\n",
       "      <td>X1.9</td>\n",
       "      <td>2</td>\n",
       "    </tr>\n",
       "    <tr>\n",
       "      <th>122</th>\n",
       "      <td>2011-11-03 20:16:00</td>\n",
       "      <td>no</td>\n",
       "      <td>X1.9</td>\n",
       "      <td>0</td>\n",
       "    </tr>\n",
       "    <tr>\n",
       "      <th>147</th>\n",
       "      <td>2012-01-27 17:37:00</td>\n",
       "      <td>yes</td>\n",
       "      <td>X1.7</td>\n",
       "      <td>5</td>\n",
       "    </tr>\n",
       "    <tr>\n",
       "      <th>151</th>\n",
       "      <td>2012-03-05 02:30:00</td>\n",
       "      <td>yes</td>\n",
       "      <td>X1.1</td>\n",
       "      <td>3</td>\n",
       "    </tr>\n",
       "    <tr>\n",
       "      <th>162</th>\n",
       "      <td>2012-03-07 00:02:00</td>\n",
       "      <td>yes</td>\n",
       "      <td>X5.4</td>\n",
       "      <td>5</td>\n",
       "    </tr>\n",
       "    <tr>\n",
       "      <th>163</th>\n",
       "      <td>2012-03-07 01:05:00</td>\n",
       "      <td>yes</td>\n",
       "      <td>X1.3</td>\n",
       "      <td>3</td>\n",
       "    </tr>\n",
       "    <tr>\n",
       "      <th>224</th>\n",
       "      <td>2012-07-06 23:01:00</td>\n",
       "      <td>yes</td>\n",
       "      <td>X1.1</td>\n",
       "      <td>4</td>\n",
       "    </tr>\n",
       "    <tr>\n",
       "      <th>235</th>\n",
       "      <td>2012-07-12 15:37:00</td>\n",
       "      <td>no</td>\n",
       "      <td>X1.4</td>\n",
       "      <td>0</td>\n",
       "    </tr>\n",
       "    <tr>\n",
       "      <th>263</th>\n",
       "      <td>2012-10-23 03:13:00</td>\n",
       "      <td>no</td>\n",
       "      <td>X1.8</td>\n",
       "      <td>0</td>\n",
       "    </tr>\n",
       "    <tr>\n",
       "      <th>299</th>\n",
       "      <td>2013-05-13 01:53:00</td>\n",
       "      <td>yes</td>\n",
       "      <td>X1.7</td>\n",
       "      <td>5</td>\n",
       "    </tr>\n",
       "    <tr>\n",
       "      <th>301</th>\n",
       "      <td>2013-05-13 15:48:00</td>\n",
       "      <td>yes</td>\n",
       "      <td>X2.8</td>\n",
       "      <td>5</td>\n",
       "    </tr>\n",
       "    <tr>\n",
       "      <th>302</th>\n",
       "      <td>2013-05-14 00:00:00</td>\n",
       "      <td>yes</td>\n",
       "      <td>X3.2</td>\n",
       "      <td>5</td>\n",
       "    </tr>\n",
       "    <tr>\n",
       "      <th>303</th>\n",
       "      <td>2013-05-15 01:25:00</td>\n",
       "      <td>yes</td>\n",
       "      <td>X1.2</td>\n",
       "      <td>5</td>\n",
       "    </tr>\n",
       "    <tr>\n",
       "      <th>333</th>\n",
       "      <td>2013-10-25 07:53:00</td>\n",
       "      <td>yes</td>\n",
       "      <td>X1.7</td>\n",
       "      <td>3</td>\n",
       "    </tr>\n",
       "    <tr>\n",
       "      <th>335</th>\n",
       "      <td>2013-10-25 14:51:00</td>\n",
       "      <td>yes</td>\n",
       "      <td>X2.1</td>\n",
       "      <td>5</td>\n",
       "    </tr>\n",
       "    <tr>\n",
       "      <th>345</th>\n",
       "      <td>2013-10-28 01:41:00</td>\n",
       "      <td>yes</td>\n",
       "      <td>X1.0</td>\n",
       "      <td>5</td>\n",
       "    </tr>\n",
       "    <tr>\n",
       "      <th>352</th>\n",
       "      <td>2013-10-29 21:42:00</td>\n",
       "      <td>yes</td>\n",
       "      <td>X2.3</td>\n",
       "      <td>5</td>\n",
       "    </tr>\n",
       "    <tr>\n",
       "      <th>359</th>\n",
       "      <td>2013-11-05 22:07:00</td>\n",
       "      <td>yes</td>\n",
       "      <td>X3.3</td>\n",
       "      <td>2</td>\n",
       "    </tr>\n",
       "    <tr>\n",
       "      <th>364</th>\n",
       "      <td>2013-11-08 04:20:00</td>\n",
       "      <td>no</td>\n",
       "      <td>X1.1</td>\n",
       "      <td>0</td>\n",
       "    </tr>\n",
       "    <tr>\n",
       "      <th>366</th>\n",
       "      <td>2013-11-10 05:08:00</td>\n",
       "      <td>yes</td>\n",
       "      <td>X1.1</td>\n",
       "      <td>2</td>\n",
       "    </tr>\n",
       "    <tr>\n",
       "      <th>373</th>\n",
       "      <td>2013-11-19 10:14:00</td>\n",
       "      <td>yes</td>\n",
       "      <td>X1.0</td>\n",
       "      <td>4</td>\n",
       "    </tr>\n",
       "    <tr>\n",
       "      <th>398</th>\n",
       "      <td>2014-01-07 18:04:00</td>\n",
       "      <td>yes</td>\n",
       "      <td>X1.2</td>\n",
       "      <td>5</td>\n",
       "    </tr>\n",
       "    <tr>\n",
       "      <th>451</th>\n",
       "      <td>2014-02-25 00:39:00</td>\n",
       "      <td>yes</td>\n",
       "      <td>X4.9</td>\n",
       "      <td>4</td>\n",
       "    </tr>\n",
       "    <tr>\n",
       "      <th>474</th>\n",
       "      <td>2014-03-29 17:35:00</td>\n",
       "      <td>yes</td>\n",
       "      <td>X1.0</td>\n",
       "      <td>4</td>\n",
       "    </tr>\n",
       "    <tr>\n",
       "      <th>480</th>\n",
       "      <td>2014-04-25 00:17:00</td>\n",
       "      <td>yes</td>\n",
       "      <td>X1.3</td>\n",
       "      <td>4</td>\n",
       "    </tr>\n",
       "    <tr>\n",
       "      <th>488</th>\n",
       "      <td>2014-06-10 11:36:00</td>\n",
       "      <td>yes</td>\n",
       "      <td>X2.2</td>\n",
       "      <td>4</td>\n",
       "    </tr>\n",
       "    <tr>\n",
       "      <th>489</th>\n",
       "      <td>2014-06-10 12:36:00</td>\n",
       "      <td>yes</td>\n",
       "      <td>X1.5</td>\n",
       "      <td>4</td>\n",
       "    </tr>\n",
       "    <tr>\n",
       "      <th>492</th>\n",
       "      <td>2014-06-11 08:59:00</td>\n",
       "      <td>no</td>\n",
       "      <td>X1.0</td>\n",
       "      <td>0</td>\n",
       "    </tr>\n",
       "    <tr>\n",
       "      <th>520</th>\n",
       "      <td>2014-09-10 17:21:00</td>\n",
       "      <td>no</td>\n",
       "      <td>X1.6</td>\n",
       "      <td>0</td>\n",
       "    </tr>\n",
       "    <tr>\n",
       "      <th>538</th>\n",
       "      <td>2014-10-19 04:17:00</td>\n",
       "      <td>no</td>\n",
       "      <td>X1.1</td>\n",
       "      <td>0</td>\n",
       "    </tr>\n",
       "    <tr>\n",
       "      <th>547</th>\n",
       "      <td>2014-10-22 14:02:00</td>\n",
       "      <td>no</td>\n",
       "      <td>X1.6</td>\n",
       "      <td>0</td>\n",
       "    </tr>\n",
       "    <tr>\n",
       "      <th>551</th>\n",
       "      <td>2014-10-24 21:07:00</td>\n",
       "      <td>no</td>\n",
       "      <td>X3.1</td>\n",
       "      <td>0</td>\n",
       "    </tr>\n",
       "    <tr>\n",
       "      <th>552</th>\n",
       "      <td>2014-10-25 16:55:00</td>\n",
       "      <td>no</td>\n",
       "      <td>X1.0</td>\n",
       "      <td>0</td>\n",
       "    </tr>\n",
       "    <tr>\n",
       "      <th>553</th>\n",
       "      <td>2014-10-26 10:04:00</td>\n",
       "      <td>no</td>\n",
       "      <td>X2.0</td>\n",
       "      <td>0</td>\n",
       "    </tr>\n",
       "    <tr>\n",
       "      <th>562</th>\n",
       "      <td>2014-10-27 14:12:00</td>\n",
       "      <td>no</td>\n",
       "      <td>X2.0</td>\n",
       "      <td>0</td>\n",
       "    </tr>\n",
       "    <tr>\n",
       "      <th>588</th>\n",
       "      <td>2014-11-07 16:53:00</td>\n",
       "      <td>yes</td>\n",
       "      <td>X1.6</td>\n",
       "      <td>2</td>\n",
       "    </tr>\n",
       "    <tr>\n",
       "      <th>606</th>\n",
       "      <td>2014-12-20 00:11:00</td>\n",
       "      <td>yes</td>\n",
       "      <td>X1.8</td>\n",
       "      <td>5</td>\n",
       "    </tr>\n",
       "    <tr>\n",
       "      <th>641</th>\n",
       "      <td>2015-03-11 16:11:00</td>\n",
       "      <td>yes</td>\n",
       "      <td>X2.1</td>\n",
       "      <td>2</td>\n",
       "    </tr>\n",
       "    <tr>\n",
       "      <th>670</th>\n",
       "      <td>2015-05-05 22:05:00</td>\n",
       "      <td>yes</td>\n",
       "      <td>X2.7</td>\n",
       "      <td>5</td>\n",
       "    </tr>\n",
       "    <tr>\n",
       "      <th>777</th>\n",
       "      <td>2017-09-06 08:57:00</td>\n",
       "      <td>yes</td>\n",
       "      <td>X2.2</td>\n",
       "      <td>2</td>\n",
       "    </tr>\n",
       "    <tr>\n",
       "      <th>778</th>\n",
       "      <td>2017-09-06 11:53:00</td>\n",
       "      <td>yes</td>\n",
       "      <td>X9.3</td>\n",
       "      <td>5</td>\n",
       "    </tr>\n",
       "    <tr>\n",
       "      <th>785</th>\n",
       "      <td>2017-09-07 14:20:00</td>\n",
       "      <td>yes</td>\n",
       "      <td>X1.3</td>\n",
       "      <td>5</td>\n",
       "    </tr>\n",
       "    <tr>\n",
       "      <th>795</th>\n",
       "      <td>2017-09-10 15:35:00</td>\n",
       "      <td>yes</td>\n",
       "      <td>X8.2</td>\n",
       "      <td>5</td>\n",
       "    </tr>\n",
       "  </tbody>\n",
       "</table>\n",
       "</div>"
      ],
      "text/plain": [
       "        event_starttime cmes goes_class  qual\n",
       "27  2011-02-15 01:44:00  yes       X2.2     3\n",
       "52  2011-03-09 23:13:00   no       X1.5     0\n",
       "76  2011-08-09 07:48:00  yes       X6.9     3\n",
       "81  2011-09-06 22:12:00  yes       X2.1     2\n",
       "82  2011-09-07 22:32:00  yes       X1.8     2\n",
       "89  2011-09-22 10:29:00  yes       X1.4     5\n",
       "93  2011-09-24 09:21:00  yes       X1.9     2\n",
       "122 2011-11-03 20:16:00   no       X1.9     0\n",
       "147 2012-01-27 17:37:00  yes       X1.7     5\n",
       "151 2012-03-05 02:30:00  yes       X1.1     3\n",
       "162 2012-03-07 00:02:00  yes       X5.4     5\n",
       "163 2012-03-07 01:05:00  yes       X1.3     3\n",
       "224 2012-07-06 23:01:00  yes       X1.1     4\n",
       "235 2012-07-12 15:37:00   no       X1.4     0\n",
       "263 2012-10-23 03:13:00   no       X1.8     0\n",
       "299 2013-05-13 01:53:00  yes       X1.7     5\n",
       "301 2013-05-13 15:48:00  yes       X2.8     5\n",
       "302 2013-05-14 00:00:00  yes       X3.2     5\n",
       "303 2013-05-15 01:25:00  yes       X1.2     5\n",
       "333 2013-10-25 07:53:00  yes       X1.7     3\n",
       "335 2013-10-25 14:51:00  yes       X2.1     5\n",
       "345 2013-10-28 01:41:00  yes       X1.0     5\n",
       "352 2013-10-29 21:42:00  yes       X2.3     5\n",
       "359 2013-11-05 22:07:00  yes       X3.3     2\n",
       "364 2013-11-08 04:20:00   no       X1.1     0\n",
       "366 2013-11-10 05:08:00  yes       X1.1     2\n",
       "373 2013-11-19 10:14:00  yes       X1.0     4\n",
       "398 2014-01-07 18:04:00  yes       X1.2     5\n",
       "451 2014-02-25 00:39:00  yes       X4.9     4\n",
       "474 2014-03-29 17:35:00  yes       X1.0     4\n",
       "480 2014-04-25 00:17:00  yes       X1.3     4\n",
       "488 2014-06-10 11:36:00  yes       X2.2     4\n",
       "489 2014-06-10 12:36:00  yes       X1.5     4\n",
       "492 2014-06-11 08:59:00   no       X1.0     0\n",
       "520 2014-09-10 17:21:00   no       X1.6     0\n",
       "538 2014-10-19 04:17:00   no       X1.1     0\n",
       "547 2014-10-22 14:02:00   no       X1.6     0\n",
       "551 2014-10-24 21:07:00   no       X3.1     0\n",
       "552 2014-10-25 16:55:00   no       X1.0     0\n",
       "553 2014-10-26 10:04:00   no       X2.0     0\n",
       "562 2014-10-27 14:12:00   no       X2.0     0\n",
       "588 2014-11-07 16:53:00  yes       X1.6     2\n",
       "606 2014-12-20 00:11:00  yes       X1.8     5\n",
       "641 2015-03-11 16:11:00  yes       X2.1     2\n",
       "670 2015-05-05 22:05:00  yes       X2.7     5\n",
       "777 2017-09-06 08:57:00  yes       X2.2     2\n",
       "778 2017-09-06 11:53:00  yes       X9.3     5\n",
       "785 2017-09-07 14:20:00  yes       X1.3     5\n",
       "795 2017-09-10 15:35:00  yes       X8.2     5"
      ]
     },
     "execution_count": 13,
     "metadata": {},
     "output_type": "execute_result"
    }
   ],
   "source": [
    "flare_x[[\"event_starttime\", \"cmes\", \"goes_class\", \"qual\"]]"
   ]
  },
  {
   "cell_type": "code",
   "execution_count": 14,
   "id": "bb50b643",
   "metadata": {},
   "outputs": [
    {
     "data": {
      "text/plain": [
       "Index(['event_starttime', 'event_peaktime', 'event_endtime', 'goes_class_ind',\n",
       "       'goes_class', 'goes_class_val', 'integrated_flux', 'noaa_ar',\n",
       "       'position_hgs', 'hgs_lat', 'hgs_lon', 'hpc_x', 'hpc_y', 'tt',\n",
       "       'matchtime', 'fwhm', 'dur_full', 'fwhm_start', 'fwhm_end', 'fwhm_rise',\n",
       "       'fwhm_decay', 'fwhm_dur', 'phi', 'cmes', 'angles', 'qual'],\n",
       "      dtype='object')"
      ]
     },
     "execution_count": 14,
     "metadata": {},
     "output_type": "execute_result"
    }
   ],
   "source": [
    "flare_interest.keys()"
   ]
  },
  {
   "cell_type": "code",
   "execution_count": 15,
   "id": "8187e52d",
   "metadata": {},
   "outputs": [
    {
     "name": "stdout",
     "output_type": "stream",
     "text": [
      "297\n",
      "500\n"
     ]
    }
   ],
   "source": [
    "flare_cmes = flare_interest[(flare_interest.qual>=2)]; print(len(flare_cmes))\n",
    "flare_nocmes = flare_interest[(flare_interest.qual<2)]; print(len(flare_nocmes))"
   ]
  },
  {
   "cell_type": "code",
   "execution_count": 16,
   "id": "7a178621",
   "metadata": {},
   "outputs": [
    {
     "data": {
      "image/png": "[encoded data removed]",
      "text/plain": [
       "<Figure size 432x288 with 1 Axes>"
      ]
     },
     "metadata": {
      "needs_background": "light"
     },
     "output_type": "display_data"
    }
   ],
   "source": [
    "plt.rcParams['font.family'] = 'Helvetica'\n",
    "sns.distplot(np.log10(flare_cmes.dur_full/60), bins=26, label=\"CME\", )\n",
    "sns.distplot(np.log10(flare_nocmes.dur_full/60), bins=26, label=\"No CME\")\n",
    "plt.legend()\n",
    "plt.xlabel(\"log (flare duration (min))\")\n",
    "plt.title(\"Flares > C5\")\n",
    "ax = plt.gca()\n",
    "ax.tick_params(which=\"both\", direction=\"in\")\n",
    "plt.tight_layout()\n",
    "\n"
   ]
  },
  {
   "cell_type": "code",
   "execution_count": 17,
   "id": "90a110a0",
   "metadata": {},
   "outputs": [
    {
     "data": {
      "image/png": "[encoded data removed]",
      "text/plain": [
       "<Figure size 432x288 with 1 Axes>"
      ]
     },
     "metadata": {
      "needs_background": "light"
     },
     "output_type": "display_data"
    }
   ],
   "source": [
    "plt.rcParams['font.family'] = 'Helvetica'\n",
    "sns.distplot(np.log10(flare_cmes.fwhm/60), bins=26, label=\"CME\", )\n",
    "sns.distplot(np.log10(flare_nocmes.fwhm/60), bins=26, label=\"No CME\")\n",
    "plt.legend()\n",
    "plt.xlabel(\"log (flare fwhm (min))\")\n",
    "plt.title(\"Flares > C5\")\n",
    "ax = plt.gca()\n",
    "ax.tick_params(which=\"both\", direction=\"in\")\n",
    "plt.tight_layout()\n",
    "\n",
    "\n"
   ]
  },
  {
   "cell_type": "code",
   "execution_count": 18,
   "id": "90f2677b",
   "metadata": {},
   "outputs": [
    {
     "data": {
      "image/png": "[encoded data removed]",
      "text/plain": [
       "<Figure size 432x288 with 1 Axes>"
      ]
     },
     "metadata": {
      "needs_background": "light"
     },
     "output_type": "display_data"
    }
   ],
   "source": [
    "plt.rcParams['font.family'] = 'Helvetica'\n",
    "sns.distplot(np.log10(flare_cmes.fwhm_dur/60), bins=26, label=\"CME\", )\n",
    "sns.distplot(np.log10(flare_nocmes.fwhm_dur/60), bins=26, label=\"No CME\")\n",
    "plt.legend()\n",
    "plt.xlabel(\"log (flare fwhm (min))\")\n",
    "plt.title(\"Flares > C5\")\n",
    "ax = plt.gca()\n",
    "ax.tick_params(which=\"both\", direction=\"in\")\n",
    "plt.tight_layout()\n",
    "\n"
   ]
  },
  {
   "cell_type": "code",
   "execution_count": 19,
   "id": "beaa204f",
   "metadata": {},
   "outputs": [
    {
     "data": {
      "image/png": "[encoded data removed]",
      "text/plain": [
       "<Figure size 432x288 with 1 Axes>"
      ]
     },
     "metadata": {
      "needs_background": "light"
     },
     "output_type": "display_data"
    }
   ],
   "source": [
    "plt.rcParams['font.family'] = 'Helvetica'\n",
    "sns.distplot(np.log10(flare_cmes.fwhm_decay/60), bins=26, label=\"CME\", )\n",
    "sns.distplot(np.log10(flare_nocmes.fwhm_decay/60), bins=26, label=\"No CME\")\n",
    "plt.legend()\n",
    "plt.xlabel(\"log (flare fwhm (min))\")\n",
    "plt.title(\"Flares > C5\")\n",
    "ax = plt.gca()\n",
    "ax.tick_params(which=\"both\", direction=\"in\")\n",
    "plt.tight_layout()"
   ]
  },
  {
   "cell_type": "code",
   "execution_count": 20,
   "id": "4341ed0f",
   "metadata": {},
   "outputs": [
    {
     "data": {
      "image/png": "[encoded data removed]",
      "text/plain": [
       "<Figure size 432x288 with 1 Axes>"
      ]
     },
     "metadata": {
      "needs_background": "light"
     },
     "output_type": "display_data"
    }
   ],
   "source": [
    "plt.rcParams['font.family'] = 'Helvetica'\n",
    "sns.distplot(np.log10(flare_cmes.fwhm_rise/60), bins=26, label=\"CME\", )\n",
    "sns.distplot(np.log10(flare_nocmes.fwhm_rise/60), bins=26, label=\"No CME\")\n",
    "plt.legend()\n",
    "plt.xlabel(\"log (flare fwhm (min))\")\n",
    "plt.title(\"Flares > C5\")\n",
    "ax = plt.gca()\n",
    "ax.tick_params(which=\"both\", direction=\"in\")\n",
    "plt.tight_layout()"
   ]
  },
  {
   "cell_type": "code",
   "execution_count": 21,
   "id": "aa2d16b4",
   "metadata": {},
   "outputs": [
    {
     "data": {
      "image/png": "[encoded data removed]",
      "text/plain": [
       "<Figure size 360x720 with 3 Axes>"
      ]
     },
     "metadata": {
      "needs_background": "light"
     },
     "output_type": "display_data"
    }
   ],
   "source": [
    "fig, ax = plt.subplots(3, sharex=True, figsize=(5, 10))\n",
    "sns.distplot(np.log10(flare_cmes.dur_full/60), bins=26, label=\"CME\", ax=ax[0])\n",
    "sns.distplot(np.log10(flare_nocmes.dur_full/60), bins=26, label=\"No CME\", ax=ax[0])\n",
    "\n",
    "sns.distplot(np.log10(flare_cmes.fwhm_dur/60), bins=26, label=\"CME\", ax=ax[1])\n",
    "sns.distplot(np.log10(flare_nocmes.fwhm_dur/60), bins=26, label=\"No CME\", ax=ax[1])\n",
    "\n",
    "sns.distplot(np.log10(flare_cmes.fwhm_decay/60), bins=26, label=\"CME\", ax=ax[2])\n",
    "sns.distplot(np.log10(flare_nocmes.fwhm_decay/60), bins=26, label=\"No CME\", ax=ax[2])\n",
    "\n",
    "plt.tight_layout()\n",
    "plt.subplots_adjust(hspace=0.01)"
   ]
  },
  {
   "cell_type": "code",
   "execution_count": 22,
   "id": "02deaa30",
   "metadata": {},
   "outputs": [
    {
     "ename": "AttributeError",
     "evalue": "'DataFrame' object has no attribute 'decay_jeff'",
     "output_type": "error",
     "traceback": [
      "\u001b[0;31m---------------------------------------------------------------------------\u001b[0m",
      "\u001b[0;31mAttributeError\u001b[0m                            Traceback (most recent call last)",
      "\u001b[0;32m<ipython-input-22-2965050b32fe>\u001b[0m in \u001b[0;36m<module>\u001b[0;34m\u001b[0m\n\u001b[0;32m----> 1\u001b[0;31m \u001b[0msns\u001b[0m\u001b[0;34m.\u001b[0m\u001b[0mdistplot\u001b[0m\u001b[0;34m(\u001b[0m\u001b[0mnp\u001b[0m\u001b[0;34m.\u001b[0m\u001b[0mlog10\u001b[0m\u001b[0;34m(\u001b[0m\u001b[0mflare_cmes\u001b[0m\u001b[0;34m.\u001b[0m\u001b[0mdecay_jeff\u001b[0m\u001b[0;34m/\u001b[0m\u001b[0;36m60\u001b[0m\u001b[0;34m)\u001b[0m\u001b[0;34m,\u001b[0m  \u001b[0mlabel\u001b[0m\u001b[0;34m=\u001b[0m\u001b[0;34m\"CME\"\u001b[0m\u001b[0;34m)\u001b[0m\u001b[0;34m\u001b[0m\u001b[0;34m\u001b[0m\u001b[0m\n\u001b[0m\u001b[1;32m      2\u001b[0m \u001b[0msns\u001b[0m\u001b[0;34m.\u001b[0m\u001b[0mdistplot\u001b[0m\u001b[0;34m(\u001b[0m\u001b[0mnp\u001b[0m\u001b[0;34m.\u001b[0m\u001b[0mlog10\u001b[0m\u001b[0;34m(\u001b[0m\u001b[0mflare_nocmes\u001b[0m\u001b[0;34m.\u001b[0m\u001b[0mdecay_jeff\u001b[0m\u001b[0;34m/\u001b[0m\u001b[0;36m60\u001b[0m\u001b[0;34m)\u001b[0m\u001b[0;34m,\u001b[0m  \u001b[0mlabel\u001b[0m\u001b[0;34m=\u001b[0m\u001b[0;34m\"No CME\"\u001b[0m\u001b[0;34m)\u001b[0m\u001b[0;34m\u001b[0m\u001b[0;34m\u001b[0m\u001b[0m\n\u001b[1;32m      3\u001b[0m \u001b[0;34m\u001b[0m\u001b[0m\n",
      "\u001b[0;32m~/opt/miniconda3/lib/python3.9/site-packages/pandas/core/generic.py\u001b[0m in \u001b[0;36m__getattr__\u001b[0;34m(self, name)\u001b[0m\n\u001b[1;32m   5463\u001b[0m             \u001b[0;32mif\u001b[0m \u001b[0mself\u001b[0m\u001b[0;34m.\u001b[0m\u001b[0m_info_axis\u001b[0m\u001b[0;34m.\u001b[0m\u001b[0m_can_hold_identifiers_and_holds_name\u001b[0m\u001b[0;34m(\u001b[0m\u001b[0mname\u001b[0m\u001b[0;34m)\u001b[0m\u001b[0;34m:\u001b[0m\u001b[0;34m\u001b[0m\u001b[0;34m\u001b[0m\u001b[0m\n\u001b[1;32m   5464\u001b[0m                 \u001b[0;32mreturn\u001b[0m \u001b[0mself\u001b[0m\u001b[0;34m[\u001b[0m\u001b[0mname\u001b[0m\u001b[0;34m]\u001b[0m\u001b[0;34m\u001b[0m\u001b[0;34m\u001b[0m\u001b[0m\n\u001b[0;32m-> 5465\u001b[0;31m             \u001b[0;32mreturn\u001b[0m \u001b[0mobject\u001b[0m\u001b[0;34m.\u001b[0m\u001b[0m__getattribute__\u001b[0m\u001b[0;34m(\u001b[0m\u001b[0mself\u001b[0m\u001b[0;34m,\u001b[0m \u001b[0mname\u001b[0m\u001b[0;34m)\u001b[0m\u001b[0;34m\u001b[0m\u001b[0;34m\u001b[0m\u001b[0m\n\u001b[0m\u001b[1;32m   5466\u001b[0m \u001b[0;34m\u001b[0m\u001b[0m\n\u001b[1;32m   5467\u001b[0m     \u001b[0;32mdef\u001b[0m \u001b[0m__setattr__\u001b[0m\u001b[0;34m(\u001b[0m\u001b[0mself\u001b[0m\u001b[0;34m,\u001b[0m \u001b[0mname\u001b[0m\u001b[0;34m:\u001b[0m \u001b[0mstr\u001b[0m\u001b[0;34m,\u001b[0m \u001b[0mvalue\u001b[0m\u001b[0;34m)\u001b[0m \u001b[0;34m->\u001b[0m \u001b[0;32mNone\u001b[0m\u001b[0;34m:\u001b[0m\u001b[0;34m\u001b[0m\u001b[0;34m\u001b[0m\u001b[0m\n",
      "\u001b[0;31mAttributeError\u001b[0m: 'DataFrame' object has no attribute 'decay_jeff'"
     ]
    }
   ],
   "source": [
    "sns.distplot(np.log10(flare_cmes.decay_jeff/60),  label=\"CME\")\n",
    "sns.distplot(np.log10(flare_nocmes.decay_jeff/60),  label=\"No CME\")\n",
    "\n"
   ]
  },
  {
   "cell_type": "code",
   "execution_count": 23,
   "id": "b6098c47",
   "metadata": {},
   "outputs": [
    {
     "name": "stdout",
     "output_type": "stream",
     "text": [
      "Jeff decay times:\n"
     ]
    },
    {
     "ename": "AttributeError",
     "evalue": "'DataFrame' object has no attribute 'decay_jeff'",
     "output_type": "error",
     "traceback": [
      "\u001b[0;31m---------------------------------------------------------------------------\u001b[0m",
      "\u001b[0;31mAttributeError\u001b[0m                            Traceback (most recent call last)",
      "\u001b[0;32m<ipython-input-23-92c20ad2f0c9>\u001b[0m in \u001b[0;36m<module>\u001b[0;34m\u001b[0m\n\u001b[1;32m      1\u001b[0m \u001b[0mprint\u001b[0m\u001b[0;34m(\u001b[0m\u001b[0;34m\"Jeff decay times:\"\u001b[0m\u001b[0;34m)\u001b[0m\u001b[0;34m\u001b[0m\u001b[0;34m\u001b[0m\u001b[0m\n\u001b[0;32m----> 2\u001b[0;31m \u001b[0mprint\u001b[0m\u001b[0;34m(\u001b[0m\u001b[0mnp\u001b[0m\u001b[0;34m.\u001b[0m\u001b[0mmean\u001b[0m\u001b[0;34m(\u001b[0m\u001b[0mflare_nocmes\u001b[0m\u001b[0;34m.\u001b[0m\u001b[0mdecay_jeff\u001b[0m\u001b[0;34m)\u001b[0m\u001b[0;34m,\u001b[0m \u001b[0mnp\u001b[0m\u001b[0;34m.\u001b[0m\u001b[0mmean\u001b[0m\u001b[0;34m(\u001b[0m\u001b[0mflare_cmes\u001b[0m\u001b[0;34m.\u001b[0m\u001b[0mdecay_jeff\u001b[0m\u001b[0;34m)\u001b[0m\u001b[0;34m)\u001b[0m\u001b[0;34m\u001b[0m\u001b[0;34m\u001b[0m\u001b[0m\n\u001b[0m\u001b[1;32m      3\u001b[0m \u001b[0mprint\u001b[0m\u001b[0;34m(\u001b[0m\u001b[0;36m10\u001b[0m\u001b[0;34m**\u001b[0m\u001b[0;34m(\u001b[0m\u001b[0mnp\u001b[0m\u001b[0;34m.\u001b[0m\u001b[0mmean\u001b[0m\u001b[0;34m(\u001b[0m\u001b[0mnp\u001b[0m\u001b[0;34m.\u001b[0m\u001b[0mlog10\u001b[0m\u001b[0;34m(\u001b[0m\u001b[0mflare_nocmes\u001b[0m\u001b[0;34m.\u001b[0m\u001b[0mdecay_jeff\u001b[0m\u001b[0;34m)\u001b[0m\u001b[0;34m)\u001b[0m\u001b[0;34m)\u001b[0m\u001b[0;34m,\u001b[0m \u001b[0;36m10\u001b[0m\u001b[0;34m**\u001b[0m\u001b[0;34m(\u001b[0m\u001b[0mnp\u001b[0m\u001b[0;34m.\u001b[0m\u001b[0mmean\u001b[0m\u001b[0;34m(\u001b[0m\u001b[0mnp\u001b[0m\u001b[0;34m.\u001b[0m\u001b[0mlog10\u001b[0m\u001b[0;34m(\u001b[0m\u001b[0mflare_cmes\u001b[0m\u001b[0;34m.\u001b[0m\u001b[0mdecay_jeff\u001b[0m\u001b[0;34m)\u001b[0m\u001b[0;34m)\u001b[0m\u001b[0;34m)\u001b[0m\u001b[0;34m)\u001b[0m\u001b[0;34m\u001b[0m\u001b[0;34m\u001b[0m\u001b[0m\n",
      "\u001b[0;32m~/opt/miniconda3/lib/python3.9/site-packages/pandas/core/generic.py\u001b[0m in \u001b[0;36m__getattr__\u001b[0;34m(self, name)\u001b[0m\n\u001b[1;32m   5463\u001b[0m             \u001b[0;32mif\u001b[0m \u001b[0mself\u001b[0m\u001b[0;34m.\u001b[0m\u001b[0m_info_axis\u001b[0m\u001b[0;34m.\u001b[0m\u001b[0m_can_hold_identifiers_and_holds_name\u001b[0m\u001b[0;34m(\u001b[0m\u001b[0mname\u001b[0m\u001b[0;34m)\u001b[0m\u001b[0;34m:\u001b[0m\u001b[0;34m\u001b[0m\u001b[0;34m\u001b[0m\u001b[0m\n\u001b[1;32m   5464\u001b[0m                 \u001b[0;32mreturn\u001b[0m \u001b[0mself\u001b[0m\u001b[0;34m[\u001b[0m\u001b[0mname\u001b[0m\u001b[0;34m]\u001b[0m\u001b[0;34m\u001b[0m\u001b[0;34m\u001b[0m\u001b[0m\n\u001b[0;32m-> 5465\u001b[0;31m             \u001b[0;32mreturn\u001b[0m \u001b[0mobject\u001b[0m\u001b[0;34m.\u001b[0m\u001b[0m__getattribute__\u001b[0m\u001b[0;34m(\u001b[0m\u001b[0mself\u001b[0m\u001b[0;34m,\u001b[0m \u001b[0mname\u001b[0m\u001b[0;34m)\u001b[0m\u001b[0;34m\u001b[0m\u001b[0;34m\u001b[0m\u001b[0m\n\u001b[0m\u001b[1;32m   5466\u001b[0m \u001b[0;34m\u001b[0m\u001b[0m\n\u001b[1;32m   5467\u001b[0m     \u001b[0;32mdef\u001b[0m \u001b[0m__setattr__\u001b[0m\u001b[0;34m(\u001b[0m\u001b[0mself\u001b[0m\u001b[0;34m,\u001b[0m \u001b[0mname\u001b[0m\u001b[0;34m:\u001b[0m \u001b[0mstr\u001b[0m\u001b[0;34m,\u001b[0m \u001b[0mvalue\u001b[0m\u001b[0;34m)\u001b[0m \u001b[0;34m->\u001b[0m \u001b[0;32mNone\u001b[0m\u001b[0;34m:\u001b[0m\u001b[0;34m\u001b[0m\u001b[0;34m\u001b[0m\u001b[0m\n",
      "\u001b[0;31mAttributeError\u001b[0m: 'DataFrame' object has no attribute 'decay_jeff'"
     ]
    }
   ],
   "source": [
    "print(\"Jeff decay times:\")\n",
    "print(np.mean(flare_nocmes.decay_jeff), np.mean(flare_cmes.decay_jeff))\n",
    "print(10**(np.mean(np.log10(flare_nocmes.decay_jeff))), 10**(np.mean(np.log10(flare_cmes.decay_jeff))))"
   ]
  },
  {
   "cell_type": "code",
   "execution_count": 24,
   "id": "dabe7aa2",
   "metadata": {},
   "outputs": [
    {
     "name": "stdout",
     "output_type": "stream",
     "text": [
      "Jeff duration times:\n"
     ]
    },
    {
     "ename": "AttributeError",
     "evalue": "'DataFrame' object has no attribute 'dur_jeff'",
     "output_type": "error",
     "traceback": [
      "\u001b[0;31m---------------------------------------------------------------------------\u001b[0m",
      "\u001b[0;31mAttributeError\u001b[0m                            Traceback (most recent call last)",
      "\u001b[0;32m<ipython-input-24-fbe4e08da9f5>\u001b[0m in \u001b[0;36m<module>\u001b[0;34m\u001b[0m\n\u001b[1;32m      1\u001b[0m \u001b[0mprint\u001b[0m\u001b[0;34m(\u001b[0m\u001b[0;34m\"Jeff duration times:\"\u001b[0m\u001b[0;34m)\u001b[0m\u001b[0;34m\u001b[0m\u001b[0;34m\u001b[0m\u001b[0m\n\u001b[0;32m----> 2\u001b[0;31m \u001b[0mprint\u001b[0m\u001b[0;34m(\u001b[0m\u001b[0mnp\u001b[0m\u001b[0;34m.\u001b[0m\u001b[0mmean\u001b[0m\u001b[0;34m(\u001b[0m\u001b[0mflare_nocmes\u001b[0m\u001b[0;34m.\u001b[0m\u001b[0mdur_jeff\u001b[0m\u001b[0;34m)\u001b[0m\u001b[0;34m,\u001b[0m \u001b[0mnp\u001b[0m\u001b[0;34m.\u001b[0m\u001b[0mmean\u001b[0m\u001b[0;34m(\u001b[0m\u001b[0mflare_cmes\u001b[0m\u001b[0;34m.\u001b[0m\u001b[0mdur_jeff\u001b[0m\u001b[0;34m)\u001b[0m\u001b[0;34m)\u001b[0m\u001b[0;34m\u001b[0m\u001b[0;34m\u001b[0m\u001b[0m\n\u001b[0m\u001b[1;32m      3\u001b[0m \u001b[0mprint\u001b[0m\u001b[0;34m(\u001b[0m\u001b[0;36m10\u001b[0m\u001b[0;34m**\u001b[0m\u001b[0;34m(\u001b[0m\u001b[0mnp\u001b[0m\u001b[0;34m.\u001b[0m\u001b[0mmean\u001b[0m\u001b[0;34m(\u001b[0m\u001b[0mnp\u001b[0m\u001b[0;34m.\u001b[0m\u001b[0mlog10\u001b[0m\u001b[0;34m(\u001b[0m\u001b[0mflare_nocmes\u001b[0m\u001b[0;34m.\u001b[0m\u001b[0mdur_jeff\u001b[0m\u001b[0;34m)\u001b[0m\u001b[0;34m)\u001b[0m\u001b[0;34m)\u001b[0m\u001b[0;34m,\u001b[0m \u001b[0;36m10\u001b[0m\u001b[0;34m**\u001b[0m\u001b[0;34m(\u001b[0m\u001b[0mnp\u001b[0m\u001b[0;34m.\u001b[0m\u001b[0mmean\u001b[0m\u001b[0;34m(\u001b[0m\u001b[0mnp\u001b[0m\u001b[0;34m.\u001b[0m\u001b[0mlog10\u001b[0m\u001b[0;34m(\u001b[0m\u001b[0mflare_cmes\u001b[0m\u001b[0;34m.\u001b[0m\u001b[0mdur_jeff\u001b[0m\u001b[0;34m)\u001b[0m\u001b[0;34m)\u001b[0m\u001b[0;34m)\u001b[0m\u001b[0;34m)\u001b[0m\u001b[0;34m\u001b[0m\u001b[0;34m\u001b[0m\u001b[0m\n",
      "\u001b[0;32m~/opt/miniconda3/lib/python3.9/site-packages/pandas/core/generic.py\u001b[0m in \u001b[0;36m__getattr__\u001b[0;34m(self, name)\u001b[0m\n\u001b[1;32m   5463\u001b[0m             \u001b[0;32mif\u001b[0m \u001b[0mself\u001b[0m\u001b[0;34m.\u001b[0m\u001b[0m_info_axis\u001b[0m\u001b[0;34m.\u001b[0m\u001b[0m_can_hold_identifiers_and_holds_name\u001b[0m\u001b[0;34m(\u001b[0m\u001b[0mname\u001b[0m\u001b[0;34m)\u001b[0m\u001b[0;34m:\u001b[0m\u001b[0;34m\u001b[0m\u001b[0;34m\u001b[0m\u001b[0m\n\u001b[1;32m   5464\u001b[0m                 \u001b[0;32mreturn\u001b[0m \u001b[0mself\u001b[0m\u001b[0;34m[\u001b[0m\u001b[0mname\u001b[0m\u001b[0;34m]\u001b[0m\u001b[0;34m\u001b[0m\u001b[0;34m\u001b[0m\u001b[0m\n\u001b[0;32m-> 5465\u001b[0;31m             \u001b[0;32mreturn\u001b[0m \u001b[0mobject\u001b[0m\u001b[0;34m.\u001b[0m\u001b[0m__getattribute__\u001b[0m\u001b[0;34m(\u001b[0m\u001b[0mself\u001b[0m\u001b[0;34m,\u001b[0m \u001b[0mname\u001b[0m\u001b[0;34m)\u001b[0m\u001b[0;34m\u001b[0m\u001b[0;34m\u001b[0m\u001b[0m\n\u001b[0m\u001b[1;32m   5466\u001b[0m \u001b[0;34m\u001b[0m\u001b[0m\n\u001b[1;32m   5467\u001b[0m     \u001b[0;32mdef\u001b[0m \u001b[0m__setattr__\u001b[0m\u001b[0;34m(\u001b[0m\u001b[0mself\u001b[0m\u001b[0;34m,\u001b[0m \u001b[0mname\u001b[0m\u001b[0;34m:\u001b[0m \u001b[0mstr\u001b[0m\u001b[0;34m,\u001b[0m \u001b[0mvalue\u001b[0m\u001b[0;34m)\u001b[0m \u001b[0;34m->\u001b[0m \u001b[0;32mNone\u001b[0m\u001b[0;34m:\u001b[0m\u001b[0;34m\u001b[0m\u001b[0;34m\u001b[0m\u001b[0m\n",
      "\u001b[0;31mAttributeError\u001b[0m: 'DataFrame' object has no attribute 'dur_jeff'"
     ]
    }
   ],
   "source": [
    "print(\"Jeff duration times:\")\n",
    "print(np.mean(flare_nocmes.dur_jeff), np.mean(flare_cmes.dur_jeff))\n",
    "print(10**(np.mean(np.log10(flare_nocmes.dur_jeff))), 10**(np.mean(np.log10(flare_cmes.dur_jeff))))"
   ]
  },
  {
   "cell_type": "code",
   "execution_count": 25,
   "id": "828cd590",
   "metadata": {},
   "outputs": [
    {
     "name": "stdout",
     "output_type": "stream",
     "text": [
      "Full duration times:\n",
      "1424.52 2254.5454545454545\n",
      "1081.0935934639213 1571.26825354295\n"
     ]
    }
   ],
   "source": [
    "print(\"Full duration times:\")\n",
    "print(np.mean(flare_nocmes.dur_full), np.mean(flare_cmes.dur_full))\n",
    "print(10**(np.mean(np.log10(flare_nocmes.dur_full))), 10**(np.mean(np.log10(flare_cmes.dur_full))))"
   ]
  },
  {
   "cell_type": "code",
   "execution_count": null,
   "id": "2bed0fc3",
   "metadata": {},
   "outputs": [],
   "source": [
    "flare_list.de"
   ]
  }
 ],
 "metadata": {
  "kernelspec": {
   "display_name": "Python 3",
   "language": "python",
   "name": "python3"
  },
  "language_info": {
   "codemirror_mode": {
    "name": "ipython",
    "version": 3
   },
   "file_extension": ".py",
   "mimetype": "text/x-python",
   "name": "python",
   "nbconvert_exporter": "python",
   "pygments_lexer": "ipython3",
   "version": "3.9.4"
  }
 },
 "nbformat": 4,
 "nbformat_minor": 5
}
