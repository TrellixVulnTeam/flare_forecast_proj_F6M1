{
 "cells": [
  {
   "cell_type": "code",
   "execution_count": 232,
   "id": "0f24221d",
   "metadata": {},
   "outputs": [],
   "source": [
    "import h5py\n",
    "import datetime\n",
    "import numpy as np \n",
    "import pandas as pd \n",
    "import matplotlib.pyplot as plt"
   ]
  },
  {
   "cell_type": "code",
   "execution_count": 233,
   "id": "8b3c2caf",
   "metadata": {},
   "outputs": [],
   "source": [
    "data = h5py.File('goes15_recal.h5','r')"
   ]
  },
  {
   "cell_type": "code",
   "execution_count": 234,
   "id": "80947c84",
   "metadata": {},
   "outputs": [],
   "source": [
    "var_names = ([f'f{i}_18' for i in range(5)] + [f't{i}_18' for i in range(5)] + [f'a{i}_18' for i in range(5)] +\n",
    "             [f'dfdt{i}_18' for i in range(5)] + [f'f{i}_054' for i in range(5)] + [f't{i}_054' for i in range(5)] +\n",
    "             [f'a{i}_054' for i in range(5)] + [f'dfdt{i}_054' for i in range(5)] +\n",
    "             ['ptd', 'temperature', 'em', 'start_time', 'end_time', 'fwhm18', 'decay18', 't_s18', 't_e18',\n",
    "              'fwhm054', 'decay054', 't_s054', 't_e054',])\n",
    "with h5py.File('goes15_recal.h5','r') as hf:\n",
    "    data = {v: hf[v][:].squeeze() for v in var_names}"
   ]
  },
  {
   "cell_type": "code",
   "execution_count": 235,
   "id": "571caf2b",
   "metadata": {},
   "outputs": [
    {
     "data": {
      "text/plain": [
       "dict_keys(['f0_18', 'f1_18', 'f2_18', 'f3_18', 'f4_18', 't0_18', 't1_18', 't2_18', 't3_18', 't4_18', 'a0_18', 'a1_18', 'a2_18', 'a3_18', 'a4_18', 'dfdt0_18', 'dfdt1_18', 'dfdt2_18', 'dfdt3_18', 'dfdt4_18', 'f0_054', 'f1_054', 'f2_054', 'f3_054', 'f4_054', 't0_054', 't1_054', 't2_054', 't3_054', 't4_054', 'a0_054', 'a1_054', 'a2_054', 'a3_054', 'a4_054', 'dfdt0_054', 'dfdt1_054', 'dfdt2_054', 'dfdt3_054', 'dfdt4_054', 'ptd', 'temperature', 'em', 'start_time', 'end_time', 'fwhm18', 'decay18', 't_s18', 't_e18', 'fwhm054', 'decay054', 't_s054', 't_e054'])"
      ]
     },
     "execution_count": 235,
     "metadata": {},
     "output_type": "execute_result"
    }
   ],
   "source": [
    "data.keys()"
   ]
  },
  {
   "cell_type": "code",
   "execution_count": 236,
   "id": "446fd40f",
   "metadata": {},
   "outputs": [],
   "source": [
    "data[\"start_time\"] = data[\"start_time\"].astype(str)\n",
    "data[\"end_time\"] = data[\"end_time\"].astype(str)\n",
    "\n",
    "data = pd.DataFrame(data)\n",
    "flare_times = [datetime.datetime.strptime(d, \"%d-%b-%y %H:%M:%S.%f\") for d in data[\"start_time\"].astype(str)]\n",
    "data[\"start_time_datetime\"] = flare_times\n",
    "data[\"matchtime\"] = data[\"start_time_datetime\"]#data.start_time_datetime.dt.strftime(\"%Y-%m-%d %H:%M\")\n"
   ]
  },
  {
   "cell_type": "code",
   "execution_count": 237,
   "id": "da8b8a92",
   "metadata": {},
   "outputs": [
    {
     "data": {
      "text/plain": [
       "0      2010-09-04 06:50:00\n",
       "1      2010-09-04 15:45:00\n",
       "2      2010-09-04 21:54:00\n",
       "3      2010-09-05 01:09:00\n",
       "4      2010-09-05 02:01:00\n",
       "               ...        \n",
       "7050   2019-07-06 05:58:00\n",
       "7051   2019-07-06 21:07:00\n",
       "7052   2019-12-13 08:10:00\n",
       "7053   2019-12-20 10:44:00\n",
       "7054   2020-01-24 19:37:00\n",
       "Name: matchtime, Length: 7055, dtype: datetime64[ns]"
      ]
     },
     "execution_count": 237,
     "metadata": {},
     "output_type": "execute_result"
    }
   ],
   "source": [
    "data[\"matchtime\"]"
   ]
  },
  {
   "cell_type": "code",
   "execution_count": 238,
   "id": "a4243410",
   "metadata": {},
   "outputs": [
    {
     "data": {
      "image/png": "[encoded data removed]",
      "text/plain": [
       "<Figure size 432x288 with 1 Axes>"
      ]
     },
     "metadata": {
      "needs_background": "light"
     },
     "output_type": "display_data"
    }
   ],
   "source": [
    "_ = plt.hist(np.log10(data[\"f2_18\"]))\n"
   ]
  },
  {
   "cell_type": "markdown",
   "id": "072df561",
   "metadata": {},
   "source": [
    "`f2_18` is the peak flux value"
   ]
  },
  {
   "cell_type": "code",
   "execution_count": 239,
   "id": "6ee23b87",
   "metadata": {},
   "outputs": [
    {
     "data": {
      "text/plain": [
       "0       6.976200e-07\n",
       "1       4.694000e-07\n",
       "2       3.487300e-07\n",
       "3       4.090600e-07\n",
       "4       4.090600e-07\n",
       "            ...     \n",
       "7050    2.720818e-08\n",
       "7051    4.675466e-07\n",
       "7052    2.167161e-08\n",
       "7053    3.147818e-08\n",
       "7054    1.024978e-07\n",
       "Name: f2_18, Length: 7055, dtype: float32"
      ]
     },
     "execution_count": 239,
     "metadata": {},
     "output_type": "execute_result"
    }
   ],
   "source": [
    "data[\"f2_18\"]"
   ]
  },
  {
   "cell_type": "code",
   "execution_count": 240,
   "id": "18f8be88",
   "metadata": {},
   "outputs": [
    {
     "data": {
      "text/plain": [
       "'C3.5'"
      ]
     },
     "execution_count": 240,
     "metadata": {},
     "output_type": "execute_result"
    }
   ],
   "source": [
    "\"C\"+str(round(data[\"f2_18\"][2]/1e-7, 1))"
   ]
  },
  {
   "cell_type": "code",
   "execution_count": 241,
   "id": "042af438",
   "metadata": {},
   "outputs": [],
   "source": [
    "def map_values(x):\n",
    "    if x>=1e-4:\n",
    "        return \"X\"+str(round(x/1e-4, 1))\n",
    "    elif x<1e-4 and x>=1e-5:\n",
    "        return \"M\"+str(round(x/1e-5, 1))        \n",
    "    elif x<1e-5 and x>=1e-6:\n",
    "        return \"C\"+str(round(x/1e-6, 1))        \n",
    "    elif x<1e-6 and x>=1e-7:\n",
    "        return \"B\"+str(round(x/1e-7, 1))        \n",
    "    elif x<1e-7 and x>=1e-8:\n",
    "        return \"A\"+str(round(x/1e-8, 1))\n",
    "    else:\n",
    "        print(\"issue\")\n",
    "        \n",
    "        \n",
    "    "
   ]
  },
  {
   "cell_type": "code",
   "execution_count": 242,
   "id": "21aa8d7d",
   "metadata": {},
   "outputs": [],
   "source": [
    "data[\"goes_class\"] = data[\"f2_18\"].map(map_values)\n",
    "data[\"goes_class_ind\"] = [x[0] for x in data.goes_class]"
   ]
  },
  {
   "cell_type": "code",
   "execution_count": 243,
   "id": "9a15fe58",
   "metadata": {},
   "outputs": [
    {
     "data": {
      "text/plain": [
       "C    4602\n",
       "B    1315\n",
       "M    1053\n",
       "X      78\n",
       "A       7\n",
       "Name: goes_class_ind, dtype: int64"
      ]
     },
     "execution_count": 243,
     "metadata": {},
     "output_type": "execute_result"
    }
   ],
   "source": [
    "data[\"goes_class_ind\"].value_counts()"
   ]
  },
  {
   "cell_type": "code",
   "execution_count": 244,
   "id": "d1184cbb",
   "metadata": {},
   "outputs": [
    {
     "data": {
      "text/plain": [
       "Timestamp('2010-09-04 06:50:00')"
      ]
     },
     "execution_count": 244,
     "metadata": {},
     "output_type": "execute_result"
    }
   ],
   "source": [
    "data[\"start_time_datetime\"].min()"
   ]
  },
  {
   "cell_type": "code",
   "execution_count": 245,
   "id": "e15bbd5a",
   "metadata": {},
   "outputs": [],
   "source": [
    "data_x = data[data[\"goes_class_ind\"].isin([\"X\"])]"
   ]
  },
  {
   "cell_type": "code",
   "execution_count": 246,
   "id": "7c914680",
   "metadata": {},
   "outputs": [
    {
     "data": {
      "text/html": [
       "<div>\n",
       "<style scoped>\n",
       "    .dataframe tbody tr th:only-of-type {\n",
       "        vertical-align: middle;\n",
       "    }\n",
       "\n",
       "    .dataframe tbody tr th {\n",
       "        vertical-align: top;\n",
       "    }\n",
       "\n",
       "    .dataframe thead th {\n",
       "        text-align: right;\n",
       "    }\n",
       "</style>\n",
       "<table border=\"1\" class=\"dataframe\">\n",
       "  <thead>\n",
       "    <tr style=\"text-align: right;\">\n",
       "      <th></th>\n",
       "      <th>f2_18</th>\n",
       "      <th>goes_class</th>\n",
       "    </tr>\n",
       "  </thead>\n",
       "  <tbody>\n",
       "    <tr>\n",
       "      <th>370</th>\n",
       "      <td>0.000232</td>\n",
       "      <td>X2.3</td>\n",
       "    </tr>\n",
       "    <tr>\n",
       "      <th>495</th>\n",
       "      <td>0.000158</td>\n",
       "      <td>X1.6</td>\n",
       "    </tr>\n",
       "    <tr>\n",
       "      <th>921</th>\n",
       "      <td>0.000739</td>\n",
       "      <td>X7.4</td>\n",
       "    </tr>\n",
       "    <tr>\n",
       "      <th>922</th>\n",
       "      <td>0.000739</td>\n",
       "      <td>X7.4</td>\n",
       "    </tr>\n",
       "    <tr>\n",
       "      <th>1003</th>\n",
       "      <td>0.000216</td>\n",
       "      <td>X2.2</td>\n",
       "    </tr>\n",
       "    <tr>\n",
       "      <th>...</th>\n",
       "      <td>...</td>\n",
       "      <td>...</td>\n",
       "    </tr>\n",
       "    <tr>\n",
       "      <th>6757</th>\n",
       "      <td>0.000145</td>\n",
       "      <td>X1.5</td>\n",
       "    </tr>\n",
       "    <tr>\n",
       "      <th>6758</th>\n",
       "      <td>0.000201</td>\n",
       "      <td>X2.0</td>\n",
       "    </tr>\n",
       "    <tr>\n",
       "      <th>6768</th>\n",
       "      <td>0.000118</td>\n",
       "      <td>X1.2</td>\n",
       "    </tr>\n",
       "    <tr>\n",
       "      <th>6769</th>\n",
       "      <td>0.000118</td>\n",
       "      <td>X1.2</td>\n",
       "    </tr>\n",
       "    <tr>\n",
       "      <th>6783</th>\n",
       "      <td>0.001191</td>\n",
       "      <td>X11.9</td>\n",
       "    </tr>\n",
       "  </tbody>\n",
       "</table>\n",
       "<p>78 rows × 2 columns</p>\n",
       "</div>"
      ],
      "text/plain": [
       "         f2_18 goes_class\n",
       "370   0.000232       X2.3\n",
       "495   0.000158       X1.6\n",
       "921   0.000739       X7.4\n",
       "922   0.000739       X7.4\n",
       "1003  0.000216       X2.2\n",
       "...        ...        ...\n",
       "6757  0.000145       X1.5\n",
       "6758  0.000201       X2.0\n",
       "6768  0.000118       X1.2\n",
       "6769  0.000118       X1.2\n",
       "6783  0.001191      X11.9\n",
       "\n",
       "[78 rows x 2 columns]"
      ]
     },
     "execution_count": 246,
     "metadata": {},
     "output_type": "execute_result"
    }
   ],
   "source": [
    "data_x[[\"f2_18\", \"goes_class\"]]"
   ]
  },
  {
   "cell_type": "code",
   "execution_count": 247,
   "id": "cd854684",
   "metadata": {},
   "outputs": [
    {
     "data": {
      "text/plain": [
       "70"
      ]
     },
     "execution_count": 247,
     "metadata": {},
     "output_type": "execute_result"
    }
   ],
   "source": [
    "np.argmax(data_x[\"f2_18\"])"
   ]
  },
  {
   "cell_type": "code",
   "execution_count": 248,
   "id": "3048cd6a",
   "metadata": {},
   "outputs": [
    {
     "data": {
      "text/plain": [
       "f0_18                                0.000009\n",
       "f1_18                                0.000488\n",
       "f2_18                                0.001351\n",
       "f3_18                                0.001202\n",
       "f4_18                                0.000239\n",
       "t0_18                                  673.78\n",
       "t1_18                                 858.096\n",
       "t2_18                                 1150.95\n",
       "t3_18                                1255.396\n",
       "t4_18                                2330.576\n",
       "a0_18                                     0.0\n",
       "a1_18                                0.011617\n",
       "a2_18                                 0.15738\n",
       "a3_18                                0.224497\n",
       "a4_18                                0.524813\n",
       "dfdt0_18                                  0.0\n",
       "dfdt1_18                             0.000007\n",
       "dfdt2_18                                 -0.0\n",
       "dfdt3_18                            -0.000002\n",
       "dfdt4_18                                 -0.0\n",
       "f0_054                               0.000001\n",
       "f1_054                               0.000192\n",
       "f2_054                               0.000507\n",
       "f3_054                               0.000427\n",
       "f4_054                               0.000062\n",
       "t0_054                                677.873\n",
       "t1_054                                  854.0\n",
       "t2_054                                1130.47\n",
       "t3_054                               1224.676\n",
       "t4_054                               2242.516\n",
       "a0_054                                    0.0\n",
       "a1_054                               0.004179\n",
       "a2_054                               0.056357\n",
       "a3_054                               0.078634\n",
       "a4_054                               0.171057\n",
       "dfdt0_054                                 0.0\n",
       "dfdt1_054                            0.000003\n",
       "dfdt2_054                                 0.0\n",
       "dfdt3_054                           -0.000001\n",
       "dfdt4_054                                -0.0\n",
       "ptd                                     20.48\n",
       "temperature                         28.634589\n",
       "em                                  36.574503\n",
       "start_time             06-Sep-17 11:43:00.000\n",
       "end_time               06-Sep-17 13:10:00.000\n",
       "fwhm18                                 729.07\n",
       "decay18                            497.847183\n",
       "t_s18                                  673.78\n",
       "t_e18                                2330.576\n",
       "fwhm054                               632.816\n",
       "decay054                           439.122303\n",
       "t_s054                                677.873\n",
       "t_e054                               2242.516\n",
       "start_time_datetime       2017-09-06 11:43:00\n",
       "matchtime                 2017-09-06 11:43:00\n",
       "goes_class                              X13.5\n",
       "goes_class_ind                              X\n",
       "Name: 6750, dtype: object"
      ]
     },
     "execution_count": 248,
     "metadata": {},
     "output_type": "execute_result"
    }
   ],
   "source": [
    "data_x.iloc[70]"
   ]
  },
  {
   "cell_type": "markdown",
   "id": "f338f83f",
   "metadata": {},
   "source": [
    "Jeff obviously used the new GOES files..."
   ]
  },
  {
   "cell_type": "markdown",
   "id": "e0ee1e87",
   "metadata": {},
   "source": [
    "# Lets now merge flare lists"
   ]
  },
  {
   "cell_type": "code",
   "execution_count": 250,
   "id": "4aa51d86",
   "metadata": {},
   "outputs": [],
   "source": [
    "flare_list = pd.read_csv(\"/Users/laurahayes/ml_project_flares/flare_analysis/goes_flare_list/final_flare_list.csv\")\n",
    "flare_list[\"event_starttime\"] = pd.to_datetime(flare_list[\"event_starttime\"])\n",
    "flare_list[\"tt\"] = [x.total_seconds() for x in flare_list.event_starttime - flare_list.event_starttime[0]]\n",
    "\n",
    "# for flares in which cross midnight to next day\n",
    "flare_list.loc[(pd.to_datetime(flare_list.event_endtime)<flare_list.event_starttime),'event_endtime']=pd.to_datetime(flare_list[\"event_endtime\"]) + datetime.timedelta(days=1)\n",
    "flare_list.loc[(pd.to_datetime(flare_list.event_peaktime)<flare_list.event_starttime),'event_peaktime']=pd.to_datetime(flare_list[\"event_peaktime\"]) + datetime.timedelta(days=1)\n",
    "\n",
    "# drop duplicate records\n",
    "flare_list = flare_list.drop_duplicates(subset=\"event_peaktime\")\n",
    "\n",
    "#tidy up AR numbers\n",
    "flare_list[\"noaa_ar\"] = flare_list[\"noaa_ar\"].replace([\"\\n\",\"\", \"     \"], 0)\n",
    "flare_list[\"noaa_ar\"] = flare_list[\"noaa_ar\"].astype(int)\n",
    "\n",
    "# add column to match with AR data\n",
    "flare_list[\"matchtime\"] = flare_list[\"event_starttime\"]#.dt.strftime(\"%Y-%m-%d %H:%M\")\n",
    "\n",
    "# fix integrated flux\n",
    "flare_list[\"integrated_flux\"] = flare_list[\"integrated_flux\"].replace(['',\"\", \"       \"], 0).astype(float)"
   ]
  },
  {
   "cell_type": "code",
   "execution_count": 251,
   "id": "47d769f5",
   "metadata": {},
   "outputs": [
    {
     "data": {
      "text/plain": [
       "0      2010-01-02 07:09:00\n",
       "1      2010-01-02 14:08:00\n",
       "2      2010-01-02 22:57:00\n",
       "3      2010-01-03 01:17:00\n",
       "4      2010-01-04 03:36:00\n",
       "               ...        \n",
       "8601   2018-05-23 18:03:00\n",
       "8602   2018-05-28 17:04:00\n",
       "8603   2018-06-06 10:44:00\n",
       "8604   2018-06-21 01:09:00\n",
       "8605   2018-07-06 19:41:00\n",
       "Name: matchtime, Length: 8597, dtype: datetime64[ns]"
      ]
     },
     "execution_count": 251,
     "metadata": {},
     "output_type": "execute_result"
    }
   ],
   "source": [
    "flare_list[\"matchtime\"]"
   ]
  },
  {
   "cell_type": "code",
   "execution_count": 252,
   "id": "6b144ea7",
   "metadata": {},
   "outputs": [
    {
     "data": {
      "text/plain": [
       "0      2010-09-04 06:50:00\n",
       "1      2010-09-04 15:45:00\n",
       "2      2010-09-04 21:54:00\n",
       "3      2010-09-05 01:09:00\n",
       "4      2010-09-05 02:01:00\n",
       "               ...        \n",
       "7050   2019-07-06 05:58:00\n",
       "7051   2019-07-06 21:07:00\n",
       "7052   2019-12-13 08:10:00\n",
       "7053   2019-12-20 10:44:00\n",
       "7054   2020-01-24 19:37:00\n",
       "Name: matchtime, Length: 7055, dtype: datetime64[ns]"
      ]
     },
     "execution_count": 252,
     "metadata": {},
     "output_type": "execute_result"
    }
   ],
   "source": [
    "data[\"matchtime\"]"
   ]
  },
  {
   "cell_type": "code",
   "execution_count": 254,
   "id": "5049460a",
   "metadata": {},
   "outputs": [],
   "source": [
    "flare_list = flare_list.set_index(pd.to_datetime(flare_list[\"event_starttime\"]))\n",
    "flare_list.sort_index(inplace=True)"
   ]
  },
  {
   "cell_type": "code",
   "execution_count": 255,
   "id": "5b8efaa3",
   "metadata": {},
   "outputs": [
    {
     "data": {
      "text/plain": [
       "Index(['f0_18', 'f1_18', 'f2_18', 'f3_18', 'f4_18', 't0_18', 't1_18', 't2_18',\n",
       "       't3_18', 't4_18', 'a0_18', 'a1_18', 'a2_18', 'a3_18', 'a4_18',\n",
       "       'dfdt0_18', 'dfdt1_18', 'dfdt2_18', 'dfdt3_18', 'dfdt4_18', 'f0_054',\n",
       "       'f1_054', 'f2_054', 'f3_054', 'f4_054', 't0_054', 't1_054', 't2_054',\n",
       "       't3_054', 't4_054', 'a0_054', 'a1_054', 'a2_054', 'a3_054', 'a4_054',\n",
       "       'dfdt0_054', 'dfdt1_054', 'dfdt2_054', 'dfdt3_054', 'dfdt4_054', 'ptd',\n",
       "       'temperature', 'em', 'start_time', 'end_time', 'fwhm18', 'decay18',\n",
       "       't_s18', 't_e18', 'fwhm054', 'decay054', 't_s054', 't_e054',\n",
       "       'start_time_datetime', 'matchtime', 'goes_class', 'goes_class_ind'],\n",
       "      dtype='object')"
      ]
     },
     "execution_count": 255,
     "metadata": {},
     "output_type": "execute_result"
    }
   ],
   "source": [
    "data.keys()"
   ]
  },
  {
   "cell_type": "code",
   "execution_count": 256,
   "id": "6ae71d2b",
   "metadata": {},
   "outputs": [],
   "source": [
    "cols = [\"decay18\", \"decay054\", \"fwhm18\", \"fwhm054\", \"temperature\", \"em\", \"start_time_datetime\", \"matchtime\"]\n",
    "data2 = data[cols]"
   ]
  },
  {
   "cell_type": "code",
   "execution_count": 257,
   "id": "1256e1a6",
   "metadata": {},
   "outputs": [],
   "source": [
    "data2 = data2.set_index(\"start_time_datetime\")\n",
    "data2.sort_index(inplace=True)"
   ]
  },
  {
   "cell_type": "code",
   "execution_count": null,
   "id": "df81e144",
   "metadata": {},
   "outputs": [],
   "source": []
  },
  {
   "cell_type": "code",
   "execution_count": 273,
   "id": "353fb236",
   "metadata": {},
   "outputs": [],
   "source": [
    "testy = pd.merge_asof(flare_list, data2, on=\"matchtime\", direction=\"nearest\", tolerance=datetime.timedelta(minutes=10))"
   ]
  },
  {
   "cell_type": "code",
   "execution_count": 274,
   "id": "1b6bb07f",
   "metadata": {},
   "outputs": [
    {
     "data": {
      "text/plain": [
       "3567"
      ]
     },
     "execution_count": 274,
     "metadata": {},
     "output_type": "execute_result"
    }
   ],
   "source": [
    "np.sum(testy[\"fwhm18\"].isnull())"
   ]
  },
  {
   "cell_type": "code",
   "execution_count": 275,
   "id": "4f99e297",
   "metadata": {},
   "outputs": [],
   "source": [
    "testy2 = testy[~testy[\"fwhm18\"].isnull()]"
   ]
  },
  {
   "cell_type": "code",
   "execution_count": 276,
   "id": "fe110741",
   "metadata": {},
   "outputs": [
    {
     "data": {
      "text/plain": [
       "C    4380\n",
       "M     605\n",
       "X      45\n",
       "Name: goes_class_ind, dtype: int64"
      ]
     },
     "execution_count": 276,
     "metadata": {},
     "output_type": "execute_result"
    }
   ],
   "source": [
    "testy2[\"goes_class_ind\"].value_counts()"
   ]
  },
  {
   "cell_type": "code",
   "execution_count": 277,
   "id": "fd43e910",
   "metadata": {},
   "outputs": [
    {
     "data": {
      "text/plain": [
       "Index(['event_starttime', 'event_peaktime', 'event_endtime', 'goes_class_ind',\n",
       "       'goes_class', 'goes_class_val', 'integrated_flux', 'noaa_ar',\n",
       "       'position_hgs', 'hgs_lat', 'hgs_lon', 'hpc_x', 'hpc_y', 'tt',\n",
       "       'matchtime', 'decay18', 'decay054', 'fwhm18', 'fwhm054', 'temperature',\n",
       "       'em'],\n",
       "      dtype='object')"
      ]
     },
     "execution_count": 277,
     "metadata": {},
     "output_type": "execute_result"
    }
   ],
   "source": [
    "testy2.keys()"
   ]
  },
  {
   "cell_type": "code",
   "execution_count": 278,
   "id": "bbe19a7e",
   "metadata": {},
   "outputs": [
    {
     "name": "stderr",
     "output_type": "stream",
     "text": [
      "<ipython-input-278-50153727beba>:1: SettingWithCopyWarning: \n",
      "A value is trying to be set on a copy of a slice from a DataFrame.\n",
      "Try using .loc[row_indexer,col_indexer] = value instead\n",
      "\n",
      "See the caveats in the documentation: https://pandas.pydata.org/pandas-docs/stable/user_guide/indexing.html#returning-a-view-versus-a-copy\n",
      "  testy2[\"dur_peak\"] = [x.total_seconds() for x in pd.to_datetime(testy2[\"event_peaktime\"]) - pd.to_datetime(testy2[\"event_starttime\"])]\n",
      "<ipython-input-278-50153727beba>:2: SettingWithCopyWarning: \n",
      "A value is trying to be set on a copy of a slice from a DataFrame.\n",
      "Try using .loc[row_indexer,col_indexer] = value instead\n",
      "\n",
      "See the caveats in the documentation: https://pandas.pydata.org/pandas-docs/stable/user_guide/indexing.html#returning-a-view-versus-a-copy\n",
      "  testy2[\"dur_full\"] = [x.total_seconds() for x in pd.to_datetime(testy2[\"event_endtime\"]) - pd.to_datetime(testy2[\"event_starttime\"])]\n"
     ]
    }
   ],
   "source": [
    "testy2[\"dur_peak\"] = [x.total_seconds() for x in pd.to_datetime(testy2[\"event_peaktime\"]) - pd.to_datetime(testy2[\"event_starttime\"])]\n",
    "testy2[\"dur_full\"] = [x.total_seconds() for x in pd.to_datetime(testy2[\"event_endtime\"]) - pd.to_datetime(testy2[\"event_starttime\"])]\n",
    "\n"
   ]
  },
  {
   "cell_type": "code",
   "execution_count": 279,
   "id": "77d1564c",
   "metadata": {},
   "outputs": [
    {
     "data": {
      "text/plain": [
       "136      420.0\n",
       "137     3900.0\n",
       "138      480.0\n",
       "139      900.0\n",
       "140      360.0\n",
       "         ...  \n",
       "8587     540.0\n",
       "8588    2040.0\n",
       "8590    1020.0\n",
       "8595     540.0\n",
       "8596    3660.0\n",
       "Name: dur_full, Length: 5030, dtype: float64"
      ]
     },
     "execution_count": 279,
     "metadata": {},
     "output_type": "execute_result"
    }
   ],
   "source": [
    "testy2[\"dur_full\"]"
   ]
  },
  {
   "cell_type": "code",
   "execution_count": 286,
   "id": "085ea069",
   "metadata": {},
   "outputs": [
    {
     "data": {
      "image/png": "[encoded data removed]",
      "text/plain": [
       "<Figure size 432x288 with 1 Axes>"
      ]
     },
     "metadata": {
      "needs_background": "light"
     },
     "output_type": "display_data"
    }
   ],
   "source": [
    "_ = plt.hist(np.log10(testy2[\"fwhm18\"]))\n",
    "_ = plt.hist(np.log10(testy2[\"dur_full\"]))\n"
   ]
  },
  {
   "cell_type": "code",
   "execution_count": 281,
   "id": "5eacf211",
   "metadata": {},
   "outputs": [
    {
     "data": {
      "text/plain": [
       "[<matplotlib.lines.Line2D at 0x7fbd224269d0>]"
      ]
     },
     "execution_count": 281,
     "metadata": {},
     "output_type": "execute_result"
    },
    {
     "data": {
      "image/png": "[encoded data removed]",
      "text/plain": [
       "<Figure size 432x288 with 1 Axes>"
      ]
     },
     "metadata": {
      "needs_background": "light"
     },
     "output_type": "display_data"
    }
   ],
   "source": [
    "plt.loglog(testy2.fwhm18, testy2.dur_full, marker='.', ls='', alpha=0.5)"
   ]
  },
  {
   "cell_type": "code",
   "execution_count": 282,
   "id": "71ea9b2c",
   "metadata": {},
   "outputs": [
    {
     "data": {
      "text/plain": [
       "[<matplotlib.lines.Line2D at 0x7fbd05cd6220>]"
      ]
     },
     "execution_count": 282,
     "metadata": {},
     "output_type": "execute_result"
    },
    {
     "data": {
      "image/png": "[encoded data removed]",
      "text/plain": [
       "<Figure size 432x288 with 1 Axes>"
      ]
     },
     "metadata": {
      "needs_background": "light"
     },
     "output_type": "display_data"
    }
   ],
   "source": [
    "plt.plot(testy2.dur_full - testy2.fwhm18)"
   ]
  },
  {
   "cell_type": "code",
   "execution_count": null,
   "id": "063ddccd",
   "metadata": {},
   "outputs": [],
   "source": []
  },
  {
   "cell_type": "code",
   "execution_count": null,
   "id": "e8fab5b2",
   "metadata": {},
   "outputs": [],
   "source": []
  }
 ],
 "metadata": {
  "kernelspec": {
   "display_name": "Python 3",
   "language": "python",
   "name": "python3"
  },
  "language_info": {
   "codemirror_mode": {
    "name": "ipython",
    "version": 3
   },
   "file_extension": ".py",
   "mimetype": "text/x-python",
   "name": "python",
   "nbconvert_exporter": "python",
   "pygments_lexer": "ipython3",
   "version": "3.9.4"
  }
 },
 "nbformat": 4,
 "nbformat_minor": 5
}
