{
 "cells": [
  {
   "cell_type": "code",
   "execution_count": 1,
   "id": "informative-logic",
   "metadata": {},
   "outputs": [],
   "source": [
    "from sunpy.time import parse_time, TimeRange\n",
    "from flarelist_utils import *\n",
    "import pandas as pd \n",
    "import numpy as np\n",
    "import matplotlib.pyplot as plt\n",
    "from matplotlib import dates"
   ]
  },
  {
   "cell_type": "code",
   "execution_count": 2,
   "id": "attempted-discretion",
   "metadata": {},
   "outputs": [],
   "source": [
    "# directory where .txt files are saved to\n",
    "savedir = \"/Users/laurahayes/ml_project_flares/flare_analysis/goes_flare_list/goes_files/\"\n",
    "\n",
    "# final columns of interest to merge lists on\n",
    "final_columns = [\"date\", \"start_time\", \"max_time\", \"end_time\",\n",
    "                 \"goes_class\", \"goes_class_ind\", \"integrated_flux\", \"noaa_ar\", \"goes_sat\"]\n"
   ]
  },
  {
   "cell_type": "code",
   "execution_count": 3,
   "id": "settled-cooler",
   "metadata": {},
   "outputs": [],
   "source": [
    "def merge_ngdc(tstart, tend):\n",
    "    \"\"\"\n",
    "    Read and merge the NGDC yearly files into a single pandas DataFrame\n",
    "\n",
    "    Parameters\n",
    "    ----------\n",
    "    tstart : `str` \n",
    "        start time (yearly date)\n",
    "    tend : `str`\n",
    "        end time (yearly date)\n",
    "\n",
    "    Returns\n",
    "    -------\n",
    "    df_flares : pd.DataFrame merged between tstart and tend with `final_columns` columns.\n",
    "\n",
    "    \"\"\"\n",
    "    files = get_ngdc_reports(TimeRange(tstart, tend), savedir=savedir)\n",
    "    files.sort()\n",
    "\n",
    "    df_flares = read_ngdc_goes_reports(files[0])\n",
    "    for f in files[1:]:\n",
    "        df = read_ngdc_goes_reports(f)\n",
    "        df_flares = df_flares.append(df)\n",
    "\n",
    "    df_flares.reset_index(inplace=True)\n",
    "    df_flares[\"noaa_ar\"] = df_flares[\"noaa_ar\"].replace([\"\\n\",\"\"],  \"     \")\n",
    "    return df_flares[final_columns]\n",
    "\n",
    "\n",
    "def merge_swpc(tstart, tend):\n",
    "    \"\"\"\n",
    "    Read and merge the daily SWPC report files into a single pandas DataFrame\n",
    "\n",
    "    Parameters\n",
    "    ----------\n",
    "    tstart : `str` \n",
    "        start time \n",
    "    tend : `str`\n",
    "        end time \n",
    "\n",
    "    Returns\n",
    "    -------\n",
    "    df_flares : pd.DataFrame merged between `tstart` and `tend` with `final_columns` columns.\n",
    "    \"\"\"\n",
    "    files = get_swpc_reports(TimeRange(tstart, tend), savedir=savedir)\n",
    "    files.sort()\n",
    "\n",
    "    df_flares = read_swpc_reports(files[0])\n",
    "    for f in files[1:]:\n",
    "        df = read_swpc_reports(f)\n",
    "        df_flares = df_flares.append(df)\n",
    "    df_flares.reset_index(inplace=True)\n",
    "    return df_flares[final_columns]\n",
    "\n"
   ]
  },
  {
   "cell_type": "markdown",
   "id": "equivalent-slovakia",
   "metadata": {},
   "source": [
    "## Test flarelists when data is available for overlapping times\n",
    "Lets test for 2016"
   ]
  },
  {
   "cell_type": "code",
   "execution_count": 4,
   "id": "strong-helicopter",
   "metadata": {},
   "outputs": [],
   "source": [
    "test_ngdc = merge_ngdc(\"2016-01-01\", \"2016-12-31\")\n",
    "test_swpc = merge_swpc(\"2016-01-01\", \"2016-12-31\")"
   ]
  },
  {
   "cell_type": "code",
   "execution_count": 5,
   "id": "consecutive-feeling",
   "metadata": {},
   "outputs": [
    {
     "data": {
      "text/html": [
       "<div>\n",
       "<style scoped>\n",
       "    .dataframe tbody tr th:only-of-type {\n",
       "        vertical-align: middle;\n",
       "    }\n",
       "\n",
       "    .dataframe tbody tr th {\n",
       "        vertical-align: top;\n",
       "    }\n",
       "\n",
       "    .dataframe thead th {\n",
       "        text-align: right;\n",
       "    }\n",
       "</style>\n",
       "<table border=\"1\" class=\"dataframe\">\n",
       "  <thead>\n",
       "    <tr style=\"text-align: right;\">\n",
       "      <th></th>\n",
       "      <th>date</th>\n",
       "      <th>start_time</th>\n",
       "      <th>max_time</th>\n",
       "      <th>end_time</th>\n",
       "      <th>goes_class</th>\n",
       "      <th>goes_class_ind</th>\n",
       "      <th>integrated_flux</th>\n",
       "      <th>noaa_ar</th>\n",
       "      <th>goes_sat</th>\n",
       "    </tr>\n",
       "  </thead>\n",
       "  <tbody>\n",
       "    <tr>\n",
       "      <th>0</th>\n",
       "      <td>20160101</td>\n",
       "      <td>0438</td>\n",
       "      <td>0441</td>\n",
       "      <td>0451</td>\n",
       "      <td>B6.2</td>\n",
       "      <td>B</td>\n",
       "      <td>3.6E-04</td>\n",
       "      <td></td>\n",
       "      <td>G15</td>\n",
       "    </tr>\n",
       "    <tr>\n",
       "      <th>1</th>\n",
       "      <td>20160101</td>\n",
       "      <td>0633</td>\n",
       "      <td>0638</td>\n",
       "      <td>0643</td>\n",
       "      <td>C2.3</td>\n",
       "      <td>C</td>\n",
       "      <td>8.4E-04</td>\n",
       "      <td>12473</td>\n",
       "      <td>G15</td>\n",
       "    </tr>\n",
       "    <tr>\n",
       "      <th>2</th>\n",
       "      <td>20160101</td>\n",
       "      <td>0936</td>\n",
       "      <td>0948</td>\n",
       "      <td>0956</td>\n",
       "      <td>C2.4</td>\n",
       "      <td>C</td>\n",
       "      <td>2.0E-03</td>\n",
       "      <td>12473</td>\n",
       "      <td>G15</td>\n",
       "    </tr>\n",
       "    <tr>\n",
       "      <th>3</th>\n",
       "      <td>20160101</td>\n",
       "      <td>1730</td>\n",
       "      <td>1736</td>\n",
       "      <td>1743</td>\n",
       "      <td>B8.4</td>\n",
       "      <td>B</td>\n",
       "      <td>4.7E-04</td>\n",
       "      <td></td>\n",
       "      <td>G15</td>\n",
       "    </tr>\n",
       "    <tr>\n",
       "      <th>4</th>\n",
       "      <td>20160101</td>\n",
       "      <td>2018</td>\n",
       "      <td>2021</td>\n",
       "      <td>2023</td>\n",
       "      <td>B5.4</td>\n",
       "      <td>B</td>\n",
       "      <td>8.8E-05</td>\n",
       "      <td></td>\n",
       "      <td>G15</td>\n",
       "    </tr>\n",
       "  </tbody>\n",
       "</table>\n",
       "</div>"
      ],
      "text/plain": [
       "       date start_time max_time end_time goes_class goes_class_ind  \\\n",
       "0  20160101       0438     0441     0451       B6.2              B   \n",
       "1  20160101       0633     0638     0643       C2.3              C   \n",
       "2  20160101       0936     0948     0956       C2.4              C   \n",
       "3  20160101       1730     1736     1743       B8.4              B   \n",
       "4  20160101       2018     2021     2023       B5.4              B   \n",
       "\n",
       "  integrated_flux noaa_ar goes_sat  \n",
       "0         3.6E-04              G15  \n",
       "1         8.4E-04   12473      G15  \n",
       "2         2.0E-03   12473      G15  \n",
       "3         4.7E-04              G15  \n",
       "4         8.8E-05              G15  "
      ]
     },
     "execution_count": 5,
     "metadata": {},
     "output_type": "execute_result"
    }
   ],
   "source": [
    "test_ngdc.head()"
   ]
  },
  {
   "cell_type": "code",
   "execution_count": 6,
   "id": "chronic-sociology",
   "metadata": {},
   "outputs": [
    {
     "name": "stdout",
     "output_type": "stream",
     "text": [
      "NGDC: 1194 SWPC: 1260 difference: 66\n"
     ]
    }
   ],
   "source": [
    "print(\"NGDC:\", len(test_ngdc), \"SWPC:\", len(test_swpc), \"difference:\", np.abs(len(test_ngdc)-len(test_swpc)))"
   ]
  },
  {
   "cell_type": "code",
   "execution_count": 38,
   "id": "chinese-seeking",
   "metadata": {},
   "outputs": [
    {
     "data": {
      "text/plain": [
       "array(['B', 'C', 'M'], dtype=object)"
      ]
     },
     "execution_count": 38,
     "metadata": {},
     "output_type": "execute_result"
    }
   ],
   "source": [
    "test_swpc[\"goes_class_ind\"].unique()"
   ]
  },
  {
   "cell_type": "code",
   "execution_count": 37,
   "id": "spatial-cologne",
   "metadata": {},
   "outputs": [
    {
     "name": "stdout",
     "output_type": "stream",
     "text": [
      "M flares for SWPC: 16 and NGDC: 16\n",
      "C flares for SWPC: 321 and NGDC: 302, difference = 19\n",
      "B flares for SWPC: 923 and NGDC: 876, difference = 47\n"
     ]
    }
   ],
   "source": [
    "print(\"M flares for SWPC: {:d} and NGDC: {:d}\".format(np.sum(test_swpc[\"goes_class_ind\"].isin([\"M\"])), \n",
    "                                                         np.sum(test_ngdc[\"goes_class_ind\"].isin([\"M\"]))))\n",
    "\n",
    "print(\"C flares for SWPC: {:d} and NGDC: {:d}, difference = {:d}\".format(np.sum(test_swpc[\"goes_class_ind\"].isin([\"C\"])), \n",
    "                                  np.sum(test_ngdc[\"goes_class_ind\"].isin([\"C\"])),\n",
    "                                  np.abs(np.sum(test_ngdc[\"goes_class_ind\"].isin([\"C\"]))- np.sum(test_swpc[\"goes_class_ind\"].isin([\"C\"]))))                                                             )\n",
    "                                                             \n",
    "print(\"B flares for SWPC: {:d} and NGDC: {:d}, difference = {:d}\".format(np.sum(test_swpc[\"goes_class_ind\"].isin([\"B\"])), \n",
    "                    np.sum(test_ngdc[\"goes_class_ind\"].isin([\"B\"])), \n",
    "                    np.abs(np.sum(test_ngdc[\"goes_class_ind\"].isin([\"B\"]))- np.sum(test_swpc[\"goes_class_ind\"].isin([\"B\"]))))                                                             )\n",
    "\n",
    "\n"
   ]
  },
  {
   "cell_type": "code",
   "execution_count": 98,
   "id": "duplicate-colorado",
   "metadata": {},
   "outputs": [],
   "source": [
    "test_swpc[\"datetime_start\"] = pd.to_datetime(test_swpc.date + test_swpc.start_time, format=\"%Y%m%d%H%M\")\n",
    "test_ngdc[\"datetime_start\"] = pd.to_datetime(test_ngdc.date + test_ngdc.start_time, format=\"%Y%m%d%H%M\")\n",
    "\n",
    "test_swpc[\"datetime_peak\"] = pd.to_datetime(test_swpc.date + test_swpc.max_time, format=\"%Y%m%d%H%M\")\n",
    "test_ngdc[\"datetime_peak\"] = pd.to_datetime(test_ngdc.date + test_ngdc.max_time, format=\"%Y%m%d%H%M\")\n",
    "\n",
    "test_swpc[\"datetime_end\"] = pd.to_datetime(test_swpc.date + test_swpc.end_time, format=\"%Y%m%d%H%M\")\n",
    "test_ngdc[\"datetime_end\"] = pd.to_datetime(test_ngdc.date + test_ngdc.end_time, format=\"%Y%m%d%H%M\")"
   ]
  },
  {
   "cell_type": "code",
   "execution_count": 119,
   "id": "bound-librarian",
   "metadata": {},
   "outputs": [
    {
     "name": "stderr",
     "output_type": "stream",
     "text": [
      "/Users/laurahayes/miniconda3/lib/python3.7/site-packages/ipykernel_launcher.py:13: SettingWithCopyWarning: \n",
      "A value is trying to be set on a copy of a slice from a DataFrame.\n",
      "Try using .loc[row_indexer,col_indexer] = value instead\n",
      "\n",
      "See the caveats in the documentation: https://pandas.pydata.org/pandas-docs/stable/user_guide/indexing.html#returning-a-view-versus-a-copy\n",
      "  del sys.path[0]\n"
     ]
    },
    {
     "data": {
      "image/png": "[encoded data removed]",
      "text/plain": [
       "<Figure size 720x432 with 1 Axes>"
      ]
     },
     "metadata": {
      "needs_background": "light"
     },
     "output_type": "display_data"
    }
   ],
   "source": [
    "test_swpc_c = test_swpc[test_swpc[\"goes_class_ind\"].isin([\"X\", \"M\", \"C\"])]\n",
    "\n",
    "def map_cols(x):\n",
    "    if x == \"X\":\n",
    "        return \"r\"\n",
    "    elif x == \"M\":\n",
    "        return \"r\"\n",
    "    elif x == \"C\":\n",
    "        return \"tab:blue\"\n",
    "    \n",
    "    else:\n",
    "        return\n",
    "test_swpc_c[\"colors\"] = test_swpc_c[\"goes_class_ind\"].map(map_cols)\n",
    "fig, ax = plt.subplots(figsize=(10, 6))\n",
    "for i in range(len(test_swpc_c)):\n",
    "    plt.axvline(test_swpc_c[\"datetime_peak\"].iloc[i], lw=0.3, color=test_swpc_c[\"colors\"].iloc[i])\n",
    "plt.xlim(parse_time(\"2016-01-01\").datetime, parse_time(\"2016-12-31\").datetime)\n",
    "ax.xaxis.set_major_formatter(dates.DateFormatter(\"%Y-%m-%d\"))\n",
    "ax.xaxis.set_tick_params(rotation=45)"
   ]
  },
  {
   "cell_type": "code",
   "execution_count": 123,
   "id": "weighted-mortality",
   "metadata": {},
   "outputs": [
    {
     "data": {
      "text/plain": [
       "Timestamp('2016-01-01 06:33:00')"
      ]
     },
     "execution_count": 123,
     "metadata": {},
     "output_type": "execute_result"
    }
   ],
   "source": [
    "test_swpc_c[\"datetime_start\"].iloc[0]"
   ]
  },
  {
   "cell_type": "code",
   "execution_count": 133,
   "id": "agricultural-cartoon",
   "metadata": {},
   "outputs": [
    {
     "data": {
      "text/plain": [
       "2.3"
      ]
     },
     "execution_count": 133,
     "metadata": {},
     "output_type": "execute_result"
    }
   ],
   "source": [
    "float(test_swpc_c[\"goes_class\"].iloc[0][1:])"
   ]
  },
  {
   "cell_type": "code",
   "execution_count": 197,
   "id": "center-calgary",
   "metadata": {},
   "outputs": [
    {
     "data": {
      "text/plain": [
       "337"
      ]
     },
     "execution_count": 197,
     "metadata": {},
     "output_type": "execute_result"
    }
   ],
   "source": [
    "len(test_swpc_c)"
   ]
  },
  {
   "cell_type": "code",
   "execution_count": 134,
   "id": "metropolitan-china",
   "metadata": {},
   "outputs": [],
   "source": [
    "def get_goes_class(x):\n",
    "    if x[0]==\"C\":\n",
    "        return float(x[1:])*1e-6\n",
    "    elif x[0] == \"M\":\n",
    "        return float(x[1:])*(1e-5)\n",
    "    elif x[0] == \"X\":\n",
    "        return float(x[1:])*(1e-4)\n",
    "    else:\n",
    "        return"
   ]
  },
  {
   "cell_type": "code",
   "execution_count": 136,
   "id": "retained-roller",
   "metadata": {},
   "outputs": [
    {
     "name": "stderr",
     "output_type": "stream",
     "text": [
      "/Users/laurahayes/miniconda3/lib/python3.7/site-packages/ipykernel_launcher.py:1: SettingWithCopyWarning: \n",
      "A value is trying to be set on a copy of a slice from a DataFrame.\n",
      "Try using .loc[row_indexer,col_indexer] = value instead\n",
      "\n",
      "See the caveats in the documentation: https://pandas.pydata.org/pandas-docs/stable/user_guide/indexing.html#returning-a-view-versus-a-copy\n",
      "  \"\"\"Entry point for launching an IPython kernel.\n"
     ]
    }
   ],
   "source": [
    "test_swpc_c[\"goes_val\"] = test_swpc_c[\"goes_class\"].map(get_goes_class)"
   ]
  },
  {
   "cell_type": "code",
   "execution_count": 140,
   "id": "outdoor-stretch",
   "metadata": {},
   "outputs": [
    {
     "data": {
      "text/plain": [
       "array([2.3e-06, 2.4e-06, 2.7e-06, 2.3e-05, 1.8e-06, 1.0e-06, 2.8e-06,\n",
       "       1.7e-06, 1.1e-06, 1.3e-06, 2.9e-06, 1.4e-06, 5.3e-06, 9.6e-06,\n",
       "       3.3e-06, 2.0e-06, 3.5e-06, 1.2e-06, 1.6e-06, 2.1e-06, 3.6e-06,\n",
       "       5.1e-06, 3.0e-06, 1.5e-06, 2.6e-06, 8.9e-06, 1.0e-05, 6.8e-06,\n",
       "       1.8e-05, 2.5e-06, 3.4e-06, 6.9e-06, 3.9e-06, 5.2e-06, 1.1e-05,\n",
       "       4.2e-06, 2.2e-06, 4.1e-06, 1.9e-06, 9.4e-06, 7.4e-06, 4.6e-06,\n",
       "       7.2e-06, 3.7e-06, 5.8e-06, 6.7e-05, 4.8e-06, 4.9e-06, 3.2e-06,\n",
       "       6.5e-06, 8.6e-06, 6.6e-06, 4.4e-06, 1.2e-05, 9.1e-06, 5.0e-05,\n",
       "       7.6e-05, 5.5e-05, 2.0e-05, 1.9e-05, 1.3e-05, 8.5e-06, 5.6e-06,\n",
       "       3.1e-06, 7.5e-06, 6.0e-06, 4.0e-06])"
      ]
     },
     "execution_count": 140,
     "metadata": {},
     "output_type": "execute_result"
    }
   ],
   "source": [
    "test_swpc_c[\"goes_val\"].unique()"
   ]
  },
  {
   "cell_type": "code",
   "execution_count": 169,
   "id": "respective-berkeley",
   "metadata": {},
   "outputs": [
    {
     "data": {
      "image/png": "[encoded data removed]",
      "text/plain": [
       "<Figure size 432x288 with 1 Axes>"
      ]
     },
     "metadata": {
      "needs_background": "light"
     },
     "output_type": "display_data"
    }
   ],
   "source": [
    "plt.plot(test_swpc_c[\"datetime_peak\"], test_swpc_c[\"goes_val\"], marker=\".\", ls=\"\", alpha=0.3)\n",
    "plt.yscale(\"log\")"
   ]
  },
  {
   "cell_type": "code",
   "execution_count": 164,
   "id": "median-twelve",
   "metadata": {},
   "outputs": [
    {
     "data": {
      "image/png": "[encoded data removed]",
      "text/plain": [
       "<Figure size 432x288 with 1 Axes>"
      ]
     },
     "metadata": {
      "needs_background": "light"
     },
     "output_type": "display_data"
    }
   ],
   "source": [
    "%matplotlib inline\n",
    "for i in range(len(test_swpc_c)):\n",
    "    plt.plot([test_swpc_c[\"datetime_start\"].iloc[i], test_swpc_c[\"datetime_end\"].iloc[i]], \n",
    "             [test_swpc_c[\"goes_val\"].iloc[i], test_swpc_c[\"goes_val\"].iloc[i]])\n",
    "    plt.axvline(test_swpc_c[\"datetime_peak\"].iloc[i], alpha=0.01)\n",
    "plt.yscale(\"log\")"
   ]
  },
  {
   "cell_type": "code",
   "execution_count": 157,
   "id": "realistic-moldova",
   "metadata": {},
   "outputs": [],
   "source": [
    "test_swpc_c = test_swpc_c.sort_values(by=\"datetime_start\")"
   ]
  },
  {
   "cell_type": "code",
   "execution_count": 149,
   "id": "incorrect-evidence",
   "metadata": {},
   "outputs": [
    {
     "data": {
      "image/png": "[encoded data removed]",
      "text/plain": [
       "<Figure size 720x576 with 1 Axes>"
      ]
     },
     "metadata": {
      "needs_background": "light"
     },
     "output_type": "display_data"
    }
   ],
   "source": [
    "fig, ax = plt.subplots(figsize=(10, 8))\n",
    "for i in range(len(test_swpc_c)):\n",
    "    try:\n",
    "        plt.hlines(y = test_swpc_c[\"goes_val\"].iloc[i], \n",
    "                   xmin = test_swpc_c[\"datetime_start\"].iloc[i], \n",
    "                   xmax = test_swpc_c[\"datetime_end\"].iloc[i])\n",
    "        plt.axvline(test_swpc_c[\"datetime_peak\"].iloc[i], lw=0.1)\n",
    "    except:\n",
    "        print(test_swpc_c.iloc[i])\n",
    "plt.yscale(\"log\")"
   ]
  },
  {
   "cell_type": "code",
   "execution_count": 55,
   "id": "practical-stockholm",
   "metadata": {},
   "outputs": [
    {
     "data": {
      "text/plain": [
       "6900.0"
      ]
     },
     "execution_count": 55,
     "metadata": {},
     "output_type": "execute_result"
    }
   ],
   "source": [
    "(test_swpc[\"datetime\"][1] - test_swpc[\"datetime\"][0]).total_seconds()"
   ]
  },
  {
   "cell_type": "code",
   "execution_count": 71,
   "id": "royal-forwarding",
   "metadata": {},
   "outputs": [
    {
     "name": "stdout",
     "output_type": "stream",
     "text": [
      "swpc:  60.0\n"
     ]
    }
   ],
   "source": [
    "dtt = [d.total_seconds() for d in test_swpc[\"datetime\"] - test_swpc[\"datetime\"].shift()]\n",
    "print(\"swpc: \", np.nanmin(dtt))"
   ]
  },
  {
   "cell_type": "code",
   "execution_count": 72,
   "id": "little-garden",
   "metadata": {},
   "outputs": [
    {
     "name": "stdout",
     "output_type": "stream",
     "text": [
      "swpc:  60.0\n"
     ]
    }
   ],
   "source": [
    "dtt = [d.total_seconds() for d in test_ngdc[\"datetime\"] - test_ngdc[\"datetime\"].shift()]\n",
    "print(\"swpc: \", np.nanmin(dtt))"
   ]
  },
  {
   "cell_type": "code",
   "execution_count": 73,
   "id": "bigger-relaxation",
   "metadata": {},
   "outputs": [
    {
     "data": {
      "text/html": [
       "<div>\n",
       "<style scoped>\n",
       "    .dataframe tbody tr th:only-of-type {\n",
       "        vertical-align: middle;\n",
       "    }\n",
       "\n",
       "    .dataframe tbody tr th {\n",
       "        vertical-align: top;\n",
       "    }\n",
       "\n",
       "    .dataframe thead th {\n",
       "        text-align: right;\n",
       "    }\n",
       "</style>\n",
       "<table border=\"1\" class=\"dataframe\">\n",
       "  <thead>\n",
       "    <tr style=\"text-align: right;\">\n",
       "      <th></th>\n",
       "      <th>date_x</th>\n",
       "      <th>start_time_x</th>\n",
       "      <th>max_time_x</th>\n",
       "      <th>end_time_x</th>\n",
       "      <th>goes_class_x</th>\n",
       "      <th>goes_class_ind_x</th>\n",
       "      <th>integrated_flux_x</th>\n",
       "      <th>noaa_ar_x</th>\n",
       "      <th>goes_sat_x</th>\n",
       "      <th>full_date</th>\n",
       "      <th>...</th>\n",
       "      <th>date_y</th>\n",
       "      <th>start_time_y</th>\n",
       "      <th>max_time_y</th>\n",
       "      <th>end_time_y</th>\n",
       "      <th>goes_class_y</th>\n",
       "      <th>goes_class_ind_y</th>\n",
       "      <th>integrated_flux_y</th>\n",
       "      <th>noaa_ar_y</th>\n",
       "      <th>goes_sat_y</th>\n",
       "      <th>datetime_y</th>\n",
       "    </tr>\n",
       "  </thead>\n",
       "  <tbody>\n",
       "    <tr>\n",
       "      <th>0</th>\n",
       "      <td>20160101</td>\n",
       "      <td>0438</td>\n",
       "      <td>0441</td>\n",
       "      <td>0451</td>\n",
       "      <td>B6.2</td>\n",
       "      <td>B</td>\n",
       "      <td>3.6E-04</td>\n",
       "      <td>12477</td>\n",
       "      <td>G15</td>\n",
       "      <td>20160101 0438</td>\n",
       "      <td>...</td>\n",
       "      <td>20160101</td>\n",
       "      <td>0438</td>\n",
       "      <td>0441</td>\n",
       "      <td>0451</td>\n",
       "      <td>B6.2</td>\n",
       "      <td>B</td>\n",
       "      <td>3.6E-04</td>\n",
       "      <td></td>\n",
       "      <td>G15</td>\n",
       "      <td>2016-01-01 04:38:00</td>\n",
       "    </tr>\n",
       "    <tr>\n",
       "      <th>1</th>\n",
       "      <td>20160101</td>\n",
       "      <td>0633</td>\n",
       "      <td>0638</td>\n",
       "      <td>0643</td>\n",
       "      <td>C2.3</td>\n",
       "      <td>C</td>\n",
       "      <td>8.4E-04</td>\n",
       "      <td>12473</td>\n",
       "      <td>G15</td>\n",
       "      <td>20160101 0633</td>\n",
       "      <td>...</td>\n",
       "      <td>20160101</td>\n",
       "      <td>0633</td>\n",
       "      <td>0638</td>\n",
       "      <td>0643</td>\n",
       "      <td>C2.3</td>\n",
       "      <td>C</td>\n",
       "      <td>8.4E-04</td>\n",
       "      <td>12473</td>\n",
       "      <td>G15</td>\n",
       "      <td>2016-01-01 06:33:00</td>\n",
       "    </tr>\n",
       "    <tr>\n",
       "      <th>2</th>\n",
       "      <td>20160101</td>\n",
       "      <td>0936</td>\n",
       "      <td>0948</td>\n",
       "      <td>0956</td>\n",
       "      <td>C2.4</td>\n",
       "      <td>C</td>\n",
       "      <td>2.0E-03</td>\n",
       "      <td>12473</td>\n",
       "      <td>G15</td>\n",
       "      <td>20160101 0936</td>\n",
       "      <td>...</td>\n",
       "      <td>20160101</td>\n",
       "      <td>0936</td>\n",
       "      <td>0948</td>\n",
       "      <td>0956</td>\n",
       "      <td>C2.4</td>\n",
       "      <td>C</td>\n",
       "      <td>2.0E-03</td>\n",
       "      <td>12473</td>\n",
       "      <td>G15</td>\n",
       "      <td>2016-01-01 09:36:00</td>\n",
       "    </tr>\n",
       "    <tr>\n",
       "      <th>3</th>\n",
       "      <td>20160101</td>\n",
       "      <td>1730</td>\n",
       "      <td>1736</td>\n",
       "      <td>1743</td>\n",
       "      <td>B8.4</td>\n",
       "      <td>B</td>\n",
       "      <td>4.7E-04</td>\n",
       "      <td>12473</td>\n",
       "      <td>G15</td>\n",
       "      <td>20160101 1730</td>\n",
       "      <td>...</td>\n",
       "      <td>20160101</td>\n",
       "      <td>1730</td>\n",
       "      <td>1736</td>\n",
       "      <td>1743</td>\n",
       "      <td>B8.4</td>\n",
       "      <td>B</td>\n",
       "      <td>4.7E-04</td>\n",
       "      <td></td>\n",
       "      <td>G15</td>\n",
       "      <td>2016-01-01 17:30:00</td>\n",
       "    </tr>\n",
       "    <tr>\n",
       "      <th>4</th>\n",
       "      <td>20160101</td>\n",
       "      <td>2018</td>\n",
       "      <td>2021</td>\n",
       "      <td>2023</td>\n",
       "      <td>B5.5</td>\n",
       "      <td>B</td>\n",
       "      <td>8.8E-05</td>\n",
       "      <td>12473</td>\n",
       "      <td>G15</td>\n",
       "      <td>20160101 2018</td>\n",
       "      <td>...</td>\n",
       "      <td>20160101</td>\n",
       "      <td>2018</td>\n",
       "      <td>2021</td>\n",
       "      <td>2023</td>\n",
       "      <td>B5.4</td>\n",
       "      <td>B</td>\n",
       "      <td>8.8E-05</td>\n",
       "      <td></td>\n",
       "      <td>G15</td>\n",
       "      <td>2016-01-01 20:18:00</td>\n",
       "    </tr>\n",
       "    <tr>\n",
       "      <th>...</th>\n",
       "      <td>...</td>\n",
       "      <td>...</td>\n",
       "      <td>...</td>\n",
       "      <td>...</td>\n",
       "      <td>...</td>\n",
       "      <td>...</td>\n",
       "      <td>...</td>\n",
       "      <td>...</td>\n",
       "      <td>...</td>\n",
       "      <td>...</td>\n",
       "      <td>...</td>\n",
       "      <td>...</td>\n",
       "      <td>...</td>\n",
       "      <td>...</td>\n",
       "      <td>...</td>\n",
       "      <td>...</td>\n",
       "      <td>...</td>\n",
       "      <td>...</td>\n",
       "      <td>...</td>\n",
       "      <td>...</td>\n",
       "      <td>...</td>\n",
       "    </tr>\n",
       "    <tr>\n",
       "      <th>1189</th>\n",
       "      <td>20161229</td>\n",
       "      <td>2011</td>\n",
       "      <td>2015</td>\n",
       "      <td>2020</td>\n",
       "      <td>B1.3</td>\n",
       "      <td>B</td>\n",
       "      <td>4.9E-05</td>\n",
       "      <td>12619</td>\n",
       "      <td>G15</td>\n",
       "      <td>20161229 2011</td>\n",
       "      <td>...</td>\n",
       "      <td>20161229</td>\n",
       "      <td>2011</td>\n",
       "      <td>2015</td>\n",
       "      <td>2020</td>\n",
       "      <td>B1.3</td>\n",
       "      <td>B</td>\n",
       "      <td>4.9E-05</td>\n",
       "      <td></td>\n",
       "      <td>G15</td>\n",
       "      <td>2016-12-29 20:11:00</td>\n",
       "    </tr>\n",
       "    <tr>\n",
       "      <th>1190</th>\n",
       "      <td>20161230</td>\n",
       "      <td>0130</td>\n",
       "      <td>0133</td>\n",
       "      <td>0136</td>\n",
       "      <td>B1.0</td>\n",
       "      <td>B</td>\n",
       "      <td>2.2E-05</td>\n",
       "      <td>12619</td>\n",
       "      <td>G15</td>\n",
       "      <td>20161230 0130</td>\n",
       "      <td>...</td>\n",
       "      <td>20161230</td>\n",
       "      <td>0130</td>\n",
       "      <td>0133</td>\n",
       "      <td>0136</td>\n",
       "      <td>B1.0</td>\n",
       "      <td>B</td>\n",
       "      <td>2.2E-05</td>\n",
       "      <td></td>\n",
       "      <td>G15</td>\n",
       "      <td>2016-12-30 01:30:00</td>\n",
       "    </tr>\n",
       "    <tr>\n",
       "      <th>1191</th>\n",
       "      <td>20161230</td>\n",
       "      <td>1222</td>\n",
       "      <td>1229</td>\n",
       "      <td>1239</td>\n",
       "      <td>B2.2</td>\n",
       "      <td>B</td>\n",
       "      <td>1.7E-04</td>\n",
       "      <td>12621</td>\n",
       "      <td>G15</td>\n",
       "      <td>20161230 1222</td>\n",
       "      <td>...</td>\n",
       "      <td>20161230</td>\n",
       "      <td>1222</td>\n",
       "      <td>1229</td>\n",
       "      <td>1239</td>\n",
       "      <td>B2.2</td>\n",
       "      <td>B</td>\n",
       "      <td>1.7E-04</td>\n",
       "      <td></td>\n",
       "      <td>G15</td>\n",
       "      <td>2016-12-30 12:22:00</td>\n",
       "    </tr>\n",
       "    <tr>\n",
       "      <th>1192</th>\n",
       "      <td>20161231</td>\n",
       "      <td>0132</td>\n",
       "      <td>0350</td>\n",
       "      <td>0417</td>\n",
       "      <td>B2.4</td>\n",
       "      <td>B</td>\n",
       "      <td>2.1E-03</td>\n",
       "      <td></td>\n",
       "      <td>G15</td>\n",
       "      <td>20161231 0132</td>\n",
       "      <td>...</td>\n",
       "      <td>20161231</td>\n",
       "      <td>0132</td>\n",
       "      <td>0350</td>\n",
       "      <td>0417</td>\n",
       "      <td>B2.3</td>\n",
       "      <td>B</td>\n",
       "      <td>2.1E-03</td>\n",
       "      <td></td>\n",
       "      <td>G15</td>\n",
       "      <td>2016-12-31 01:32:00</td>\n",
       "    </tr>\n",
       "    <tr>\n",
       "      <th>1193</th>\n",
       "      <td>20161231</td>\n",
       "      <td>0738</td>\n",
       "      <td>0812</td>\n",
       "      <td>0836</td>\n",
       "      <td>B1.8</td>\n",
       "      <td>B</td>\n",
       "      <td>4.9E-04</td>\n",
       "      <td></td>\n",
       "      <td>G15</td>\n",
       "      <td>20161231 0738</td>\n",
       "      <td>...</td>\n",
       "      <td>20161231</td>\n",
       "      <td>0738</td>\n",
       "      <td>0812</td>\n",
       "      <td>0836</td>\n",
       "      <td>B1.8</td>\n",
       "      <td>B</td>\n",
       "      <td>4.9E-04</td>\n",
       "      <td></td>\n",
       "      <td>G15</td>\n",
       "      <td>2016-12-31 07:38:00</td>\n",
       "    </tr>\n",
       "  </tbody>\n",
       "</table>\n",
       "<p>1194 rows × 21 columns</p>\n",
       "</div>"
      ],
      "text/plain": [
       "        date_x start_time_x max_time_x end_time_x goes_class_x  \\\n",
       "0     20160101         0438       0441       0451         B6.2   \n",
       "1     20160101         0633       0638       0643         C2.3   \n",
       "2     20160101         0936       0948       0956         C2.4   \n",
       "3     20160101         1730       1736       1743         B8.4   \n",
       "4     20160101         2018       2021       2023         B5.5   \n",
       "...        ...          ...        ...        ...          ...   \n",
       "1189  20161229         2011       2015       2020         B1.3   \n",
       "1190  20161230         0130       0133       0136         B1.0   \n",
       "1191  20161230         1222       1229       1239         B2.2   \n",
       "1192  20161231         0132       0350       0417         B2.4   \n",
       "1193  20161231         0738       0812       0836         B1.8   \n",
       "\n",
       "     goes_class_ind_x integrated_flux_x noaa_ar_x goes_sat_x      full_date  \\\n",
       "0                   B           3.6E-04     12477        G15  20160101 0438   \n",
       "1                   C           8.4E-04     12473        G15  20160101 0633   \n",
       "2                   C           2.0E-03     12473        G15  20160101 0936   \n",
       "3                   B           4.7E-04     12473        G15  20160101 1730   \n",
       "4                   B           8.8E-05     12473        G15  20160101 2018   \n",
       "...               ...               ...       ...        ...            ...   \n",
       "1189                B           4.9E-05     12619        G15  20161229 2011   \n",
       "1190                B           2.2E-05     12619        G15  20161230 0130   \n",
       "1191                B           1.7E-04     12621        G15  20161230 1222   \n",
       "1192                B           2.1E-03                  G15  20161231 0132   \n",
       "1193                B           4.9E-04                  G15  20161231 0738   \n",
       "\n",
       "      ...    date_y start_time_y max_time_y end_time_y goes_class_y  \\\n",
       "0     ...  20160101         0438       0441       0451         B6.2   \n",
       "1     ...  20160101         0633       0638       0643         C2.3   \n",
       "2     ...  20160101         0936       0948       0956         C2.4   \n",
       "3     ...  20160101         1730       1736       1743         B8.4   \n",
       "4     ...  20160101         2018       2021       2023         B5.4   \n",
       "...   ...       ...          ...        ...        ...          ...   \n",
       "1189  ...  20161229         2011       2015       2020         B1.3   \n",
       "1190  ...  20161230         0130       0133       0136         B1.0   \n",
       "1191  ...  20161230         1222       1229       1239         B2.2   \n",
       "1192  ...  20161231         0132       0350       0417         B2.3   \n",
       "1193  ...  20161231         0738       0812       0836         B1.8   \n",
       "\n",
       "     goes_class_ind_y integrated_flux_y noaa_ar_y goes_sat_y  \\\n",
       "0                   B           3.6E-04                  G15   \n",
       "1                   C           8.4E-04     12473        G15   \n",
       "2                   C           2.0E-03     12473        G15   \n",
       "3                   B           4.7E-04                  G15   \n",
       "4                   B           8.8E-05                  G15   \n",
       "...               ...               ...       ...        ...   \n",
       "1189                B           4.9E-05                  G15   \n",
       "1190                B           2.2E-05                  G15   \n",
       "1191                B           1.7E-04                  G15   \n",
       "1192                B           2.1E-03                  G15   \n",
       "1193                B           4.9E-04                  G15   \n",
       "\n",
       "              datetime_y  \n",
       "0    2016-01-01 04:38:00  \n",
       "1    2016-01-01 06:33:00  \n",
       "2    2016-01-01 09:36:00  \n",
       "3    2016-01-01 17:30:00  \n",
       "4    2016-01-01 20:18:00  \n",
       "...                  ...  \n",
       "1189 2016-12-29 20:11:00  \n",
       "1190 2016-12-30 01:30:00  \n",
       "1191 2016-12-30 12:22:00  \n",
       "1192 2016-12-31 01:32:00  \n",
       "1193 2016-12-31 07:38:00  \n",
       "\n",
       "[1194 rows x 21 columns]"
      ]
     },
     "execution_count": 73,
     "metadata": {},
     "output_type": "execute_result"
    }
   ],
   "source": [
    "pd.merge(test_swpc, test_ngdc, on=\"full_date\")"
   ]
  },
  {
   "cell_type": "code",
   "execution_count": 78,
   "id": "expensive-anxiety",
   "metadata": {},
   "outputs": [],
   "source": [
    "extra_flare_times = list((set(test_swpc[\"full_date\"]) - set(test_ngdc[\"full_date\"])))"
   ]
  },
  {
   "cell_type": "code",
   "execution_count": 82,
   "id": "finished-calendar",
   "metadata": {},
   "outputs": [],
   "source": [
    "extra_flare_df = test_swpc[test_swpc[\"full_date\"].isin(extra_flare_times)]"
   ]
  },
  {
   "cell_type": "code",
   "execution_count": 86,
   "id": "accessible-inclusion",
   "metadata": {},
   "outputs": [
    {
     "data": {
      "text/plain": [
       "array(['20160306', '20160315', '20160409', '20160503', '20160504',\n",
       "       '20160505', '20160506', '20160507', '20160508', '20160509',\n",
       "       '20160511', '20160512', '20160513', '20160514', '20160515',\n",
       "       '20160516', '20160720', '20160905', '20160922', '20161013',\n",
       "       '20161014'], dtype=object)"
      ]
     },
     "execution_count": 86,
     "metadata": {},
     "output_type": "execute_result"
    }
   ],
   "source": [
    "extra_flare_df[\"date\"].unique()"
   ]
  },
  {
   "cell_type": "code",
   "execution_count": 89,
   "id": "blank-singer",
   "metadata": {},
   "outputs": [
    {
     "data": {
      "text/html": [
       "<div>\n",
       "<style scoped>\n",
       "    .dataframe tbody tr th:only-of-type {\n",
       "        vertical-align: middle;\n",
       "    }\n",
       "\n",
       "    .dataframe tbody tr th {\n",
       "        vertical-align: top;\n",
       "    }\n",
       "\n",
       "    .dataframe thead th {\n",
       "        text-align: right;\n",
       "    }\n",
       "</style>\n",
       "<table border=\"1\" class=\"dataframe\">\n",
       "  <thead>\n",
       "    <tr style=\"text-align: right;\">\n",
       "      <th></th>\n",
       "      <th>date</th>\n",
       "      <th>start_time</th>\n",
       "      <th>max_time</th>\n",
       "      <th>end_time</th>\n",
       "      <th>goes_class</th>\n",
       "      <th>goes_class_ind</th>\n",
       "      <th>integrated_flux</th>\n",
       "      <th>noaa_ar</th>\n",
       "      <th>goes_sat</th>\n",
       "      <th>full_date</th>\n",
       "      <th>datetime</th>\n",
       "    </tr>\n",
       "  </thead>\n",
       "  <tbody>\n",
       "    <tr>\n",
       "      <th>548</th>\n",
       "      <td>20160503</td>\n",
       "      <td>0054</td>\n",
       "      <td>0100</td>\n",
       "      <td>0105</td>\n",
       "      <td>B6.4</td>\n",
       "      <td>B</td>\n",
       "      <td>2.9E-04</td>\n",
       "      <td>12539</td>\n",
       "      <td>G13</td>\n",
       "      <td>20160503 0054</td>\n",
       "      <td>2016-05-03 00:54:00</td>\n",
       "    </tr>\n",
       "    <tr>\n",
       "      <th>549</th>\n",
       "      <td>20160503</td>\n",
       "      <td>0810</td>\n",
       "      <td>0817</td>\n",
       "      <td>0844</td>\n",
       "      <td>B6.2</td>\n",
       "      <td>B</td>\n",
       "      <td>1.1E-03</td>\n",
       "      <td>12541</td>\n",
       "      <td>G13</td>\n",
       "      <td>20160503 0810</td>\n",
       "      <td>2016-05-03 08:10:00</td>\n",
       "    </tr>\n",
       "    <tr>\n",
       "      <th>550</th>\n",
       "      <td>20160503</td>\n",
       "      <td>1624</td>\n",
       "      <td>1627</td>\n",
       "      <td>1630</td>\n",
       "      <td>B3.2</td>\n",
       "      <td>B</td>\n",
       "      <td>7.1E-05</td>\n",
       "      <td></td>\n",
       "      <td>G14</td>\n",
       "      <td>20160503 1624</td>\n",
       "      <td>2016-05-03 16:24:00</td>\n",
       "    </tr>\n",
       "    <tr>\n",
       "      <th>551</th>\n",
       "      <td>20160503</td>\n",
       "      <td>2310</td>\n",
       "      <td>2313</td>\n",
       "      <td>2315</td>\n",
       "      <td>B3.1</td>\n",
       "      <td>B</td>\n",
       "      <td>5.2E-05</td>\n",
       "      <td>12539</td>\n",
       "      <td>G14</td>\n",
       "      <td>20160503 2310</td>\n",
       "      <td>2016-05-03 23:10:00</td>\n",
       "    </tr>\n",
       "    <tr>\n",
       "      <th>552</th>\n",
       "      <td>20160503</td>\n",
       "      <td>2355</td>\n",
       "      <td>0001</td>\n",
       "      <td>0004</td>\n",
       "      <td>B7.5</td>\n",
       "      <td>B</td>\n",
       "      <td>2.8E-04</td>\n",
       "      <td></td>\n",
       "      <td>G13</td>\n",
       "      <td>20160503 2355</td>\n",
       "      <td>2016-05-03 23:55:00</td>\n",
       "    </tr>\n",
       "  </tbody>\n",
       "</table>\n",
       "</div>"
      ],
      "text/plain": [
       "         date start_time max_time end_time goes_class goes_class_ind  \\\n",
       "548  20160503       0054     0100     0105       B6.4              B   \n",
       "549  20160503       0810     0817     0844       B6.2              B   \n",
       "550  20160503       1624     1627     1630       B3.2              B   \n",
       "551  20160503       2310     2313     2315       B3.1              B   \n",
       "552  20160503       2355     0001     0004       B7.5              B   \n",
       "\n",
       "    integrated_flux noaa_ar goes_sat      full_date            datetime  \n",
       "548         2.9E-04   12539      G13  20160503 0054 2016-05-03 00:54:00  \n",
       "549         1.1E-03   12541      G13  20160503 0810 2016-05-03 08:10:00  \n",
       "550         7.1E-05              G14  20160503 1624 2016-05-03 16:24:00  \n",
       "551         5.2E-05   12539      G14  20160503 2310 2016-05-03 23:10:00  \n",
       "552         2.8E-04              G13  20160503 2355 2016-05-03 23:55:00  "
      ]
     },
     "execution_count": 89,
     "metadata": {},
     "output_type": "execute_result"
    }
   ],
   "source": [
    "extra_flare_df[extra_flare_df[\"date\"]==\"20160503\"]"
   ]
  },
  {
   "cell_type": "code",
   "execution_count": 91,
   "id": "novel-concentration",
   "metadata": {},
   "outputs": [
    {
     "data": {
      "text/html": [
       "<div>\n",
       "<style scoped>\n",
       "    .dataframe tbody tr th:only-of-type {\n",
       "        vertical-align: middle;\n",
       "    }\n",
       "\n",
       "    .dataframe tbody tr th {\n",
       "        vertical-align: top;\n",
       "    }\n",
       "\n",
       "    .dataframe thead th {\n",
       "        text-align: right;\n",
       "    }\n",
       "</style>\n",
       "<table border=\"1\" class=\"dataframe\">\n",
       "  <thead>\n",
       "    <tr style=\"text-align: right;\">\n",
       "      <th></th>\n",
       "      <th>date</th>\n",
       "      <th>start_time</th>\n",
       "      <th>max_time</th>\n",
       "      <th>end_time</th>\n",
       "      <th>goes_class</th>\n",
       "      <th>goes_class_ind</th>\n",
       "      <th>integrated_flux</th>\n",
       "      <th>noaa_ar</th>\n",
       "      <th>goes_sat</th>\n",
       "      <th>full_date</th>\n",
       "      <th>datetime</th>\n",
       "    </tr>\n",
       "  </thead>\n",
       "  <tbody>\n",
       "    <tr>\n",
       "      <th>358</th>\n",
       "      <td>20160315</td>\n",
       "      <td>0923</td>\n",
       "      <td>0929</td>\n",
       "      <td>0934</td>\n",
       "      <td>C1.2</td>\n",
       "      <td>C</td>\n",
       "      <td>5.3E-04</td>\n",
       "      <td>12521</td>\n",
       "      <td>G13</td>\n",
       "      <td>20160315 0923</td>\n",
       "      <td>2016-03-15 09:23:00</td>\n",
       "    </tr>\n",
       "    <tr>\n",
       "      <th>554</th>\n",
       "      <td>20160504</td>\n",
       "      <td>1341</td>\n",
       "      <td>1351</td>\n",
       "      <td>1407</td>\n",
       "      <td>C1.3</td>\n",
       "      <td>C</td>\n",
       "      <td>1.5E-03</td>\n",
       "      <td>12535</td>\n",
       "      <td>G13</td>\n",
       "      <td>20160504 1341</td>\n",
       "      <td>2016-05-04 13:41:00</td>\n",
       "    </tr>\n",
       "    <tr>\n",
       "      <th>557</th>\n",
       "      <td>20160504</td>\n",
       "      <td>2243</td>\n",
       "      <td>2248</td>\n",
       "      <td>2251</td>\n",
       "      <td>C1.7</td>\n",
       "      <td>C</td>\n",
       "      <td>4.1E-04</td>\n",
       "      <td>12542</td>\n",
       "      <td>G13</td>\n",
       "      <td>20160504 2243</td>\n",
       "      <td>2016-05-04 22:43:00</td>\n",
       "    </tr>\n",
       "    <tr>\n",
       "      <th>564</th>\n",
       "      <td>20160507</td>\n",
       "      <td>1704</td>\n",
       "      <td>1713</td>\n",
       "      <td>1724</td>\n",
       "      <td>C1.9</td>\n",
       "      <td>C</td>\n",
       "      <td>1.7E-03</td>\n",
       "      <td>12541</td>\n",
       "      <td>G13</td>\n",
       "      <td>20160507 1704</td>\n",
       "      <td>2016-05-07 17:04:00</td>\n",
       "    </tr>\n",
       "    <tr>\n",
       "      <th>584</th>\n",
       "      <td>20160514</td>\n",
       "      <td>0921</td>\n",
       "      <td>0931</td>\n",
       "      <td>0934</td>\n",
       "      <td>C2.5</td>\n",
       "      <td>C</td>\n",
       "      <td>8.0E-04</td>\n",
       "      <td>12543</td>\n",
       "      <td>G14</td>\n",
       "      <td>20160514 0921</td>\n",
       "      <td>2016-05-14 09:21:00</td>\n",
       "    </tr>\n",
       "    <tr>\n",
       "      <th>587</th>\n",
       "      <td>20160514</td>\n",
       "      <td>1128</td>\n",
       "      <td>1134</td>\n",
       "      <td>1137</td>\n",
       "      <td>C7.4</td>\n",
       "      <td>C</td>\n",
       "      <td>1.6E-03</td>\n",
       "      <td>12543</td>\n",
       "      <td>G14</td>\n",
       "      <td>20160514 1128</td>\n",
       "      <td>2016-05-14 11:28:00</td>\n",
       "    </tr>\n",
       "    <tr>\n",
       "      <th>588</th>\n",
       "      <td>20160514</td>\n",
       "      <td>1515</td>\n",
       "      <td>1519</td>\n",
       "      <td>1522</td>\n",
       "      <td>C4.8</td>\n",
       "      <td>C</td>\n",
       "      <td>9.1E-04</td>\n",
       "      <td>12543</td>\n",
       "      <td>G14</td>\n",
       "      <td>20160514 1515</td>\n",
       "      <td>2016-05-14 15:15:00</td>\n",
       "    </tr>\n",
       "    <tr>\n",
       "      <th>593</th>\n",
       "      <td>20160515</td>\n",
       "      <td>0358</td>\n",
       "      <td>0409</td>\n",
       "      <td>0416</td>\n",
       "      <td>C4.9</td>\n",
       "      <td>C</td>\n",
       "      <td>3.4E-03</td>\n",
       "      <td>12543</td>\n",
       "      <td>G14</td>\n",
       "      <td>20160515 0358</td>\n",
       "      <td>2016-05-15 03:58:00</td>\n",
       "    </tr>\n",
       "    <tr>\n",
       "      <th>594</th>\n",
       "      <td>20160515</td>\n",
       "      <td>0457</td>\n",
       "      <td>0502</td>\n",
       "      <td>0505</td>\n",
       "      <td>C1.3</td>\n",
       "      <td>C</td>\n",
       "      <td>4.2E-04</td>\n",
       "      <td>12544</td>\n",
       "      <td>G14</td>\n",
       "      <td>20160515 0457</td>\n",
       "      <td>2016-05-15 04:57:00</td>\n",
       "    </tr>\n",
       "    <tr>\n",
       "      <th>595</th>\n",
       "      <td>20160515</td>\n",
       "      <td>0818</td>\n",
       "      <td>0824</td>\n",
       "      <td>0830</td>\n",
       "      <td>C2.9</td>\n",
       "      <td>C</td>\n",
       "      <td>1.5E-03</td>\n",
       "      <td>12543</td>\n",
       "      <td>G14</td>\n",
       "      <td>20160515 0818</td>\n",
       "      <td>2016-05-15 08:18:00</td>\n",
       "    </tr>\n",
       "    <tr>\n",
       "      <th>596</th>\n",
       "      <td>20160515</td>\n",
       "      <td>0948</td>\n",
       "      <td>0951</td>\n",
       "      <td>0954</td>\n",
       "      <td>C1.3</td>\n",
       "      <td>C</td>\n",
       "      <td>2.8E-04</td>\n",
       "      <td>12544</td>\n",
       "      <td>G14</td>\n",
       "      <td>20160515 0948</td>\n",
       "      <td>2016-05-15 09:48:00</td>\n",
       "    </tr>\n",
       "    <tr>\n",
       "      <th>597</th>\n",
       "      <td>20160515</td>\n",
       "      <td>1151</td>\n",
       "      <td>1159</td>\n",
       "      <td>1204</td>\n",
       "      <td>C1.2</td>\n",
       "      <td>C</td>\n",
       "      <td>8.6E-04</td>\n",
       "      <td>12544</td>\n",
       "      <td>G14</td>\n",
       "      <td>20160515 1151</td>\n",
       "      <td>2016-05-15 11:51:00</td>\n",
       "    </tr>\n",
       "    <tr>\n",
       "      <th>598</th>\n",
       "      <td>20160515</td>\n",
       "      <td>1355</td>\n",
       "      <td>1400</td>\n",
       "      <td>1406</td>\n",
       "      <td>C1.1</td>\n",
       "      <td>C</td>\n",
       "      <td>5.4E-04</td>\n",
       "      <td>12544</td>\n",
       "      <td>G14</td>\n",
       "      <td>20160515 1355</td>\n",
       "      <td>2016-05-15 13:55:00</td>\n",
       "    </tr>\n",
       "    <tr>\n",
       "      <th>600</th>\n",
       "      <td>20160515</td>\n",
       "      <td>1519</td>\n",
       "      <td>1603</td>\n",
       "      <td>1733</td>\n",
       "      <td>C3.2</td>\n",
       "      <td>C</td>\n",
       "      <td>1.8E-02</td>\n",
       "      <td>12542</td>\n",
       "      <td>G14</td>\n",
       "      <td>20160515 1519</td>\n",
       "      <td>2016-05-15 15:19:00</td>\n",
       "    </tr>\n",
       "    <tr>\n",
       "      <th>601</th>\n",
       "      <td>20160515</td>\n",
       "      <td>1910</td>\n",
       "      <td>1913</td>\n",
       "      <td>1917</td>\n",
       "      <td>C1.5</td>\n",
       "      <td>C</td>\n",
       "      <td>6.7E-04</td>\n",
       "      <td>12544</td>\n",
       "      <td>G14</td>\n",
       "      <td>20160515 1910</td>\n",
       "      <td>2016-05-15 19:10:00</td>\n",
       "    </tr>\n",
       "    <tr>\n",
       "      <th>602</th>\n",
       "      <td>20160516</td>\n",
       "      <td>0051</td>\n",
       "      <td>0058</td>\n",
       "      <td>0107</td>\n",
       "      <td>C1.0</td>\n",
       "      <td>C</td>\n",
       "      <td>7.4E-04</td>\n",
       "      <td>12544</td>\n",
       "      <td>G14</td>\n",
       "      <td>20160516 0051</td>\n",
       "      <td>2016-05-16 00:51:00</td>\n",
       "    </tr>\n",
       "    <tr>\n",
       "      <th>605</th>\n",
       "      <td>20160516</td>\n",
       "      <td>1521</td>\n",
       "      <td>1525</td>\n",
       "      <td>1530</td>\n",
       "      <td>C1.8</td>\n",
       "      <td>C</td>\n",
       "      <td>6.3E-04</td>\n",
       "      <td>12544</td>\n",
       "      <td>G14</td>\n",
       "      <td>20160516 1521</td>\n",
       "      <td>2016-05-16 15:21:00</td>\n",
       "    </tr>\n",
       "    <tr>\n",
       "      <th>812</th>\n",
       "      <td>20160720</td>\n",
       "      <td>2330</td>\n",
       "      <td>2335</td>\n",
       "      <td>2339</td>\n",
       "      <td>C3.6</td>\n",
       "      <td>C</td>\n",
       "      <td>1.3E-03</td>\n",
       "      <td>12567</td>\n",
       "      <td>G13</td>\n",
       "      <td>20160720 2330</td>\n",
       "      <td>2016-07-20 23:30:00</td>\n",
       "    </tr>\n",
       "    <tr>\n",
       "      <th>1053</th>\n",
       "      <td>20160922</td>\n",
       "      <td>0824</td>\n",
       "      <td>0829</td>\n",
       "      <td>0832</td>\n",
       "      <td>C1.9</td>\n",
       "      <td>C</td>\n",
       "      <td>4.6E-04</td>\n",
       "      <td>12595</td>\n",
       "      <td>G13</td>\n",
       "      <td>20160922 0824</td>\n",
       "      <td>2016-09-22 08:24:00</td>\n",
       "    </tr>\n",
       "  </tbody>\n",
       "</table>\n",
       "</div>"
      ],
      "text/plain": [
       "          date start_time max_time end_time goes_class goes_class_ind  \\\n",
       "358   20160315       0923     0929     0934       C1.2              C   \n",
       "554   20160504       1341     1351     1407       C1.3              C   \n",
       "557   20160504       2243     2248     2251       C1.7              C   \n",
       "564   20160507       1704     1713     1724       C1.9              C   \n",
       "584   20160514       0921     0931     0934       C2.5              C   \n",
       "587   20160514       1128     1134     1137       C7.4              C   \n",
       "588   20160514       1515     1519     1522       C4.8              C   \n",
       "593   20160515       0358     0409     0416       C4.9              C   \n",
       "594   20160515       0457     0502     0505       C1.3              C   \n",
       "595   20160515       0818     0824     0830       C2.9              C   \n",
       "596   20160515       0948     0951     0954       C1.3              C   \n",
       "597   20160515       1151     1159     1204       C1.2              C   \n",
       "598   20160515       1355     1400     1406       C1.1              C   \n",
       "600   20160515       1519     1603     1733       C3.2              C   \n",
       "601   20160515       1910     1913     1917       C1.5              C   \n",
       "602   20160516       0051     0058     0107       C1.0              C   \n",
       "605   20160516       1521     1525     1530       C1.8              C   \n",
       "812   20160720       2330     2335     2339       C3.6              C   \n",
       "1053  20160922       0824     0829     0832       C1.9              C   \n",
       "\n",
       "     integrated_flux noaa_ar goes_sat      full_date            datetime  \n",
       "358          5.3E-04   12521      G13  20160315 0923 2016-03-15 09:23:00  \n",
       "554          1.5E-03   12535      G13  20160504 1341 2016-05-04 13:41:00  \n",
       "557          4.1E-04   12542      G13  20160504 2243 2016-05-04 22:43:00  \n",
       "564          1.7E-03   12541      G13  20160507 1704 2016-05-07 17:04:00  \n",
       "584          8.0E-04   12543      G14  20160514 0921 2016-05-14 09:21:00  \n",
       "587          1.6E-03   12543      G14  20160514 1128 2016-05-14 11:28:00  \n",
       "588          9.1E-04   12543      G14  20160514 1515 2016-05-14 15:15:00  \n",
       "593          3.4E-03   12543      G14  20160515 0358 2016-05-15 03:58:00  \n",
       "594          4.2E-04   12544      G14  20160515 0457 2016-05-15 04:57:00  \n",
       "595          1.5E-03   12543      G14  20160515 0818 2016-05-15 08:18:00  \n",
       "596          2.8E-04   12544      G14  20160515 0948 2016-05-15 09:48:00  \n",
       "597          8.6E-04   12544      G14  20160515 1151 2016-05-15 11:51:00  \n",
       "598          5.4E-04   12544      G14  20160515 1355 2016-05-15 13:55:00  \n",
       "600          1.8E-02   12542      G14  20160515 1519 2016-05-15 15:19:00  \n",
       "601          6.7E-04   12544      G14  20160515 1910 2016-05-15 19:10:00  \n",
       "602          7.4E-04   12544      G14  20160516 0051 2016-05-16 00:51:00  \n",
       "605          6.3E-04   12544      G14  20160516 1521 2016-05-16 15:21:00  \n",
       "812          1.3E-03   12567      G13  20160720 2330 2016-07-20 23:30:00  \n",
       "1053         4.6E-04   12595      G13  20160922 0824 2016-09-22 08:24:00  "
      ]
     },
     "execution_count": 91,
     "metadata": {},
     "output_type": "execute_result"
    }
   ],
   "source": [
    "extra_flare_df[extra_flare_df[\"goes_class_ind\"]==\"C\"]"
   ]
  },
  {
   "cell_type": "markdown",
   "id": "legendary-capture",
   "metadata": {},
   "source": [
    "## Lets now test with HEK"
   ]
  },
  {
   "cell_type": "code",
   "execution_count": 170,
   "id": "smaller-oakland",
   "metadata": {},
   "outputs": [],
   "source": [
    "from sunpy.net import Fido, attrs as a"
   ]
  },
  {
   "cell_type": "code",
   "execution_count": 171,
   "id": "fatal-moment",
   "metadata": {},
   "outputs": [],
   "source": [
    "res = Fido.search(a.Time(\"2016-01-01\", \"2016-12-31\"), \n",
    "                  a.hek.EventType(\"FL\"))"
   ]
  },
  {
   "cell_type": "code",
   "execution_count": 179,
   "id": "accessible-friday",
   "metadata": {},
   "outputs": [],
   "source": [
    "flares_swpc = res[\"hek\"][res[\"hek\"][\"frm_name\"] == \"SWPC\"]"
   ]
  },
  {
   "cell_type": "code",
   "execution_count": 200,
   "id": "lesser-durham",
   "metadata": {},
   "outputs": [],
   "source": [
    "flares_swpc_table = flares_swpc[[\"event_starttime\", \"event_peaktime\",\n",
    "                             \"event_endtime\", \"fl_goescls\", \"ar_noaanum\"]].to_pandas()"
   ]
  },
  {
   "cell_type": "code",
   "execution_count": 201,
   "id": "abandoned-dispatch",
   "metadata": {},
   "outputs": [],
   "source": [
    "flares_swpc_table[\"goes_class_ind\"] = [x[0] for x in flares_swpc_table[\"fl_goescls\"]]"
   ]
  },
  {
   "cell_type": "code",
   "execution_count": 202,
   "id": "higher-continent",
   "metadata": {},
   "outputs": [],
   "source": [
    "flare_swpc_c = flares_swpc_table[flares_swpc_table[\"goes_class_ind\"].isin([\"X\", \"M\", \"C\"])]"
   ]
  },
  {
   "cell_type": "code",
   "execution_count": 203,
   "id": "funny-affect",
   "metadata": {},
   "outputs": [
    {
     "data": {
      "text/plain": [
       "342"
      ]
     },
     "execution_count": 203,
     "metadata": {},
     "output_type": "execute_result"
    }
   ],
   "source": [
    "len(flare_swpc_c)"
   ]
  },
  {
   "cell_type": "code",
   "execution_count": 205,
   "id": "intimate-indonesian",
   "metadata": {},
   "outputs": [],
   "source": [
    "df_swpc = flare_swpc_c"
   ]
  },
  {
   "cell_type": "code",
   "execution_count": 206,
   "id": "adjustable-watson",
   "metadata": {},
   "outputs": [
    {
     "data": {
      "text/plain": [
       "342"
      ]
     },
     "execution_count": 206,
     "metadata": {},
     "output_type": "execute_result"
    }
   ],
   "source": [
    "len(df_swpc)"
   ]
  },
  {
   "cell_type": "code",
   "execution_count": 207,
   "id": "wooden-lighting",
   "metadata": {},
   "outputs": [
    {
     "data": {
      "text/html": [
       "<div>\n",
       "<style scoped>\n",
       "    .dataframe tbody tr th:only-of-type {\n",
       "        vertical-align: middle;\n",
       "    }\n",
       "\n",
       "    .dataframe tbody tr th {\n",
       "        vertical-align: top;\n",
       "    }\n",
       "\n",
       "    .dataframe thead th {\n",
       "        text-align: right;\n",
       "    }\n",
       "</style>\n",
       "<table border=\"1\" class=\"dataframe\">\n",
       "  <thead>\n",
       "    <tr style=\"text-align: right;\">\n",
       "      <th></th>\n",
       "      <th>event_starttime</th>\n",
       "      <th>event_peaktime</th>\n",
       "      <th>event_endtime</th>\n",
       "      <th>fl_goescls</th>\n",
       "      <th>ar_noaanum</th>\n",
       "      <th>goes_class_ind</th>\n",
       "    </tr>\n",
       "  </thead>\n",
       "  <tbody>\n",
       "    <tr>\n",
       "      <th>1</th>\n",
       "      <td>2016-01-01T06:33:00</td>\n",
       "      <td>2016-01-01T06:38:00</td>\n",
       "      <td>2016-01-01T06:43:00</td>\n",
       "      <td>C2.3</td>\n",
       "      <td>12473</td>\n",
       "      <td>C</td>\n",
       "    </tr>\n",
       "    <tr>\n",
       "      <th>2</th>\n",
       "      <td>2016-01-01T09:36:00</td>\n",
       "      <td>2016-01-01T09:48:00</td>\n",
       "      <td>2016-01-01T09:56:00</td>\n",
       "      <td>C2.4</td>\n",
       "      <td>12473</td>\n",
       "      <td>C</td>\n",
       "    </tr>\n",
       "    <tr>\n",
       "      <th>5</th>\n",
       "      <td>2016-01-01T22:25:00</td>\n",
       "      <td>2016-01-01T22:30:00</td>\n",
       "      <td>2016-01-01T22:33:00</td>\n",
       "      <td>C2.7</td>\n",
       "      <td>12473</td>\n",
       "      <td>C</td>\n",
       "    </tr>\n",
       "    <tr>\n",
       "      <th>6</th>\n",
       "      <td>2016-01-01T23:10:00</td>\n",
       "      <td>2016-01-02T00:11:00</td>\n",
       "      <td>2016-01-02T01:01:00</td>\n",
       "      <td>M2.3</td>\n",
       "      <td>12473</td>\n",
       "      <td>M</td>\n",
       "    </tr>\n",
       "    <tr>\n",
       "      <th>15</th>\n",
       "      <td>2016-01-06T11:31:00</td>\n",
       "      <td>2016-01-06T11:37:00</td>\n",
       "      <td>2016-01-06T11:39:00</td>\n",
       "      <td>C1.8</td>\n",
       "      <td>12480</td>\n",
       "      <td>C</td>\n",
       "    </tr>\n",
       "    <tr>\n",
       "      <th>...</th>\n",
       "      <td>...</td>\n",
       "      <td>...</td>\n",
       "      <td>...</td>\n",
       "      <td>...</td>\n",
       "      <td>...</td>\n",
       "      <td>...</td>\n",
       "    </tr>\n",
       "    <tr>\n",
       "      <th>1228</th>\n",
       "      <td>2016-12-04T02:47:00</td>\n",
       "      <td>2016-12-04T02:51:00</td>\n",
       "      <td>2016-12-04T02:54:00</td>\n",
       "      <td>C1.1</td>\n",
       "      <td>12615</td>\n",
       "      <td>C</td>\n",
       "    </tr>\n",
       "    <tr>\n",
       "      <th>1230</th>\n",
       "      <td>2016-12-04T07:15:00</td>\n",
       "      <td>2016-12-04T07:23:00</td>\n",
       "      <td>2016-12-04T07:25:00</td>\n",
       "      <td>C1.2</td>\n",
       "      <td>12615</td>\n",
       "      <td>C</td>\n",
       "    </tr>\n",
       "    <tr>\n",
       "      <th>1236</th>\n",
       "      <td>2016-12-04T17:35:00</td>\n",
       "      <td>2016-12-04T17:55:00</td>\n",
       "      <td>2016-12-04T18:14:00</td>\n",
       "      <td>C1.8</td>\n",
       "      <td>12615</td>\n",
       "      <td>C</td>\n",
       "    </tr>\n",
       "    <tr>\n",
       "      <th>1238</th>\n",
       "      <td>2016-12-05T05:57:00</td>\n",
       "      <td>2016-12-05T06:07:00</td>\n",
       "      <td>2016-12-05T06:14:00</td>\n",
       "      <td>C1.2</td>\n",
       "      <td>12615</td>\n",
       "      <td>C</td>\n",
       "    </tr>\n",
       "    <tr>\n",
       "      <th>1250</th>\n",
       "      <td>2016-12-10T16:48:00</td>\n",
       "      <td>2016-12-10T17:15:00</td>\n",
       "      <td>2016-12-10T17:37:00</td>\n",
       "      <td>C4.0</td>\n",
       "      <td>12615</td>\n",
       "      <td>C</td>\n",
       "    </tr>\n",
       "  </tbody>\n",
       "</table>\n",
       "<p>339 rows × 6 columns</p>\n",
       "</div>"
      ],
      "text/plain": [
       "          event_starttime       event_peaktime        event_endtime  \\\n",
       "1     2016-01-01T06:33:00  2016-01-01T06:38:00  2016-01-01T06:43:00   \n",
       "2     2016-01-01T09:36:00  2016-01-01T09:48:00  2016-01-01T09:56:00   \n",
       "5     2016-01-01T22:25:00  2016-01-01T22:30:00  2016-01-01T22:33:00   \n",
       "6     2016-01-01T23:10:00  2016-01-02T00:11:00  2016-01-02T01:01:00   \n",
       "15    2016-01-06T11:31:00  2016-01-06T11:37:00  2016-01-06T11:39:00   \n",
       "...                   ...                  ...                  ...   \n",
       "1228  2016-12-04T02:47:00  2016-12-04T02:51:00  2016-12-04T02:54:00   \n",
       "1230  2016-12-04T07:15:00  2016-12-04T07:23:00  2016-12-04T07:25:00   \n",
       "1236  2016-12-04T17:35:00  2016-12-04T17:55:00  2016-12-04T18:14:00   \n",
       "1238  2016-12-05T05:57:00  2016-12-05T06:07:00  2016-12-05T06:14:00   \n",
       "1250  2016-12-10T16:48:00  2016-12-10T17:15:00  2016-12-10T17:37:00   \n",
       "\n",
       "     fl_goescls ar_noaanum goes_class_ind  \n",
       "1          C2.3      12473              C  \n",
       "2          C2.4      12473              C  \n",
       "5          C2.7      12473              C  \n",
       "6          M2.3      12473              M  \n",
       "15         C1.8      12480              C  \n",
       "...         ...        ...            ...  \n",
       "1228       C1.1      12615              C  \n",
       "1230       C1.2      12615              C  \n",
       "1236       C1.8      12615              C  \n",
       "1238       C1.2      12615              C  \n",
       "1250       C4.0      12615              C  \n",
       "\n",
       "[339 rows x 6 columns]"
      ]
     },
     "execution_count": 207,
     "metadata": {},
     "output_type": "execute_result"
    }
   ],
   "source": [
    "df_swpc.drop_duplicates(subset=\"event_peaktime\")"
   ]
  },
  {
   "cell_type": "code",
   "execution_count": 208,
   "id": "spanish-oxide",
   "metadata": {},
   "outputs": [
    {
     "data": {
      "text/plain": [
       "318"
      ]
     },
     "execution_count": 208,
     "metadata": {},
     "output_type": "execute_result"
    }
   ],
   "source": [
    "len(test_ngdc[test_ngdc[\"goes_class_ind\"].isin([\"X\", \"M\", \"C\"])])"
   ]
  },
  {
   "cell_type": "code",
   "execution_count": 209,
   "id": "psychological-formation",
   "metadata": {},
   "outputs": [
    {
     "data": {
      "text/plain": [
       "337"
      ]
     },
     "execution_count": 209,
     "metadata": {},
     "output_type": "execute_result"
    }
   ],
   "source": [
    "len(test_swpc[test_swpc[\"goes_class_ind\"].isin([\"X\", \"M\", \"C\"])])"
   ]
  },
  {
   "cell_type": "code",
   "execution_count": 210,
   "id": "expected-carol",
   "metadata": {},
   "outputs": [
    {
     "data": {
      "text/html": [
       "<div>\n",
       "<style scoped>\n",
       "    .dataframe tbody tr th:only-of-type {\n",
       "        vertical-align: middle;\n",
       "    }\n",
       "\n",
       "    .dataframe tbody tr th {\n",
       "        vertical-align: top;\n",
       "    }\n",
       "\n",
       "    .dataframe thead th {\n",
       "        text-align: right;\n",
       "    }\n",
       "</style>\n",
       "<table border=\"1\" class=\"dataframe\">\n",
       "  <thead>\n",
       "    <tr style=\"text-align: right;\">\n",
       "      <th></th>\n",
       "      <th>date</th>\n",
       "      <th>start_time</th>\n",
       "      <th>max_time</th>\n",
       "      <th>end_time</th>\n",
       "      <th>goes_class</th>\n",
       "      <th>goes_class_ind</th>\n",
       "      <th>integrated_flux</th>\n",
       "      <th>noaa_ar</th>\n",
       "      <th>goes_sat</th>\n",
       "      <th>datetime_start</th>\n",
       "      <th>datetime_peak</th>\n",
       "      <th>datetime_end</th>\n",
       "    </tr>\n",
       "  </thead>\n",
       "  <tbody>\n",
       "    <tr>\n",
       "      <th>1217</th>\n",
       "      <td>20161204</td>\n",
       "      <td>0247</td>\n",
       "      <td>0251</td>\n",
       "      <td>0254</td>\n",
       "      <td>C1.1</td>\n",
       "      <td>C</td>\n",
       "      <td>2.4E-04</td>\n",
       "      <td>12615</td>\n",
       "      <td>G15</td>\n",
       "      <td>2016-12-04 02:47:00</td>\n",
       "      <td>2016-12-04 02:51:00</td>\n",
       "      <td>2016-12-04 02:54:00</td>\n",
       "    </tr>\n",
       "    <tr>\n",
       "      <th>1219</th>\n",
       "      <td>20161204</td>\n",
       "      <td>0715</td>\n",
       "      <td>0723</td>\n",
       "      <td>0725</td>\n",
       "      <td>C1.2</td>\n",
       "      <td>C</td>\n",
       "      <td>2.9E-04</td>\n",
       "      <td>12615</td>\n",
       "      <td>G15</td>\n",
       "      <td>2016-12-04 07:15:00</td>\n",
       "      <td>2016-12-04 07:23:00</td>\n",
       "      <td>2016-12-04 07:25:00</td>\n",
       "    </tr>\n",
       "    <tr>\n",
       "      <th>1225</th>\n",
       "      <td>20161204</td>\n",
       "      <td>1735</td>\n",
       "      <td>1755</td>\n",
       "      <td>1814</td>\n",
       "      <td>C1.8</td>\n",
       "      <td>C</td>\n",
       "      <td>3.0E-03</td>\n",
       "      <td>12615</td>\n",
       "      <td>G15</td>\n",
       "      <td>2016-12-04 17:35:00</td>\n",
       "      <td>2016-12-04 17:55:00</td>\n",
       "      <td>2016-12-04 18:14:00</td>\n",
       "    </tr>\n",
       "    <tr>\n",
       "      <th>1227</th>\n",
       "      <td>20161205</td>\n",
       "      <td>0557</td>\n",
       "      <td>0607</td>\n",
       "      <td>0614</td>\n",
       "      <td>C1.2</td>\n",
       "      <td>C</td>\n",
       "      <td>7.7E-04</td>\n",
       "      <td>12615</td>\n",
       "      <td>G15</td>\n",
       "      <td>2016-12-05 05:57:00</td>\n",
       "      <td>2016-12-05 06:07:00</td>\n",
       "      <td>2016-12-05 06:14:00</td>\n",
       "    </tr>\n",
       "    <tr>\n",
       "      <th>1239</th>\n",
       "      <td>20161210</td>\n",
       "      <td>1648</td>\n",
       "      <td>1715</td>\n",
       "      <td>1737</td>\n",
       "      <td>C4.0</td>\n",
       "      <td>C</td>\n",
       "      <td>7.1E-03</td>\n",
       "      <td>12615</td>\n",
       "      <td>G15</td>\n",
       "      <td>2016-12-10 16:48:00</td>\n",
       "      <td>2016-12-10 17:15:00</td>\n",
       "      <td>2016-12-10 17:37:00</td>\n",
       "    </tr>\n",
       "  </tbody>\n",
       "</table>\n",
       "</div>"
      ],
      "text/plain": [
       "          date start_time max_time end_time goes_class goes_class_ind  \\\n",
       "1217  20161204       0247     0251     0254       C1.1              C   \n",
       "1219  20161204       0715     0723     0725       C1.2              C   \n",
       "1225  20161204       1735     1755     1814       C1.8              C   \n",
       "1227  20161205       0557     0607     0614       C1.2              C   \n",
       "1239  20161210       1648     1715     1737       C4.0              C   \n",
       "\n",
       "     integrated_flux noaa_ar goes_sat      datetime_start       datetime_peak  \\\n",
       "1217         2.4E-04   12615      G15 2016-12-04 02:47:00 2016-12-04 02:51:00   \n",
       "1219         2.9E-04   12615      G15 2016-12-04 07:15:00 2016-12-04 07:23:00   \n",
       "1225         3.0E-03   12615      G15 2016-12-04 17:35:00 2016-12-04 17:55:00   \n",
       "1227         7.7E-04   12615      G15 2016-12-05 05:57:00 2016-12-05 06:07:00   \n",
       "1239         7.1E-03   12615      G15 2016-12-10 16:48:00 2016-12-10 17:15:00   \n",
       "\n",
       "            datetime_end  \n",
       "1217 2016-12-04 02:54:00  \n",
       "1219 2016-12-04 07:25:00  \n",
       "1225 2016-12-04 18:14:00  \n",
       "1227 2016-12-05 06:14:00  \n",
       "1239 2016-12-10 17:37:00  "
      ]
     },
     "execution_count": 210,
     "metadata": {},
     "output_type": "execute_result"
    }
   ],
   "source": [
    "test_swpc[test_swpc[\"goes_class_ind\"].isin([\"X\", \"M\", \"C\"])].tail()"
   ]
  },
  {
   "cell_type": "markdown",
   "id": "instant-canada",
   "metadata": {},
   "source": [
    "## Try HELIO"
   ]
  },
  {
   "cell_type": "code",
   "execution_count": 212,
   "id": "brave-explosion",
   "metadata": {},
   "outputs": [],
   "source": [
    "from astropy.io.votable import parse"
   ]
  },
  {
   "cell_type": "code",
   "execution_count": 213,
   "id": "sustained-necessity",
   "metadata": {},
   "outputs": [],
   "source": [
    "aa = parse(\"http://hec.helio-vo.eu/hec/hec_gui_fetch.php?interfacetype=vmstilts&sql=select+%2A+from+goes_sxr_flare+where+time_start%3E%3D%272016-01-01+00%3A00%3A00%27+AND+time_start%3C%3D%272016-12-31+23%3A59%3A59%27&type=votable\")"
   ]
  },
  {
   "cell_type": "code",
   "execution_count": 214,
   "id": "exclusive-bargain",
   "metadata": {},
   "outputs": [],
   "source": [
    "goes_table = aa.get_first_table().to_table().to_pandas()"
   ]
  },
  {
   "cell_type": "code",
   "execution_count": 216,
   "id": "focused-swift",
   "metadata": {},
   "outputs": [],
   "source": [
    "goes_table[\"goes_class_ind\"] = [x[0] for x in goes_table[\"xray_class\"]]"
   ]
  },
  {
   "cell_type": "code",
   "execution_count": 219,
   "id": "unnecessary-justice",
   "metadata": {},
   "outputs": [
    {
     "data": {
      "text/plain": [
       "337"
      ]
     },
     "execution_count": 219,
     "metadata": {},
     "output_type": "execute_result"
    }
   ],
   "source": [
    "len(goes_table[goes_table[\"goes_class_ind\"].isin([\"X\", \"M\", \"C\"])])"
   ]
  },
  {
   "cell_type": "markdown",
   "id": "voluntary-shelf",
   "metadata": {},
   "source": [
    "## Lets just try 2014"
   ]
  },
  {
   "cell_type": "code",
   "execution_count": 221,
   "id": "cubic-provision",
   "metadata": {},
   "outputs": [],
   "source": [
    "test_ngdc_2014 = merge_ngdc(\"2014-01-01\", \"2014-12-31\")\n",
    "#test_swpc_2014 = merge_swpc(\"2014-01-01\", \"2014-12-31\")"
   ]
  },
  {
   "cell_type": "code",
   "execution_count": 247,
   "id": "pressing-nomination",
   "metadata": {},
   "outputs": [],
   "source": [
    "test_ngdc_2014_c = test_ngdc_2014[test_ngdc_2014[\"goes_class_ind\"].isin([\"X\", \"M\"])]"
   ]
  },
  {
   "cell_type": "code",
   "execution_count": 248,
   "id": "blocked-training",
   "metadata": {},
   "outputs": [
    {
     "data": {
      "text/plain": [
       "221"
      ]
     },
     "execution_count": 248,
     "metadata": {},
     "output_type": "execute_result"
    }
   ],
   "source": [
    "len(test_ngdc_2014_c)"
   ]
  },
  {
   "cell_type": "code",
   "execution_count": 237,
   "id": "behavioral-karaoke",
   "metadata": {},
   "outputs": [],
   "source": [
    "res = Fido.search(a.Time(\"2014-01-01\", \"2014-12-31\"), \n",
    "                  a.hek.EventType(\"FL\"), a.hek.FRM.Name==\"SWPC\")"
   ]
  },
  {
   "cell_type": "code",
   "execution_count": 238,
   "id": "normal-tunnel",
   "metadata": {},
   "outputs": [],
   "source": [
    "flares_hek = res[\"hek\"][[\"event_starttime\", \"event_peaktime\",\n",
    "                             \"event_endtime\", \"fl_goescls\", \"ar_noaanum\"]].to_pandas()"
   ]
  },
  {
   "cell_type": "code",
   "execution_count": 239,
   "id": "divine-malpractice",
   "metadata": {},
   "outputs": [],
   "source": [
    "flares_hek[\"goes_class_ind\"] = [x[0] for x in flares_hek[\"fl_goescls\"]]"
   ]
  },
  {
   "cell_type": "code",
   "execution_count": 249,
   "id": "wired-vampire",
   "metadata": {},
   "outputs": [],
   "source": [
    "flares_hek_c = flares_hek[flares_hek[\"goes_class_ind\"].isin([\"X\", \"M\"])]"
   ]
  },
  {
   "cell_type": "code",
   "execution_count": 250,
   "id": "hollow-trust",
   "metadata": {},
   "outputs": [
    {
     "data": {
      "text/html": [
       "<div>\n",
       "<style scoped>\n",
       "    .dataframe tbody tr th:only-of-type {\n",
       "        vertical-align: middle;\n",
       "    }\n",
       "\n",
       "    .dataframe tbody tr th {\n",
       "        vertical-align: top;\n",
       "    }\n",
       "\n",
       "    .dataframe thead th {\n",
       "        text-align: right;\n",
       "    }\n",
       "</style>\n",
       "<table border=\"1\" class=\"dataframe\">\n",
       "  <thead>\n",
       "    <tr style=\"text-align: right;\">\n",
       "      <th></th>\n",
       "      <th>event_starttime</th>\n",
       "      <th>event_peaktime</th>\n",
       "      <th>event_endtime</th>\n",
       "      <th>fl_goescls</th>\n",
       "      <th>ar_noaanum</th>\n",
       "      <th>goes_class_ind</th>\n",
       "    </tr>\n",
       "  </thead>\n",
       "  <tbody>\n",
       "    <tr>\n",
       "      <th>3</th>\n",
       "      <td>2014-01-01T18:40:00</td>\n",
       "      <td>2014-01-01T18:52:00</td>\n",
       "      <td>2014-01-01T19:03:00</td>\n",
       "      <td>M9.9</td>\n",
       "      <td>11936</td>\n",
       "      <td>M</td>\n",
       "    </tr>\n",
       "    <tr>\n",
       "      <th>4</th>\n",
       "      <td>2014-01-02T02:24:00</td>\n",
       "      <td>2014-01-02T02:33:00</td>\n",
       "      <td>2014-01-02T02:56:00</td>\n",
       "      <td>M1.7</td>\n",
       "      <td>11944</td>\n",
       "      <td>M</td>\n",
       "    </tr>\n",
       "    <tr>\n",
       "      <th>10</th>\n",
       "      <td>2014-01-02T22:12:00</td>\n",
       "      <td>2014-01-02T22:18:00</td>\n",
       "      <td>2014-01-02T22:22:00</td>\n",
       "      <td>M1.2</td>\n",
       "      <td>11944</td>\n",
       "      <td>M</td>\n",
       "    </tr>\n",
       "    <tr>\n",
       "      <th>19</th>\n",
       "      <td>2014-01-03T12:41:00</td>\n",
       "      <td>2014-01-03T12:50:00</td>\n",
       "      <td>2014-01-03T12:54:00</td>\n",
       "      <td>M1.0</td>\n",
       "      <td>11944</td>\n",
       "      <td>M</td>\n",
       "    </tr>\n",
       "    <tr>\n",
       "      <th>22</th>\n",
       "      <td>2014-01-03T21:09:00</td>\n",
       "      <td>2014-01-03T21:14:00</td>\n",
       "      <td>2014-01-03T21:19:00</td>\n",
       "      <td>M1.1</td>\n",
       "      <td>11944</td>\n",
       "      <td>M</td>\n",
       "    </tr>\n",
       "    <tr>\n",
       "      <th>...</th>\n",
       "      <td>...</td>\n",
       "      <td>...</td>\n",
       "      <td>...</td>\n",
       "      <td>...</td>\n",
       "      <td>...</td>\n",
       "      <td>...</td>\n",
       "    </tr>\n",
       "    <tr>\n",
       "      <th>2187</th>\n",
       "      <td>2014-12-20T00:11:00</td>\n",
       "      <td>2014-12-20T00:28:00</td>\n",
       "      <td>2014-12-20T00:55:00</td>\n",
       "      <td>X1.8</td>\n",
       "      <td>12242</td>\n",
       "      <td>X</td>\n",
       "    </tr>\n",
       "    <tr>\n",
       "      <th>2196</th>\n",
       "      <td>2014-12-21T07:18:00</td>\n",
       "      <td>2014-12-21T07:32:00</td>\n",
       "      <td>2014-12-21T07:51:00</td>\n",
       "      <td>M1.2</td>\n",
       "      <td>12242</td>\n",
       "      <td>M</td>\n",
       "    </tr>\n",
       "    <tr>\n",
       "      <th>2197</th>\n",
       "      <td>2014-12-21T11:24:00</td>\n",
       "      <td>2014-12-21T12:17:00</td>\n",
       "      <td>2014-12-21T12:57:00</td>\n",
       "      <td>M1.0</td>\n",
       "      <td>12241</td>\n",
       "      <td>M</td>\n",
       "    </tr>\n",
       "    <tr>\n",
       "      <th>2201</th>\n",
       "      <td>2014-12-22T01:33:00</td>\n",
       "      <td>2014-12-22T01:49:00</td>\n",
       "      <td>2014-12-22T01:59:00</td>\n",
       "      <td>M1.0</td>\n",
       "      <td>12242</td>\n",
       "      <td>M</td>\n",
       "    </tr>\n",
       "    <tr>\n",
       "      <th>2232</th>\n",
       "      <td>2014-12-27T02:03:00</td>\n",
       "      <td>2014-12-27T02:16:00</td>\n",
       "      <td>2014-12-27T02:24:00</td>\n",
       "      <td>M2.2</td>\n",
       "      <td>12249</td>\n",
       "      <td>M</td>\n",
       "    </tr>\n",
       "  </tbody>\n",
       "</table>\n",
       "<p>224 rows × 6 columns</p>\n",
       "</div>"
      ],
      "text/plain": [
       "          event_starttime       event_peaktime        event_endtime  \\\n",
       "3     2014-01-01T18:40:00  2014-01-01T18:52:00  2014-01-01T19:03:00   \n",
       "4     2014-01-02T02:24:00  2014-01-02T02:33:00  2014-01-02T02:56:00   \n",
       "10    2014-01-02T22:12:00  2014-01-02T22:18:00  2014-01-02T22:22:00   \n",
       "19    2014-01-03T12:41:00  2014-01-03T12:50:00  2014-01-03T12:54:00   \n",
       "22    2014-01-03T21:09:00  2014-01-03T21:14:00  2014-01-03T21:19:00   \n",
       "...                   ...                  ...                  ...   \n",
       "2187  2014-12-20T00:11:00  2014-12-20T00:28:00  2014-12-20T00:55:00   \n",
       "2196  2014-12-21T07:18:00  2014-12-21T07:32:00  2014-12-21T07:51:00   \n",
       "2197  2014-12-21T11:24:00  2014-12-21T12:17:00  2014-12-21T12:57:00   \n",
       "2201  2014-12-22T01:33:00  2014-12-22T01:49:00  2014-12-22T01:59:00   \n",
       "2232  2014-12-27T02:03:00  2014-12-27T02:16:00  2014-12-27T02:24:00   \n",
       "\n",
       "     fl_goescls  ar_noaanum goes_class_ind  \n",
       "3          M9.9       11936              M  \n",
       "4          M1.7       11944              M  \n",
       "10         M1.2       11944              M  \n",
       "19         M1.0       11944              M  \n",
       "22         M1.1       11944              M  \n",
       "...         ...         ...            ...  \n",
       "2187       X1.8       12242              X  \n",
       "2196       M1.2       12242              M  \n",
       "2197       M1.0       12241              M  \n",
       "2201       M1.0       12242              M  \n",
       "2232       M2.2       12249              M  \n",
       "\n",
       "[224 rows x 6 columns]"
      ]
     },
     "execution_count": 250,
     "metadata": {},
     "output_type": "execute_result"
    }
   ],
   "source": [
    "flares_hek_c"
   ]
  },
  {
   "cell_type": "code",
   "execution_count": 233,
   "id": "conventional-parameter",
   "metadata": {},
   "outputs": [],
   "source": [
    "aa = parse(\"http://hec.helio-vo.eu/hec/hec_gui_fetch.php?interfacetype=vmstilts&sql=select+%2A+from+goes_sxr_flare+where+time_start%3E%3D%272014-01-01+00%3A00%3A00%27+AND+time_start%3C%3D%272014-12-31+23%3A59%3A59%27&type=votable\")"
   ]
  },
  {
   "cell_type": "code",
   "execution_count": 234,
   "id": "ultimate-indonesia",
   "metadata": {},
   "outputs": [],
   "source": [
    "goes_table_2014 = aa.get_first_table().to_table().to_pandas()"
   ]
  },
  {
   "cell_type": "code",
   "execution_count": 235,
   "id": "stable-woman",
   "metadata": {},
   "outputs": [],
   "source": [
    "goes_table_2014[\"goes_class_ind\"] = [x[0] for x in goes_table_2014[\"xray_class\"]]"
   ]
  },
  {
   "cell_type": "code",
   "execution_count": 251,
   "id": "early-ozone",
   "metadata": {},
   "outputs": [
    {
     "data": {
      "text/plain": [
       "219"
      ]
     },
     "execution_count": 251,
     "metadata": {},
     "output_type": "execute_result"
    }
   ],
   "source": [
    "len(goes_table_2014[goes_table_2014[\"goes_class_ind\"].isin([\"X\", \"M\"])])"
   ]
  },
  {
   "cell_type": "markdown",
   "id": "further-graphics",
   "metadata": {},
   "source": [
    "## Try gev ssw latest events"
   ]
  },
  {
   "cell_type": "code",
   "execution_count": 252,
   "id": "copyrighted-conference",
   "metadata": {},
   "outputs": [],
   "source": [
    "aa = parse(\"http://hec.helio-vo.eu/hec/hec_gui_fetch.php?interfacetype=vmstilts&sql=select+%2A+from+gevloc_sxr_flare+where+time_start%3E%3D%272010-01-01+00%3A00%3A00%27+AND+time_start%3C%3D%272018-12-31+23%3A59%3A59%27&type=votable\")"
   ]
  },
  {
   "cell_type": "code",
   "execution_count": 258,
   "id": "turned-summary",
   "metadata": {},
   "outputs": [],
   "source": [
    "full_table = aa.get_first_table().to_table().to_pandas()"
   ]
  },
  {
   "cell_type": "code",
   "execution_count": 262,
   "id": "several-vegetable",
   "metadata": {},
   "outputs": [
    {
     "data": {
      "text/html": [
       "<div>\n",
       "<style scoped>\n",
       "    .dataframe tbody tr th:only-of-type {\n",
       "        vertical-align: middle;\n",
       "    }\n",
       "\n",
       "    .dataframe tbody tr th {\n",
       "        vertical-align: top;\n",
       "    }\n",
       "\n",
       "    .dataframe thead th {\n",
       "        text-align: right;\n",
       "    }\n",
       "</style>\n",
       "<table border=\"1\" class=\"dataframe\">\n",
       "  <thead>\n",
       "    <tr style=\"text-align: right;\">\n",
       "      <th></th>\n",
       "      <th>time_start</th>\n",
       "      <th>time_end</th>\n",
       "      <th>time_peak</th>\n",
       "      <th>xray_class</th>\n",
       "      <th>lat_hg</th>\n",
       "      <th>long_hg</th>\n",
       "      <th>long_carr</th>\n",
       "      <th>nar</th>\n",
       "      <th>ename</th>\n",
       "      <th>url_nar</th>\n",
       "      <th>url_flare</th>\n",
       "      <th>goes_class_ind</th>\n",
       "    </tr>\n",
       "  </thead>\n",
       "  <tbody>\n",
       "    <tr>\n",
       "      <th>0</th>\n",
       "      <td>2010-01-01 12:02:00.0</td>\n",
       "      <td>2010-01-01 12:18:00.0</td>\n",
       "      <td>2010-01-01 12:09:00.0</td>\n",
       "      <td>B1.9</td>\n",
       "      <td>-29</td>\n",
       "      <td>31</td>\n",
       "      <td>57.28</td>\n",
       "      <td>11039</td>\n",
       "      <td>gev_20100101_1202</td>\n",
       "      <td>http://www.solarmonitor.org/region.php?date=20...</td>\n",
       "      <td>http://www.lmsal.com/solarsoft/latest_events_a...</td>\n",
       "      <td>B</td>\n",
       "    </tr>\n",
       "    <tr>\n",
       "      <th>1</th>\n",
       "      <td>2010-01-01 12:33:00.0</td>\n",
       "      <td>2010-01-01 13:00:00.0</td>\n",
       "      <td>2010-01-01 12:43:00.0</td>\n",
       "      <td>B2.3</td>\n",
       "      <td>-24</td>\n",
       "      <td>34</td>\n",
       "      <td>60.00</td>\n",
       "      <td>11039</td>\n",
       "      <td>gev_20100101_1233</td>\n",
       "      <td>http://www.solarmonitor.org/region.php?date=20...</td>\n",
       "      <td>http://www.lmsal.com/solarsoft/latest_events_a...</td>\n",
       "      <td>B</td>\n",
       "    </tr>\n",
       "    <tr>\n",
       "      <th>2</th>\n",
       "      <td>2010-01-01 23:29:00.0</td>\n",
       "      <td>2010-01-01 23:42:00.0</td>\n",
       "      <td>2010-01-01 23:33:00.0</td>\n",
       "      <td>B1.1</td>\n",
       "      <td>-25</td>\n",
       "      <td>39</td>\n",
       "      <td>59.00</td>\n",
       "      <td>11039</td>\n",
       "      <td>gev_20100101_2329</td>\n",
       "      <td>http://www.solarmonitor.org/region.php?date=20...</td>\n",
       "      <td>http://www.lmsal.com/solarsoft/latest_events_a...</td>\n",
       "      <td>B</td>\n",
       "    </tr>\n",
       "    <tr>\n",
       "      <th>3</th>\n",
       "      <td>2010-01-02 03:10:00.0</td>\n",
       "      <td>2010-01-02 03:19:00.0</td>\n",
       "      <td>2010-01-02 03:13:00.0</td>\n",
       "      <td>B1.1</td>\n",
       "      <td>-26</td>\n",
       "      <td>39</td>\n",
       "      <td>56.98</td>\n",
       "      <td>11039</td>\n",
       "      <td>gev_20100102_0310</td>\n",
       "      <td>http://www.solarmonitor.org/region.php?date=20...</td>\n",
       "      <td>http://www.lmsal.com/solarsoft/latest_events_a...</td>\n",
       "      <td>B</td>\n",
       "    </tr>\n",
       "    <tr>\n",
       "      <th>4</th>\n",
       "      <td>2010-01-02 07:09:00.0</td>\n",
       "      <td>2010-01-02 07:40:00.0</td>\n",
       "      <td>2010-01-02 07:24:00.0</td>\n",
       "      <td>C1.0</td>\n",
       "      <td>-26</td>\n",
       "      <td>41</td>\n",
       "      <td>56.79</td>\n",
       "      <td>11039</td>\n",
       "      <td>gev_20100102_0709</td>\n",
       "      <td>http://www.solarmonitor.org/region.php?date=20...</td>\n",
       "      <td>http://www.lmsal.com/solarsoft/latest_events_a...</td>\n",
       "      <td>C</td>\n",
       "    </tr>\n",
       "  </tbody>\n",
       "</table>\n",
       "</div>"
      ],
      "text/plain": [
       "              time_start               time_end              time_peak  \\\n",
       "0  2010-01-01 12:02:00.0  2010-01-01 12:18:00.0  2010-01-01 12:09:00.0   \n",
       "1  2010-01-01 12:33:00.0  2010-01-01 13:00:00.0  2010-01-01 12:43:00.0   \n",
       "2  2010-01-01 23:29:00.0  2010-01-01 23:42:00.0  2010-01-01 23:33:00.0   \n",
       "3  2010-01-02 03:10:00.0  2010-01-02 03:19:00.0  2010-01-02 03:13:00.0   \n",
       "4  2010-01-02 07:09:00.0  2010-01-02 07:40:00.0  2010-01-02 07:24:00.0   \n",
       "\n",
       "  xray_class  lat_hg  long_hg  long_carr    nar              ename  \\\n",
       "0       B1.9     -29       31      57.28  11039  gev_20100101_1202   \n",
       "1       B2.3     -24       34      60.00  11039  gev_20100101_1233   \n",
       "2       B1.1     -25       39      59.00  11039  gev_20100101_2329   \n",
       "3       B1.1     -26       39      56.98  11039  gev_20100102_0310   \n",
       "4       C1.0     -26       41      56.79  11039  gev_20100102_0709   \n",
       "\n",
       "                                             url_nar  \\\n",
       "0  http://www.solarmonitor.org/region.php?date=20...   \n",
       "1  http://www.solarmonitor.org/region.php?date=20...   \n",
       "2  http://www.solarmonitor.org/region.php?date=20...   \n",
       "3  http://www.solarmonitor.org/region.php?date=20...   \n",
       "4  http://www.solarmonitor.org/region.php?date=20...   \n",
       "\n",
       "                                           url_flare goes_class_ind  \n",
       "0  http://www.lmsal.com/solarsoft/latest_events_a...              B  \n",
       "1  http://www.lmsal.com/solarsoft/latest_events_a...              B  \n",
       "2  http://www.lmsal.com/solarsoft/latest_events_a...              B  \n",
       "3  http://www.lmsal.com/solarsoft/latest_events_a...              B  \n",
       "4  http://www.lmsal.com/solarsoft/latest_events_a...              C  "
      ]
     },
     "execution_count": 262,
     "metadata": {},
     "output_type": "execute_result"
    }
   ],
   "source": [
    "full_table.head()"
   ]
  },
  {
   "cell_type": "code",
   "execution_count": 263,
   "id": "detected-traveler",
   "metadata": {},
   "outputs": [],
   "source": [
    "full_table[\"goes_class_ind\"] = [x[0] for x in full_table[\"xray_class\"]]"
   ]
  },
  {
   "cell_type": "code",
   "execution_count": 264,
   "id": "suburban-value",
   "metadata": {},
   "outputs": [],
   "source": [
    "full_table_c = full_table[full_table[\"goes_class_ind\"].isin([\"X\", \"M\", \"C\"])]"
   ]
  },
  {
   "cell_type": "code",
   "execution_count": 265,
   "id": "stretch-china",
   "metadata": {},
   "outputs": [
    {
     "data": {
      "text/plain": [
       "8773"
      ]
     },
     "execution_count": 265,
     "metadata": {},
     "output_type": "execute_result"
    }
   ],
   "source": [
    "len(full_table_c)"
   ]
  },
  {
   "cell_type": "code",
   "execution_count": 270,
   "id": "intense-camel",
   "metadata": {},
   "outputs": [],
   "source": [
    "full_table_c = full_table_c.drop_duplicates(subset=\"time_peak\")"
   ]
  },
  {
   "cell_type": "code",
   "execution_count": 271,
   "id": "exclusive-quality",
   "metadata": {},
   "outputs": [
    {
     "data": {
      "text/plain": [
       "8577"
      ]
     },
     "execution_count": 271,
     "metadata": {},
     "output_type": "execute_result"
    }
   ],
   "source": [
    "len(full_table_c)"
   ]
  },
  {
   "cell_type": "code",
   "execution_count": 276,
   "id": "collected-participant",
   "metadata": {},
   "outputs": [
    {
     "name": "stdout",
     "output_type": "stream",
     "text": [
      "X: 49, M: 721, C: 7807\n"
     ]
    }
   ],
   "source": [
    "print(\"X: {:d}, M: {:d}, C: {:d}\".format(np.sum(full_table_c[\"goes_class_ind\"].isin([\"X\"])), \n",
    "                                         np.sum(full_table_c[\"goes_class_ind\"].isin([\"M\"])),\n",
    "                                         np.sum(full_table_c[\"goes_class_ind\"].isin([\"C\"]))))"
   ]
  },
  {
   "cell_type": "markdown",
   "id": "drawn-internet",
   "metadata": {},
   "source": [
    "## Donki tests"
   ]
  },
  {
   "cell_type": "code",
   "execution_count": 277,
   "id": "super-reputation",
   "metadata": {},
   "outputs": [],
   "source": [
    "url = \"https://kauai.ccmc.gsfc.nasa.gov/DONKI/WS/get/FLR?startDate=2010-01-01&endDate=2018-12-31\""
   ]
  },
  {
   "cell_type": "code",
   "execution_count": 278,
   "id": "curious-sequence",
   "metadata": {},
   "outputs": [
    {
     "data": {
      "text/plain": [
       "'https://kauai.ccmc.gsfc.nasa.gov/DONKI/WS/get/FLR?startDate=2010-01-01&endDate=2018-12-31'"
      ]
     },
     "execution_count": 278,
     "metadata": {},
     "output_type": "execute_result"
    }
   ],
   "source": [
    "url"
   ]
  },
  {
   "cell_type": "code",
   "execution_count": 280,
   "id": "informative-position",
   "metadata": {},
   "outputs": [],
   "source": [
    "flares_donki = pd.read_json(url)"
   ]
  },
  {
   "cell_type": "code",
   "execution_count": 281,
   "id": "accomplished-technical",
   "metadata": {},
   "outputs": [
    {
     "data": {
      "text/plain": [
       "flrID                                    2018-05-28T17:06:00-FLR-001\n",
       "instruments             [{'displayName': 'GOES15: SEM/XRS 1.0-8.0'}]\n",
       "beginTime                                          2018-05-28T17:06Z\n",
       "peakTime                                           2018-05-28T17:14Z\n",
       "endTime                                            2018-05-28T17:40Z\n",
       "classType                                                       C3.3\n",
       "sourceLocation                                                N15E18\n",
       "activeRegionNum                                              12712.0\n",
       "linkedEvents                                                    None\n",
       "link               https://kauai.ccmc.gsfc.nasa.gov/DONKI/view/FL...\n",
       "Name: 567, dtype: object"
      ]
     },
     "execution_count": 281,
     "metadata": {},
     "output_type": "execute_result"
    }
   ],
   "source": [
    "flares_donki.iloc[-1]"
   ]
  },
  {
   "cell_type": "code",
   "execution_count": 282,
   "id": "perceived-insulin",
   "metadata": {},
   "outputs": [
    {
     "data": {
      "text/plain": [
       "568"
      ]
     },
     "execution_count": 282,
     "metadata": {},
     "output_type": "execute_result"
    }
   ],
   "source": [
    "len(flares_donki)"
   ]
  },
  {
   "cell_type": "code",
   "execution_count": 283,
   "id": "listed-positive",
   "metadata": {},
   "outputs": [],
   "source": [
    "url2 = \"https://kauai.ccmc.gsfc.nasa.gov/DONKI/WS/get/FLR?startDate=2010-01-01&endDate=2015-01-01\""
   ]
  },
  {
   "cell_type": "code",
   "execution_count": 285,
   "id": "sustainable-basis",
   "metadata": {},
   "outputs": [],
   "source": [
    "flareS_2 = pd.read_json(url2)"
   ]
  },
  {
   "cell_type": "code",
   "execution_count": 286,
   "id": "prostate-assignment",
   "metadata": {},
   "outputs": [
    {
     "data": {
      "text/html": [
       "<div>\n",
       "<style scoped>\n",
       "    .dataframe tbody tr th:only-of-type {\n",
       "        vertical-align: middle;\n",
       "    }\n",
       "\n",
       "    .dataframe tbody tr th {\n",
       "        vertical-align: top;\n",
       "    }\n",
       "\n",
       "    .dataframe thead th {\n",
       "        text-align: right;\n",
       "    }\n",
       "</style>\n",
       "<table border=\"1\" class=\"dataframe\">\n",
       "  <thead>\n",
       "    <tr style=\"text-align: right;\">\n",
       "      <th></th>\n",
       "      <th>flrID</th>\n",
       "      <th>instruments</th>\n",
       "      <th>beginTime</th>\n",
       "      <th>peakTime</th>\n",
       "      <th>endTime</th>\n",
       "      <th>classType</th>\n",
       "      <th>sourceLocation</th>\n",
       "      <th>activeRegionNum</th>\n",
       "      <th>linkedEvents</th>\n",
       "      <th>link</th>\n",
       "    </tr>\n",
       "  </thead>\n",
       "  <tbody>\n",
       "    <tr>\n",
       "      <th>0</th>\n",
       "      <td>2010-04-03T09:04:00-FLR-001</td>\n",
       "      <td>[{'displayName': 'GOES14: SEM/XRS 1.0-8.0'}]</td>\n",
       "      <td>2010-04-03T09:04Z</td>\n",
       "      <td>2010-04-03T09:54Z</td>\n",
       "      <td>2010-04-03T10:58Z</td>\n",
       "      <td>B7.4</td>\n",
       "      <td>S25W03</td>\n",
       "      <td>11059.0</td>\n",
       "      <td>[{'activityID': '2010-04-03T09:54:00-CME-001'}]</td>\n",
       "      <td>https://kauai.ccmc.gsfc.nasa.gov/DONKI/view/FL...</td>\n",
       "    </tr>\n",
       "    <tr>\n",
       "      <th>1</th>\n",
       "      <td>2010-06-12T00:30:00-FLR-001</td>\n",
       "      <td>[{'displayName': 'GOES14: SEM/XRS 1.0-8.0'}]</td>\n",
       "      <td>2010-06-12T00:30Z</td>\n",
       "      <td>2010-06-12T00:57Z</td>\n",
       "      <td>2010-06-12T01:02Z</td>\n",
       "      <td>M2.0</td>\n",
       "      <td>N22W43</td>\n",
       "      <td>11081.0</td>\n",
       "      <td>None</td>\n",
       "      <td>https://kauai.ccmc.gsfc.nasa.gov/DONKI/view/FL...</td>\n",
       "    </tr>\n",
       "    <tr>\n",
       "      <th>2</th>\n",
       "      <td>2010-08-07T17:55:00-FLR-001</td>\n",
       "      <td>[{'displayName': 'GOES14: SEM/XRS 1.0-8.0'}]</td>\n",
       "      <td>2010-08-07T17:55Z</td>\n",
       "      <td>2010-08-07T18:24Z</td>\n",
       "      <td>2010-08-07T18:47Z</td>\n",
       "      <td>M1.0</td>\n",
       "      <td>N14E37</td>\n",
       "      <td>11093.0</td>\n",
       "      <td>None</td>\n",
       "      <td>https://kauai.ccmc.gsfc.nasa.gov/DONKI/view/FL...</td>\n",
       "    </tr>\n",
       "    <tr>\n",
       "      <th>3</th>\n",
       "      <td>2010-08-14T09:38:00-FLR-001</td>\n",
       "      <td>[{'displayName': 'GOES15: SEM/XRS 1.0-8.0'}]</td>\n",
       "      <td>2010-08-14T09:38Z</td>\n",
       "      <td>2010-08-14T10:05Z</td>\n",
       "      <td>2010-08-14T10:31Z</td>\n",
       "      <td>C4.4</td>\n",
       "      <td>N11W65</td>\n",
       "      <td>11093.0</td>\n",
       "      <td>[{'activityID': '2010-08-14T12:30:00-SEP-001'}]</td>\n",
       "      <td>https://kauai.ccmc.gsfc.nasa.gov/DONKI/view/FL...</td>\n",
       "    </tr>\n",
       "    <tr>\n",
       "      <th>4</th>\n",
       "      <td>2010-08-18T04:45:00-FLR-001</td>\n",
       "      <td>[{'displayName': 'GOES15: SEM/XRS 1.0-8.0'}]</td>\n",
       "      <td>2010-08-18T04:45Z</td>\n",
       "      <td>2010-08-18T05:48Z</td>\n",
       "      <td>2010-08-18T06:51Z</td>\n",
       "      <td>C4.5</td>\n",
       "      <td>N18W88</td>\n",
       "      <td>11099.0</td>\n",
       "      <td>[{'activityID': '2010-08-18T06:00:00-CME-001'}]</td>\n",
       "      <td>https://kauai.ccmc.gsfc.nasa.gov/DONKI/view/FL...</td>\n",
       "    </tr>\n",
       "    <tr>\n",
       "      <th>...</th>\n",
       "      <td>...</td>\n",
       "      <td>...</td>\n",
       "      <td>...</td>\n",
       "      <td>...</td>\n",
       "      <td>...</td>\n",
       "      <td>...</td>\n",
       "      <td>...</td>\n",
       "      <td>...</td>\n",
       "      <td>...</td>\n",
       "      <td>...</td>\n",
       "    </tr>\n",
       "    <tr>\n",
       "      <th>313</th>\n",
       "      <td>2014-12-20T00:11:00-FLR-001</td>\n",
       "      <td>[{'displayName': 'GOES15: SEM/XRS 1.0-8.0'}]</td>\n",
       "      <td>2014-12-20T00:11Z</td>\n",
       "      <td>2014-12-20T00:24Z</td>\n",
       "      <td>2014-12-20T00:55Z</td>\n",
       "      <td>X1.8</td>\n",
       "      <td>S19W28</td>\n",
       "      <td>12242.0</td>\n",
       "      <td>[{'activityID': '2014-12-20T01:25:00-CME-001'}]</td>\n",
       "      <td>https://kauai.ccmc.gsfc.nasa.gov/DONKI/view/FL...</td>\n",
       "    </tr>\n",
       "    <tr>\n",
       "      <th>314</th>\n",
       "      <td>2014-12-21T07:18:00-FLR-001</td>\n",
       "      <td>[{'displayName': 'GOES15: SEM/XRS 1.0-8.0'}]</td>\n",
       "      <td>2014-12-21T07:18Z</td>\n",
       "      <td>2014-12-21T07:32Z</td>\n",
       "      <td>2014-12-21T07:51Z</td>\n",
       "      <td>M1.2</td>\n",
       "      <td>S19W49</td>\n",
       "      <td>12242.0</td>\n",
       "      <td>None</td>\n",
       "      <td>https://kauai.ccmc.gsfc.nasa.gov/DONKI/view/FL...</td>\n",
       "    </tr>\n",
       "    <tr>\n",
       "      <th>315</th>\n",
       "      <td>2014-12-21T11:24:00-FLR-001</td>\n",
       "      <td>[{'displayName': 'GOES15: SEM/XRS 1.0-8.0'}]</td>\n",
       "      <td>2014-12-21T11:24Z</td>\n",
       "      <td>2014-12-21T12:17Z</td>\n",
       "      <td>2014-12-21T12:57Z</td>\n",
       "      <td>M1.0</td>\n",
       "      <td>S11W28</td>\n",
       "      <td>12241.0</td>\n",
       "      <td>None</td>\n",
       "      <td>https://kauai.ccmc.gsfc.nasa.gov/DONKI/view/FL...</td>\n",
       "    </tr>\n",
       "    <tr>\n",
       "      <th>316</th>\n",
       "      <td>2014-12-22T01:33:00-FLR-001</td>\n",
       "      <td>[{'displayName': 'GOES15: SEM/XRS 1.0-8.0'}]</td>\n",
       "      <td>2014-12-22T01:33Z</td>\n",
       "      <td>2014-12-22T01:49Z</td>\n",
       "      <td>2014-12-22T01:59Z</td>\n",
       "      <td>M1.0</td>\n",
       "      <td>S18W60</td>\n",
       "      <td>12242.0</td>\n",
       "      <td>None</td>\n",
       "      <td>https://kauai.ccmc.gsfc.nasa.gov/DONKI/view/FL...</td>\n",
       "    </tr>\n",
       "    <tr>\n",
       "      <th>317</th>\n",
       "      <td>2014-12-27T02:03:00-FLR-001</td>\n",
       "      <td>[{'displayName': 'GOES15: SEM/XRS 1.0-8.0'}]</td>\n",
       "      <td>2014-12-27T02:03Z</td>\n",
       "      <td>2014-12-27T02:16Z</td>\n",
       "      <td>2014-12-27T02:24Z</td>\n",
       "      <td>M2.2</td>\n",
       "      <td>S10W48</td>\n",
       "      <td>12249.0</td>\n",
       "      <td>None</td>\n",
       "      <td>https://kauai.ccmc.gsfc.nasa.gov/DONKI/view/FL...</td>\n",
       "    </tr>\n",
       "  </tbody>\n",
       "</table>\n",
       "<p>318 rows × 10 columns</p>\n",
       "</div>"
      ],
      "text/plain": [
       "                           flrID  \\\n",
       "0    2010-04-03T09:04:00-FLR-001   \n",
       "1    2010-06-12T00:30:00-FLR-001   \n",
       "2    2010-08-07T17:55:00-FLR-001   \n",
       "3    2010-08-14T09:38:00-FLR-001   \n",
       "4    2010-08-18T04:45:00-FLR-001   \n",
       "..                           ...   \n",
       "313  2014-12-20T00:11:00-FLR-001   \n",
       "314  2014-12-21T07:18:00-FLR-001   \n",
       "315  2014-12-21T11:24:00-FLR-001   \n",
       "316  2014-12-22T01:33:00-FLR-001   \n",
       "317  2014-12-27T02:03:00-FLR-001   \n",
       "\n",
       "                                      instruments          beginTime  \\\n",
       "0    [{'displayName': 'GOES14: SEM/XRS 1.0-8.0'}]  2010-04-03T09:04Z   \n",
       "1    [{'displayName': 'GOES14: SEM/XRS 1.0-8.0'}]  2010-06-12T00:30Z   \n",
       "2    [{'displayName': 'GOES14: SEM/XRS 1.0-8.0'}]  2010-08-07T17:55Z   \n",
       "3    [{'displayName': 'GOES15: SEM/XRS 1.0-8.0'}]  2010-08-14T09:38Z   \n",
       "4    [{'displayName': 'GOES15: SEM/XRS 1.0-8.0'}]  2010-08-18T04:45Z   \n",
       "..                                            ...                ...   \n",
       "313  [{'displayName': 'GOES15: SEM/XRS 1.0-8.0'}]  2014-12-20T00:11Z   \n",
       "314  [{'displayName': 'GOES15: SEM/XRS 1.0-8.0'}]  2014-12-21T07:18Z   \n",
       "315  [{'displayName': 'GOES15: SEM/XRS 1.0-8.0'}]  2014-12-21T11:24Z   \n",
       "316  [{'displayName': 'GOES15: SEM/XRS 1.0-8.0'}]  2014-12-22T01:33Z   \n",
       "317  [{'displayName': 'GOES15: SEM/XRS 1.0-8.0'}]  2014-12-27T02:03Z   \n",
       "\n",
       "              peakTime            endTime classType sourceLocation  \\\n",
       "0    2010-04-03T09:54Z  2010-04-03T10:58Z      B7.4         S25W03   \n",
       "1    2010-06-12T00:57Z  2010-06-12T01:02Z      M2.0         N22W43   \n",
       "2    2010-08-07T18:24Z  2010-08-07T18:47Z      M1.0         N14E37   \n",
       "3    2010-08-14T10:05Z  2010-08-14T10:31Z      C4.4         N11W65   \n",
       "4    2010-08-18T05:48Z  2010-08-18T06:51Z      C4.5         N18W88   \n",
       "..                 ...                ...       ...            ...   \n",
       "313  2014-12-20T00:24Z  2014-12-20T00:55Z      X1.8         S19W28   \n",
       "314  2014-12-21T07:32Z  2014-12-21T07:51Z      M1.2         S19W49   \n",
       "315  2014-12-21T12:17Z  2014-12-21T12:57Z      M1.0         S11W28   \n",
       "316  2014-12-22T01:49Z  2014-12-22T01:59Z      M1.0         S18W60   \n",
       "317  2014-12-27T02:16Z  2014-12-27T02:24Z      M2.2         S10W48   \n",
       "\n",
       "     activeRegionNum                                     linkedEvents  \\\n",
       "0            11059.0  [{'activityID': '2010-04-03T09:54:00-CME-001'}]   \n",
       "1            11081.0                                             None   \n",
       "2            11093.0                                             None   \n",
       "3            11093.0  [{'activityID': '2010-08-14T12:30:00-SEP-001'}]   \n",
       "4            11099.0  [{'activityID': '2010-08-18T06:00:00-CME-001'}]   \n",
       "..               ...                                              ...   \n",
       "313          12242.0  [{'activityID': '2014-12-20T01:25:00-CME-001'}]   \n",
       "314          12242.0                                             None   \n",
       "315          12241.0                                             None   \n",
       "316          12242.0                                             None   \n",
       "317          12249.0                                             None   \n",
       "\n",
       "                                                  link  \n",
       "0    https://kauai.ccmc.gsfc.nasa.gov/DONKI/view/FL...  \n",
       "1    https://kauai.ccmc.gsfc.nasa.gov/DONKI/view/FL...  \n",
       "2    https://kauai.ccmc.gsfc.nasa.gov/DONKI/view/FL...  \n",
       "3    https://kauai.ccmc.gsfc.nasa.gov/DONKI/view/FL...  \n",
       "4    https://kauai.ccmc.gsfc.nasa.gov/DONKI/view/FL...  \n",
       "..                                                 ...  \n",
       "313  https://kauai.ccmc.gsfc.nasa.gov/DONKI/view/FL...  \n",
       "314  https://kauai.ccmc.gsfc.nasa.gov/DONKI/view/FL...  \n",
       "315  https://kauai.ccmc.gsfc.nasa.gov/DONKI/view/FL...  \n",
       "316  https://kauai.ccmc.gsfc.nasa.gov/DONKI/view/FL...  \n",
       "317  https://kauai.ccmc.gsfc.nasa.gov/DONKI/view/FL...  \n",
       "\n",
       "[318 rows x 10 columns]"
      ]
     },
     "execution_count": 286,
     "metadata": {},
     "output_type": "execute_result"
    }
   ],
   "source": [
    "flareS_2"
   ]
  },
  {
   "cell_type": "code",
   "execution_count": null,
   "id": "continental-export",
   "metadata": {},
   "outputs": [],
   "source": []
  }
 ],
 "metadata": {
  "kernelspec": {
   "display_name": "Python 3",
   "language": "python",
   "name": "python3"
  },
  "language_info": {
   "codemirror_mode": {
    "name": "ipython",
    "version": 3
   },
   "file_extension": ".py",
   "mimetype": "text/x-python",
   "name": "python",
   "nbconvert_exporter": "python",
   "pygments_lexer": "ipython3",
   "version": "3.7.8"
  }
 },
 "nbformat": 4,
 "nbformat_minor": 5
}
