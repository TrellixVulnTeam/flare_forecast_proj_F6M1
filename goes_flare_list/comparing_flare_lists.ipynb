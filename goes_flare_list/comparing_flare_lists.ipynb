{
 "cells": [
  {
   "cell_type": "code",
   "execution_count": 1,
   "id": "handled-assurance",
   "metadata": {},
   "outputs": [],
   "source": [
    "import urllib\n",
    "import pandas as pd \n",
    "from sunpy.time import TimeRange\n",
    "from flarelist_utils import read_swpc_reports, read_ngdc_goes_reports\n",
    "from dateutil.relativedelta import relativedelta\n",
    "import pandas as pd \n",
    "import numpy as np\n",
    "import datetime\n",
    "import glob\n",
    "import h5netcdf\n",
    "import matplotlib.pyplot as plt\n",
    "from scipy.io import readsav\n",
    "import warnings\n",
    "warnings.filterwarnings(\"ignore\")"
   ]
  },
  {
   "cell_type": "code",
   "execution_count": 2,
   "id": "whole-forwarding",
   "metadata": {},
   "outputs": [],
   "source": [
    "def print_flares(df):\n",
    "    x = np.sum(df[\"goes_class_ind\"].isin([\"X\"]))\n",
    "    m = np.sum(df[\"goes_class_ind\"].isin([\"M\"]))\n",
    "    c = np.sum(df[\"goes_class_ind\"].isin([\"C\"]))\n",
    "    print(\"X: {:d}, M: {:d}, C: {:d}\".format(x, m, c))"
   ]
  },
  {
   "cell_type": "code",
   "execution_count": 3,
   "id": "aggressive-renewal",
   "metadata": {},
   "outputs": [],
   "source": [
    "def get_yearly_swpc(year):\n",
    "    year = datetime.datetime(year, 1, 1)\n",
    "    filedir = \"./goes_files/%Y_events/%Y*events*\"\n",
    "    all_files = []\n",
    "    all_files += glob.glob(year.strftime(filedir))\n",
    "    all_files.sort()\n",
    "    df_flares = read_swpc_reports(all_files[0])\n",
    "    for f in all_files[1:]:\n",
    "        df = read_swpc_reports(f)\n",
    "        df_flares = df_flares.append(df)\n",
    "    df_flares.reset_index(inplace=True, drop=True)\n",
    "    df_flares[\"ts\"] = df_flares.date + df_flares.start_time\n",
    "    df_flares.drop_duplicates(subset=\"ts\")\n",
    "    return df_flares[df_flares[\"goes_class_ind\"].isin([\"C\", \"X\", \"M\"])]\n",
    "\n",
    "\n",
    "def get_yearly_ngdc(year):\n",
    "    year = datetime.datetime(year, 1, 1)\n",
    "    file = \"./goes_files/goes-xrs-report_%Y.txt\"\n",
    "    df = read_ngdc_goes_reports(year.strftime(file))\n",
    "    df[\"ts\"] = df.date + df.start_time\n",
    "    df.drop_duplicates(subset=\"ts\")\n",
    "    return df[df[\"goes_class_ind\"].isin([\"X\", \"M\", \"C\"])]\n",
    "\n",
    "def get_yearly_ssw(year):\n",
    "    tstart = datetime.datetime(year, 1, 1)\n",
    "    tend = datetime.datetime(year, 12, 31)\n",
    "    return ssw[(ssw[\"datetime\"]>=tstart) & (ssw[\"datetime\"]<=tend)]\n",
    "    \n",
    "def get_yearly_hek(year):\n",
    "    tstart = datetime.datetime(year, 1, 1)\n",
    "    tend = datetime.datetime(year, 12, 31)\n",
    "    return hek_flares[(hek_flares[\"datetime\"]>=tstart) & (hek_flares[\"datetime\"]<=tend)]"
   ]
  },
  {
   "cell_type": "code",
   "execution_count": 4,
   "id": "arabic-disaster",
   "metadata": {},
   "outputs": [],
   "source": [
    "ssw_flarelist = pd.read_csv(\"full_sswlatest.csv\")\n",
    "ssw = ssw_flarelist[ssw_flarelist[\"goes_class_ind\"].isin([\"X\", \"M\", \"C\"])]\n",
    "ssw[\"datetime\"] = pd.to_datetime(ssw[\"time_start\"])"
   ]
  },
  {
   "cell_type": "code",
   "execution_count": 5,
   "id": "curious-scratch",
   "metadata": {},
   "outputs": [
    {
     "data": {
      "text/plain": [
       "8773"
      ]
     },
     "execution_count": 5,
     "metadata": {},
     "output_type": "execute_result"
    }
   ],
   "source": [
    "len(ssw)"
   ]
  },
  {
   "cell_type": "code",
   "execution_count": 6,
   "id": "norwegian-binding",
   "metadata": {},
   "outputs": [
    {
     "name": "stdout",
     "output_type": "stream",
     "text": [
      "2010-01-02 07:09:00 2018-03-30 07:57:00\n"
     ]
    }
   ],
   "source": [
    "print(ssw.datetime.min(), ssw.datetime.max())"
   ]
  },
  {
   "cell_type": "markdown",
   "id": "handy-wrong",
   "metadata": {},
   "source": [
    "## Lets look at HEK flares"
   ]
  },
  {
   "cell_type": "code",
   "execution_count": 7,
   "id": "single-trunk",
   "metadata": {},
   "outputs": [
    {
     "data": {
      "text/html": [
       "<div>\n",
       "<style scoped>\n",
       "    .dataframe tbody tr th:only-of-type {\n",
       "        vertical-align: middle;\n",
       "    }\n",
       "\n",
       "    .dataframe tbody tr th {\n",
       "        vertical-align: top;\n",
       "    }\n",
       "\n",
       "    .dataframe thead th {\n",
       "        text-align: right;\n",
       "    }\n",
       "</style>\n",
       "<table border=\"1\" class=\"dataframe\">\n",
       "  <thead>\n",
       "    <tr style=\"text-align: right;\">\n",
       "      <th></th>\n",
       "      <th>event_starttime</th>\n",
       "      <th>event_peaktime</th>\n",
       "      <th>event_endtime</th>\n",
       "      <th>fl_goescls</th>\n",
       "      <th>ar_noaanum</th>\n",
       "    </tr>\n",
       "  </thead>\n",
       "  <tbody>\n",
       "    <tr>\n",
       "      <th>0</th>\n",
       "      <td>2009-07-05T07:07:00</td>\n",
       "      <td>2009-07-05T07:13:00</td>\n",
       "      <td>2009-07-05T07:18:00</td>\n",
       "      <td>C2.7</td>\n",
       "      <td>11024</td>\n",
       "    </tr>\n",
       "    <tr>\n",
       "      <th>1</th>\n",
       "      <td>2009-07-06T16:59:00</td>\n",
       "      <td>2009-07-06T17:05:00</td>\n",
       "      <td>2009-07-06T17:11:00</td>\n",
       "      <td>C1.0</td>\n",
       "      <td>11024</td>\n",
       "    </tr>\n",
       "  </tbody>\n",
       "</table>\n",
       "</div>"
      ],
      "text/plain": [
       "       event_starttime       event_peaktime        event_endtime fl_goescls  \\\n",
       "0  2009-07-05T07:07:00  2009-07-05T07:13:00  2009-07-05T07:18:00       C2.7   \n",
       "1  2009-07-06T16:59:00  2009-07-06T17:05:00  2009-07-06T17:11:00       C1.0   \n",
       "\n",
       "   ar_noaanum  \n",
       "0       11024  \n",
       "1       11024  "
      ]
     },
     "execution_count": 7,
     "metadata": {},
     "output_type": "execute_result"
    }
   ],
   "source": [
    "hek_flares_all = pd.read_csv(\"solar_cycle24_flares.csv\")\n",
    "hek_flares_all.head(2)"
   ]
  },
  {
   "cell_type": "code",
   "execution_count": 8,
   "id": "optional-morrison",
   "metadata": {},
   "outputs": [],
   "source": [
    "hek_flares_all[\"goes_class_ind\"] = [x[0] for x in hek_flares_all[\"fl_goescls\"]]\n",
    "hek_flares_all[\"datetime\"] = pd.to_datetime(hek_flares_all[\"event_starttime\"])\n",
    "hek_flares = hek_flares_all[hek_flares_all[\"goes_class_ind\"].isin([\"X\", \"M\", \"C\"])]"
   ]
  },
  {
   "cell_type": "code",
   "execution_count": 9,
   "id": "offensive-reverse",
   "metadata": {},
   "outputs": [],
   "source": [
    "hek_flares = hek_flares[(hek_flares.datetime>=\"2010-01-01\")&(hek_flares.datetime<=\"2018-12-31\")]"
   ]
  },
  {
   "cell_type": "code",
   "execution_count": 10,
   "id": "statistical-rocket",
   "metadata": {},
   "outputs": [],
   "source": [
    "hek_flares.reset_index(drop=True, inplace=True)"
   ]
  },
  {
   "cell_type": "code",
   "execution_count": 11,
   "id": "tamil-momentum",
   "metadata": {},
   "outputs": [
    {
     "data": {
      "text/plain": [
       "8619"
      ]
     },
     "execution_count": 11,
     "metadata": {},
     "output_type": "execute_result"
    }
   ],
   "source": [
    "hek_flares = hek_flares.drop_duplicates(subset=\"event_starttime\")\n",
    "len(hek_flares)"
   ]
  },
  {
   "cell_type": "code",
   "execution_count": 12,
   "id": "atmospheric-glory",
   "metadata": {},
   "outputs": [
    {
     "data": {
      "text/plain": [
       "8619"
      ]
     },
     "execution_count": 12,
     "metadata": {},
     "output_type": "execute_result"
    }
   ],
   "source": [
    "len(hek_flares.drop_duplicates(subset=\"event_starttime\"))"
   ]
  },
  {
   "cell_type": "code",
   "execution_count": 13,
   "id": "later-laugh",
   "metadata": {},
   "outputs": [
    {
     "name": "stdout",
     "output_type": "stream",
     "text": [
      "SSW from helio:\n",
      "X: 49, M: 735, C: 7989\n",
      "HEK:\n",
      "X: 49, M: 756, C: 7814\n"
     ]
    }
   ],
   "source": [
    "print(\"SSW from helio:\"); print_flares(ssw)\n",
    "print(\"HEK:\"); print_flares(hek_flares)"
   ]
  },
  {
   "cell_type": "code",
   "execution_count": 14,
   "id": "tender-triangle",
   "metadata": {},
   "outputs": [],
   "source": [
    "def check_for_years(year):\n",
    "    print(year)\n",
    "    print_flares(get_yearly_hek(year))\n",
    "    print_flares(get_yearly_ssw(year))\n",
    "    print_flares(get_yearly_ngdc(year))\n",
    "    print_flares(get_yearly_swpc(year))"
   ]
  },
  {
   "cell_type": "code",
   "execution_count": 15,
   "id": "passing-berry",
   "metadata": {},
   "outputs": [
    {
     "name": "stdout",
     "output_type": "stream",
     "text": [
      "2010\n",
      "X: 0, M: 23, C: 169\n",
      "X: 0, M: 19, C: 161\n",
      "X: 0, M: 23, C: 170\n",
      "X: 0, M: 23, C: 170\n",
      "2011\n",
      "X: 8, M: 109, C: 1199\n",
      "X: 8, M: 105, C: 1254\n",
      "X: 8, M: 111, C: 1200\n",
      "X: 8, M: 111, C: 1200\n",
      "2012\n",
      "X: 7, M: 129, C: 1336\n",
      "X: 7, M: 112, C: 1216\n",
      "X: 7, M: 123, C: 1259\n",
      "X: 7, M: 129, C: 1337\n",
      "2013\n",
      "X: 12, M: 98, C: 1349\n",
      "X: 12, M: 96, C: 1417\n",
      "X: 12, M: 99, C: 1356\n",
      "X: 12, M: 98, C: 1353\n",
      "2014\n",
      "X: 16, M: 209, C: 1785\n",
      "X: 16, M: 210, C: 1906\n",
      "X: 16, M: 205, C: 1797\n",
      "X: 16, M: 207, C: 1798\n",
      "2015\n",
      "X: 2, M: 130, C: 1378\n",
      "X: 2, M: 132, C: 1411\n",
      "X: 2, M: 104, C: 1301\n",
      "X: 2, M: 125, C: 1377\n",
      "2016\n",
      "X: 0, M: 16, C: 324\n",
      "X: 0, M: 17, C: 343\n",
      "X: 0, M: 16, C: 302\n",
      "X: 0, M: 16, C: 321\n"
     ]
    }
   ],
   "source": [
    "for i in [2010, 2011, 2012, 2013, 2014, 2015, 2016]:\n",
    "    check_for_years(i)"
   ]
  },
  {
   "cell_type": "markdown",
   "id": "reliable-television",
   "metadata": {},
   "source": [
    "## Lets look at the flares from the GOES IDL workbench\n",
    "\n",
    "```\n",
    "a = ogoes()\n",
    "gev = a->get_gev('01-Jan-2010', '31-Dec-2018', /struct)\n",
    "save, gev, filename=\"goes_flares_from_idl.sav\"\n",
    "```"
   ]
  },
  {
   "cell_type": "code",
   "execution_count": 16,
   "id": "numerous-substitute",
   "metadata": {},
   "outputs": [],
   "source": [
    "gev_data = readsav(\"goes_flares_from_idl.sav\")[\"gev\"]"
   ]
  },
  {
   "cell_type": "code",
   "execution_count": 17,
   "id": "dramatic-vertical",
   "metadata": {},
   "outputs": [],
   "source": [
    "gev_dict = {k : gev_data[k].astype(str) for k in gev_data.dtype.names}\n",
    "gev_df = pd.DataFrame(gev_dict)"
   ]
  },
  {
   "cell_type": "code",
   "execution_count": 18,
   "id": "attempted-measure",
   "metadata": {},
   "outputs": [],
   "source": [
    "gev_df[\"goes_class_ind\"] = [x[0] for x in gev_df[\"CLASS\"]]\n",
    "gev_df[\"datetime\"] = pd.to_datetime(gev_df[\"GSTART\"])"
   ]
  },
  {
   "cell_type": "code",
   "execution_count": 19,
   "id": "military-resolution",
   "metadata": {},
   "outputs": [
    {
     "name": "stdout",
     "output_type": "stream",
     "text": [
      "2010-01-02 07:09:00 2018-07-06 19:41:00\n"
     ]
    }
   ],
   "source": [
    "gev_df_c = gev_df[gev_df[\"goes_class_ind\"].isin([\"C\", \"M\", \"X\"])]\n",
    "print(gev_df_c.datetime.min(), gev_df_c.datetime.max())"
   ]
  },
  {
   "cell_type": "code",
   "execution_count": 20,
   "id": "linear-brazil",
   "metadata": {},
   "outputs": [
    {
     "name": "stdout",
     "output_type": "stream",
     "text": [
      "GEV sswidl:\n",
      "X: 49, M: 740, C: 7736\n",
      "SSW from helio:\n",
      "X: 49, M: 735, C: 7989\n",
      "HEK:\n",
      "X: 49, M: 756, C: 7814\n"
     ]
    }
   ],
   "source": [
    "print(\"GEV sswidl:\"); print_flares(gev_df_c)\n",
    "print(\"SSW from helio:\"); print_flares(ssw)\n",
    "print(\"HEK:\"); print_flares(hek_flares)"
   ]
  },
  {
   "cell_type": "code",
   "execution_count": 21,
   "id": "liable-bread",
   "metadata": {},
   "outputs": [
    {
     "name": "stdout",
     "output_type": "stream",
     "text": [
      "X: 45, M: 686, C: 7390\n",
      "X: 45, M: 679, C: 7639\n"
     ]
    }
   ],
   "source": [
    "def ryan_test():\n",
    "    gev_df = gev_df_c[(gev_df_c.datetime>\"2010-05-01\")&(gev_df_c.datetime<\"2016-10-31\")]\n",
    "    sswy = ssw[(ssw.datetime>\"2010-05-01\")&(ssw.datetime<\"2016-10-31\")]\n",
    "    print_flares(gev_df)\n",
    "    print_flares(sswy)\n",
    "ryan_test()"
   ]
  },
  {
   "cell_type": "code",
   "execution_count": null,
   "id": "thick-bishop",
   "metadata": {},
   "outputs": [],
   "source": []
  },
  {
   "cell_type": "code",
   "execution_count": null,
   "id": "formed-latex",
   "metadata": {},
   "outputs": [],
   "source": [
    "year = 2016\n",
    "ssw_test = get_yearly_ssw(year)\n",
    "ngdc_test = get_yearly_ngdc(year)\n",
    "swpc_test = get_yearly_swpc(year)"
   ]
  },
  {
   "cell_type": "code",
   "execution_count": null,
   "id": "african-point",
   "metadata": {},
   "outputs": [],
   "source": [
    "ssw_test_m = ssw_test[ssw_test[\"goes_class_ind\"].isin([\"M\"])]; ssw_test_m.reset_index(inplace=True, drop=True)\n",
    "ngdc_test_m = ngdc_test[ngdc_test[\"goes_class_ind\"].isin([\"M\"])]\n",
    "swpc_test_m = swpc_test[swpc_test[\"goes_class_ind\"].isin([\"M\"])]"
   ]
  },
  {
   "cell_type": "code",
   "execution_count": null,
   "id": "organic-stopping",
   "metadata": {},
   "outputs": [],
   "source": [
    "ssw_test_m.iloc[8:12]"
   ]
  },
  {
   "cell_type": "code",
   "execution_count": null,
   "id": "asian-economics",
   "metadata": {},
   "outputs": [],
   "source": [
    "swpc_test_m.iloc[7:11]"
   ]
  },
  {
   "cell_type": "markdown",
   "id": "offensive-penguin",
   "metadata": {},
   "source": [
    "## Test new \"reprocessed data\"\n",
    "https://satdat.ngdc.noaa.gov/sem/goes/data/science/xrs/goes14/xrsf-l2-flsum_science/\n",
    "https://satdat.ngdc.noaa.gov/sem/goes/data/science/xrs/goes15/xrsf-l2-flsum_science/\n",
    "\n",
    "Looks like these are the rescaled data so not what we need here"
   ]
  },
  {
   "cell_type": "code",
   "execution_count": null,
   "id": "reduced-advertiser",
   "metadata": {},
   "outputs": [],
   "source": [
    "test = h5netcdf.File(\"sci_xrsf-l2-flsum_g15_s20100331_e20200304_v1-0-0.nc\")"
   ]
  },
  {
   "cell_type": "code",
   "execution_count": null,
   "id": "annual-owner",
   "metadata": {},
   "outputs": [],
   "source": [
    "list(test.variables)"
   ]
  },
  {
   "cell_type": "code",
   "execution_count": null,
   "id": "broad-vehicle",
   "metadata": {},
   "outputs": [],
   "source": [
    "np.array(test.variables[\"flare_counter\"])"
   ]
  },
  {
   "cell_type": "code",
   "execution_count": null,
   "id": "adjustable-ordinary",
   "metadata": {},
   "outputs": [],
   "source": [
    "flare_class = np.array(test[\"flare_class\"]).astype(str)"
   ]
  },
  {
   "cell_type": "code",
   "execution_count": null,
   "id": "duplicate-biology",
   "metadata": {},
   "outputs": [],
   "source": [
    "set(flare_class)"
   ]
  },
  {
   "cell_type": "code",
   "execution_count": null,
   "id": "athletic-being",
   "metadata": {},
   "outputs": [],
   "source": [
    "np.array(test[\"status\"])"
   ]
  },
  {
   "cell_type": "code",
   "execution_count": null,
   "id": "surgical-negotiation",
   "metadata": {},
   "outputs": [],
   "source": [
    "plt.plot(np.array(test[\"time\"]))"
   ]
  },
  {
   "cell_type": "markdown",
   "id": "phantom-civilian",
   "metadata": {},
   "source": [
    "## HEK testing sunpy"
   ]
  },
  {
   "cell_type": "code",
   "execution_count": null,
   "id": "alone-kernel",
   "metadata": {},
   "outputs": [],
   "source": [
    "from sunpy.net import Fido, attrs as a\n"
   ]
  },
  {
   "cell_type": "code",
   "execution_count": null,
   "id": "collect-wallace",
   "metadata": {},
   "outputs": [],
   "source": [
    "res = Fido.search(a.Time(\"2010-01-01\", \"2018-12-31\"), \n",
    "                  a.hek.EventType(\"FL\"), a.hek.FRM.Name==\"SSW Latest Events\")"
   ]
  },
  {
   "cell_type": "code",
   "execution_count": null,
   "id": "horizontal-opposition",
   "metadata": {},
   "outputs": [],
   "source": [
    "res2 = res[0].to_pandas()"
   ]
  },
  {
   "cell_type": "code",
   "execution_count": null,
   "id": "coordinated-breathing",
   "metadata": {},
   "outputs": [],
   "source": [
    "res2[\"frm_name\"].unique()"
   ]
  },
  {
   "cell_type": "code",
   "execution_count": null,
   "id": "damaged-philippines",
   "metadata": {},
   "outputs": [],
   "source": [
    "res2[\"fl_goescls\"].unique()"
   ]
  },
  {
   "cell_type": "code",
   "execution_count": null,
   "id": "rocky-jungle",
   "metadata": {},
   "outputs": [],
   "source": [
    "res2[\"obs_instrument\"].unique()"
   ]
  },
  {
   "cell_type": "code",
   "execution_count": null,
   "id": "focused-wisconsin",
   "metadata": {},
   "outputs": [],
   "source": [
    "list(res2[\"event_starttime\"].unique())"
   ]
  },
  {
   "cell_type": "code",
   "execution_count": null,
   "id": "super-device",
   "metadata": {},
   "outputs": [],
   "source": [
    "\"SSW Latest Events\"  in res"
   ]
  },
  {
   "cell_type": "code",
   "execution_count": null,
   "id": "every-indiana",
   "metadata": {},
   "outputs": [],
   "source": [
    "res[\"f\""
   ]
  },
  {
   "cell_type": "code",
   "execution_count": null,
   "id": "qualified-lesson",
   "metadata": {},
   "outputs": [],
   "source": [
    "def get_flares():\n",
    "    \"\"\"\n",
    "    Query HEK for flares > C1 from past solar cycle and save results to csv.\n",
    "    \n",
    "    \"\"\"\n",
    "    event_type = \"FL\"\n",
    "    tstart = \"2010/01/01\"\n",
    "    tend = \"2018/12/31\"\n",
    "    result = Fido.search(a.Time(tstart, tend),\n",
    "                         a.hek.EventType(event_type),\n",
    "                         a.hek.FRM.Name == \"SWPC\", \n",
    "                         a.hek.FL.GOESCls >= \"C1.0\")\n",
    "    \n",
    "    new_table = result[\"hek\"][\"event_starttime\", \"event_peaktime\",\n",
    "                             \"event_endtime\", \"fl_goescls\", \"ar_noaanum\", \"frm_name\",\n",
    "                              \"obs_observatory\", \"frm_institute\", \"search_frm_name\"]\n",
    "    new_table.write(\"solar_cycle24_flares.csv\", format=\"csv\")"
   ]
  },
  {
   "cell_type": "code",
   "execution_count": null,
   "id": "serial-affect",
   "metadata": {},
   "outputs": [],
   "source": [
    "event_type = \"FL\"\n",
    "tstart = \"2010/01/01\"\n",
    "tend = \"2018/12/31\"\n",
    "result = Fido.search(a.Time(tstart, tend),\n",
    "                     a.hek.EventType(event_type),\n",
    "                     a.hek.FRM.Name == \"SWPC\", \n",
    "                     a.hek.FL.GOESCls >= \"C1.0\")\n",
    "\n",
    "new_table = result[\"hek\"][\"event_starttime\", \"event_peaktime\",\n",
    "                         \"event_endtime\", \"fl_goescls\", \"ar_noaanum\", \"frm_name\",\n",
    "                          \"obs_observatory\", \"frm_institute\", \"search_frm_name\"]\n",
    "new_table.write(\"solar_cycle24_flares_swpc.csv\", format=\"csv\")"
   ]
  },
  {
   "cell_type": "code",
   "execution_count": null,
   "id": "statutory-latest",
   "metadata": {},
   "outputs": [],
   "source": [
    "ls\n"
   ]
  },
  {
   "cell_type": "code",
   "execution_count": null,
   "id": "proper-hardware",
   "metadata": {},
   "outputs": [],
   "source": []
  }
 ],
 "metadata": {
  "kernelspec": {
   "display_name": "Python 3",
   "language": "python",
   "name": "python3"
  },
  "language_info": {
   "codemirror_mode": {
    "name": "ipython",
    "version": 3
   },
   "file_extension": ".py",
   "mimetype": "text/x-python",
   "name": "python",
   "nbconvert_exporter": "python",
   "pygments_lexer": "ipython3",
   "version": "3.9.4"
  }
 },
 "nbformat": 4,
 "nbformat_minor": 5
}
