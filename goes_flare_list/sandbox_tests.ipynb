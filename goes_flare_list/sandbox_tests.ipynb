{
 "cells": [
  {
   "cell_type": "code",
   "execution_count": 20,
   "id": "cutting-butter",
   "metadata": {},
   "outputs": [],
   "source": [
    "import numpy as np \n",
    "from sunpy.util import scraper\n",
    "from sunpy.time import parse_time, TimeRange\n",
    "import urllib\n",
    "import pandas as pd"
   ]
  },
  {
   "cell_type": "code",
   "execution_count": 4,
   "id": "southwest-northern",
   "metadata": {},
   "outputs": [
    {
     "name": "stderr",
     "output_type": "stream",
     "text": [
      "/Users/laurahayes/miniconda3/lib/python3.7/importlib/_bootstrap.py:219: RuntimeWarning: numpy.ndarray size changed, may indicate binary incompatibility. Expected 80 from C header, got 88 from PyObject\n",
      "  return f(*args, **kwds)\n"
     ]
    }
   ],
   "source": [
    "trange = TimeRange(\"2021-01-01\", \"2021-01-02\")"
   ]
  },
  {
   "cell_type": "code",
   "execution_count": 5,
   "id": "mediterranean-friendly",
   "metadata": {},
   "outputs": [
    {
     "data": {
      "text/plain": [
       "   <sunpy.time.timerange.TimeRange object at 0x7f8dbd57ef50>\n",
       "    Start: 2021-01-01 00:00:00\n",
       "    End:   2021-01-02 00:00:00\n",
       "    Center:2021-01-01 12:00:00\n",
       "    Duration:1.0 days or\n",
       "           24.0 hours or\n",
       "           1440.0 minutes or\n",
       "           86400.0 seconds"
      ]
     },
     "execution_count": 5,
     "metadata": {},
     "output_type": "execute_result"
    }
   ],
   "source": [
    "trange"
   ]
  },
  {
   "cell_type": "code",
   "execution_count": 8,
   "id": "surgical-mining",
   "metadata": {},
   "outputs": [],
   "source": [
    "file_pattern = (\"ftp://ftp.swpc.noaa.gov/pub/indices/events/%Y%m%devents.txt\")"
   ]
  },
  {
   "cell_type": "code",
   "execution_count": 9,
   "id": "quarterly-spouse",
   "metadata": {},
   "outputs": [],
   "source": [
    "file_scraper = scraper.Scraper(file_pattern)"
   ]
  },
  {
   "cell_type": "code",
   "execution_count": 10,
   "id": "consistent-blake",
   "metadata": {},
   "outputs": [
    {
     "data": {
      "text/plain": [
       "'ftp://ftp.swpc.noaa.gov/pub/indices/events/20210412events.txt'"
      ]
     },
     "execution_count": 10,
     "metadata": {},
     "output_type": "execute_result"
    }
   ],
   "source": [
    "file_scraper.now"
   ]
  },
  {
   "cell_type": "code",
   "execution_count": 12,
   "id": "convertible-parallel",
   "metadata": {},
   "outputs": [],
   "source": [
    "urls = file_scraper.filelist(trange)"
   ]
  },
  {
   "cell_type": "code",
   "execution_count": 17,
   "id": "ancient-backing",
   "metadata": {},
   "outputs": [
    {
     "data": {
      "text/plain": [
       "('20210101events.txt', <email.message.Message at 0x7f8dbba17290>)"
      ]
     },
     "execution_count": 17,
     "metadata": {},
     "output_type": "execute_result"
    }
   ],
   "source": [
    "urllib.request.urlretrieve(urls[0], urls[0].split(\"/\")[-1])"
   ]
  },
  {
   "cell_type": "code",
   "execution_count": 18,
   "id": "caroline-builder",
   "metadata": {},
   "outputs": [
    {
     "name": "stdout",
     "output_type": "stream",
     "text": [
      "20210101events.txt\r\n",
      "Untitled.ipynb\r\n",
      "sci_xrsf-l2-flsum_g15_s20100331_e20200304_v1-0-0.nc\r\n"
     ]
    }
   ],
   "source": [
    "ls"
   ]
  },
  {
   "cell_type": "code",
   "execution_count": 19,
   "id": "fossil-cream",
   "metadata": {},
   "outputs": [],
   "source": [
    "less 20210101events.txt"
   ]
  },
  {
   "cell_type": "code",
   "execution_count": 27,
   "id": "structural-prior",
   "metadata": {},
   "outputs": [
    {
     "data": {
      "text/html": [
       "<div>\n",
       "<style scoped>\n",
       "    .dataframe tbody tr th:only-of-type {\n",
       "        vertical-align: middle;\n",
       "    }\n",
       "\n",
       "    .dataframe tbody tr th {\n",
       "        vertical-align: top;\n",
       "    }\n",
       "\n",
       "    .dataframe thead th {\n",
       "        text-align: right;\n",
       "    }\n",
       "</style>\n",
       "<table border=\"1\" class=\"dataframe\">\n",
       "  <thead>\n",
       "    <tr style=\"text-align: right;\">\n",
       "      <th></th>\n",
       "      <th>5520</th>\n",
       "      <th>0146</th>\n",
       "      <th>0154</th>\n",
       "      <th>0158</th>\n",
       "      <th>G16</th>\n",
       "      <th>5</th>\n",
       "      <th>XRA</th>\n",
       "      <th>1-8A</th>\n",
       "      <th>B3.1</th>\n",
       "      <th>8.8E-05</th>\n",
       "      <th>2795</th>\n",
       "    </tr>\n",
       "  </thead>\n",
       "  <tbody>\n",
       "    <tr>\n",
       "      <th>0</th>\n",
       "      <td>5530</td>\n",
       "      <td>435</td>\n",
       "      <td>442</td>\n",
       "      <td>446</td>\n",
       "      <td>G16</td>\n",
       "      <td>5</td>\n",
       "      <td>XRA</td>\n",
       "      <td>1-8A</td>\n",
       "      <td>B2.1</td>\n",
       "      <td>0.000064</td>\n",
       "      <td>2795</td>\n",
       "    </tr>\n",
       "    <tr>\n",
       "      <th>1</th>\n",
       "      <td>5540</td>\n",
       "      <td>1459</td>\n",
       "      <td>1504</td>\n",
       "      <td>1508</td>\n",
       "      <td>G16</td>\n",
       "      <td>5</td>\n",
       "      <td>XRA</td>\n",
       "      <td>1-8A</td>\n",
       "      <td>B1.9</td>\n",
       "      <td>0.000057</td>\n",
       "      <td>2795</td>\n",
       "    </tr>\n",
       "  </tbody>\n",
       "</table>\n",
       "</div>"
      ],
      "text/plain": [
       "   5520  0146  0154  0158  G16  5  XRA  1-8A  B3.1   8.8E-05  2795\n",
       "0  5530   435   442   446  G16  5  XRA  1-8A  B2.1  0.000064  2795\n",
       "1  5540  1459  1504  1508  G16  5  XRA  1-8A  B1.9  0.000057  2795"
      ]
     },
     "execution_count": 27,
     "metadata": {},
     "output_type": "execute_result"
    }
   ],
   "source": [
    "pd.read_csv(\"20210101events.txt\", skiprows=12, delim_whitespace=True, )"
   ]
  },
  {
   "cell_type": "code",
   "execution_count": 28,
   "id": "central-accident",
   "metadata": {},
   "outputs": [],
   "source": [
    "less 20210101events.txt"
   ]
  },
  {
   "cell_type": "code",
   "execution_count": 34,
   "id": "patient-camel",
   "metadata": {},
   "outputs": [],
   "source": [
    "url_2 = \"ftp://ftp.swpc.noaa.gov/pub/indices/events/README\""
   ]
  },
  {
   "cell_type": "code",
   "execution_count": 35,
   "id": "affiliated-wrestling",
   "metadata": {},
   "outputs": [
    {
     "data": {
      "text/plain": [
       "('readme', <email.message.Message at 0x7f8dbff70f50>)"
      ]
     },
     "execution_count": 35,
     "metadata": {},
     "output_type": "execute_result"
    }
   ],
   "source": [
    "urllib.request.urlretrieve(url_2, \"readme\")"
   ]
  },
  {
   "cell_type": "code",
   "execution_count": 31,
   "id": "interstate-today",
   "metadata": {},
   "outputs": [
    {
     "name": "stdout",
     "output_type": "stream",
     "text": [
      "20210101events.txt\r\n",
      "Untitled.ipynb\r\n",
      "readme\r\n",
      "sci_xrsf-l2-flsum_g15_s20100331_e20200304_v1-0-0.nc\r\n"
     ]
    }
   ],
   "source": [
    "ls"
   ]
  },
  {
   "cell_type": "code",
   "execution_count": 32,
   "id": "detected-porter",
   "metadata": {},
   "outputs": [],
   "source": [
    "less readme"
   ]
  },
  {
   "cell_type": "code",
   "execution_count": 36,
   "id": "healthy-custody",
   "metadata": {},
   "outputs": [
    {
     "data": {
      "text/plain": [
       "('events.txt', <email.message.Message at 0x7f8dbff4b410>)"
      ]
     },
     "execution_count": 36,
     "metadata": {},
     "output_type": "execute_result"
    }
   ],
   "source": [
    "urllib.request.urlretrieve(\"ftp://ftp.swpc.noaa.gov/pub/indices/events/events.txt\", \"events.txt\")"
   ]
  },
  {
   "cell_type": "code",
   "execution_count": 38,
   "id": "right-vault",
   "metadata": {},
   "outputs": [],
   "source": [
    "less events.txt"
   ]
  },
  {
   "cell_type": "code",
   "execution_count": 39,
   "id": "choice-sample",
   "metadata": {},
   "outputs": [],
   "source": [
    "from sunpy.net import Fido, attrs as a"
   ]
  },
  {
   "cell_type": "code",
   "execution_count": 40,
   "id": "nasty-morrison",
   "metadata": {},
   "outputs": [],
   "source": [
    "res = Fido.search(a.Time(\"2018-01-01\", \"2021-04-12\"), a.hek.EventType(\"FL\"))"
   ]
  },
  {
   "cell_type": "code",
   "execution_count": 43,
   "id": "tired-aurora",
   "metadata": {},
   "outputs": [
    {
     "data": {
      "text/plain": [
       "5704"
      ]
     },
     "execution_count": 43,
     "metadata": {},
     "output_type": "execute_result"
    }
   ],
   "source": [
    "len(res[0])"
   ]
  },
  {
   "cell_type": "code",
   "execution_count": 46,
   "id": "variable-recipient",
   "metadata": {},
   "outputs": [
    {
     "data": {
      "text/plain": [
       "odict_keys(['gs_thumburl', 'comment_count', 'hpc_bbox', 'frm_humanflag', 'hgc_coord', 'event_coordsys', 'obs_levelnum', 'hpc_coord', 'event_npixels', 'gs_imageurl', 'ar_polarity', 'frm_paramset', 'hrc_coord', 'event_starttime', 'ar_mtwilsoncls', 'event_type', 'intensmin', 'fl_fluence', 'obs_meanwavel', 'frm_url', 'skel_chaincode', 'bound_chaincode', 'noposition', 'fl_fluenceunit', 'active', 'intensmax', 'frm_versionnumber', 'fl_peaktempunit', 'fl_halphaclass', 'area_uncert', 'obs_dataprepurl', 'hpc_geom', 'hgc_bbox', 'intensmedian', 'chaincodetype', 'obs_channelid', 'event_clippedspatial', 'ar_noaaclass', 'SOL_standard', 'event_avg_rating', 'eventtype', 'intensunit', 'hpc_boundcc', 'event_mapurl', 'frm_contact', 'ar_penumbracls', 'intensmean', 'bound_ccstartc1', 'frm_name', 'area_atdiskcenter', 'frm_identifier', 'obs_observatory', 'event_description', 'boundbox_c2ur', 'obs_firstprocessingdate', 'boundbox_c2ll', 'frm_institute', 'hrc_bbox', 'refs_orig', 'ar_mcintoshcls', 'event_maskurl', 'bound_ccstartc2', 'gs_movieurl', 'event_score', 'skel_startc2', 'skel_startc1', 'fl_efoldtime', 'event_expires', 'fl_efoldtimeunit', 'hrc_boundcc', 'event_probability', 'intensvar', 'frm_daterun', 'event_coordunit', 'hpc_y', 'hpc_x', 'search_instrument', 'ar_numspots', 'kb_archivdate', 'kb_archivist', 'intenstotal', 'sum_overlap_scores', 'hgs_boundcc', 'intensskew', 'obs_includesnrt', 'rasterscan', 'obs_wavelunit', 'kb_archivid', 'search_frm_name', 'boundbox_c1ur', 'ar_noaanum', 'area_atdiskcenteruncert', 'boundbox_c1ll', 'event_importance_num_ratings', 'ar_compactnesscls', 'skel_curvature', 'event_testflag', 'event_c2error', 'hrc_r', 'skel_nsteps', 'hgs_y', 'obs_title', 'fl_peakemunit', 'hgs_x', 'hcr_checked', 'frm_specificid', 'event_title', 'obs_instrument', 'event_c1error', 'revision', 'hpc_radius', 'event_endtime', 'event_importance', 'event_coord2', 'event_coord3', 'event_coord1', 'search_observatory', 'area_raw', 'concept', 'event_pixelunit', 'hgc_boundcc', 'fl_peakflux', 'hgc_x', 'hrc_a', 'event_peaktime', 'hgc_y', 'gs_galleryid', 'fl_goescls', 'hgs_coord', 'ar_zurichcls', 'bound_ccnsteps', 'intenskurt', 'event_clippedtemporal', 'fl_peakfluxunit', 'fl_peakem', 'rasterscantype', 'search_channelid', 'fl_peaktemp', 'hgs_bbox', 'area_unit', 'obs_lastprocessingdate', 'refs'])"
      ]
     },
     "execution_count": 46,
     "metadata": {},
     "output_type": "execute_result"
    }
   ],
   "source": [
    "res[0][-1].keys()"
   ]
  },
  {
   "cell_type": "code",
   "execution_count": 49,
   "id": "subsequent-coach",
   "metadata": {},
   "outputs": [
    {
     "data": {
      "text/plain": [
       "{'Bart De Pontieu',\n",
       " 'Chad Madsen',\n",
       " 'Charles Kankelborg',\n",
       " 'Chunming Zhu',\n",
       " 'David Long',\n",
       " 'Flare Detective - Trigger Module',\n",
       " 'Gregal Vissers',\n",
       " 'Jacob Parker',\n",
       " 'Jakub Prchlik',\n",
       " 'Jean-Pierre Wuelser',\n",
       " 'Jenna Samra',\n",
       " 'Kathy Reeves',\n",
       " 'Lucas Guliano',\n",
       " 'Magnus Woods',\n",
       " 'Milan Gosic',\n",
       " 'Patricia Jibben',\n",
       " 'Paul Bryans',\n",
       " 'Roy Smart',\n",
       " 'Ryan French',\n",
       " 'SSW Latest Events',\n",
       " 'SWPC',\n",
       " 'Sean Brannon',\n",
       " 'Souvik Bose',\n",
       " 'Ted Tarbell',\n",
       " 'Tiago Pereira',\n",
       " 'Vanessa Polito',\n",
       " 'Wei Liu',\n",
       " 'halocme'}"
      ]
     },
     "execution_count": 49,
     "metadata": {},
     "output_type": "execute_result"
    }
   ],
   "source": [
    "set(res[0][\"frm_name\"])"
   ]
  },
  {
   "cell_type": "code",
   "execution_count": 52,
   "id": "fifteen-thread",
   "metadata": {},
   "outputs": [],
   "source": [
    "cmes = pd.read_csv('/Users/laurahayes/QPP/stats_study/flare_cme_20110101-20181231_M1.txt', sep = \"\\s+|\\t+|\\s+\\t+|\\t+\\s+\", engine = 'python')\n",
    "cmes = cmes.drop(133)\n",
    "cmes = cmes[1:]\n",
    "cmes.reset_index(inplace=True, drop=True)"
   ]
  },
  {
   "cell_type": "code",
   "execution_count": 53,
   "id": "cooked-surge",
   "metadata": {},
   "outputs": [
    {
     "data": {
      "text/html": [
       "<div>\n",
       "<style scoped>\n",
       "    .dataframe tbody tr th:only-of-type {\n",
       "        vertical-align: middle;\n",
       "    }\n",
       "\n",
       "    .dataframe tbody tr th {\n",
       "        vertical-align: top;\n",
       "    }\n",
       "\n",
       "    .dataframe thead th {\n",
       "        text-align: right;\n",
       "    }\n",
       "</style>\n",
       "<table border=\"1\" class=\"dataframe\">\n",
       "  <thead>\n",
       "    <tr style=\"text-align: right;\">\n",
       "      <th></th>\n",
       "      <th>#date</th>\n",
       "      <th>stime</th>\n",
       "      <th>ptime</th>\n",
       "      <th>class</th>\n",
       "      <th>helio</th>\n",
       "      <th>NOAA</th>\n",
       "      <th>c</th>\n",
       "      <th>comment</th>\n",
       "    </tr>\n",
       "  </thead>\n",
       "  <tbody>\n",
       "    <tr>\n",
       "      <th>0</th>\n",
       "      <td>2011/02/09</td>\n",
       "      <td>01:23</td>\n",
       "      <td>01:31</td>\n",
       "      <td>M1.9</td>\n",
       "      <td>N17W72</td>\n",
       "      <td>11153</td>\n",
       "      <td>0</td>\n",
       "      <td>NO_CME_FOUND</td>\n",
       "    </tr>\n",
       "    <tr>\n",
       "      <th>1</th>\n",
       "      <td>2011/02/13</td>\n",
       "      <td>17:28</td>\n",
       "      <td>17:38</td>\n",
       "      <td>M6.6</td>\n",
       "      <td>S20E04</td>\n",
       "      <td>11158</td>\n",
       "      <td>4</td>\n",
       "      <td>20110213.183605.w276p.v0373.p089g.yht</td>\n",
       "    </tr>\n",
       "    <tr>\n",
       "      <th>2</th>\n",
       "      <td>2011/02/14</td>\n",
       "      <td>17:20</td>\n",
       "      <td>17:26</td>\n",
       "      <td>M2.2</td>\n",
       "      <td>S20W04</td>\n",
       "      <td>11158</td>\n",
       "      <td>3</td>\n",
       "      <td>20110214.182405.w360h.v0326.p315g.yht</td>\n",
       "    </tr>\n",
       "    <tr>\n",
       "      <th>3</th>\n",
       "      <td>2011/02/15</td>\n",
       "      <td>01:44</td>\n",
       "      <td>01:56</td>\n",
       "      <td>X2.2</td>\n",
       "      <td>S20W10</td>\n",
       "      <td>11158</td>\n",
       "      <td>5</td>\n",
       "      <td>20110215.022405.w360h.v0669.p189g.yht</td>\n",
       "    </tr>\n",
       "    <tr>\n",
       "      <th>4</th>\n",
       "      <td>2011/02/16</td>\n",
       "      <td>01:32</td>\n",
       "      <td>01:39</td>\n",
       "      <td>M1.0</td>\n",
       "      <td>S20W24</td>\n",
       "      <td>11158</td>\n",
       "      <td>0</td>\n",
       "      <td>NO_CME_FOUND</td>\n",
       "    </tr>\n",
       "    <tr>\n",
       "      <th>...</th>\n",
       "      <td>...</td>\n",
       "      <td>...</td>\n",
       "      <td>...</td>\n",
       "      <td>...</td>\n",
       "      <td>...</td>\n",
       "      <td>...</td>\n",
       "      <td>...</td>\n",
       "      <td>...</td>\n",
       "    </tr>\n",
       "    <tr>\n",
       "      <th>778</th>\n",
       "      <td>2017/09/09</td>\n",
       "      <td>04:14</td>\n",
       "      <td>04:28</td>\n",
       "      <td>M1.1</td>\n",
       "      <td>S13W69</td>\n",
       "      <td>12673</td>\n",
       "      <td>0</td>\n",
       "      <td>NO_CME_FOUND</td>\n",
       "    </tr>\n",
       "    <tr>\n",
       "      <th>779</th>\n",
       "      <td>2017/09/09</td>\n",
       "      <td>10:50</td>\n",
       "      <td>11:04</td>\n",
       "      <td>M3.7</td>\n",
       "      <td>S14W74</td>\n",
       "      <td>12673</td>\n",
       "      <td>0</td>\n",
       "      <td>NO_CME_FOUND</td>\n",
       "    </tr>\n",
       "    <tr>\n",
       "      <th>780</th>\n",
       "      <td>2017/09/09</td>\n",
       "      <td>22:04</td>\n",
       "      <td>23:53</td>\n",
       "      <td>M1.1</td>\n",
       "      <td>S09W89</td>\n",
       "      <td>12673</td>\n",
       "      <td>4</td>\n",
       "      <td>20170909.231210.w138p.v1019.p302g.yht</td>\n",
       "    </tr>\n",
       "    <tr>\n",
       "      <th>781</th>\n",
       "      <td>2017/09/10</td>\n",
       "      <td>15:35</td>\n",
       "      <td>16:06</td>\n",
       "      <td>X8.2</td>\n",
       "      <td>S09W90&gt;</td>\n",
       "      <td>12673</td>\n",
       "      <td>5</td>\n",
       "      <td>20170910.160005.w360h.v3163.p262g.yht</td>\n",
       "    </tr>\n",
       "    <tr>\n",
       "      <th>782</th>\n",
       "      <td>2017/10/20</td>\n",
       "      <td>23:10</td>\n",
       "      <td>23:28</td>\n",
       "      <td>M1.1</td>\n",
       "      <td>S12E86</td>\n",
       "      <td>12685</td>\n",
       "      <td>4</td>\n",
       "      <td>20171021.000005.w109n.v0331.p109g.yht</td>\n",
       "    </tr>\n",
       "  </tbody>\n",
       "</table>\n",
       "<p>783 rows × 8 columns</p>\n",
       "</div>"
      ],
      "text/plain": [
       "          #date  stime  ptime class    helio   NOAA  c  \\\n",
       "0    2011/02/09  01:23  01:31  M1.9   N17W72  11153  0   \n",
       "1    2011/02/13  17:28  17:38  M6.6   S20E04  11158  4   \n",
       "2    2011/02/14  17:20  17:26  M2.2   S20W04  11158  3   \n",
       "3    2011/02/15  01:44  01:56  X2.2   S20W10  11158  5   \n",
       "4    2011/02/16  01:32  01:39  M1.0   S20W24  11158  0   \n",
       "..          ...    ...    ...   ...      ...    ... ..   \n",
       "778  2017/09/09  04:14  04:28  M1.1   S13W69  12673  0   \n",
       "779  2017/09/09  10:50  11:04  M3.7   S14W74  12673  0   \n",
       "780  2017/09/09  22:04  23:53  M1.1   S09W89  12673  4   \n",
       "781  2017/09/10  15:35  16:06  X8.2  S09W90>  12673  5   \n",
       "782  2017/10/20  23:10  23:28  M1.1   S12E86  12685  4   \n",
       "\n",
       "                                   comment  \n",
       "0                             NO_CME_FOUND  \n",
       "1    20110213.183605.w276p.v0373.p089g.yht  \n",
       "2    20110214.182405.w360h.v0326.p315g.yht  \n",
       "3    20110215.022405.w360h.v0669.p189g.yht  \n",
       "4                             NO_CME_FOUND  \n",
       "..                                     ...  \n",
       "778                           NO_CME_FOUND  \n",
       "779                           NO_CME_FOUND  \n",
       "780  20170909.231210.w138p.v1019.p302g.yht  \n",
       "781  20170910.160005.w360h.v3163.p262g.yht  \n",
       "782  20171021.000005.w109n.v0331.p109g.yht  \n",
       "\n",
       "[783 rows x 8 columns]"
      ]
     },
     "execution_count": 53,
     "metadata": {},
     "output_type": "execute_result"
    }
   ],
   "source": [
    "cmes"
   ]
  },
  {
   "cell_type": "code",
   "execution_count": 57,
   "id": "verbal-breakdown",
   "metadata": {},
   "outputs": [
    {
     "data": {
      "text/plain": [
       "array([ 0,  4,  3,  5, -9,  2,  1])"
      ]
     },
     "execution_count": 57,
     "metadata": {},
     "output_type": "execute_result"
    }
   ],
   "source": [
    "cmes[\"c\"].unique()"
   ]
  },
  {
   "cell_type": "code",
   "execution_count": 61,
   "id": "passing-fifty",
   "metadata": {},
   "outputs": [
    {
     "data": {
      "text/html": [
       "<div>\n",
       "<style scoped>\n",
       "    .dataframe tbody tr th:only-of-type {\n",
       "        vertical-align: middle;\n",
       "    }\n",
       "\n",
       "    .dataframe tbody tr th {\n",
       "        vertical-align: top;\n",
       "    }\n",
       "\n",
       "    .dataframe thead th {\n",
       "        text-align: right;\n",
       "    }\n",
       "</style>\n",
       "<table border=\"1\" class=\"dataframe\">\n",
       "  <thead>\n",
       "    <tr style=\"text-align: right;\">\n",
       "      <th></th>\n",
       "      <th>#date</th>\n",
       "      <th>stime</th>\n",
       "      <th>ptime</th>\n",
       "      <th>class</th>\n",
       "      <th>helio</th>\n",
       "      <th>NOAA</th>\n",
       "      <th>c</th>\n",
       "      <th>comment</th>\n",
       "    </tr>\n",
       "  </thead>\n",
       "  <tbody>\n",
       "    <tr>\n",
       "      <th>0</th>\n",
       "      <td>2011/02/09</td>\n",
       "      <td>01:23</td>\n",
       "      <td>01:31</td>\n",
       "      <td>M1.9</td>\n",
       "      <td>N17W72</td>\n",
       "      <td>11153</td>\n",
       "      <td>0</td>\n",
       "      <td>NO_CME_FOUND</td>\n",
       "    </tr>\n",
       "    <tr>\n",
       "      <th>4</th>\n",
       "      <td>2011/02/16</td>\n",
       "      <td>01:32</td>\n",
       "      <td>01:39</td>\n",
       "      <td>M1.0</td>\n",
       "      <td>S20W24</td>\n",
       "      <td>11158</td>\n",
       "      <td>0</td>\n",
       "      <td>NO_CME_FOUND</td>\n",
       "    </tr>\n",
       "    <tr>\n",
       "      <th>5</th>\n",
       "      <td>2011/02/16</td>\n",
       "      <td>07:35</td>\n",
       "      <td>07:44</td>\n",
       "      <td>M1.1</td>\n",
       "      <td>S19W29</td>\n",
       "      <td>11158</td>\n",
       "      <td>0</td>\n",
       "      <td>NO_CME_FOUND</td>\n",
       "    </tr>\n",
       "    <tr>\n",
       "      <th>7</th>\n",
       "      <td>2011/02/18</td>\n",
       "      <td>09:55</td>\n",
       "      <td>10:11</td>\n",
       "      <td>M6.6</td>\n",
       "      <td>S21W55</td>\n",
       "      <td>11158</td>\n",
       "      <td>0</td>\n",
       "      <td>NO_CME_FOUND</td>\n",
       "    </tr>\n",
       "    <tr>\n",
       "      <th>9</th>\n",
       "      <td>2011/02/18</td>\n",
       "      <td>12:59</td>\n",
       "      <td>13:03</td>\n",
       "      <td>M1.4</td>\n",
       "      <td>S17W56</td>\n",
       "      <td>11158</td>\n",
       "      <td>0</td>\n",
       "      <td>NO_CME_FOUND</td>\n",
       "    </tr>\n",
       "    <tr>\n",
       "      <th>...</th>\n",
       "      <td>...</td>\n",
       "      <td>...</td>\n",
       "      <td>...</td>\n",
       "      <td>...</td>\n",
       "      <td>...</td>\n",
       "      <td>...</td>\n",
       "      <td>...</td>\n",
       "      <td>...</td>\n",
       "    </tr>\n",
       "    <tr>\n",
       "      <th>775</th>\n",
       "      <td>2017/09/08</td>\n",
       "      <td>07:40</td>\n",
       "      <td>07:49</td>\n",
       "      <td>M8.1</td>\n",
       "      <td>S10W57</td>\n",
       "      <td>12673</td>\n",
       "      <td>0</td>\n",
       "      <td>NO_CME_FOUND</td>\n",
       "    </tr>\n",
       "    <tr>\n",
       "      <th>776</th>\n",
       "      <td>2017/09/08</td>\n",
       "      <td>15:09</td>\n",
       "      <td>15:47</td>\n",
       "      <td>M2.9</td>\n",
       "      <td>S08W68</td>\n",
       "      <td>12673</td>\n",
       "      <td>0</td>\n",
       "      <td>NO_CME_FOUND</td>\n",
       "    </tr>\n",
       "    <tr>\n",
       "      <th>777</th>\n",
       "      <td>2017/09/08</td>\n",
       "      <td>23:33</td>\n",
       "      <td>23:45</td>\n",
       "      <td>M2.1</td>\n",
       "      <td>S08W70</td>\n",
       "      <td>12673</td>\n",
       "      <td>0</td>\n",
       "      <td>NO_CME_FOUND</td>\n",
       "    </tr>\n",
       "    <tr>\n",
       "      <th>778</th>\n",
       "      <td>2017/09/09</td>\n",
       "      <td>04:14</td>\n",
       "      <td>04:28</td>\n",
       "      <td>M1.1</td>\n",
       "      <td>S13W69</td>\n",
       "      <td>12673</td>\n",
       "      <td>0</td>\n",
       "      <td>NO_CME_FOUND</td>\n",
       "    </tr>\n",
       "    <tr>\n",
       "      <th>779</th>\n",
       "      <td>2017/09/09</td>\n",
       "      <td>10:50</td>\n",
       "      <td>11:04</td>\n",
       "      <td>M3.7</td>\n",
       "      <td>S14W74</td>\n",
       "      <td>12673</td>\n",
       "      <td>0</td>\n",
       "      <td>NO_CME_FOUND</td>\n",
       "    </tr>\n",
       "  </tbody>\n",
       "</table>\n",
       "<p>342 rows × 8 columns</p>\n",
       "</div>"
      ],
      "text/plain": [
       "          #date  stime  ptime class   helio   NOAA  c       comment\n",
       "0    2011/02/09  01:23  01:31  M1.9  N17W72  11153  0  NO_CME_FOUND\n",
       "4    2011/02/16  01:32  01:39  M1.0  S20W24  11158  0  NO_CME_FOUND\n",
       "5    2011/02/16  07:35  07:44  M1.1  S19W29  11158  0  NO_CME_FOUND\n",
       "7    2011/02/18  09:55  10:11  M6.6  S21W55  11158  0  NO_CME_FOUND\n",
       "9    2011/02/18  12:59  13:03  M1.4  S17W56  11158  0  NO_CME_FOUND\n",
       "..          ...    ...    ...   ...     ...    ... ..           ...\n",
       "775  2017/09/08  07:40  07:49  M8.1  S10W57  12673  0  NO_CME_FOUND\n",
       "776  2017/09/08  15:09  15:47  M2.9  S08W68  12673  0  NO_CME_FOUND\n",
       "777  2017/09/08  23:33  23:45  M2.1  S08W70  12673  0  NO_CME_FOUND\n",
       "778  2017/09/09  04:14  04:28  M1.1  S13W69  12673  0  NO_CME_FOUND\n",
       "779  2017/09/09  10:50  11:04  M3.7  S14W74  12673  0  NO_CME_FOUND\n",
       "\n",
       "[342 rows x 8 columns]"
      ]
     },
     "execution_count": 61,
     "metadata": {},
     "output_type": "execute_result"
    }
   ],
   "source": [
    "cmes[cmes[\"c\"] == 0]"
   ]
  },
  {
   "cell_type": "code",
   "execution_count": 62,
   "id": "intensive-universe",
   "metadata": {},
   "outputs": [
    {
     "name": "stdout",
     "output_type": "stream",
     "text": [
      "20210101events.txt\r\n",
      "Untitled.ipynb\r\n",
      "events.txt\r\n",
      "readme\r\n",
      "sci_xrsf-l2-flsum_g15_s20100331_e20200304_v1-0-0.nc\r\n",
      "secchi_cmecat_combo.sav\r\n"
     ]
    }
   ],
   "source": [
    "ls"
   ]
  },
  {
   "cell_type": "code",
   "execution_count": 63,
   "id": "dynamic-furniture",
   "metadata": {},
   "outputs": [],
   "source": [
    "from scipy.io import readsav"
   ]
  },
  {
   "cell_type": "code",
   "execution_count": 64,
   "id": "supreme-collection",
   "metadata": {},
   "outputs": [],
   "source": [
    "aa = readsav(\"secchi_cmecat_combo.sav\")"
   ]
  },
  {
   "cell_type": "code",
   "execution_count": 74,
   "id": "vulnerable-brooks",
   "metadata": {},
   "outputs": [
    {
     "data": {
      "text/plain": [
       "('NR',\n",
       " 'DATE',\n",
       " 'TIME',\n",
       " 'JULTIME',\n",
       " 'DT0',\n",
       " 'ENDDATE',\n",
       " 'ENDTIME',\n",
       " 'ENDJULTIME',\n",
       " 'ANGLE',\n",
       " 'WIDTH',\n",
       " 'SPEED',\n",
       " 'SPEEDSIGMA',\n",
       " 'MIN_SPEED',\n",
       " 'MAX_SPEED',\n",
       " 'TYPE',\n",
       " 'QUALITY',\n",
       " 'OBSRVTRY',\n",
       " 'INSTRUMENT',\n",
       " 'DETECTOR')"
      ]
     },
     "execution_count": 74,
     "metadata": {},
     "output_type": "execute_result"
    }
   ],
   "source": [
    "aa[\"secchib_combo\"].dtype.names"
   ]
  },
  {
   "cell_type": "code",
   "execution_count": 75,
   "id": "british-fantasy",
   "metadata": {},
   "outputs": [
    {
     "data": {
      "text/plain": [
       "{1}"
      ]
     },
     "execution_count": 75,
     "metadata": {},
     "output_type": "execute_result"
    }
   ],
   "source": [
    "set(aa[\"secchib_combo\"][\"quality\"])"
   ]
  },
  {
   "cell_type": "code",
   "execution_count": null,
   "id": "packed-stick",
   "metadata": {},
   "outputs": [],
   "source": []
  }
 ],
 "metadata": {
  "kernelspec": {
   "display_name": "Python 3",
   "language": "python",
   "name": "python3"
  },
  "language_info": {
   "codemirror_mode": {
    "name": "ipython",
    "version": 3
   },
   "file_extension": ".py",
   "mimetype": "text/x-python",
   "name": "python",
   "nbconvert_exporter": "python",
   "pygments_lexer": "ipython3",
   "version": "3.7.8"
  }
 },
 "nbformat": 4,
 "nbformat_minor": 5
}
