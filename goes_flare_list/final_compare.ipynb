{
 "cells": [
  {
   "cell_type": "code",
   "execution_count": 1,
   "id": "swiss-details",
   "metadata": {},
   "outputs": [],
   "source": [
    "import urllib\n",
    "import pandas as pd \n",
    "from sunpy.time import TimeRange\n",
    "from flarelist_utils import read_swpc_reports, read_ngdc_goes_reports\n",
    "from dateutil.relativedelta import relativedelta\n",
    "import pandas as pd \n",
    "import numpy as np\n",
    "import datetime\n",
    "import glob\n",
    "import h5netcdf\n",
    "import matplotlib.pyplot as plt\n",
    "from scipy.io import readsav\n",
    "import warnings\n",
    "warnings.filterwarnings(\"ignore\")"
   ]
  },
  {
   "cell_type": "markdown",
   "id": "short-bahrain",
   "metadata": {},
   "source": [
    "## GEV flare list\n",
    "\n",
    "Lets look at the flares from the GOES IDL workbench\n",
    "\n",
    "```\n",
    "a = ogoes()\n",
    "gev = a->get_gev('01-Jan-2010', '31-Dec-2018', /struct)\n",
    "save, gev, filename=\"goes_flares_from_idl.sav\"\n",
    "```"
   ]
  },
  {
   "cell_type": "code",
   "execution_count": 127,
   "id": "relevant-fetish",
   "metadata": {},
   "outputs": [
    {
     "name": "stdout",
     "output_type": "stream",
     "text": [
      "2010-01-02 07:09:00 2018-07-06 19:41:00\n"
     ]
    }
   ],
   "source": [
    "gev_data = readsav(\"goes_flares_from_idl.sav\")[\"gev\"]\n",
    "gev_dict = {k : gev_data[k].astype(str) for k in gev_data.dtype.names}\n",
    "gev_df = pd.DataFrame(gev_dict)\n",
    "\n",
    "gev_df[\"goes_class_ind\"] = [x[0] for x in gev_df[\"CLASS\"]]\n",
    "gev_df[\"datetime\"] = pd.to_datetime(gev_df[\"GSTART\"])\n",
    "\n",
    "gev_df_c = gev_df[gev_df[\"goes_class_ind\"].isin([\"C\", \"M\", \"X\"])]\n",
    "print(gev_df_c.datetime.min(), gev_df_c.datetime.max())\n",
    "\n",
    "gev_df_c = gev_df_c.drop_duplicates(subset=\"datetime\")"
   ]
  },
  {
   "cell_type": "markdown",
   "id": "regular-reverse",
   "metadata": {},
   "source": [
    "## SWPC flare list \n",
    "\n",
    "Flare list from daily reports"
   ]
  },
  {
   "cell_type": "code",
   "execution_count": 128,
   "id": "eight-exception",
   "metadata": {},
   "outputs": [],
   "source": [
    "filedir = \"./goes_files/%Y_events/%Y*events*\"#%Y%m%devents.txt\"\n",
    "timerange = TimeRange(\"2010-01-01\", \"2018-12-31\")\n",
    "years = [timerange.start.datetime + relativedelta(years=i) for i in range(9)]\n",
    "all_files = []\n",
    "for y in years:\n",
    "    all_files += glob.glob(y.strftime(filedir))\n",
    "\n",
    "all_files.sort()\n",
    "\n",
    "df_flares = read_swpc_reports(all_files[0])\n",
    "for f in all_files[1:]:\n",
    "    df = read_swpc_reports(f)\n",
    "    df_flares = df_flares.append(df)\n",
    "df_flares.reset_index(inplace=True, drop=True)\n",
    "df_flares[\"ts\"] = df_flares.date + df_flares.start_time\n",
    "df_flares.drop_duplicates(subset=\"ts\")\n",
    "\n",
    "swpc_c = df_flares[df_flares[\"goes_class_ind\"].isin([\"C\", \"X\", \"M\"])]\n",
    "swpc_c = swpc_c.drop_duplicates(subset=\"ts\")"
   ]
  },
  {
   "cell_type": "markdown",
   "id": "helpful-variable",
   "metadata": {},
   "source": [
    "## HEK flares\n",
    "\n",
    "Flare list by querying the HEK for flares from `a.hek.OBS.Observatory == \"GOES\"`"
   ]
  },
  {
   "cell_type": "code",
   "execution_count": 129,
   "id": "measured-jersey",
   "metadata": {},
   "outputs": [],
   "source": [
    "hek_flares_all = pd.read_csv(\"solar_cycle24_flares.csv\")"
   ]
  },
  {
   "cell_type": "code",
   "execution_count": 130,
   "id": "solar-causing",
   "metadata": {},
   "outputs": [],
   "source": [
    "hek_flares_all[\"goes_class_ind\"] = [x[0] for x in hek_flares_all[\"fl_goescls\"]]\n",
    "hek_flares_all[\"datetime\"] = pd.to_datetime(hek_flares_all[\"event_starttime\"])\n",
    "hek_flares = hek_flares_all[hek_flares_all[\"goes_class_ind\"].isin([\"X\", \"M\", \"C\"])]\n",
    "\n",
    "hek_flares = hek_flares[(hek_flares.datetime>=\"2010-01-01\")&(hek_flares.datetime<=\"2018-12-31\")]\n",
    "hek_flares = hek_flares.drop_duplicates(subset=\"event_starttime\")\n",
    "hek_flares.reset_index(drop=True, inplace=True)"
   ]
  },
  {
   "cell_type": "code",
   "execution_count": 131,
   "id": "specialized-integral",
   "metadata": {},
   "outputs": [],
   "source": [
    "hek_flares_swpc = pd.read_csv(\"solar_cycle24_flares_swpc.csv\")\n",
    "hek_flares_swpc[\"datetime\"] = pd.to_datetime(hek_flares_swpc[\"event_starttime\"])\n",
    "hek_flares_swpc[\"goes_class_ind\"] = [x[0] for x in hek_flares_swpc[\"fl_goescls\"]]"
   ]
  },
  {
   "cell_type": "markdown",
   "id": "spiritual-ebony",
   "metadata": {},
   "source": [
    "## Lets print the different numbers of events etc"
   ]
  },
  {
   "cell_type": "code",
   "execution_count": 133,
   "id": "advance-thought",
   "metadata": {},
   "outputs": [
    {
     "name": "stdout",
     "output_type": "stream",
     "text": [
      "gev: X: 49, M: 740, C: 7733\n",
      "swpc: X: 49, M: 748, C: 7798\n",
      "hek: X: 49, M: 756, C: 7814\n"
     ]
    }
   ],
   "source": [
    "print_flares(gev_df_c, \"gev\")\n",
    "print_flares(swpc_c, \"swpc\")\n",
    "print_flares(hek_flares, \"hek\")"
   ]
  },
  {
   "cell_type": "code",
   "execution_count": 134,
   "id": "royal-antarctica",
   "metadata": {},
   "outputs": [
    {
     "name": "stdout",
     "output_type": "stream",
     "text": [
      "8522 8522\n",
      "8595 8595\n"
     ]
    }
   ],
   "source": [
    "print(len(gev_df_c), 49+740+7733)\n",
    "print(len(swpc_c), 49+748+7798)"
   ]
  },
  {
   "cell_type": "code",
   "execution_count": 135,
   "id": "fifteen-revolution",
   "metadata": {},
   "outputs": [
    {
     "data": {
      "text/plain": [
       "array(['C', 'M', 'X'], dtype=object)"
      ]
     },
     "execution_count": 135,
     "metadata": {},
     "output_type": "execute_result"
    }
   ],
   "source": [
    "swpc_c[\"goes_class_ind\"].unique()"
   ]
  },
  {
   "cell_type": "markdown",
   "id": "distinguished-happiness",
   "metadata": {},
   "source": [
    "## Lets match on start time"
   ]
  },
  {
   "cell_type": "code",
   "execution_count": 136,
   "id": "signal-colleague",
   "metadata": {},
   "outputs": [],
   "source": [
    "gev_df_c[\"match_time\"] = gev_df_c.datetime.dt.strftime(\"%Y-%m-%d %H:%M\")"
   ]
  },
  {
   "cell_type": "code",
   "execution_count": 137,
   "id": "competent-security",
   "metadata": {},
   "outputs": [],
   "source": [
    "swpc_c[\"datetime\"] = pd.to_datetime(swpc_c[\"date\"] + swpc_c[\"start_time\"])\n",
    "swpc_c[\"match_time\"] = swpc_c.datetime.dt.strftime(\"%Y-%m-%d %H:%M\")"
   ]
  },
  {
   "cell_type": "code",
   "execution_count": 138,
   "id": "sustainable-synthesis",
   "metadata": {},
   "outputs": [
    {
     "name": "stdout",
     "output_type": "stream",
     "text": [
      "8595 8522\n",
      "8505\n"
     ]
    }
   ],
   "source": [
    "print(len(swpc_c), len(gev_df_c))\n",
    "print(len(pd.merge(swpc_c, gev_df_c, on=\"match_time\")))"
   ]
  },
  {
   "cell_type": "code",
   "execution_count": 139,
   "id": "floating-measurement",
   "metadata": {},
   "outputs": [],
   "source": [
    "common = pd.merge(swpc_c, gev_df_c, on=\"match_time\")\n",
    "np.all(testy[\"goes_class_ind_x\"]== testy[\"goes_class_ind_y\"])\n",
    "common[\"goes_class_ind\"] = common[\"goes_class_ind_x\"]"
   ]
  },
  {
   "cell_type": "code",
   "execution_count": 149,
   "id": "certified-nickname",
   "metadata": {},
   "outputs": [
    {
     "data": {
      "text/plain": [
       "17"
      ]
     },
     "execution_count": 149,
     "metadata": {},
     "output_type": "execute_result"
    }
   ],
   "source": [
    "8522-8505"
   ]
  },
  {
   "cell_type": "code",
   "execution_count": 141,
   "id": "empty-lodging",
   "metadata": {},
   "outputs": [],
   "source": [
    "# This is looking all right!"
   ]
  },
  {
   "cell_type": "code",
   "execution_count": 142,
   "id": "automotive-manufacturer",
   "metadata": {},
   "outputs": [
    {
     "name": "stdout",
     "output_type": "stream",
     "text": [
      "merged: X: 49, M: 739, C: 7717\n"
     ]
    }
   ],
   "source": [
    "print_flares(common, \"merged\")"
   ]
  },
  {
   "cell_type": "code",
   "execution_count": 146,
   "id": "confirmed-tragedy",
   "metadata": {},
   "outputs": [
    {
     "data": {
      "text/plain": [
       "90"
      ]
     },
     "execution_count": 146,
     "metadata": {},
     "output_type": "execute_result"
    }
   ],
   "source": [
    "len(swpc_c) - len(common)"
   ]
  },
  {
   "cell_type": "code",
   "execution_count": 143,
   "id": "gross-translation",
   "metadata": {},
   "outputs": [
    {
     "data": {
      "text/plain": [
       "17"
      ]
     },
     "execution_count": 143,
     "metadata": {},
     "output_type": "execute_result"
    }
   ],
   "source": [
    "len(gev_df_c) - len(common)"
   ]
  },
  {
   "cell_type": "code",
   "execution_count": 150,
   "id": "everyday-county",
   "metadata": {},
   "outputs": [
    {
     "data": {
      "text/html": [
       "<div>\n",
       "<style scoped>\n",
       "    .dataframe tbody tr th:only-of-type {\n",
       "        vertical-align: middle;\n",
       "    }\n",
       "\n",
       "    .dataframe tbody tr th {\n",
       "        vertical-align: top;\n",
       "    }\n",
       "\n",
       "    .dataframe thead th {\n",
       "        text-align: right;\n",
       "    }\n",
       "</style>\n",
       "<table border=\"1\" class=\"dataframe\">\n",
       "  <thead>\n",
       "    <tr style=\"text-align: right;\">\n",
       "      <th></th>\n",
       "      <th>GSTART</th>\n",
       "      <th>GEND</th>\n",
       "      <th>GPEAK</th>\n",
       "      <th>CLASS</th>\n",
       "      <th>LOC</th>\n",
       "      <th>NOAA_AR</th>\n",
       "      <th>goes_class_ind</th>\n",
       "      <th>datetime</th>\n",
       "      <th>match_time</th>\n",
       "    </tr>\n",
       "  </thead>\n",
       "  <tbody>\n",
       "    <tr>\n",
       "      <th>7626</th>\n",
       "      <td>31-Dec-2013 02:29:00</td>\n",
       "      <td>31-Dec-2013 02:46:00</td>\n",
       "      <td>31-Dec-2013 02:40:00</td>\n",
       "      <td>C5.6</td>\n",
       "      <td></td>\n",
       "      <td>11936</td>\n",
       "      <td>C</td>\n",
       "      <td>2013-12-31 02:29:00</td>\n",
       "      <td>2013-12-31 02:29</td>\n",
       "    </tr>\n",
       "    <tr>\n",
       "      <th>7627</th>\n",
       "      <td>31-Dec-2013 05:21:00</td>\n",
       "      <td>31-Dec-2013 05:38:00</td>\n",
       "      <td>31-Dec-2013 05:32:00</td>\n",
       "      <td>C2.0</td>\n",
       "      <td></td>\n",
       "      <td>11938</td>\n",
       "      <td>C</td>\n",
       "      <td>2013-12-31 05:21:00</td>\n",
       "      <td>2013-12-31 05:21</td>\n",
       "    </tr>\n",
       "    <tr>\n",
       "      <th>7628</th>\n",
       "      <td>31-Dec-2013 07:33:00</td>\n",
       "      <td>31-Dec-2013 07:47:00</td>\n",
       "      <td>31-Dec-2013 07:40:00</td>\n",
       "      <td>C2.2</td>\n",
       "      <td></td>\n",
       "      <td>11936</td>\n",
       "      <td>C</td>\n",
       "      <td>2013-12-31 07:33:00</td>\n",
       "      <td>2013-12-31 07:33</td>\n",
       "    </tr>\n",
       "    <tr>\n",
       "      <th>7629</th>\n",
       "      <td>31-Dec-2013 10:23:00</td>\n",
       "      <td>31-Dec-2013 12:32:00</td>\n",
       "      <td>31-Dec-2013 11:50:00</td>\n",
       "      <td>C8.8</td>\n",
       "      <td></td>\n",
       "      <td></td>\n",
       "      <td>C</td>\n",
       "      <td>2013-12-31 10:23:00</td>\n",
       "      <td>2013-12-31 10:23</td>\n",
       "    </tr>\n",
       "    <tr>\n",
       "      <th>7630</th>\n",
       "      <td>31-Dec-2013 16:42:00</td>\n",
       "      <td>31-Dec-2013 16:55:00</td>\n",
       "      <td>31-Dec-2013 16:49:00</td>\n",
       "      <td>C2.0</td>\n",
       "      <td>S13E16</td>\n",
       "      <td>11938</td>\n",
       "      <td>C</td>\n",
       "      <td>2013-12-31 16:42:00</td>\n",
       "      <td>2013-12-31 16:42</td>\n",
       "    </tr>\n",
       "    <tr>\n",
       "      <th>7631</th>\n",
       "      <td>31-Dec-2013 18:20:00</td>\n",
       "      <td>31-Dec-2013 18:31:00</td>\n",
       "      <td>31-Dec-2013 18:25:00</td>\n",
       "      <td>C1.8</td>\n",
       "      <td>S16W16</td>\n",
       "      <td>11936</td>\n",
       "      <td>C</td>\n",
       "      <td>2013-12-31 18:20:00</td>\n",
       "      <td>2013-12-31 18:20</td>\n",
       "    </tr>\n",
       "    <tr>\n",
       "      <th>7632</th>\n",
       "      <td>31-Dec-2013 18:53:00</td>\n",
       "      <td>31-Dec-2013 19:03:00</td>\n",
       "      <td>31-Dec-2013 18:59:00</td>\n",
       "      <td>C4.0</td>\n",
       "      <td>S13W41</td>\n",
       "      <td>11940</td>\n",
       "      <td>C</td>\n",
       "      <td>2013-12-31 18:53:00</td>\n",
       "      <td>2013-12-31 18:53</td>\n",
       "    </tr>\n",
       "    <tr>\n",
       "      <th>7633</th>\n",
       "      <td>31-Dec-2013 19:49:00</td>\n",
       "      <td>31-Dec-2013 19:56:00</td>\n",
       "      <td>31-Dec-2013 19:53:00</td>\n",
       "      <td>C2.9</td>\n",
       "      <td>S13W41</td>\n",
       "      <td>11940</td>\n",
       "      <td>C</td>\n",
       "      <td>2013-12-31 19:49:00</td>\n",
       "      <td>2013-12-31 19:49</td>\n",
       "    </tr>\n",
       "    <tr>\n",
       "      <th>7634</th>\n",
       "      <td>31-Dec-2013 21:45:00</td>\n",
       "      <td>31-Dec-2013 22:20:00</td>\n",
       "      <td>31-Dec-2013 21:58:00</td>\n",
       "      <td>M6.4</td>\n",
       "      <td>S16W35</td>\n",
       "      <td>11936</td>\n",
       "      <td>M</td>\n",
       "      <td>2013-12-31 21:45:00</td>\n",
       "      <td>2013-12-31 21:45</td>\n",
       "    </tr>\n",
       "    <tr>\n",
       "      <th>9835</th>\n",
       "      <td>31-Dec-2014 01:50:00</td>\n",
       "      <td>31-Dec-2014 02:01:00</td>\n",
       "      <td>31-Dec-2014 01:55:00</td>\n",
       "      <td>C1.6</td>\n",
       "      <td>S12E19</td>\n",
       "      <td>12251</td>\n",
       "      <td>C</td>\n",
       "      <td>2014-12-31 01:50:00</td>\n",
       "      <td>2014-12-31 01:50</td>\n",
       "    </tr>\n",
       "    <tr>\n",
       "      <th>9837</th>\n",
       "      <td>31-Dec-2014 06:42:00</td>\n",
       "      <td>31-Dec-2014 06:55:00</td>\n",
       "      <td>31-Dec-2014 06:48:00</td>\n",
       "      <td>C1.7</td>\n",
       "      <td>S06E60</td>\n",
       "      <td>12253</td>\n",
       "      <td>C</td>\n",
       "      <td>2014-12-31 06:42:00</td>\n",
       "      <td>2014-12-31 06:42</td>\n",
       "    </tr>\n",
       "    <tr>\n",
       "      <th>9838</th>\n",
       "      <td>31-Dec-2014 09:01:00</td>\n",
       "      <td>31-Dec-2014 09:07:00</td>\n",
       "      <td>31-Dec-2014 09:04:00</td>\n",
       "      <td>C1.2</td>\n",
       "      <td>S06E58</td>\n",
       "      <td>12253</td>\n",
       "      <td>C</td>\n",
       "      <td>2014-12-31 09:01:00</td>\n",
       "      <td>2014-12-31 09:01</td>\n",
       "    </tr>\n",
       "    <tr>\n",
       "      <th>9839</th>\n",
       "      <td>31-Dec-2014 12:12:00</td>\n",
       "      <td>31-Dec-2014 12:18:00</td>\n",
       "      <td>31-Dec-2014 12:16:00</td>\n",
       "      <td>C1.0</td>\n",
       "      <td></td>\n",
       "      <td>12251</td>\n",
       "      <td>C</td>\n",
       "      <td>2014-12-31 12:12:00</td>\n",
       "      <td>2014-12-31 12:12</td>\n",
       "    </tr>\n",
       "    <tr>\n",
       "      <th>9840</th>\n",
       "      <td>31-Dec-2014 12:31:00</td>\n",
       "      <td>31-Dec-2014 12:38:00</td>\n",
       "      <td>31-Dec-2014 12:35:00</td>\n",
       "      <td>C1.4</td>\n",
       "      <td></td>\n",
       "      <td>12253</td>\n",
       "      <td>C</td>\n",
       "      <td>2014-12-31 12:31:00</td>\n",
       "      <td>2014-12-31 12:31</td>\n",
       "    </tr>\n",
       "    <tr>\n",
       "      <th>9841</th>\n",
       "      <td>31-Dec-2014 23:02:00</td>\n",
       "      <td>1-Jan-2015 00:17:00</td>\n",
       "      <td>31-Dec-2014 23:39:00</td>\n",
       "      <td>C1.2</td>\n",
       "      <td></td>\n",
       "      <td>12253</td>\n",
       "      <td>C</td>\n",
       "      <td>2014-12-31 23:02:00</td>\n",
       "      <td>2014-12-31 23:02</td>\n",
       "    </tr>\n",
       "    <tr>\n",
       "      <th>11831</th>\n",
       "      <td>31-Dec-2015 17:19:00</td>\n",
       "      <td>31-Dec-2015 17:28:00</td>\n",
       "      <td>31-Dec-2015 17:25:00</td>\n",
       "      <td>C1.4</td>\n",
       "      <td></td>\n",
       "      <td>12473</td>\n",
       "      <td>C</td>\n",
       "      <td>2015-12-31 17:19:00</td>\n",
       "      <td>2015-12-31 17:19</td>\n",
       "    </tr>\n",
       "    <tr>\n",
       "      <th>11832</th>\n",
       "      <td>31-Dec-2015 19:57:00</td>\n",
       "      <td>31-Dec-2015 20:15:00</td>\n",
       "      <td>31-Dec-2015 20:11:00</td>\n",
       "      <td>C1.6</td>\n",
       "      <td></td>\n",
       "      <td>12473</td>\n",
       "      <td>C</td>\n",
       "      <td>2015-12-31 19:57:00</td>\n",
       "      <td>2015-12-31 19:57</td>\n",
       "    </tr>\n",
       "  </tbody>\n",
       "</table>\n",
       "</div>"
      ],
      "text/plain": [
       "                     GSTART                  GEND                 GPEAK CLASS  \\\n",
       "7626   31-Dec-2013 02:29:00  31-Dec-2013 02:46:00  31-Dec-2013 02:40:00  C5.6   \n",
       "7627   31-Dec-2013 05:21:00  31-Dec-2013 05:38:00  31-Dec-2013 05:32:00  C2.0   \n",
       "7628   31-Dec-2013 07:33:00  31-Dec-2013 07:47:00  31-Dec-2013 07:40:00  C2.2   \n",
       "7629   31-Dec-2013 10:23:00  31-Dec-2013 12:32:00  31-Dec-2013 11:50:00  C8.8   \n",
       "7630   31-Dec-2013 16:42:00  31-Dec-2013 16:55:00  31-Dec-2013 16:49:00  C2.0   \n",
       "7631   31-Dec-2013 18:20:00  31-Dec-2013 18:31:00  31-Dec-2013 18:25:00  C1.8   \n",
       "7632   31-Dec-2013 18:53:00  31-Dec-2013 19:03:00  31-Dec-2013 18:59:00  C4.0   \n",
       "7633   31-Dec-2013 19:49:00  31-Dec-2013 19:56:00  31-Dec-2013 19:53:00  C2.9   \n",
       "7634   31-Dec-2013 21:45:00  31-Dec-2013 22:20:00  31-Dec-2013 21:58:00  M6.4   \n",
       "9835   31-Dec-2014 01:50:00  31-Dec-2014 02:01:00  31-Dec-2014 01:55:00  C1.6   \n",
       "9837   31-Dec-2014 06:42:00  31-Dec-2014 06:55:00  31-Dec-2014 06:48:00  C1.7   \n",
       "9838   31-Dec-2014 09:01:00  31-Dec-2014 09:07:00  31-Dec-2014 09:04:00  C1.2   \n",
       "9839   31-Dec-2014 12:12:00  31-Dec-2014 12:18:00  31-Dec-2014 12:16:00  C1.0   \n",
       "9840   31-Dec-2014 12:31:00  31-Dec-2014 12:38:00  31-Dec-2014 12:35:00  C1.4   \n",
       "9841   31-Dec-2014 23:02:00   1-Jan-2015 00:17:00  31-Dec-2014 23:39:00  C1.2   \n",
       "11831  31-Dec-2015 17:19:00  31-Dec-2015 17:28:00  31-Dec-2015 17:25:00  C1.4   \n",
       "11832  31-Dec-2015 19:57:00  31-Dec-2015 20:15:00  31-Dec-2015 20:11:00  C1.6   \n",
       "\n",
       "          LOC NOAA_AR goes_class_ind            datetime        match_time  \n",
       "7626            11936              C 2013-12-31 02:29:00  2013-12-31 02:29  \n",
       "7627            11938              C 2013-12-31 05:21:00  2013-12-31 05:21  \n",
       "7628            11936              C 2013-12-31 07:33:00  2013-12-31 07:33  \n",
       "7629                               C 2013-12-31 10:23:00  2013-12-31 10:23  \n",
       "7630   S13E16   11938              C 2013-12-31 16:42:00  2013-12-31 16:42  \n",
       "7631   S16W16   11936              C 2013-12-31 18:20:00  2013-12-31 18:20  \n",
       "7632   S13W41   11940              C 2013-12-31 18:53:00  2013-12-31 18:53  \n",
       "7633   S13W41   11940              C 2013-12-31 19:49:00  2013-12-31 19:49  \n",
       "7634   S16W35   11936              M 2013-12-31 21:45:00  2013-12-31 21:45  \n",
       "9835   S12E19   12251              C 2014-12-31 01:50:00  2014-12-31 01:50  \n",
       "9837   S06E60   12253              C 2014-12-31 06:42:00  2014-12-31 06:42  \n",
       "9838   S06E58   12253              C 2014-12-31 09:01:00  2014-12-31 09:01  \n",
       "9839            12251              C 2014-12-31 12:12:00  2014-12-31 12:12  \n",
       "9840            12253              C 2014-12-31 12:31:00  2014-12-31 12:31  \n",
       "9841            12253              C 2014-12-31 23:02:00  2014-12-31 23:02  \n",
       "11831           12473              C 2015-12-31 17:19:00  2015-12-31 17:19  \n",
       "11832           12473              C 2015-12-31 19:57:00  2015-12-31 19:57  "
      ]
     },
     "execution_count": 150,
     "metadata": {},
     "output_type": "execute_result"
    }
   ],
   "source": [
    "gev_df_c[~gev_df_c[\"match_time\"].isin(common[\"match_time\"])]"
   ]
  },
  {
   "cell_type": "code",
   "execution_count": 153,
   "id": "adopted-space",
   "metadata": {},
   "outputs": [
    {
     "data": {
      "text/html": [
       "<div>\n",
       "<style scoped>\n",
       "    .dataframe tbody tr th:only-of-type {\n",
       "        vertical-align: middle;\n",
       "    }\n",
       "\n",
       "    .dataframe tbody tr th {\n",
       "        vertical-align: top;\n",
       "    }\n",
       "\n",
       "    .dataframe thead th {\n",
       "        text-align: right;\n",
       "    }\n",
       "</style>\n",
       "<table border=\"1\" class=\"dataframe\">\n",
       "  <thead>\n",
       "    <tr style=\"text-align: right;\">\n",
       "      <th></th>\n",
       "      <th>match_time</th>\n",
       "      <th>goes_class_ind</th>\n",
       "    </tr>\n",
       "  </thead>\n",
       "  <tbody>\n",
       "    <tr>\n",
       "      <th>159</th>\n",
       "      <td>2010-02-06 06:59</td>\n",
       "      <td>C</td>\n",
       "    </tr>\n",
       "    <tr>\n",
       "      <th>162</th>\n",
       "      <td>2010-02-06 10:34</td>\n",
       "      <td>C</td>\n",
       "    </tr>\n",
       "    <tr>\n",
       "      <th>164</th>\n",
       "      <td>2010-02-06 15:25</td>\n",
       "      <td>C</td>\n",
       "    </tr>\n",
       "    <tr>\n",
       "      <th>166</th>\n",
       "      <td>2010-02-06 18:47</td>\n",
       "      <td>M</td>\n",
       "    </tr>\n",
       "    <tr>\n",
       "      <th>167</th>\n",
       "      <td>2010-02-06 21:31</td>\n",
       "      <td>M</td>\n",
       "    </tr>\n",
       "    <tr>\n",
       "      <th>...</th>\n",
       "      <td>...</td>\n",
       "      <td>...</td>\n",
       "    </tr>\n",
       "    <tr>\n",
       "      <th>10015</th>\n",
       "      <td>2015-01-15 14:49</td>\n",
       "      <td>C</td>\n",
       "    </tr>\n",
       "    <tr>\n",
       "      <th>10016</th>\n",
       "      <td>2015-01-15 16:39</td>\n",
       "      <td>C</td>\n",
       "    </tr>\n",
       "    <tr>\n",
       "      <th>10017</th>\n",
       "      <td>2015-01-15 21:49</td>\n",
       "      <td>C</td>\n",
       "    </tr>\n",
       "    <tr>\n",
       "      <th>10018</th>\n",
       "      <td>2015-01-16 03:18</td>\n",
       "      <td>C</td>\n",
       "    </tr>\n",
       "    <tr>\n",
       "      <th>14411</th>\n",
       "      <td>2018-03-30 07:57</td>\n",
       "      <td>C</td>\n",
       "    </tr>\n",
       "  </tbody>\n",
       "</table>\n",
       "<p>90 rows × 2 columns</p>\n",
       "</div>"
      ],
      "text/plain": [
       "             match_time goes_class_ind\n",
       "159    2010-02-06 06:59              C\n",
       "162    2010-02-06 10:34              C\n",
       "164    2010-02-06 15:25              C\n",
       "166    2010-02-06 18:47              M\n",
       "167    2010-02-06 21:31              M\n",
       "...                 ...            ...\n",
       "10015  2015-01-15 14:49              C\n",
       "10016  2015-01-15 16:39              C\n",
       "10017  2015-01-15 21:49              C\n",
       "10018  2015-01-16 03:18              C\n",
       "14411  2018-03-30 07:57              C\n",
       "\n",
       "[90 rows x 2 columns]"
      ]
     },
     "execution_count": 153,
     "metadata": {},
     "output_type": "execute_result"
    }
   ],
   "source": [
    "swpc_c[~swpc_c[\"match_time\"].isin(common[\"match_time\"])][[\"match_time\", \"goes_class_ind\"]]"
   ]
  },
  {
   "cell_type": "code",
   "execution_count": 158,
   "id": "focused-hawaiian",
   "metadata": {},
   "outputs": [
    {
     "data": {
      "text/html": [
       "<div>\n",
       "<style scoped>\n",
       "    .dataframe tbody tr th:only-of-type {\n",
       "        vertical-align: middle;\n",
       "    }\n",
       "\n",
       "    .dataframe tbody tr th {\n",
       "        vertical-align: top;\n",
       "    }\n",
       "\n",
       "    .dataframe thead th {\n",
       "        text-align: right;\n",
       "    }\n",
       "</style>\n",
       "<table border=\"1\" class=\"dataframe\">\n",
       "  <thead>\n",
       "    <tr style=\"text-align: right;\">\n",
       "      <th></th>\n",
       "      <th>match_time</th>\n",
       "      <th>goes_class_ind</th>\n",
       "    </tr>\n",
       "  </thead>\n",
       "  <tbody>\n",
       "    <tr>\n",
       "      <th>166</th>\n",
       "      <td>2010-02-06 18:47</td>\n",
       "      <td>M</td>\n",
       "    </tr>\n",
       "    <tr>\n",
       "      <th>167</th>\n",
       "      <td>2010-02-06 21:31</td>\n",
       "      <td>M</td>\n",
       "    </tr>\n",
       "    <tr>\n",
       "      <th>8667</th>\n",
       "      <td>2014-06-03 03:58</td>\n",
       "      <td>M</td>\n",
       "    </tr>\n",
       "    <tr>\n",
       "      <th>8684</th>\n",
       "      <td>2014-06-06 19:26</td>\n",
       "      <td>M</td>\n",
       "    </tr>\n",
       "    <tr>\n",
       "      <th>9277</th>\n",
       "      <td>2014-09-23 23:03</td>\n",
       "      <td>M</td>\n",
       "    </tr>\n",
       "    <tr>\n",
       "      <th>9293</th>\n",
       "      <td>2014-09-27 08:32</td>\n",
       "      <td>M</td>\n",
       "    </tr>\n",
       "    <tr>\n",
       "      <th>9993</th>\n",
       "      <td>2015-01-13 04:13</td>\n",
       "      <td>M</td>\n",
       "    </tr>\n",
       "    <tr>\n",
       "      <th>9994</th>\n",
       "      <td>2015-01-13 04:46</td>\n",
       "      <td>M</td>\n",
       "    </tr>\n",
       "    <tr>\n",
       "      <th>10008</th>\n",
       "      <td>2015-01-14 12:30</td>\n",
       "      <td>M</td>\n",
       "    </tr>\n",
       "  </tbody>\n",
       "</table>\n",
       "</div>"
      ],
      "text/plain": [
       "             match_time goes_class_ind\n",
       "166    2010-02-06 18:47              M\n",
       "167    2010-02-06 21:31              M\n",
       "8667   2014-06-03 03:58              M\n",
       "8684   2014-06-06 19:26              M\n",
       "9277   2014-09-23 23:03              M\n",
       "9293   2014-09-27 08:32              M\n",
       "9993   2015-01-13 04:13              M\n",
       "9994   2015-01-13 04:46              M\n",
       "10008  2015-01-14 12:30              M"
      ]
     },
     "execution_count": 158,
     "metadata": {},
     "output_type": "execute_result"
    }
   ],
   "source": [
    "swpc_excess = swpc_c[~swpc_c[\"match_time\"].isin(common[\"match_time\"])][[\"match_time\", \"goes_class_ind\"]]\n",
    "swpc_excess[swpc_excess[\"goes_class_ind\"].isin([\"M\"])]"
   ]
  },
  {
   "cell_type": "markdown",
   "id": "finnish-catering",
   "metadata": {},
   "source": [
    "## READ IN HELIOOOO"
   ]
  },
  {
   "cell_type": "code",
   "execution_count": 154,
   "id": "competitive-stopping",
   "metadata": {},
   "outputs": [],
   "source": [
    "helio_flarelist = pd.read_csv(\"full_sswlatest.csv\")\n",
    "ssw = helio_flarelist[helio_flarelist[\"goes_class_ind\"].isin([\"X\", \"M\", \"C\"])]\n",
    "ssw[\"datetime\"] = pd.to_datetime(ssw[\"time_start\"])"
   ]
  },
  {
   "cell_type": "code",
   "execution_count": 157,
   "id": "virtual-giving",
   "metadata": {},
   "outputs": [
    {
     "name": "stdout",
     "output_type": "stream",
     "text": [
      "helio: X: 49, M: 735, C: 7989\n",
      "swpc: X: 49, M: 748, C: 7798\n"
     ]
    }
   ],
   "source": [
    "print_flares(ssw, \"helio\")\n",
    "print_flares(swpc_c, \"swpc\")"
   ]
  },
  {
   "cell_type": "code",
   "execution_count": null,
   "id": "guilty-register",
   "metadata": {},
   "outputs": [],
   "source": []
  },
  {
   "cell_type": "code",
   "execution_count": null,
   "id": "bridal-douglas",
   "metadata": {},
   "outputs": [],
   "source": [
    "df1[~df1.isin(df2)].dropna()"
   ]
  },
  {
   "cell_type": "code",
   "execution_count": null,
   "id": "printable-lambda",
   "metadata": {},
   "outputs": [],
   "source": []
  },
  {
   "cell_type": "code",
   "execution_count": null,
   "id": "australian-percentage",
   "metadata": {},
   "outputs": [],
   "source": []
  },
  {
   "cell_type": "code",
   "execution_count": null,
   "id": "fitting-heater",
   "metadata": {},
   "outputs": [],
   "source": []
  },
  {
   "cell_type": "code",
   "execution_count": null,
   "id": "spread-pharmaceutical",
   "metadata": {},
   "outputs": [],
   "source": []
  },
  {
   "cell_type": "code",
   "execution_count": 102,
   "id": "executive-necessity",
   "metadata": {},
   "outputs": [
    {
     "data": {
      "text/plain": [
       "array(['GOES'], dtype=object)"
      ]
     },
     "execution_count": 102,
     "metadata": {},
     "output_type": "execute_result"
    }
   ],
   "source": [
    "hek_flares_swpc[\"obs_observatory\"].unique()"
   ]
  },
  {
   "cell_type": "code",
   "execution_count": 103,
   "id": "confidential-optimum",
   "metadata": {},
   "outputs": [],
   "source": [
    "def print_flares(df, name):\n",
    "    x = np.sum(df[\"goes_class_ind\"].isin([\"X\"]))\n",
    "    m = np.sum(df[\"goes_class_ind\"].isin([\"M\"]))\n",
    "    c = np.sum(df[\"goes_class_ind\"].isin([\"C\"]))\n",
    "    print(\"{:s}: X: {:d}, M: {:d}, C: {:d}\".format(name, x, m, c))"
   ]
  },
  {
   "cell_type": "code",
   "execution_count": 104,
   "id": "spiritual-maryland",
   "metadata": {},
   "outputs": [
    {
     "data": {
      "text/html": [
       "<div>\n",
       "<style scoped>\n",
       "    .dataframe tbody tr th:only-of-type {\n",
       "        vertical-align: middle;\n",
       "    }\n",
       "\n",
       "    .dataframe tbody tr th {\n",
       "        vertical-align: top;\n",
       "    }\n",
       "\n",
       "    .dataframe thead th {\n",
       "        text-align: right;\n",
       "    }\n",
       "</style>\n",
       "<table border=\"1\" class=\"dataframe\">\n",
       "  <thead>\n",
       "    <tr style=\"text-align: right;\">\n",
       "      <th></th>\n",
       "      <th>date</th>\n",
       "      <th>event_no</th>\n",
       "      <th>start_time</th>\n",
       "      <th>max_time</th>\n",
       "      <th>end_time</th>\n",
       "      <th>goes_sat</th>\n",
       "      <th>goes_channel</th>\n",
       "      <th>goes_class_ind</th>\n",
       "      <th>goes_class</th>\n",
       "      <th>integrated_flux</th>\n",
       "      <th>noaa_ar</th>\n",
       "      <th>ts</th>\n",
       "      <th>datetime</th>\n",
       "      <th>match_time</th>\n",
       "    </tr>\n",
       "  </thead>\n",
       "  <tbody>\n",
       "    <tr>\n",
       "      <th>4</th>\n",
       "      <td>20100102</td>\n",
       "      <td>4300</td>\n",
       "      <td>0709</td>\n",
       "      <td>0724</td>\n",
       "      <td>0740</td>\n",
       "      <td>G14</td>\n",
       "      <td>1-8A</td>\n",
       "      <td>C</td>\n",
       "      <td>C1.0</td>\n",
       "      <td>1.2E-03</td>\n",
       "      <td>11039</td>\n",
       "      <td>201001020709</td>\n",
       "      <td>2010-01-02 07:09:00</td>\n",
       "      <td>2010-01-02 07:09</td>\n",
       "    </tr>\n",
       "    <tr>\n",
       "      <th>8</th>\n",
       "      <td>20100102</td>\n",
       "      <td>4370</td>\n",
       "      <td>1408</td>\n",
       "      <td>1416</td>\n",
       "      <td>1424</td>\n",
       "      <td>G14</td>\n",
       "      <td>1-8A</td>\n",
       "      <td>C</td>\n",
       "      <td>C2.6</td>\n",
       "      <td>1.4E-03</td>\n",
       "      <td></td>\n",
       "      <td>201001021408</td>\n",
       "      <td>2010-01-02 14:08:00</td>\n",
       "      <td>2010-01-02 14:08</td>\n",
       "    </tr>\n",
       "  </tbody>\n",
       "</table>\n",
       "</div>"
      ],
      "text/plain": [
       "       date event_no start_time max_time end_time goes_sat goes_channel  \\\n",
       "4  20100102     4300       0709     0724     0740      G14         1-8A   \n",
       "8  20100102     4370       1408     1416     1424      G14         1-8A   \n",
       "\n",
       "  goes_class_ind goes_class integrated_flux noaa_ar            ts  \\\n",
       "4              C       C1.0         1.2E-03   11039  201001020709   \n",
       "8              C       C2.6         1.4E-03          201001021408   \n",
       "\n",
       "             datetime        match_time  \n",
       "4 2010-01-02 07:09:00  2010-01-02 07:09  \n",
       "8 2010-01-02 14:08:00  2010-01-02 14:08  "
      ]
     },
     "execution_count": 104,
     "metadata": {},
     "output_type": "execute_result"
    }
   ],
   "source": [
    "swpc_c.head(2)"
   ]
  },
  {
   "cell_type": "code",
   "execution_count": 70,
   "id": "federal-burner",
   "metadata": {},
   "outputs": [
    {
     "data": {
      "text/html": [
       "<div>\n",
       "<style scoped>\n",
       "    .dataframe tbody tr th:only-of-type {\n",
       "        vertical-align: middle;\n",
       "    }\n",
       "\n",
       "    .dataframe tbody tr th {\n",
       "        vertical-align: top;\n",
       "    }\n",
       "\n",
       "    .dataframe thead th {\n",
       "        text-align: right;\n",
       "    }\n",
       "</style>\n",
       "<table border=\"1\" class=\"dataframe\">\n",
       "  <thead>\n",
       "    <tr style=\"text-align: right;\">\n",
       "      <th></th>\n",
       "      <th>GSTART</th>\n",
       "      <th>GEND</th>\n",
       "      <th>GPEAK</th>\n",
       "      <th>CLASS</th>\n",
       "      <th>LOC</th>\n",
       "      <th>NOAA_AR</th>\n",
       "      <th>goes_class_ind</th>\n",
       "      <th>datetime</th>\n",
       "      <th>match_time</th>\n",
       "    </tr>\n",
       "  </thead>\n",
       "  <tbody>\n",
       "    <tr>\n",
       "      <th>4</th>\n",
       "      <td>2-Jan-2010 07:09:00</td>\n",
       "      <td>2-Jan-2010 07:40:00</td>\n",
       "      <td>2-Jan-2010 07:24:00</td>\n",
       "      <td>C1.0</td>\n",
       "      <td>S29W37</td>\n",
       "      <td>11039</td>\n",
       "      <td>C</td>\n",
       "      <td>2010-01-02 07:09:00</td>\n",
       "      <td>2010-01-02 07:09</td>\n",
       "    </tr>\n",
       "    <tr>\n",
       "      <th>8</th>\n",
       "      <td>2-Jan-2010 14:08:00</td>\n",
       "      <td>2-Jan-2010 14:24:00</td>\n",
       "      <td>2-Jan-2010 14:16:00</td>\n",
       "      <td>C2.6</td>\n",
       "      <td></td>\n",
       "      <td></td>\n",
       "      <td>C</td>\n",
       "      <td>2010-01-02 14:08:00</td>\n",
       "      <td>2010-01-02 14:08</td>\n",
       "    </tr>\n",
       "  </tbody>\n",
       "</table>\n",
       "</div>"
      ],
      "text/plain": [
       "                 GSTART                  GEND                 GPEAK CLASS  \\\n",
       "4   2-Jan-2010 07:09:00   2-Jan-2010 07:40:00   2-Jan-2010 07:24:00  C1.0   \n",
       "8   2-Jan-2010 14:08:00   2-Jan-2010 14:24:00   2-Jan-2010 14:16:00  C2.6   \n",
       "\n",
       "      LOC NOAA_AR goes_class_ind            datetime        match_time  \n",
       "4  S29W37   11039              C 2010-01-02 07:09:00  2010-01-02 07:09  \n",
       "8                              C 2010-01-02 14:08:00  2010-01-02 14:08  "
      ]
     },
     "execution_count": 70,
     "metadata": {},
     "output_type": "execute_result"
    }
   ],
   "source": [
    "gev_df_c.head(2)"
   ]
  },
  {
   "cell_type": "code",
   "execution_count": null,
   "id": "naval-louisville",
   "metadata": {},
   "outputs": [],
   "source": []
  }
 ],
 "metadata": {
  "kernelspec": {
   "display_name": "Python 3",
   "language": "python",
   "name": "python3"
  },
  "language_info": {
   "codemirror_mode": {
    "name": "ipython",
    "version": 3
   },
   "file_extension": ".py",
   "mimetype": "text/x-python",
   "name": "python",
   "nbconvert_exporter": "python",
   "pygments_lexer": "ipython3",
   "version": "3.7.8"
  }
 },
 "nbformat": 4,
 "nbformat_minor": 5
}
