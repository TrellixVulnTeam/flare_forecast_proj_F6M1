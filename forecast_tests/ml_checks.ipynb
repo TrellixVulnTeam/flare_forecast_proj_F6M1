{
 "cells": [
  {
   "cell_type": "code",
   "execution_count": 524,
   "id": "63f4527c",
   "metadata": {},
   "outputs": [],
   "source": [
    "import pandas as pd \n",
    "import matplotlib.pyplot as plt \n",
    "import numpy as np\n",
    "import datetime\n",
    "import seaborn as sns\n",
    "\n",
    "from sklearn import preprocessing, decomposition\n",
    "from sklearn.model_selection import train_test_split, cross_val_score\n",
    "\n",
    "from sklearn.tree import DecisionTreeClassifier\n",
    "from sklearn.ensemble import RandomForestClassifier\n",
    "from sklearn.linear_model import LogisticRegression\n",
    "from sklearn.neighbors import KNeighborsClassifier\n",
    "from sklearn.naive_bayes import GaussianNB\n",
    "from sklearn.svm import SVC, LinearSVC\n",
    "from sklearn.metrics import (brier_score_loss, precision_score, recall_score,\n",
    "                             f1_score)\n",
    "from sklearn.calibration import CalibratedClassifierCV, calibration_curve\n",
    "from sklearn.metrics import roc_curve, auc, roc_auc_score\n",
    "\n",
    "from sklearn.metrics import confusion_matrix, plot_confusion_matrix\n",
    "\n",
    "import warnings\n",
    "warnings.filterwarnings(\"ignore\")"
   ]
  },
  {
   "cell_type": "code",
   "execution_count": 2,
   "id": "a0a3a0a5",
   "metadata": {},
   "outputs": [],
   "source": [
    "data = pd.read_csv(\"ar_flare_ml_df.csv\")"
   ]
  },
  {
   "cell_type": "markdown",
   "id": "682ab789",
   "metadata": {},
   "source": [
    "## get previous day data"
   ]
  },
  {
   "cell_type": "code",
   "execution_count": 3,
   "id": "d951ed28",
   "metadata": {},
   "outputs": [
    {
     "data": {
      "text/html": [
       "<div>\n",
       "<style scoped>\n",
       "    .dataframe tbody tr th:only-of-type {\n",
       "        vertical-align: middle;\n",
       "    }\n",
       "\n",
       "    .dataframe tbody tr th {\n",
       "        vertical-align: top;\n",
       "    }\n",
       "\n",
       "    .dataframe thead th {\n",
       "        text-align: right;\n",
       "    }\n",
       "</style>\n",
       "<table border=\"1\" class=\"dataframe\">\n",
       "  <thead>\n",
       "    <tr style=\"text-align: right;\">\n",
       "      <th></th>\n",
       "      <th>AR issue_date</th>\n",
       "      <th>noaa_ar</th>\n",
       "      <th>Carrington Longitude</th>\n",
       "      <th>Area</th>\n",
       "      <th>McIntosh</th>\n",
       "      <th>Longitudinal Extent</th>\n",
       "      <th>Number of Sunspots</th>\n",
       "      <th>Mag Type</th>\n",
       "      <th>Latitude</th>\n",
       "      <th>Longitude</th>\n",
       "      <th>C</th>\n",
       "      <th>M</th>\n",
       "      <th>X</th>\n",
       "      <th>C+</th>\n",
       "      <th>M+</th>\n",
       "      <th>X+</th>\n",
       "    </tr>\n",
       "  </thead>\n",
       "  <tbody>\n",
       "    <tr>\n",
       "      <th>0</th>\n",
       "      <td>2010-01-01 00:30</td>\n",
       "      <td>11039</td>\n",
       "      <td>54.0</td>\n",
       "      <td>130.0</td>\n",
       "      <td>Dai</td>\n",
       "      <td>6.0</td>\n",
       "      <td>8.0</td>\n",
       "      <td>Beta</td>\n",
       "      <td>-28.0</td>\n",
       "      <td>21.0</td>\n",
       "      <td>0.0</td>\n",
       "      <td>0.0</td>\n",
       "      <td>0.0</td>\n",
       "      <td>0.0</td>\n",
       "      <td>0.0</td>\n",
       "      <td>0.0</td>\n",
       "    </tr>\n",
       "    <tr>\n",
       "      <th>1</th>\n",
       "      <td>2010-01-02 00:30</td>\n",
       "      <td>11039</td>\n",
       "      <td>54.0</td>\n",
       "      <td>120.0</td>\n",
       "      <td>Dso</td>\n",
       "      <td>9.0</td>\n",
       "      <td>6.0</td>\n",
       "      <td>Beta</td>\n",
       "      <td>-27.0</td>\n",
       "      <td>35.0</td>\n",
       "      <td>2.0</td>\n",
       "      <td>0.0</td>\n",
       "      <td>0.0</td>\n",
       "      <td>2.0</td>\n",
       "      <td>0.0</td>\n",
       "      <td>0.0</td>\n",
       "    </tr>\n",
       "    <tr>\n",
       "      <th>2</th>\n",
       "      <td>2010-01-03 00:30</td>\n",
       "      <td>11039</td>\n",
       "      <td>52.0</td>\n",
       "      <td>190.0</td>\n",
       "      <td>Dso</td>\n",
       "      <td>8.0</td>\n",
       "      <td>12.0</td>\n",
       "      <td>Beta</td>\n",
       "      <td>-28.0</td>\n",
       "      <td>46.0</td>\n",
       "      <td>1.0</td>\n",
       "      <td>0.0</td>\n",
       "      <td>0.0</td>\n",
       "      <td>1.0</td>\n",
       "      <td>0.0</td>\n",
       "      <td>0.0</td>\n",
       "    </tr>\n",
       "    <tr>\n",
       "      <th>3</th>\n",
       "      <td>2010-01-04 00:30</td>\n",
       "      <td>11039</td>\n",
       "      <td>52.0</td>\n",
       "      <td>220.0</td>\n",
       "      <td>Dso</td>\n",
       "      <td>7.0</td>\n",
       "      <td>10.0</td>\n",
       "      <td>Beta</td>\n",
       "      <td>-29.0</td>\n",
       "      <td>59.0</td>\n",
       "      <td>1.0</td>\n",
       "      <td>0.0</td>\n",
       "      <td>0.0</td>\n",
       "      <td>1.0</td>\n",
       "      <td>0.0</td>\n",
       "      <td>0.0</td>\n",
       "    </tr>\n",
       "    <tr>\n",
       "      <th>4</th>\n",
       "      <td>2010-01-05 00:30</td>\n",
       "      <td>11039</td>\n",
       "      <td>52.0</td>\n",
       "      <td>150.0</td>\n",
       "      <td>Dso</td>\n",
       "      <td>7.0</td>\n",
       "      <td>5.0</td>\n",
       "      <td>Beta</td>\n",
       "      <td>-28.0</td>\n",
       "      <td>72.0</td>\n",
       "      <td>0.0</td>\n",
       "      <td>0.0</td>\n",
       "      <td>0.0</td>\n",
       "      <td>0.0</td>\n",
       "      <td>0.0</td>\n",
       "      <td>0.0</td>\n",
       "    </tr>\n",
       "  </tbody>\n",
       "</table>\n",
       "</div>"
      ],
      "text/plain": [
       "      AR issue_date  noaa_ar  Carrington Longitude   Area McIntosh  \\\n",
       "0  2010-01-01 00:30    11039                  54.0  130.0      Dai   \n",
       "1  2010-01-02 00:30    11039                  54.0  120.0      Dso   \n",
       "2  2010-01-03 00:30    11039                  52.0  190.0      Dso   \n",
       "3  2010-01-04 00:30    11039                  52.0  220.0      Dso   \n",
       "4  2010-01-05 00:30    11039                  52.0  150.0      Dso   \n",
       "\n",
       "   Longitudinal Extent  Number of Sunspots Mag Type  Latitude  Longitude    C  \\\n",
       "0                  6.0                 8.0     Beta     -28.0       21.0  0.0   \n",
       "1                  9.0                 6.0     Beta     -27.0       35.0  2.0   \n",
       "2                  8.0                12.0     Beta     -28.0       46.0  1.0   \n",
       "3                  7.0                10.0     Beta     -29.0       59.0  1.0   \n",
       "4                  7.0                 5.0     Beta     -28.0       72.0  0.0   \n",
       "\n",
       "     M    X   C+   M+   X+  \n",
       "0  0.0  0.0  0.0  0.0  0.0  \n",
       "1  0.0  0.0  2.0  0.0  0.0  \n",
       "2  0.0  0.0  1.0  0.0  0.0  \n",
       "3  0.0  0.0  1.0  0.0  0.0  \n",
       "4  0.0  0.0  0.0  0.0  0.0  "
      ]
     },
     "execution_count": 3,
     "metadata": {},
     "output_type": "execute_result"
    }
   ],
   "source": [
    "data.head()"
   ]
  },
  {
   "cell_type": "code",
   "execution_count": 351,
   "id": "fd2b4bcb",
   "metadata": {},
   "outputs": [
    {
     "data": {
      "text/plain": [
       "11885"
      ]
     },
     "execution_count": 351,
     "metadata": {},
     "output_type": "execute_result"
    }
   ],
   "source": [
    "len(data)"
   ]
  },
  {
   "cell_type": "code",
   "execution_count": 4,
   "id": "c8c51c55",
   "metadata": {},
   "outputs": [],
   "source": [
    "prev_area, prev_mcint, prev_mag, prev_flare = [], [], [], []\n",
    "for i in range(len(data)):\n",
    "\n",
    "    test = data.iloc[i]\n",
    "    previous_day = (pd.to_datetime(test[\"AR issue_date\"])-datetime.timedelta(days=1)).strftime(\"%Y-%m-%d 00:30\")\n",
    "    ar_match = test[\"noaa_ar\"]\n",
    "    data_prev = data[(data[\"AR issue_date\"].isin([previous_day]))&(data[\"noaa_ar\"].isin([ar_match]))]\n",
    "\n",
    "    if len(data_prev)==0:\n",
    "        prev_area.append(0), prev_mcint.append(''), prev_mag.append(''), prev_flare.append(0)\n",
    "    else:\n",
    "        prev_area.append(data_prev[\"Area\"].values[0]), prev_mcint.append(data_prev[\"McIntosh\"].values[0]), \n",
    "        prev_mag.append(data_prev[\"Mag Type\"].values[0]), prev_flare.append(data_prev[\"C+\"].values[0])\n"
   ]
  },
  {
   "cell_type": "code",
   "execution_count": 13,
   "id": "96cd54ef",
   "metadata": {},
   "outputs": [],
   "source": [
    "data[\"pre_area\"], data[\"pre_mcint\"], data[\"pre_mag\"], data[\"pre_flare\"] = prev_area, prev_mcint, prev_mag, prev_flare"
   ]
  },
  {
   "cell_type": "code",
   "execution_count": 14,
   "id": "dac4f7fa",
   "metadata": {},
   "outputs": [
    {
     "data": {
      "text/html": [
       "<div>\n",
       "<style scoped>\n",
       "    .dataframe tbody tr th:only-of-type {\n",
       "        vertical-align: middle;\n",
       "    }\n",
       "\n",
       "    .dataframe tbody tr th {\n",
       "        vertical-align: top;\n",
       "    }\n",
       "\n",
       "    .dataframe thead th {\n",
       "        text-align: right;\n",
       "    }\n",
       "</style>\n",
       "<table border=\"1\" class=\"dataframe\">\n",
       "  <thead>\n",
       "    <tr style=\"text-align: right;\">\n",
       "      <th></th>\n",
       "      <th>AR issue_date</th>\n",
       "      <th>noaa_ar</th>\n",
       "      <th>Carrington Longitude</th>\n",
       "      <th>Area</th>\n",
       "      <th>McIntosh</th>\n",
       "      <th>Longitudinal Extent</th>\n",
       "      <th>Number of Sunspots</th>\n",
       "      <th>Mag Type</th>\n",
       "      <th>Latitude</th>\n",
       "      <th>Longitude</th>\n",
       "      <th>C</th>\n",
       "      <th>M</th>\n",
       "      <th>X</th>\n",
       "      <th>C+</th>\n",
       "      <th>M+</th>\n",
       "      <th>X+</th>\n",
       "      <th>pre_area</th>\n",
       "      <th>pre_mcint</th>\n",
       "      <th>pre_mag</th>\n",
       "      <th>pre_flare</th>\n",
       "    </tr>\n",
       "  </thead>\n",
       "  <tbody>\n",
       "    <tr>\n",
       "      <th>0</th>\n",
       "      <td>2010-01-01 00:30</td>\n",
       "      <td>11039</td>\n",
       "      <td>54.0</td>\n",
       "      <td>130.0</td>\n",
       "      <td>Dai</td>\n",
       "      <td>6.0</td>\n",
       "      <td>8.0</td>\n",
       "      <td>Beta</td>\n",
       "      <td>-28.0</td>\n",
       "      <td>21.0</td>\n",
       "      <td>0.0</td>\n",
       "      <td>0.0</td>\n",
       "      <td>0.0</td>\n",
       "      <td>0.0</td>\n",
       "      <td>0.0</td>\n",
       "      <td>0.0</td>\n",
       "      <td>0.0</td>\n",
       "      <td></td>\n",
       "      <td></td>\n",
       "      <td>0.0</td>\n",
       "    </tr>\n",
       "    <tr>\n",
       "      <th>1</th>\n",
       "      <td>2010-01-02 00:30</td>\n",
       "      <td>11039</td>\n",
       "      <td>54.0</td>\n",
       "      <td>120.0</td>\n",
       "      <td>Dso</td>\n",
       "      <td>9.0</td>\n",
       "      <td>6.0</td>\n",
       "      <td>Beta</td>\n",
       "      <td>-27.0</td>\n",
       "      <td>35.0</td>\n",
       "      <td>2.0</td>\n",
       "      <td>0.0</td>\n",
       "      <td>0.0</td>\n",
       "      <td>2.0</td>\n",
       "      <td>0.0</td>\n",
       "      <td>0.0</td>\n",
       "      <td>130.0</td>\n",
       "      <td>Dai</td>\n",
       "      <td>Beta</td>\n",
       "      <td>0.0</td>\n",
       "    </tr>\n",
       "    <tr>\n",
       "      <th>2</th>\n",
       "      <td>2010-01-03 00:30</td>\n",
       "      <td>11039</td>\n",
       "      <td>52.0</td>\n",
       "      <td>190.0</td>\n",
       "      <td>Dso</td>\n",
       "      <td>8.0</td>\n",
       "      <td>12.0</td>\n",
       "      <td>Beta</td>\n",
       "      <td>-28.0</td>\n",
       "      <td>46.0</td>\n",
       "      <td>1.0</td>\n",
       "      <td>0.0</td>\n",
       "      <td>0.0</td>\n",
       "      <td>1.0</td>\n",
       "      <td>0.0</td>\n",
       "      <td>0.0</td>\n",
       "      <td>120.0</td>\n",
       "      <td>Dso</td>\n",
       "      <td>Beta</td>\n",
       "      <td>2.0</td>\n",
       "    </tr>\n",
       "    <tr>\n",
       "      <th>3</th>\n",
       "      <td>2010-01-04 00:30</td>\n",
       "      <td>11039</td>\n",
       "      <td>52.0</td>\n",
       "      <td>220.0</td>\n",
       "      <td>Dso</td>\n",
       "      <td>7.0</td>\n",
       "      <td>10.0</td>\n",
       "      <td>Beta</td>\n",
       "      <td>-29.0</td>\n",
       "      <td>59.0</td>\n",
       "      <td>1.0</td>\n",
       "      <td>0.0</td>\n",
       "      <td>0.0</td>\n",
       "      <td>1.0</td>\n",
       "      <td>0.0</td>\n",
       "      <td>0.0</td>\n",
       "      <td>190.0</td>\n",
       "      <td>Dso</td>\n",
       "      <td>Beta</td>\n",
       "      <td>1.0</td>\n",
       "    </tr>\n",
       "    <tr>\n",
       "      <th>4</th>\n",
       "      <td>2010-01-05 00:30</td>\n",
       "      <td>11039</td>\n",
       "      <td>52.0</td>\n",
       "      <td>150.0</td>\n",
       "      <td>Dso</td>\n",
       "      <td>7.0</td>\n",
       "      <td>5.0</td>\n",
       "      <td>Beta</td>\n",
       "      <td>-28.0</td>\n",
       "      <td>72.0</td>\n",
       "      <td>0.0</td>\n",
       "      <td>0.0</td>\n",
       "      <td>0.0</td>\n",
       "      <td>0.0</td>\n",
       "      <td>0.0</td>\n",
       "      <td>0.0</td>\n",
       "      <td>220.0</td>\n",
       "      <td>Dso</td>\n",
       "      <td>Beta</td>\n",
       "      <td>1.0</td>\n",
       "    </tr>\n",
       "  </tbody>\n",
       "</table>\n",
       "</div>"
      ],
      "text/plain": [
       "      AR issue_date  noaa_ar  Carrington Longitude   Area McIntosh  \\\n",
       "0  2010-01-01 00:30    11039                  54.0  130.0      Dai   \n",
       "1  2010-01-02 00:30    11039                  54.0  120.0      Dso   \n",
       "2  2010-01-03 00:30    11039                  52.0  190.0      Dso   \n",
       "3  2010-01-04 00:30    11039                  52.0  220.0      Dso   \n",
       "4  2010-01-05 00:30    11039                  52.0  150.0      Dso   \n",
       "\n",
       "   Longitudinal Extent  Number of Sunspots Mag Type  Latitude  Longitude    C  \\\n",
       "0                  6.0                 8.0     Beta     -28.0       21.0  0.0   \n",
       "1                  9.0                 6.0     Beta     -27.0       35.0  2.0   \n",
       "2                  8.0                12.0     Beta     -28.0       46.0  1.0   \n",
       "3                  7.0                10.0     Beta     -29.0       59.0  1.0   \n",
       "4                  7.0                 5.0     Beta     -28.0       72.0  0.0   \n",
       "\n",
       "     M    X   C+   M+   X+  pre_area pre_mcint pre_mag  pre_flare  \n",
       "0  0.0  0.0  0.0  0.0  0.0       0.0                          0.0  \n",
       "1  0.0  0.0  2.0  0.0  0.0     130.0       Dai    Beta        0.0  \n",
       "2  0.0  0.0  1.0  0.0  0.0     120.0       Dso    Beta        2.0  \n",
       "3  0.0  0.0  1.0  0.0  0.0     190.0       Dso    Beta        1.0  \n",
       "4  0.0  0.0  0.0  0.0  0.0     220.0       Dso    Beta        1.0  "
      ]
     },
     "execution_count": 14,
     "metadata": {},
     "output_type": "execute_result"
    }
   ],
   "source": [
    "data.head()"
   ]
  },
  {
   "cell_type": "code",
   "execution_count": 20,
   "id": "4cb4e6c2",
   "metadata": {},
   "outputs": [],
   "source": [
    "data2 = data[data[\"pre_mcint\"]!='']"
   ]
  },
  {
   "cell_type": "code",
   "execution_count": 21,
   "id": "f5ac3efa",
   "metadata": {},
   "outputs": [
    {
     "data": {
      "text/plain": [
       "array(['DsoDai', 'DsoDso', 'DroDso', 'BxoBxo', 'CriBxo', 'EaoCri',\n",
       "       'DhcEao', 'EaoDhc', 'EkiEao', 'EkiEki', 'CkiEki', 'DsoCki',\n",
       "       'DhoDso', 'CaoCso', 'EsoCao', 'EaiEso', 'DsiEai', 'DaiCao',\n",
       "       'CaiDsi', 'CroDai', 'DsoCai', 'HsxCro', 'CsoDso', 'HsxCso',\n",
       "       'BxoHsx', 'AxxBxo', 'DsoBxo', 'HsxHsx', 'HaxHsx', 'AxxHax',\n",
       "       'AxxAxx', 'FkcDkc', 'FkcFkc', 'FaiFkc', 'FsiFai', 'EacDso',\n",
       "       'FsoFsi', 'EscEac', 'BxoFso', 'CsoEsc', 'CaoCao', 'CroCao',\n",
       "       'DaoDso', 'DsiDao', 'DsiDsi', 'CsoDsi', 'CsoCso', 'BxoCso',\n",
       "       'BxoCao', 'CsoBxo', 'CroBxo', 'BxoCro', 'AxxCro', 'EscDao',\n",
       "       'EsiEsc', 'EaiEsi', 'DaiEai', 'CaiDai', 'BxoCai', 'HsxBxo',\n",
       "       'AxxHsx', 'CsiBxo', 'BxoCsi', 'DacBxo', 'DhcDac', 'DkiDhc',\n",
       "       'DhiDki', 'EkiDhi', 'DkiEki', 'HsxHax', 'CkoDhi', 'HaxHax',\n",
       "       'CaoCko', 'HhxCao', 'CsoHsx', 'HsxHhx', 'CroDro', 'CroCro',\n",
       "       'CroAxx', 'DroCso', 'BxoAxx', 'BxoDro', 'DaiDai', 'EsiDai',\n",
       "       'CsoEsi', 'CaoBxo', 'DsiCao', 'DaiBxo', 'DhoDai', 'DsoDho',\n",
       "       'BxoDso', 'DroBxo', 'DsiCro', 'DaoDsi', 'AxxDao', 'DroDai',\n",
       "       'AxxDro', 'DaoDro', 'BxoDao', 'DsoCro', 'CsoDro', 'HrxBxo',\n",
       "       'DroDro', 'EroDro', 'DaoEro', 'DsoDao', 'EsoCso', 'HsxEso',\n",
       "       'DaoCso', 'EsiEsi', 'DsiEsi', 'DsoDsi', 'EaoDso', 'CaoEao',\n",
       "       'HkxCso', 'HkxHkx', 'ChoHkx', 'ChoCho', 'CsoCho', 'HhxHsx',\n",
       "       'CsoCao', 'HaxBxo', 'HrxAxx', 'HsxHrx', 'BxoCri', 'HkxHsx',\n",
       "       'HsxHkx', 'CriCro', 'HrxHsx', 'HrxHrx', 'DroCro', 'CsoHrx',\n",
       "       'CaoCro', 'DriBxo', 'DriDri', 'CaiDri', 'HaxCai', 'FaoCso',\n",
       "       'FaoFao', 'FsoFao', 'FsiFso', 'EhoCko', 'EsoEho', 'FsoFso',\n",
       "       'FhoEso', 'FkoFho', 'FhoFko', 'HhxFho', 'DkoHrx', 'EhoDso',\n",
       "       'HhxHkx', 'EhiEho', 'EsiEhi', 'EkiEsi', 'EaiEki', 'EhiEai',\n",
       "       'DsoAxx', 'DhiEhi', 'DhoDhi', 'CkoDho', 'HaxCko', 'DsoDro',\n",
       "       'AxxDso', 'CroHsx', 'DsiDro', 'EaiDsi', 'EaiEai', 'CsoEai',\n",
       "       'HaxCso', 'DsoCso', 'DsiDso', 'EhiDsi', 'EkcEhi', 'DkcEkc',\n",
       "       'DsiDkc', 'DhoDsi', 'DhoDho', 'ChoDho', 'EsoCro', 'EsoEso',\n",
       "       'CaoEso', 'EaiCro', 'EsiEai', 'EroEsi', 'DroCao', 'EaoEro',\n",
       "       'AxxEao', 'DaiDro', 'CaoDro', 'DaoCao', 'CroDso', 'DkiDsi',\n",
       "       'DsoDki', 'EsiDso', 'DaiDao', 'EsoEsi', 'CaoDso', 'DaiCsi',\n",
       "       'DsiDai', 'DaiDsi', 'DriDai', 'CroDri', 'ChoHhx', 'HaxCho',\n",
       "       'HsoHhx', 'HhxHax', 'HsxHso', 'HhxHhx', 'DhoCho', 'HhxDho',\n",
       "       'AxxCao', 'HrxDro', 'BxoHrx', 'EaoBxo', 'BxoEao', 'CaoDsi',\n",
       "       'AxxCso', 'DsoHrx', 'DsiDri', 'DaoBxo', 'DaoDao', 'DkoDro',\n",
       "       'DsoDko', 'CsoCro', 'CroCso', 'EkcEac', 'EkcEkc', 'DhiDai',\n",
       "       'EacEkc', 'EacDhi', 'EhcEac', 'EaiEac', 'DkcEhc', 'EkcEai',\n",
       "       'EaoEkc', 'DsoEao', 'HaxDso', 'DaoHkx', 'AxxDai', 'EsoDao',\n",
       "       'EhcEso', 'EkcEhc', 'FkcEkc', 'EkiEac', 'HaxAxx', 'EkcFkc',\n",
       "       'EkcEki', 'FkoEao', 'DsiBxo', 'EkiFko', 'DaiEkc', 'EscDso',\n",
       "       'EaiEsc', 'EkiEai', 'CroEkc', 'DaoEkc', 'DaoCro', 'DhcDao',\n",
       "       'DhiDhc', 'HsxDhi', 'CsiCso', 'DsoCsi', 'DhoHsx', 'EkoDho',\n",
       "       'EkiEko', 'EhiEki', 'CaoAxx', 'FkiEhi', 'EkiFki', 'DaoDai',\n",
       "       'HsxAxx', 'FkiEki', 'EacEai', 'FsiFki', 'AxxHrx', 'EacEac',\n",
       "       'EsoEai', 'EsiEso', 'HsxFso', 'CsoEso', 'CsoAxx', 'HsxDso',\n",
       "       'DsiCso', 'DriDsi', 'CsoDri', 'CsiDso', 'DaiCri', 'CsiCsi',\n",
       "       'EacDai', 'HrxCao', 'HrxCsi', 'CaoHsx', 'EhcEki', 'HaxCao',\n",
       "       'EkoDao', 'EkiEhc', 'DkoEki', 'CsoHax', 'DkoDko', 'EscEai',\n",
       "       'EkiEsc', 'CaoDko', 'HrxCso', 'EhiEhi', 'CsoDao', 'EkcDai',\n",
       "       'CaoEki', 'DhoEkc', 'DsoCao', 'EhiDho', 'EhoEhi', 'DhoEho',\n",
       "       'DaiCai', 'EsiDhi', 'DhiEsi', 'HsxDho', 'DsoDhi', 'HsxCao',\n",
       "       'CaoDao', 'CsiDsi', 'CsoCsi', 'EsoDso', 'BxoEso', 'EsoBxo',\n",
       "       'EaiHsx', 'CaiDso', 'DkcDki', 'CsiDkc', 'DsiCsi', 'DkcDsi',\n",
       "       'HrxHax', 'DaiDso', 'EhiDso', 'DhoEhi', 'EsiDho', 'DaiCso',\n",
       "       'CaoDai', 'CaoEsi', 'CaiCai', 'CaiCso', 'DkoDho', 'EacDsi',\n",
       "       'DaiDko', 'DkcDai', 'DhiDho', 'EkiDkc', 'DkiDhi', 'FkcEki',\n",
       "       'DkiDki', 'EhoEho', 'EkiDki', 'CsoEho', 'DkiFkc', 'DhoCso',\n",
       "       'DaiDki', 'EkcDki', 'EhcEkc', 'EsoEhc', 'EsiDsi', 'EhcEsi',\n",
       "       'EsiEhc', 'DhoEsi', 'CaoHax', 'EaoDho', 'CroHrx', 'EkcEao',\n",
       "       'EkiEkc', 'EsiEki', 'DsoEsi', 'DaoCsi', 'EaiDai', 'ChoHsx',\n",
       "       'EaoCao', 'CkoDko', 'CkoCko', 'ChoCko', 'CroDao', 'HrxCro',\n",
       "       'CkoCho', 'HhxCko', 'DhcDai', 'DhcDhc', 'DroHrx', 'EhcDhc',\n",
       "       'DsoEso', 'FsoDso', 'HsxEkc', 'EsiFso', 'CroDsi', 'FkoFkc',\n",
       "       'ChiDsi', 'HrxEro', 'DsoFko', 'CsiChi', 'ChoCsi', 'DroDao',\n",
       "       'DkoDsi', 'CsoDai', 'DhcDko', 'EsiCso', 'DhiDhi', 'DaoDhi',\n",
       "       'EaiHax', 'HhxCso', 'FkcEai', 'EhoEki', 'DkoHax', 'DaoBxi',\n",
       "       'EkoEao', 'EhoEko', 'DsoEai', 'EkoEho', 'EkoEko', 'EhiFho',\n",
       "       'EkoEhi', 'DkoEko', 'CsoDko', 'DkcDao', 'EhiDao', 'EkcDkc',\n",
       "       'DsoEhi', 'EaoDao', 'EsoEao', 'EhoEso', 'DaoAxx', 'DacEkc',\n",
       "       'DaiDac', 'HaxCro', 'EhcHsx', 'FkiEhc', 'EaoFki', 'EhiEao',\n",
       "       'DsiHsx', 'EaoEai', 'EaiEao', 'DsoHsx', 'EsoDsi', 'BxoDai',\n",
       "       'DroAxx', 'CaoHrx', 'DaiCro', 'DscDai', 'DaiDsc', 'DkoCao',\n",
       "       'DhoDko', 'HsxDao', 'EhoDho', 'DhiEho', 'DaiEsi', 'DkiDai',\n",
       "       'DaoDki', 'EkiDso', 'HhxCho', 'FkoEkc', 'FkcFko', 'EsoFkc',\n",
       "       'FkoEso', 'CaiDro', 'CaoFko', 'DaoCai', 'DkiDho', 'DkoDki',\n",
       "       'DkiDao', 'DscDko', 'DkiDsc', 'EkoEki', 'CaoEkc', 'DaiHsx',\n",
       "       'EsoDai', 'EkcEso', 'EkoCko', 'DkiDko', 'EsoEki', 'DhiCko',\n",
       "       'DaiDhi', 'CsoDsc', 'EaiCso', 'DaoEso', 'DhiDsi', 'EsoEko',\n",
       "       'DkcDkc', 'DkoDai', 'DaoDko', 'DsoEki', 'CroEsi', 'CroEso',\n",
       "       'EaoEao', 'FhoEao', 'FaoFho', 'EsoFao', 'FsoEso', 'CsoFso',\n",
       "       'DroDsi', 'CsiEsi', 'HsxCsi', 'DaiHrx', 'EkcDao', 'DkiEac',\n",
       "       'DkoDkc', 'DsiDko', 'CsiDao', 'EhoCho', 'CkoEho', 'DaoHhx',\n",
       "       'FhiDko', 'FkcFhi', 'FkiFkc', 'FkoFki', 'CaoFho', 'DacDsi',\n",
       "       'DhoDki', 'DkcDac', 'EaoEko', 'CsiCro', 'DaoHsx', 'EroCro',\n",
       "       'HsxDro', 'BxiEro', 'CaiBxi', 'CaoEai', 'CaoCai', 'HkxCao',\n",
       "       'HaxHkx', 'EkiEri', 'EaiCao', 'EhoEkc', 'DkcDso', 'BxoDsi',\n",
       "       'FkcEac', 'FhcEkc', 'FkiFhc', 'FhcFhc', 'DaoEki', 'FkcFhc',\n",
       "       'EaoEki', 'EkoFkc', 'FhoCso', 'DkcFko', 'DkiDkc', 'CroEao',\n",
       "       'DhoDao', 'DkoDso', 'CkoHhx', 'DsoHhx', 'DkoDao', 'DaiDho',\n",
       "       'CriAxx', 'DaoCri', 'EhiDai', 'EkiEhi', 'BxiCso', 'EsiDao',\n",
       "       'DsoBxi', 'BxoEai', 'DaoDho', 'DaoEai', 'DaoHax', 'EacEso',\n",
       "       'EaoEac', 'CaiAxx', 'CsoCai', 'DhoHhx', 'DacDai', 'DriEac',\n",
       "       'BxiDsi', 'CroBxi', 'DhiHsx', 'DkiEho', 'EkoDki', 'DaoEao',\n",
       "       'DkcDko', 'DacDkc', 'CsoDac', 'HaxHrx', 'DaiAxx', 'EkiDai',\n",
       "       'FhoDso', 'DsoEho', 'DaiFho', 'CriDai', 'FacEai', 'EkcFac',\n",
       "       'EsoHsx', 'EkcEsi', 'EkoDso', 'EaiEkc', 'DaoEko', 'BxoHax',\n",
       "       'EkiEho', 'EkiCso', 'DacDac', 'DscDac', 'DsiDsc', 'EaoHsx',\n",
       "       'EhoEao', 'FkcDao', 'EaoEho', 'FacFkc', 'EacFac', 'EkiHhx',\n",
       "       'FkiFki', 'FkcFki', 'FkoFko', 'BxoFko', 'DsoHax', 'DacCao',\n",
       "       'CaoDac', 'DacDro', 'EaiDao', 'DacDso', 'EaoCso', 'HrxDao',\n",
       "       'CkiCai', 'CkiCki', 'DkoCki', 'DhoCko', 'DsiAxx', 'DacDao',\n",
       "       'DsiEki', 'DaiDkc', 'DaoEsi', 'EaiDro', 'DscDao', 'DkiDso',\n",
       "       'EkoDko', 'AxxEai', 'CaiCao', 'HkxDko', 'DkiHrx', 'DhiDso',\n",
       "       'DsiDhi', 'CkiEkc', 'CkoCki', 'DaoCko', 'FaoDao', 'EaiFao',\n",
       "       'FsoEhi', 'CkoEko', 'DaiCko', 'DkoDac', 'DhcDkc', 'DscDhc',\n",
       "       'DscDsc', 'DsoDsc', 'EaoEso', 'CsoEao', 'DsoDri', 'HrxDso',\n",
       "       'FhoHax', 'FkcFho', 'EaoEsi', 'HaxEao', 'EhoEsi', 'FsoEao',\n",
       "       'EsoFso', 'DaoHrx', 'EscDac', 'DhcDsi', 'EscEsc', 'EkcEsc',\n",
       "       'HkxCko', 'DaoDac', 'CriCri', 'EaiCri', 'HaxDao', 'EaoCro',\n",
       "       'EacCao', 'DkcEac', 'DhiDkc', 'CaiDkc', 'DhcDho', 'EkiDhc',\n",
       "       'EacEki', 'CkoHsx', 'FhoCko', 'CsiCao', 'ChoFho', 'DroCsi',\n",
       "       'DkiCho', 'ChiDhi', 'DhiChi', 'EacEko', 'DacEac', 'EhcEhc',\n",
       "       'DsoDac', 'HkxHhx', 'DkiHkx', 'DscDsi', 'DkcDsc', 'FacEkc',\n",
       "       'FacFac', 'FaiFac', 'FsoFai', 'CkoHkx', 'DsoFso', 'DkoCko',\n",
       "       'HhxDko', 'HaxDai', 'EacDao', 'CaoEac', 'DkiCai', 'CsoDki',\n",
       "       'EsiCao', 'EscEsi', 'EacEsc', 'CroHax', 'FkcDko', 'HsxDai',\n",
       "       'DkiDac', 'EaiDkc', 'DacFkc', 'DroCri', 'HkxHax', 'DsiEao',\n",
       "       'DacCso', 'FsiEsi', 'FscFsi', 'FkcFsc', 'FkiEko', 'EkcEko',\n",
       "       'DsoFki', 'CaiEai', 'CroCai', 'CriCao', 'CaoCri', 'EscEkc',\n",
       "       'DkcHkx', 'DriCro', 'DaiDri', 'HaxDri', 'CsiCai', 'EsoEac',\n",
       "       'CaoCho', 'EacDac', 'DaoEac', 'CaoDho', 'DscDso', 'EscDsc',\n",
       "       'EhiEsi', 'CsoEhi', 'CaiDac', 'AxxCai', 'EaoDai', 'CriEai',\n",
       "       'EaiDho', 'DhcEki', 'FscEkc', 'EkcDhc', 'EkcFsc', 'DkcDhc',\n",
       "       'DsiDac', 'EkoEkc', 'CsoEko', 'EsiDac', 'DacCai', 'EkoDkc',\n",
       "       'EkiDko', 'EaoHax', 'FaoEao', 'CaoFao', 'EscEko', 'DacCro',\n",
       "       'CsiAxx', 'BxiDai', 'CriBxi', 'DacCri', 'DacDsc', 'FkiEkc',\n",
       "       'DkiEkc', 'EaiFki', 'DaiEac', 'DscCsi', 'CaiCro', 'DhcDhi',\n",
       "       'DkoDhc', 'DkcHsx', 'EhoDko', 'DsoDkc', 'DkcEki', 'DhoDhc',\n",
       "       'CaoCsi', 'HsxDac', 'FacEac', 'DriDso', 'FsoFac', 'DaoDri',\n",
       "       'HrxFso', 'EsoDac', 'DriCao', 'CsiHsx', 'EacCso', 'DkiCso',\n",
       "       'CkoHax', 'DkcCko', 'DacEao', 'EkcHrx', 'EacEao', 'FhcFkc',\n",
       "       'FaoFkc', 'AxxEso', 'CsoHkx', 'FkcDki', 'CriDro', 'DkcFkc',\n",
       "       'DscEsc', 'EacDsc', 'FkcHax', 'CaiEac', 'FkiFko', 'CkoCao',\n",
       "       'EkcCko', 'HkxFko', 'CaiDki', 'EhcDai', 'DkoEkc', 'DsiEac',\n",
       "       'CkoEki', 'DscHsx', 'HsxDsc', 'CaoDsc', 'EhiEhc', 'CkoEhi',\n",
       "       'HsxCko', 'EsiFac', 'FhcHax', 'EaoDac', 'FaiFki', 'FaiFai',\n",
       "       'CsoFai', 'EkcDac', 'CsiEso', 'CriDsi', 'DriDro', 'DroDri',\n",
       "       'DacAxx', 'DsiHrx', 'DacDhc', 'CaiCri', 'CkoEkc', 'EkiCki',\n",
       "       'DhoEki', 'HsxCho', 'CaiDao', 'EaiDac', 'CkiDkc', 'CkiDko',\n",
       "       'DkiCki', 'CkoCai', 'DacBxi', 'FkcFac', 'DsoFkc', 'BxoBxi',\n",
       "       'EkiDao', 'CroCri', 'EkcDso', 'DacEki', 'CaoFso', 'FkoEko',\n",
       "       'EsoFko', 'CsiDai', 'CroCsi', 'DaiHax', 'CaiBxo', 'CriCai',\n",
       "       'DaoFkc', 'CsoHhx', 'ChoCso', 'FaiEai', 'EkoDai', 'EsoFai',\n",
       "       'BxoDac', 'CaiCsi', 'DsiCai', 'DkoFkc', 'AxxDri', 'HsxEai',\n",
       "       'FscFhc', 'EsoFsc', 'HaxEso', 'ChoEho', 'EacFhc', 'DhoEko',\n",
       "       'CsoDho', 'EhiDhi', 'CsoCko', 'BxiDro', 'HsxCai', 'HaxCri',\n",
       "       'ChoCao', 'DhiDsc', 'DhoBxo', 'EaiCsi', 'DaoDsc', 'ChoHax',\n",
       "       'FkcEao', 'EaoFkc', 'CaiHrx', 'EhiEkc', 'ChoDko', 'EhcEai',\n",
       "       'FkcEhc', 'FsiFkc', 'FsiFsi', 'FaiFsi', 'CaoFai', 'FhiEho',\n",
       "       'FhcFhi', 'DscCso', 'FhiFhc', 'FhiFhi', 'FkiFhi', 'HrxFko',\n",
       "       'HkxDao', 'BxiBxo', 'HrxCai'], dtype=object)"
      ]
     },
     "execution_count": 21,
     "metadata": {},
     "output_type": "execute_result"
    }
   ],
   "source": [
    "(data2[\"McIntosh\"] + data2[\"pre_mcint\"]).unique()"
   ]
  },
  {
   "cell_type": "code",
   "execution_count": 22,
   "id": "d98fb292",
   "metadata": {},
   "outputs": [],
   "source": [
    "data2.loc[:, \"mcevol\"] = data2[\"McIntosh\"] + data2[\"pre_mcint\"]"
   ]
  },
  {
   "cell_type": "markdown",
   "id": "6b6a6dbf",
   "metadata": {},
   "source": [
    "## lets play around with encoding the data"
   ]
  },
  {
   "cell_type": "code",
   "execution_count": 456,
   "id": "13d8c595",
   "metadata": {},
   "outputs": [],
   "source": [
    "le = preprocessing.LabelEncoder()\n",
    "data2.loc[:, \"mcint_enc\"] = le.fit_transform(data2['McIntosh'])\n",
    "le2 = preprocessing.LabelEncoder()\n",
    "data2.loc[:,\"mcint_evol_enc\"] = le2.fit_transform(data2['mcevol'])\n",
    "le3 = preprocessing.LabelEncoder()\n",
    "data2.loc[:,\"mag_type\"] = le3.fit_transform(data2[\"Mag Type\"])"
   ]
  },
  {
   "cell_type": "code",
   "execution_count": 457,
   "id": "44e95110",
   "metadata": {},
   "outputs": [
    {
     "data": {
      "text/html": [
       "<div>\n",
       "<style scoped>\n",
       "    .dataframe tbody tr th:only-of-type {\n",
       "        vertical-align: middle;\n",
       "    }\n",
       "\n",
       "    .dataframe tbody tr th {\n",
       "        vertical-align: top;\n",
       "    }\n",
       "\n",
       "    .dataframe thead th {\n",
       "        text-align: right;\n",
       "    }\n",
       "</style>\n",
       "<table border=\"1\" class=\"dataframe\">\n",
       "  <thead>\n",
       "    <tr style=\"text-align: right;\">\n",
       "      <th></th>\n",
       "      <th>mag_type</th>\n",
       "      <th>Mag Type</th>\n",
       "    </tr>\n",
       "  </thead>\n",
       "  <tbody>\n",
       "    <tr>\n",
       "      <th>1</th>\n",
       "      <td>1</td>\n",
       "      <td>Beta</td>\n",
       "    </tr>\n",
       "    <tr>\n",
       "      <th>2</th>\n",
       "      <td>1</td>\n",
       "      <td>Beta</td>\n",
       "    </tr>\n",
       "    <tr>\n",
       "      <th>3</th>\n",
       "      <td>1</td>\n",
       "      <td>Beta</td>\n",
       "    </tr>\n",
       "    <tr>\n",
       "      <th>4</th>\n",
       "      <td>1</td>\n",
       "      <td>Beta</td>\n",
       "    </tr>\n",
       "    <tr>\n",
       "      <th>5</th>\n",
       "      <td>1</td>\n",
       "      <td>Beta</td>\n",
       "    </tr>\n",
       "    <tr>\n",
       "      <th>...</th>\n",
       "      <td>...</td>\n",
       "      <td>...</td>\n",
       "    </tr>\n",
       "    <tr>\n",
       "      <th>11878</th>\n",
       "      <td>1</td>\n",
       "      <td>Beta</td>\n",
       "    </tr>\n",
       "    <tr>\n",
       "      <th>11879</th>\n",
       "      <td>1</td>\n",
       "      <td>Beta</td>\n",
       "    </tr>\n",
       "    <tr>\n",
       "      <th>11880</th>\n",
       "      <td>1</td>\n",
       "      <td>Beta</td>\n",
       "    </tr>\n",
       "    <tr>\n",
       "      <th>11881</th>\n",
       "      <td>1</td>\n",
       "      <td>Beta</td>\n",
       "    </tr>\n",
       "    <tr>\n",
       "      <th>11884</th>\n",
       "      <td>0</td>\n",
       "      <td>Alpha</td>\n",
       "    </tr>\n",
       "  </tbody>\n",
       "</table>\n",
       "<p>9905 rows × 2 columns</p>\n",
       "</div>"
      ],
      "text/plain": [
       "       mag_type Mag Type\n",
       "1             1     Beta\n",
       "2             1     Beta\n",
       "3             1     Beta\n",
       "4             1     Beta\n",
       "5             1     Beta\n",
       "...         ...      ...\n",
       "11878         1     Beta\n",
       "11879         1     Beta\n",
       "11880         1     Beta\n",
       "11881         1     Beta\n",
       "11884         0    Alpha\n",
       "\n",
       "[9905 rows x 2 columns]"
      ]
     },
     "execution_count": 457,
     "metadata": {},
     "output_type": "execute_result"
    }
   ],
   "source": [
    "data2[[\"mag_type\", \"Mag Type\"]]"
   ]
  },
  {
   "cell_type": "code",
   "execution_count": 458,
   "id": "e4d7292f",
   "metadata": {},
   "outputs": [
    {
     "data": {
      "text/html": [
       "<div>\n",
       "<style scoped>\n",
       "    .dataframe tbody tr th:only-of-type {\n",
       "        vertical-align: middle;\n",
       "    }\n",
       "\n",
       "    .dataframe tbody tr th {\n",
       "        vertical-align: top;\n",
       "    }\n",
       "\n",
       "    .dataframe thead th {\n",
       "        text-align: right;\n",
       "    }\n",
       "</style>\n",
       "<table border=\"1\" class=\"dataframe\">\n",
       "  <thead>\n",
       "    <tr style=\"text-align: right;\">\n",
       "      <th></th>\n",
       "      <th>AR issue_date</th>\n",
       "      <th>noaa_ar</th>\n",
       "      <th>Carrington Longitude</th>\n",
       "      <th>Area</th>\n",
       "      <th>McIntosh</th>\n",
       "      <th>Longitudinal Extent</th>\n",
       "      <th>Number of Sunspots</th>\n",
       "      <th>Mag Type</th>\n",
       "      <th>Latitude</th>\n",
       "      <th>Longitude</th>\n",
       "      <th>...</th>\n",
       "      <th>M+</th>\n",
       "      <th>X+</th>\n",
       "      <th>pre_area</th>\n",
       "      <th>pre_mcint</th>\n",
       "      <th>pre_mag</th>\n",
       "      <th>pre_flare</th>\n",
       "      <th>mcevol</th>\n",
       "      <th>mcint_enc</th>\n",
       "      <th>mcint_evol_enc</th>\n",
       "      <th>mag_type</th>\n",
       "    </tr>\n",
       "  </thead>\n",
       "  <tbody>\n",
       "    <tr>\n",
       "      <th>1</th>\n",
       "      <td>2010-01-02 00:30</td>\n",
       "      <td>11039</td>\n",
       "      <td>54.0</td>\n",
       "      <td>120.0</td>\n",
       "      <td>Dso</td>\n",
       "      <td>9.0</td>\n",
       "      <td>6.0</td>\n",
       "      <td>Beta</td>\n",
       "      <td>-27.0</td>\n",
       "      <td>35.0</td>\n",
       "      <td>...</td>\n",
       "      <td>0.0</td>\n",
       "      <td>0.0</td>\n",
       "      <td>130.0</td>\n",
       "      <td>Dai</td>\n",
       "      <td>Beta</td>\n",
       "      <td>0.0</td>\n",
       "      <td>DsoDai</td>\n",
       "      <td>26</td>\n",
       "      <td>491</td>\n",
       "      <td>1</td>\n",
       "    </tr>\n",
       "    <tr>\n",
       "      <th>2</th>\n",
       "      <td>2010-01-03 00:30</td>\n",
       "      <td>11039</td>\n",
       "      <td>52.0</td>\n",
       "      <td>190.0</td>\n",
       "      <td>Dso</td>\n",
       "      <td>8.0</td>\n",
       "      <td>12.0</td>\n",
       "      <td>Beta</td>\n",
       "      <td>-28.0</td>\n",
       "      <td>46.0</td>\n",
       "      <td>...</td>\n",
       "      <td>0.0</td>\n",
       "      <td>0.0</td>\n",
       "      <td>120.0</td>\n",
       "      <td>Dso</td>\n",
       "      <td>Beta</td>\n",
       "      <td>2.0</td>\n",
       "      <td>DsoDso</td>\n",
       "      <td>26</td>\n",
       "      <td>502</td>\n",
       "      <td>1</td>\n",
       "    </tr>\n",
       "    <tr>\n",
       "      <th>3</th>\n",
       "      <td>2010-01-04 00:30</td>\n",
       "      <td>11039</td>\n",
       "      <td>52.0</td>\n",
       "      <td>220.0</td>\n",
       "      <td>Dso</td>\n",
       "      <td>7.0</td>\n",
       "      <td>10.0</td>\n",
       "      <td>Beta</td>\n",
       "      <td>-29.0</td>\n",
       "      <td>59.0</td>\n",
       "      <td>...</td>\n",
       "      <td>0.0</td>\n",
       "      <td>0.0</td>\n",
       "      <td>190.0</td>\n",
       "      <td>Dso</td>\n",
       "      <td>Beta</td>\n",
       "      <td>1.0</td>\n",
       "      <td>DsoDso</td>\n",
       "      <td>26</td>\n",
       "      <td>502</td>\n",
       "      <td>1</td>\n",
       "    </tr>\n",
       "  </tbody>\n",
       "</table>\n",
       "<p>3 rows × 24 columns</p>\n",
       "</div>"
      ],
      "text/plain": [
       "      AR issue_date  noaa_ar  Carrington Longitude   Area McIntosh  \\\n",
       "1  2010-01-02 00:30    11039                  54.0  120.0      Dso   \n",
       "2  2010-01-03 00:30    11039                  52.0  190.0      Dso   \n",
       "3  2010-01-04 00:30    11039                  52.0  220.0      Dso   \n",
       "\n",
       "   Longitudinal Extent  Number of Sunspots Mag Type  Latitude  Longitude  ...  \\\n",
       "1                  9.0                 6.0     Beta     -27.0       35.0  ...   \n",
       "2                  8.0                12.0     Beta     -28.0       46.0  ...   \n",
       "3                  7.0                10.0     Beta     -29.0       59.0  ...   \n",
       "\n",
       "    M+   X+  pre_area  pre_mcint  pre_mag  pre_flare  mcevol mcint_enc  \\\n",
       "1  0.0  0.0     130.0        Dai     Beta        0.0  DsoDai        26   \n",
       "2  0.0  0.0     120.0        Dso     Beta        2.0  DsoDso        26   \n",
       "3  0.0  0.0     190.0        Dso     Beta        1.0  DsoDso        26   \n",
       "\n",
       "  mcint_evol_enc  mag_type  \n",
       "1            491         1  \n",
       "2            502         1  \n",
       "3            502         1  \n",
       "\n",
       "[3 rows x 24 columns]"
      ]
     },
     "execution_count": 458,
     "metadata": {},
     "output_type": "execute_result"
    }
   ],
   "source": [
    "data2.head(3)"
   ]
  },
  {
   "cell_type": "code",
   "execution_count": 459,
   "id": "935c7281",
   "metadata": {},
   "outputs": [],
   "source": [
    "test_db = data2[(data2[\"AR issue_date\"]>\"2016-01-01\")&(data2[\"AR issue_date\"]<\"2017-12-31\")]\n",
    "train_db = data2[~(data2[\"AR issue_date\"]>\"2016-01-01\")&(data2[\"AR issue_date\"]<\"2017-12-31\")]"
   ]
  },
  {
   "cell_type": "code",
   "execution_count": 460,
   "id": "c3ce390d",
   "metadata": {},
   "outputs": [
    {
     "name": "stdout",
     "output_type": "stream",
     "text": [
      "0.22363847045191193\n",
      "0.12782608695652173\n"
     ]
    }
   ],
   "source": [
    "print(np.sum(train_db[\"C\"]!=0)/len(train_db))\n",
    "print(np.sum(test_db[\"C\"]!=0)/len(test_db))"
   ]
  },
  {
   "cell_type": "code",
   "execution_count": 461,
   "id": "ba4078ab",
   "metadata": {},
   "outputs": [],
   "source": [
    "ind_test = data2.index[(data2[\"AR issue_date\"]>\"2016-01-01\")&(data2[\"AR issue_date\"]<\"2017-12-31\")]\n",
    "ind_train = data2.index[~(data2[\"AR issue_date\"]>\"2016-01-01\")&(data2[\"AR issue_date\"]<\"2017-12-31\")]"
   ]
  },
  {
   "cell_type": "markdown",
   "id": "c1ce0b65",
   "metadata": {},
   "source": [
    "##  Machine Learning Classification"
   ]
  },
  {
   "cell_type": "code",
   "execution_count": 497,
   "id": "8662a28f",
   "metadata": {},
   "outputs": [],
   "source": [
    "#columns_to_use = [\"mcint_enc\", \"mcint_evol_enc\", \"pre_flare\", \"mag_type\", \"Area\", \"Number of Sunspots\"]\n",
    "columns_to_use = [\"mcint_enc\", \"mcint_evol_enc\", \"pre_flare\", \"mag_type\"]\n",
    "\n",
    "features = data2[columns_to_use]\n",
    "features.loc[:, \"pre_flare\"] = features[\"pre_flare\"].map(lambda x: 1 if x>0 else 0)\n",
    "labels = data2[\"C+\"].map(lambda x: 1 if x>0 else 0)\n"
   ]
  },
  {
   "cell_type": "code",
   "execution_count": 498,
   "id": "af3bdf6b",
   "metadata": {},
   "outputs": [
    {
     "data": {
      "text/html": [
       "<div>\n",
       "<style scoped>\n",
       "    .dataframe tbody tr th:only-of-type {\n",
       "        vertical-align: middle;\n",
       "    }\n",
       "\n",
       "    .dataframe tbody tr th {\n",
       "        vertical-align: top;\n",
       "    }\n",
       "\n",
       "    .dataframe thead th {\n",
       "        text-align: right;\n",
       "    }\n",
       "</style>\n",
       "<table border=\"1\" class=\"dataframe\">\n",
       "  <thead>\n",
       "    <tr style=\"text-align: right;\">\n",
       "      <th></th>\n",
       "      <th>mcint_enc</th>\n",
       "      <th>mcint_evol_enc</th>\n",
       "      <th>pre_flare</th>\n",
       "      <th>mag_type</th>\n",
       "    </tr>\n",
       "  </thead>\n",
       "  <tbody>\n",
       "    <tr>\n",
       "      <th>1</th>\n",
       "      <td>26</td>\n",
       "      <td>491</td>\n",
       "      <td>0</td>\n",
       "      <td>1</td>\n",
       "    </tr>\n",
       "    <tr>\n",
       "      <th>2</th>\n",
       "      <td>26</td>\n",
       "      <td>502</td>\n",
       "      <td>1</td>\n",
       "      <td>1</td>\n",
       "    </tr>\n",
       "  </tbody>\n",
       "</table>\n",
       "</div>"
      ],
      "text/plain": [
       "   mcint_enc  mcint_evol_enc  pre_flare  mag_type\n",
       "1         26             491          0         1\n",
       "2         26             502          1         1"
      ]
     },
     "execution_count": 498,
     "metadata": {},
     "output_type": "execute_result"
    }
   ],
   "source": [
    "features.head(2)"
   ]
  },
  {
   "cell_type": "code",
   "execution_count": 499,
   "id": "654b9249",
   "metadata": {},
   "outputs": [
    {
     "data": {
      "text/plain": [
       "1    1\n",
       "2    1\n",
       "3    1\n",
       "4    0\n",
       "5    0\n",
       "Name: C+, dtype: int64"
      ]
     },
     "execution_count": 499,
     "metadata": {},
     "output_type": "execute_result"
    }
   ],
   "source": [
    "labels.head()"
   ]
  },
  {
   "cell_type": "markdown",
   "id": "ee8bdcc1",
   "metadata": {},
   "source": [
    "### Split the data "
   ]
  },
  {
   "cell_type": "code",
   "execution_count": 500,
   "id": "d764ea7e",
   "metadata": {},
   "outputs": [],
   "source": [
    "X_train, X_test, Y_train, Y_test = train_test_split(features, labels, test_size=0.2, shuffle=True)"
   ]
  },
  {
   "cell_type": "code",
   "execution_count": 501,
   "id": "b48f71b4",
   "metadata": {},
   "outputs": [],
   "source": [
    "# X_train, Y_train = features.loc[ind_train], labels.loc[ind_train]\n",
    "# X_test, Y_test = features.loc[ind_test], labels.loc[ind_test]\n",
    "# len(X_test), len(X_train), len(Y_test), len(Y_train), np.sum(Y_test)/len(Y_test), np.sum(Y_train)/len(Y_train)"
   ]
  },
  {
   "cell_type": "code",
   "execution_count": 502,
   "id": "f1aa8760",
   "metadata": {},
   "outputs": [
    {
     "name": "stdout",
     "output_type": "stream",
     "text": [
      "\n",
      " Train % of flares 21.428571428571427 \n",
      " Test % of flares 22.21100454316002\n"
     ]
    }
   ],
   "source": [
    "print(\"\\n\", \"Train % of flares\", 100*np.sum(Y_train)/len(Y_train), \"\\n\",\n",
    "      \"Test % of flares\", 100*np.sum(Y_test)/len(Y_test))"
   ]
  },
  {
   "cell_type": "code",
   "execution_count": 503,
   "id": "8a264075",
   "metadata": {},
   "outputs": [],
   "source": [
    "mdl = SVC(class_weight=\"balanced\")\n",
    "mdl = LogisticRegression(class_weight=\"balanced\")\n",
    "mdl.fit(X_train, Y_train)\n",
    "pred = mdl.predict(X_test)"
   ]
  },
  {
   "cell_type": "code",
   "execution_count": 504,
   "id": "861ef724",
   "metadata": {},
   "outputs": [
    {
     "data": {
      "text/plain": [
       "0.5049775824435137"
      ]
     },
     "execution_count": 504,
     "metadata": {},
     "output_type": "execute_result"
    }
   ],
   "source": [
    "def get_tss(Y_test, pred):\n",
    "    \"\"\"\n",
    "    Function to get the Total Skill Score (TSS)\n",
    "    of \n",
    "    \"\"\"\n",
    "    \n",
    "    CM = confusion_matrix(Y_test, pred)\n",
    "    tn = CM[0][0]\n",
    "    fn = CM[1][0]\n",
    "    tp = CM[1][1]\n",
    "    fp = CM[0][1]\n",
    "    return (tp/(tp+fn)) - (fp/(fp+tn))\n",
    "\n",
    "tss = get_tss(Y_test, mdl.predict(X_test))\n",
    "tss"
   ]
  },
  {
   "cell_type": "code",
   "execution_count": 505,
   "id": "f5baadb6",
   "metadata": {},
   "outputs": [
    {
     "data": {
      "text/plain": [
       "[<matplotlib.lines.Line2D at 0x14932b5b0>]"
      ]
     },
     "execution_count": 505,
     "metadata": {},
     "output_type": "execute_result"
    },
    {
     "data": {
      "image/png": "[encoded data removed]",
      "text/plain": [
       "<Figure size 432x288 with 1 Axes>"
      ]
     },
     "metadata": {
      "needs_background": "light"
     },
     "output_type": "display_data"
    }
   ],
   "source": [
    "plt.plot(Y_test, mdl.predict_proba(X_test)[:, 1], marker='x',ls='')"
   ]
  },
  {
   "cell_type": "code",
   "execution_count": 506,
   "id": "7f133665",
   "metadata": {},
   "outputs": [
    {
     "data": {
      "text/plain": [
       "<AxesSubplot:ylabel='Density'>"
      ]
     },
     "execution_count": 506,
     "metadata": {},
     "output_type": "execute_result"
    },
    {
     "data": {
      "image/png": "[encoded data removed]",
      "text/plain": [
       "<Figure size 432x288 with 1 Axes>"
      ]
     },
     "metadata": {
      "needs_background": "light"
     },
     "output_type": "display_data"
    }
   ],
   "source": [
    "sns.distplot(mdl.predict_proba(X_test)[:, 1][Y_test>0])\n",
    "#sns.distplot(mdl.predict_proba(X_test)[:, 1][Y_test==0])"
   ]
  },
  {
   "cell_type": "code",
   "execution_count": 507,
   "id": "6935c79a",
   "metadata": {},
   "outputs": [
    {
     "data": {
      "image/png": "[encoded data removed]",
      "text/plain": [
       "<Figure size 576x432 with 2 Axes>"
      ]
     },
     "metadata": {
      "needs_background": "light"
     },
     "output_type": "display_data"
    }
   ],
   "source": [
    "def plot_cm(mdl, X_test, Y_test):\n",
    "    fig, ax = plt.subplots(figsize=(8,6))\n",
    "    plot_confusion_matrix(mdl, X_test, Y_test, cmap=plt.cm.Blues, ax=ax)#, normalize='true', ax=ax)\n",
    "\n",
    "    ax.xaxis.set_ticklabels([\"No Flare\", \"Flare\"])\n",
    "    ax.yaxis.set_ticklabels([\"No Flare\", \"Flare\"])\n",
    "\n",
    "    ax.set_title(\"Confusion Matrix\")\n",
    "\n",
    "plot_cm(mdl, X_test, Y_test)"
   ]
  },
  {
   "cell_type": "code",
   "execution_count": 508,
   "id": "7dda5a35",
   "metadata": {},
   "outputs": [
    {
     "data": {
      "image/png": "[encoded data removed]",
      "text/plain": [
       "<Figure size 576x576 with 2 Axes>"
      ]
     },
     "metadata": {
      "needs_background": "light"
     },
     "output_type": "display_data"
    }
   ],
   "source": [
    "fig = plt.figure(figsize=(8, 8))\n",
    "ax1 = plt.subplot2grid((3, 1), (0, 0), rowspan=2)\n",
    "ax2 = plt.subplot2grid((3, 1), (2, 0), sharex=ax1)\n",
    "\n",
    "ax1.plot([0, 1], [0, 1], \"k:\", label=\"Perfectly calibrated\")\n",
    "\n",
    "\n",
    "\n",
    "\n",
    "if hasattr(mdl, \"predict_proba\"):\n",
    "    prob_pos = mdl.predict_proba(X_test)[:, 1]\n",
    "else:  # use decision function\n",
    "    prob_pos = mdl.decision_function(X_test)\n",
    "    prob_pos = \\\n",
    "        (prob_pos - prob_pos.min()) / (prob_pos.max() - prob_pos.min())\n",
    "\n",
    "clf_score = brier_score_loss(Y_test, prob_pos)\n",
    "fraction_of_positives, mean_predicted_value = \\\n",
    "    calibration_curve(Y_test, prob_pos, n_bins=10)\n",
    "\n",
    "ax1.plot(mean_predicted_value, fraction_of_positives, \"s-\",\n",
    "         label=\"SVM\")\n",
    "\n",
    "ax2.hist(prob_pos, range=(0, 1), bins=10, label=\"SVM\",\n",
    "         histtype=\"step\", lw=2)\n",
    "\n",
    "ax1.set_ylabel(\"Fraction of positives\")\n",
    "ax1.set_ylim([-0.05, 1.05])\n",
    "ax1.legend(loc=\"lower right\")\n",
    "ax1.set_title('Reliability Curve')\n",
    "\n",
    "ax2.set_xlabel(\"Mean predicted value\")\n",
    "ax2.set_ylabel(\"Count\")\n",
    "ax2.legend(loc=\"upper center\", ncol=2)\n",
    "\n",
    "ax1.set_xlim(0, 1)\n",
    "plt.tight_layout()"
   ]
  },
  {
   "cell_type": "code",
   "execution_count": 521,
   "id": "ec833dad",
   "metadata": {},
   "outputs": [
    {
     "name": "stdout",
     "output_type": "stream",
     "text": [
      "Logistic:\n",
      "\tBrier: 0.123\n",
      "\tPrecision: 0.721\n",
      "\tRecall: 0.405\n",
      "\tF1: 0.518\n",
      "\n",
      "RandomForest:\n",
      "\tBrier: 0.141\n",
      "\tPrecision: 0.614\n",
      "\tRecall: 0.427\n",
      "\tF1: 0.504\n",
      "\n",
      "RandomForest + Isotonic:\n",
      "\tBrier: 0.129\n",
      "\tPrecision: 0.704\n",
      "\tRecall: 0.361\n",
      "\tF1: 0.477\n",
      "\n",
      "RandomForest + Sigmoid:\n",
      "\tBrier: 0.130\n",
      "\tPrecision: 0.726\n",
      "\tRecall: 0.355\n",
      "\tF1: 0.476\n",
      "\n",
      "Logistic:\n",
      "\tBrier: 0.123\n",
      "\tPrecision: 0.721\n",
      "\tRecall: 0.405\n",
      "\tF1: 0.518\n",
      "\n",
      "SVC:\n",
      "\tBrier: 0.199\n",
      "\tPrecision: 0.000\n",
      "\tRecall: 0.000\n",
      "\tF1: 0.000\n",
      "\n",
      "SVC + Isotonic:\n",
      "\tBrier: 0.146\n",
      "\tPrecision: 0.597\n",
      "\tRecall: 0.273\n",
      "\tF1: 0.374\n",
      "\n",
      "SVC + Sigmoid:\n",
      "\tBrier: 0.151\n",
      "\tPrecision: 0.606\n",
      "\tRecall: 0.248\n",
      "\tF1: 0.352\n",
      "\n"
     ]
    },
    {
     "data": {
      "image/png": "[encoded data removed]",
      "text/plain": [
       "<Figure size 720x720 with 2 Axes>"
      ]
     },
     "metadata": {
      "needs_background": "light"
     },
     "output_type": "display_data"
    },
    {
     "data": {
      "image/png": "[encoded data removed]",
      "text/plain": [
       "<Figure size 720x720 with 2 Axes>"
      ]
     },
     "metadata": {
      "needs_background": "light"
     },
     "output_type": "display_data"
    }
   ],
   "source": [
    "def plot_calibration_curve(est, name, fig_index):\n",
    "    \"\"\"Plot calibration curve for est w/o and with calibration. \"\"\"\n",
    "    # Calibrated with isotonic calibration\n",
    "    isotonic = CalibratedClassifierCV(est, cv=2, method='isotonic')\n",
    "\n",
    "    # Calibrated with sigmoid calibration\n",
    "    sigmoid = CalibratedClassifierCV(est, cv=2, method='sigmoid')\n",
    "\n",
    "    # Logistic regression with no calibration as baseline\n",
    "    lr = LogisticRegression(C=1.)\n",
    "\n",
    "    fig = plt.figure(fig_index, figsize=(10, 10))\n",
    "    ax1 = plt.subplot2grid((3, 1), (0, 0), rowspan=2)\n",
    "    ax2 = plt.subplot2grid((3, 1), (2, 0))\n",
    "\n",
    "    ax1.plot([0, 1], [0, 1], \"k:\", label=\"Perfectly calibrated\")\n",
    "    for clf, name in [(lr, 'Logistic'),\n",
    "                      (est, name),\n",
    "                      (isotonic, name + ' + Isotonic'),\n",
    "                      (sigmoid, name + ' + Sigmoid')]:\n",
    "        clf.fit(X_train, Y_train)\n",
    "        y_pred = clf.predict(X_test)\n",
    "        if hasattr(clf, \"predict_proba\"):\n",
    "            prob_pos = clf.predict_proba(X_test)[:, 1]\n",
    "        else:  # use decision function\n",
    "            prob_pos = clf.decision_function(X_test)\n",
    "            prob_pos = \\\n",
    "                (prob_pos - prob_pos.min()) / (prob_pos.max() - prob_pos.min())\n",
    "\n",
    "        clf_score = brier_score_loss(Y_test, prob_pos, pos_label=labels.max())\n",
    "        print(\"%s:\" % name)\n",
    "        print(\"\\tBrier: %1.3f\" % (clf_score))\n",
    "        print(\"\\tPrecision: %1.3f\" % precision_score(Y_test, y_pred))\n",
    "        print(\"\\tRecall: %1.3f\" % recall_score(Y_test, y_pred))\n",
    "        print(\"\\tF1: %1.3f\\n\" % f1_score(Y_test, y_pred))\n",
    "\n",
    "        fraction_of_positives, mean_predicted_value = \\\n",
    "            calibration_curve(Y_test, prob_pos, n_bins=10)\n",
    "\n",
    "        ax1.plot(mean_predicted_value, fraction_of_positives, \"s-\",\n",
    "                 label=\"%s (%1.3f)\" % (name, clf_score))\n",
    "\n",
    "        ax2.hist(prob_pos, range=(0, 1), bins=10, label=name,\n",
    "                 histtype=\"step\", lw=2)\n",
    "\n",
    "    ax1.set_ylabel(\"Fraction of positives\")\n",
    "    ax1.set_ylim([-0.05, 1.05])\n",
    "    ax1.legend(loc=\"lower right\")\n",
    "    ax1.set_title('Calibration plots  (reliability curve)')\n",
    "\n",
    "    ax2.set_xlabel(\"Mean predicted value\")\n",
    "    ax2.set_ylabel(\"Count\")\n",
    "    ax2.legend(loc=\"upper center\", ncol=2)\n",
    "\n",
    "    plt.tight_layout()\n",
    "\n",
    "# Plot calibration curve for Gaussian Naive Bayes\n",
    "plot_calibration_curve(RandomForestClassifier(), \"RandomForest\", 1)\n",
    "\n",
    "# Plot calibration curve for Linear SVC\n",
    "plot_calibration_curve(SVC(), \"SVC\", 2)\n",
    "\n",
    "plt.show()"
   ]
  },
  {
   "cell_type": "code",
   "execution_count": 515,
   "id": "18dc0e61",
   "metadata": {},
   "outputs": [
    {
     "data": {
      "text/plain": [
       "1"
      ]
     },
     "execution_count": 515,
     "metadata": {},
     "output_type": "execute_result"
    }
   ],
   "source": [
    "labels.max()"
   ]
  },
  {
   "cell_type": "code",
   "execution_count": 509,
   "id": "5c729e0c",
   "metadata": {},
   "outputs": [],
   "source": [
    "y_score = mdl.fit(X_train, Y_train).decision_function(X_test)\n",
    "\n",
    "\n",
    "fpr, tpr, _ = roc_curve(Y_test, y_score)\n",
    "roc_auc = auc(fpr, tpr)\n",
    "# # Compute ROC curve and ROC area for each class\n",
    "# fpr = dict()\n",
    "# tpr = dict()\n",
    "# roc_auc = dict()\n",
    "# for i in range(2):\n",
    "#     fpr[i], tpr[i], _ = roc_curve(Y_test[:, i], y_score[:, i])\n",
    "#     roc_auc[i] = auc(fpr[i], tpr[i])"
   ]
  },
  {
   "cell_type": "code",
   "execution_count": 510,
   "id": "d30a247a",
   "metadata": {},
   "outputs": [
    {
     "data": {
      "image/png": "[encoded data removed]",
      "text/plain": [
       "<Figure size 432x288 with 1 Axes>"
      ]
     },
     "metadata": {
      "needs_background": "light"
     },
     "output_type": "display_data"
    }
   ],
   "source": [
    "plt.figure()\n",
    "lw = 2\n",
    "plt.plot(fpr, tpr,\n",
    "         lw=lw, label='ROC curve (area = %0.2f)' % roc_auc)\n",
    "plt.plot([0, 1], [0, 1], lw=lw, linestyle='--')\n",
    "plt.xlim([0.0, 1.0])\n",
    "plt.ylim([0.0, 1.05])\n",
    "plt.xlabel('False Positive Rate')\n",
    "plt.ylabel('True Positive Rate')\n",
    "plt.title('ROC curve')\n",
    "plt.legend(loc=\"lower right\")\n",
    "plt.show()"
   ]
  },
  {
   "cell_type": "code",
   "execution_count": 496,
   "id": "4bec8c6c",
   "metadata": {},
   "outputs": [
    {
     "name": "stdout",
     "output_type": "stream",
     "text": [
      "\tBrier: 0.123\n",
      "\tPrecision: 0.166\n",
      "\tRecall: 0.886\n",
      "\tF1: 0.279\n",
      "\n"
     ]
    }
   ],
   "source": [
    "print(\"\\tBrier: %1.3f\" % (clf_score))\n",
    "print(\"\\tPrecision: %1.3f\" % precision_score(Y_test, pred))\n",
    "print(\"\\tRecall: %1.3f\" % recall_score(Y_test, pred))\n",
    "print(\"\\tF1: %1.3f\\n\" % f1_score(Y_test, pred))"
   ]
  },
  {
   "cell_type": "markdown",
   "id": "0b1ed858",
   "metadata": {},
   "source": [
    "## Compare Several Models"
   ]
  },
  {
   "cell_type": "code",
   "execution_count": 430,
   "id": "13d8985b",
   "metadata": {},
   "outputs": [],
   "source": [
    "models = []\n",
    "models.append(('LR', LogisticRegression(class_weight=\"balanced\")))\n",
    "models.append(('KNN', KNeighborsClassifier()))\n",
    "models.append(('CART', DecisionTreeClassifier(class_weight=\"balanced\")))\n",
    "models.append(('RFC', RandomForestClassifier(class_weight=\"balanced\")))\n",
    "models.append(('SVM', SVC(class_weight=\"balanced\")))\n"
   ]
  },
  {
   "cell_type": "code",
   "execution_count": 431,
   "id": "57034465",
   "metadata": {},
   "outputs": [
    {
     "data": {
      "text/plain": [
       "LogisticRegression(class_weight='balanced')"
      ]
     },
     "execution_count": 431,
     "metadata": {},
     "output_type": "execute_result"
    }
   ],
   "source": [
    "models[0][1]"
   ]
  },
  {
   "cell_type": "code",
   "execution_count": 432,
   "id": "1717a3bc",
   "metadata": {},
   "outputs": [
    {
     "name": "stdout",
     "output_type": "stream",
     "text": [
      "LR 0.5241281757546506\n",
      "KNN 0.35761948513377567\n",
      "CART 0.30002704007164166\n",
      "RFC 0.3608861002401624\n",
      "SVM 0.49441317229468446\n"
     ]
    }
   ],
   "source": [
    "tss_vals = []\n",
    "for name, mdl in models:\n",
    "    mdl.fit(X_train, Y_train)\n",
    "    pred = mdl.predict(X_test)\n",
    "    tss = get_tss(Y_test, pred)\n",
    "    \n",
    "    print(name, tss)\n",
    "    tss_vals.append(tss)\n",
    "    "
   ]
  },
  {
   "cell_type": "code",
   "execution_count": 433,
   "id": "2b1b6d1e",
   "metadata": {},
   "outputs": [],
   "source": [
    "mdl = RandomForestClassifier(class_weight=\"balanced\")\n",
    "mdl.fit(X_train, Y_train)\n",
    "pred = mdl.predict(X_test)"
   ]
  },
  {
   "cell_type": "code",
   "execution_count": 434,
   "id": "3d566abb",
   "metadata": {},
   "outputs": [
    {
     "data": {
      "text/plain": [
       "array([0.07213316, 0.23081194, 0.16954209, 0.0705242 , 0.22417863,\n",
       "       0.23280998])"
      ]
     },
     "execution_count": 434,
     "metadata": {},
     "output_type": "execute_result"
    }
   ],
   "source": [
    "mdl.feature_importances_"
   ]
  },
  {
   "cell_type": "code",
   "execution_count": 435,
   "id": "aa7985d7",
   "metadata": {},
   "outputs": [],
   "source": [
    "def plot_feature_importance(mdl, features, top=-1, title=\"Feature importance\"):\n",
    "    \"\"\"\n",
    "    Function to plot the importance of features from a model. \n",
    "    \n",
    "    Parameters\n",
    "    ----------\n",
    "    mdl : sklearn model that has been already fit\n",
    "    features : `pd.DataFrame` of features. \n",
    "    top : `int`, optional, number of top features to plot.\n",
    "          default is to plot all. \n",
    "    \n",
    "    \"\"\"\n",
    "    feature_importance = mdl.feature_importances_\n",
    "    \n",
    "    sorted_idx = np.argsort(feature_importance)[::-1][0:top]\n",
    "    np.array(features.columns)[sorted_idx]\n",
    "    \n",
    "    pos = np.arange(0, sorted_idx.shape[0]*2, 2)\n",
    "    \n",
    "    fig = plt.figure(figsize=(10, 8))\n",
    "    plt.barh(pos, feature_importance[sorted_idx], 2, align='center')\n",
    "    plt.gca().invert_yaxis()\n",
    "    plt.yticks(pos, np.array(features.columns)[sorted_idx])\n",
    "    plt.title(title)"
   ]
  },
  {
   "cell_type": "code",
   "execution_count": 436,
   "id": "74afb213",
   "metadata": {},
   "outputs": [
    {
     "data": {
      "image/png": "[encoded data removed]",
      "text/plain": [
       "<Figure size 720x576 with 1 Axes>"
      ]
     },
     "metadata": {
      "needs_background": "light"
     },
     "output_type": "display_data"
    }
   ],
   "source": [
    "plot_feature_importance(mdl, features)"
   ]
  },
  {
   "cell_type": "markdown",
   "id": "7372e4be",
   "metadata": {},
   "source": [
    "## PCA analysis"
   ]
  },
  {
   "cell_type": "code",
   "execution_count": 601,
   "id": "504e81b6",
   "metadata": {},
   "outputs": [],
   "source": [
    "X_train, X_test, y_train, y_test = \\\n",
    "train_test_split(features, labels, test_size=0.2, shuffle=True)\n",
    "\n",
    "X_train, X_test, y_train, y_test = X_train.values, X_test.values, np.squeeze(y_train.values), np.squeeze(y_test.values)"
   ]
  },
  {
   "cell_type": "code",
   "execution_count": 602,
   "id": "673b579a",
   "metadata": {},
   "outputs": [
    {
     "data": {
      "text/plain": [
       "array([[ 57, 914,   0,   0],\n",
       "       [ 15, 279,   0,   1],\n",
       "       [ 12, 199,   0,   1],\n",
       "       ...,\n",
       "       [ 14, 269,   0,   1],\n",
       "       [ 12, 222,   0,   1],\n",
       "       [ 23, 436,   0,   1]])"
      ]
     },
     "execution_count": 602,
     "metadata": {},
     "output_type": "execute_result"
    }
   ],
   "source": [
    "X_train"
   ]
  },
  {
   "cell_type": "code",
   "execution_count": 613,
   "id": "8fce6611",
   "metadata": {},
   "outputs": [],
   "source": [
    "from sklearn.pipeline import make_pipeline\n",
    "from sklearn.decomposition import PCA\n",
    "from sklearn.preprocessing import StandardScaler\n",
    "from sklearn import metrics\n",
    "# Fit to data and predict using pipelined GNB and PCA.\n",
    "unscaled_clf = make_pipeline(PCA(n_components=3), GaussianNB())\n",
    "unscaled_clf.fit(X_train, y_train)\n",
    "pred_test = unscaled_clf.predict(X_test)\n",
    "\n",
    "# Fit to data and predict using pipelined scaling, GNB and PCA.\n",
    "std_clf = make_pipeline(StandardScaler(), PCA(n_components=3), GaussianNB())\n",
    "std_clf.fit(X_train, y_train)\n",
    "pred_test_std = std_clf.predict(X_test)"
   ]
  },
  {
   "cell_type": "code",
   "execution_count": 614,
   "id": "6d02ba18",
   "metadata": {},
   "outputs": [
    {
     "name": "stdout",
     "output_type": "stream",
     "text": [
      "\n",
      "Prediction accuracy for the normal test dataset with PCA\n",
      "78.50%\n",
      "\n",
      "\n",
      "Prediction accuracy for the standardized test dataset with PCA\n",
      "79.61%\n",
      "\n",
      "\n",
      "PC 1 without scaling:\n",
      " [ 6.11264611e-02  9.98129962e-01  7.71874423e-05 -3.59114750e-04]\n",
      "\n",
      "PC 1 with scaling:\n",
      " [ 0.69272236  0.68386125 -0.05513975 -0.22232663]\n"
     ]
    }
   ],
   "source": [
    "# Show prediction accuracies in scaled and unscaled data.\n",
    "print('\\nPrediction accuracy for the normal test dataset with PCA')\n",
    "print('{:.2%}\\n'.format(metrics.accuracy_score(y_test, pred_test)))\n",
    "\n",
    "print('\\nPrediction accuracy for the standardized test dataset with PCA')\n",
    "print('{:.2%}\\n'.format(metrics.accuracy_score(y_test, pred_test_std)))\n",
    "\n",
    "# Extract PCA from pipeline\n",
    "pca = unscaled_clf.named_steps['pca']\n",
    "pca_std = std_clf.named_steps['pca']\n",
    "\n",
    "# Show first principal components\n",
    "print('\\nPC 1 without scaling:\\n', pca.components_[0])\n",
    "print('\\nPC 1 with scaling:\\n', pca_std.components_[0])\n",
    "\n",
    "# Use PCA without and with scale on X_train data for visualization.\n",
    "X_train_transformed = pca.transform(X_train)\n",
    "scaler = std_clf.named_steps['standardscaler']\n",
    "X_train_std_transformed = pca_std.transform(scaler.transform(X_train))\n"
   ]
  },
  {
   "cell_type": "code",
   "execution_count": 615,
   "id": "f9348e5d",
   "metadata": {},
   "outputs": [
    {
     "data": {
      "image/png": "[encoded data removed]",
      "text/plain": [
       "<Figure size 432x288 with 2 Axes>"
      ]
     },
     "metadata": {
      "needs_background": "light"
     },
     "output_type": "display_data"
    }
   ],
   "source": [
    "# visualize standardized vs. untouched dataset with PCA performed\n",
    "fig, (ax1, ax2) = plt.subplots(ncols=2)\n",
    "\n",
    "\n",
    "for l, c, m in zip(range(0, 3), ('blue', 'red', 'green'), ('^', 's', 'o')):\n",
    "    ax1.scatter(X_train_transformed[y_train == l, 0],\n",
    "                X_train_transformed[y_train == l, 1],\n",
    "                color=c,\n",
    "                label='class %s' % l,\n",
    "                alpha=0.5,\n",
    "                marker=m\n",
    "                )\n",
    "\n",
    "for l, c, m in zip(range(0, 3), ('blue', 'red', 'green'), ('^', 's')):\n",
    "    ax2.scatter(X_train_std_transformed[y_train == l, 0],\n",
    "                X_train_std_transformed[y_train == l, 1],\n",
    "                color=c,\n",
    "                label='class %s' % l,\n",
    "                alpha=0.5,\n",
    "                marker=m\n",
    "                )\n",
    "\n",
    "ax1.set_title('Training dataset after PCA')\n",
    "ax2.set_title('Standardized training dataset after PCA')\n",
    "\n",
    "for ax in (ax1, ax2):\n",
    "    ax.set_xlabel('1st principal component')\n",
    "    ax.set_ylabel('2nd principal component')\n",
    "    ax.legend(loc='upper right')\n",
    "    ax.grid()\n",
    "\n",
    "plt.tight_layout()\n",
    "\n",
    "plt.show()"
   ]
  },
  {
   "cell_type": "code",
   "execution_count": 616,
   "id": "8c312a78",
   "metadata": {},
   "outputs": [
    {
     "data": {
      "text/plain": [
       "(7924, 3)"
      ]
     },
     "execution_count": 616,
     "metadata": {},
     "output_type": "execute_result"
    }
   ],
   "source": [
    "X_train_transformed.shape"
   ]
  },
  {
   "cell_type": "code",
   "execution_count": 617,
   "id": "c3b131ac",
   "metadata": {},
   "outputs": [
    {
     "data": {
      "text/plain": [
       "array([ 2.41618431, -0.53054021, -0.79753855, ..., -0.58512735,\n",
       "       -0.75004956,  0.06514173])"
      ]
     },
     "execution_count": 617,
     "metadata": {},
     "output_type": "execute_result"
    }
   ],
   "source": [
    "l=0\n",
    "X_train_std_transformed[y_train == l, 0]"
   ]
  },
  {
   "cell_type": "code",
   "execution_count": 618,
   "id": "edd97b1e",
   "metadata": {},
   "outputs": [
    {
     "data": {
      "text/plain": [
       "array([0, 0, 0, ..., 0, 0, 0])"
      ]
     },
     "execution_count": 618,
     "metadata": {},
     "output_type": "execute_result"
    }
   ],
   "source": [
    "np.squeeze(y_train)"
   ]
  },
  {
   "cell_type": "code",
   "execution_count": null,
   "id": "f578b372",
   "metadata": {},
   "outputs": [],
   "source": []
  },
  {
   "cell_type": "code",
   "execution_count": null,
   "id": "9c1b8e9d",
   "metadata": {},
   "outputs": [],
   "source": []
  }
 ],
 "metadata": {
  "kernelspec": {
   "display_name": "Python 3",
   "language": "python",
   "name": "python3"
  },
  "language_info": {
   "codemirror_mode": {
    "name": "ipython",
    "version": 3
   },
   "file_extension": ".py",
   "mimetype": "text/x-python",
   "name": "python",
   "nbconvert_exporter": "python",
   "pygments_lexer": "ipython3",
   "version": "3.9.4"
  }
 },
 "nbformat": 4,
 "nbformat_minor": 5
}
