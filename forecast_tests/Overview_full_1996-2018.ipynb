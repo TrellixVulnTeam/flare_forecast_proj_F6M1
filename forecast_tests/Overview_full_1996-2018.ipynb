{
 "cells": [
  {
   "cell_type": "markdown",
   "id": "0c9bafc0",
   "metadata": {},
   "source": [
    "## Machine Learning Solar Flare Forecasting \n",
    "\n",
    "In this notebook an overview of the dataset that is used for a ML forecasting project is project.\n",
    "\n",
    "The data used here is from `AR_flare_ml_23_24.csv` which consists of compiled AR data from daily NOAA SRS files, and then solar flare data which is compiled from the NOAA SWPC daily event reports. \n",
    "\n",
    "* script to create `AR_flare_ml_23_24.csv` is `making_ml_df_sc23-24.py`.\n",
    "* the swpc flare data (`swpc_flarelist_19960731_20181231.csv`) is generated in `generate_flarelist.py` located in `/flare_analysis/goes_flare_list/`\n",
    "* the NOAA active region data is `SRS_data_new_19960101_20181231.csv` that is created by `new_read_srs.py ` located in `/flare_analysis/AR_analysis/`.\n",
    "\n"
   ]
  },
  {
   "cell_type": "code",
   "execution_count": 140,
   "id": "f36e0bf1",
   "metadata": {},
   "outputs": [],
   "source": [
    "import pandas as pd \n",
    "import matplotlib.pyplot as plt \n",
    "import numpy as np \n",
    "import seaborn as sns\n",
    "import datetime\n",
    "import time\n",
    "import warnings\n",
    "warnings.filterwarnings(\"ignore\")"
   ]
  },
  {
   "cell_type": "markdown",
   "id": "e15aea36",
   "metadata": {},
   "source": [
    "Lets read in the data to a pandas DataFrame"
   ]
  },
  {
   "cell_type": "code",
   "execution_count": 141,
   "id": "40d84a8e",
   "metadata": {},
   "outputs": [],
   "source": [
    "data = pd.read_csv(\"AR_flare_ml_23_24.csv\")"
   ]
  },
  {
   "cell_type": "code",
   "execution_count": 142,
   "id": "14b4259a",
   "metadata": {},
   "outputs": [
    {
     "name": "stdout",
     "output_type": "stream",
     "text": [
      "0\n"
     ]
    }
   ],
   "source": [
    "# lets just check there are no nans\n",
    "is_NaN = data.isnull()\n",
    "row_has_NaN = is_NaN.any(axis=1)\n",
    "rows_with_NaN = data[row_has_NaN]\n",
    "print(np.sum(row_has_NaN))"
   ]
  },
  {
   "cell_type": "code",
   "execution_count": 143,
   "id": "3b5719f0",
   "metadata": {},
   "outputs": [],
   "source": [
    "data = data[(data[\"AR issue_date\"] > \"1996-08-06\")]\n",
    "data.reset_index(inplace=True, drop=True)"
   ]
  },
  {
   "cell_type": "code",
   "execution_count": 144,
   "id": "1057fa00",
   "metadata": {},
   "outputs": [],
   "source": [
    "data[\"zurich1\"] = data[\"McIntosh\"].map(lambda x: x[0])\n",
    "data[\"penumbral1\"] = data[\"McIntosh\"].map(lambda x: x[1])\n",
    "data[\"compact1\"] = data[\"McIntosh\"].map(lambda x: x[2])"
   ]
  },
  {
   "cell_type": "code",
   "execution_count": 145,
   "id": "9aad0436",
   "metadata": {},
   "outputs": [
    {
     "data": {
      "text/html": [
       "<div>\n",
       "<style scoped>\n",
       "    .dataframe tbody tr th:only-of-type {\n",
       "        vertical-align: middle;\n",
       "    }\n",
       "\n",
       "    .dataframe tbody tr th {\n",
       "        vertical-align: top;\n",
       "    }\n",
       "\n",
       "    .dataframe thead th {\n",
       "        text-align: right;\n",
       "    }\n",
       "</style>\n",
       "<table border=\"1\" class=\"dataframe\">\n",
       "  <thead>\n",
       "    <tr style=\"text-align: right;\">\n",
       "      <th></th>\n",
       "      <th>AR issue_date</th>\n",
       "      <th>noaa_ar</th>\n",
       "      <th>Carrington_long</th>\n",
       "      <th>AREA</th>\n",
       "      <th>McIntosh</th>\n",
       "      <th>Longitude_extent</th>\n",
       "      <th>Latitude</th>\n",
       "      <th>Longitude</th>\n",
       "      <th>No_sunspots</th>\n",
       "      <th>MAGTYPE</th>\n",
       "      <th>LOCATION</th>\n",
       "      <th>C</th>\n",
       "      <th>M</th>\n",
       "      <th>X</th>\n",
       "      <th>C+</th>\n",
       "      <th>M+</th>\n",
       "      <th>X+</th>\n",
       "      <th>zurich1</th>\n",
       "      <th>penumbral1</th>\n",
       "      <th>compact1</th>\n",
       "    </tr>\n",
       "  </thead>\n",
       "  <tbody>\n",
       "    <tr>\n",
       "      <th>0</th>\n",
       "      <td>1996-08-06 00:30</td>\n",
       "      <td>7981</td>\n",
       "      <td>259</td>\n",
       "      <td>220</td>\n",
       "      <td>CSO</td>\n",
       "      <td>8</td>\n",
       "      <td>-9</td>\n",
       "      <td>46</td>\n",
       "      <td>10.0</td>\n",
       "      <td>BETA</td>\n",
       "      <td>S09W46</td>\n",
       "      <td>0.0</td>\n",
       "      <td>0.0</td>\n",
       "      <td>0.0</td>\n",
       "      <td>0.0</td>\n",
       "      <td>0.0</td>\n",
       "      <td>0.0</td>\n",
       "      <td>C</td>\n",
       "      <td>S</td>\n",
       "      <td>O</td>\n",
       "    </tr>\n",
       "    <tr>\n",
       "      <th>1</th>\n",
       "      <td>1996-08-07 00:30</td>\n",
       "      <td>7981</td>\n",
       "      <td>260</td>\n",
       "      <td>140</td>\n",
       "      <td>CSO</td>\n",
       "      <td>7</td>\n",
       "      <td>-10</td>\n",
       "      <td>60</td>\n",
       "      <td>3.0</td>\n",
       "      <td>BETA</td>\n",
       "      <td>S10W60</td>\n",
       "      <td>0.0</td>\n",
       "      <td>0.0</td>\n",
       "      <td>0.0</td>\n",
       "      <td>0.0</td>\n",
       "      <td>0.0</td>\n",
       "      <td>0.0</td>\n",
       "      <td>C</td>\n",
       "      <td>S</td>\n",
       "      <td>O</td>\n",
       "    </tr>\n",
       "    <tr>\n",
       "      <th>2</th>\n",
       "      <td>1996-08-08 00:30</td>\n",
       "      <td>7981</td>\n",
       "      <td>260</td>\n",
       "      <td>130</td>\n",
       "      <td>HSX</td>\n",
       "      <td>2</td>\n",
       "      <td>-11</td>\n",
       "      <td>73</td>\n",
       "      <td>1.0</td>\n",
       "      <td>ALPHA</td>\n",
       "      <td>S11W73</td>\n",
       "      <td>0.0</td>\n",
       "      <td>0.0</td>\n",
       "      <td>0.0</td>\n",
       "      <td>0.0</td>\n",
       "      <td>0.0</td>\n",
       "      <td>0.0</td>\n",
       "      <td>H</td>\n",
       "      <td>S</td>\n",
       "      <td>X</td>\n",
       "    </tr>\n",
       "    <tr>\n",
       "      <th>3</th>\n",
       "      <td>1996-08-08 00:30</td>\n",
       "      <td>7982</td>\n",
       "      <td>165</td>\n",
       "      <td>10</td>\n",
       "      <td>BXO</td>\n",
       "      <td>3</td>\n",
       "      <td>11</td>\n",
       "      <td>-22</td>\n",
       "      <td>5.0</td>\n",
       "      <td>BETA</td>\n",
       "      <td>N11E22</td>\n",
       "      <td>0.0</td>\n",
       "      <td>0.0</td>\n",
       "      <td>0.0</td>\n",
       "      <td>0.0</td>\n",
       "      <td>0.0</td>\n",
       "      <td>0.0</td>\n",
       "      <td>B</td>\n",
       "      <td>X</td>\n",
       "      <td>O</td>\n",
       "    </tr>\n",
       "    <tr>\n",
       "      <th>4</th>\n",
       "      <td>1996-08-09 00:30</td>\n",
       "      <td>7981</td>\n",
       "      <td>263</td>\n",
       "      <td>120</td>\n",
       "      <td>HSX</td>\n",
       "      <td>2</td>\n",
       "      <td>-11</td>\n",
       "      <td>89</td>\n",
       "      <td>1.0</td>\n",
       "      <td>ALPHA</td>\n",
       "      <td>S11W89</td>\n",
       "      <td>0.0</td>\n",
       "      <td>0.0</td>\n",
       "      <td>0.0</td>\n",
       "      <td>0.0</td>\n",
       "      <td>0.0</td>\n",
       "      <td>0.0</td>\n",
       "      <td>H</td>\n",
       "      <td>S</td>\n",
       "      <td>X</td>\n",
       "    </tr>\n",
       "  </tbody>\n",
       "</table>\n",
       "</div>"
      ],
      "text/plain": [
       "      AR issue_date  noaa_ar  Carrington_long  AREA McIntosh  \\\n",
       "0  1996-08-06 00:30     7981              259   220      CSO   \n",
       "1  1996-08-07 00:30     7981              260   140      CSO   \n",
       "2  1996-08-08 00:30     7981              260   130      HSX   \n",
       "3  1996-08-08 00:30     7982              165    10      BXO   \n",
       "4  1996-08-09 00:30     7981              263   120      HSX   \n",
       "\n",
       "   Longitude_extent  Latitude  Longitude  No_sunspots MAGTYPE LOCATION    C  \\\n",
       "0                 8        -9         46         10.0    BETA   S09W46  0.0   \n",
       "1                 7       -10         60          3.0    BETA   S10W60  0.0   \n",
       "2                 2       -11         73          1.0   ALPHA   S11W73  0.0   \n",
       "3                 3        11        -22          5.0    BETA   N11E22  0.0   \n",
       "4                 2       -11         89          1.0   ALPHA   S11W89  0.0   \n",
       "\n",
       "     M    X   C+   M+   X+ zurich1 penumbral1 compact1  \n",
       "0  0.0  0.0  0.0  0.0  0.0       C          S        O  \n",
       "1  0.0  0.0  0.0  0.0  0.0       C          S        O  \n",
       "2  0.0  0.0  0.0  0.0  0.0       H          S        X  \n",
       "3  0.0  0.0  0.0  0.0  0.0       B          X        O  \n",
       "4  0.0  0.0  0.0  0.0  0.0       H          S        X  "
      ]
     },
     "execution_count": 145,
     "metadata": {},
     "output_type": "execute_result"
    }
   ],
   "source": [
    "data.head()"
   ]
  },
  {
   "cell_type": "markdown",
   "id": "caa514f5",
   "metadata": {},
   "source": [
    "## Lets compare parameters and how the compare with flaring/non-flaring regionsm"
   ]
  },
  {
   "cell_type": "code",
   "execution_count": 7,
   "id": "6ba18e49",
   "metadata": {},
   "outputs": [],
   "source": [
    "ar_w_flare = data[data[\"C+\"]>0]\n",
    "ar_no_flare = data[data[\"C+\"]==0]"
   ]
  },
  {
   "cell_type": "code",
   "execution_count": 8,
   "id": "457c1839",
   "metadata": {},
   "outputs": [
    {
     "data": {
      "image/png": "[encoded data removed]",
      "text/plain": [
       "<Figure size 864x288 with 3 Axes>"
      ]
     },
     "metadata": {
      "needs_background": "light"
     },
     "output_type": "display_data"
    }
   ],
   "source": [
    "fig, ax = plt.subplots(1, 3, figsize=(12, 4))\n",
    "sns.distplot(ar_w_flare[\"No_sunspots\"], ax=ax[0], label=\"Flare\")\n",
    "sns.distplot(ar_no_flare[\"No_sunspots\"], ax=ax[0], label=\"No flare\")\n",
    "\n",
    "sns.distplot(ar_w_flare[\"AREA\"], ax=ax[1], label=\"Flare\")\n",
    "sns.distplot(ar_no_flare[\"AREA\"], ax=ax[1], label=\"No Flare\")\n",
    "\n",
    "sns.distplot(ar_w_flare[\"Longitude_extent\"], ax=ax[2], label=\"Flare\")\n",
    "sns.distplot(ar_no_flare[\"Longitude_extent\"], ax=ax[2], label=\"No Flare\")\n",
    "\n",
    "for a in ax:\n",
    "    a.tick_params(which=\"both\", direction=\"in\")\n",
    "    a.legend(loc=\"upper right\")\n",
    "    \n",
    "plt.tight_layout()"
   ]
  },
  {
   "cell_type": "code",
   "execution_count": 9,
   "id": "34b1aa5b",
   "metadata": {},
   "outputs": [
    {
     "data": {
      "text/plain": [
       "Text(0, 0.5, 'Normalized % of cases')"
      ]
     },
     "execution_count": 9,
     "metadata": {},
     "output_type": "execute_result"
    },
    {
     "data": {
      "image/png": "[encoded data removed]",
      "text/plain": [
       "<Figure size 432x288 with 1 Axes>"
      ]
     },
     "metadata": {
      "needs_background": "light"
     },
     "output_type": "display_data"
    }
   ],
   "source": [
    "fig, ax = plt.subplots(1)\n",
    "((ar_w_flare.groupby([\"MAGTYPE\"])[\"C\"].count())/len(ar_w_flare)).plot.bar(ax=ax, \n",
    "                                                                          alpha=0.4, label=\"Flare\")\n",
    "((ar_no_flare.groupby([\"MAGTYPE\"])[\"C\"].count())/len(ar_no_flare)).plot.bar(ax=ax, color=\"tab:orange\", \n",
    "                                                                            alpha=0.4, label=\"No Flare\")\n",
    "ax.legend()\n",
    "ax.set_ylabel(\"Normalized % of cases\")"
   ]
  },
  {
   "cell_type": "code",
   "execution_count": 10,
   "id": "9c2cf04a",
   "metadata": {},
   "outputs": [
    {
     "data": {
      "text/plain": [
       "Text(0, 0.5, 'Normalized % of cases')"
      ]
     },
     "execution_count": 10,
     "metadata": {},
     "output_type": "execute_result"
    },
    {
     "data": {
      "image/png": "[encoded data removed]",
      "text/plain": [
       "<Figure size 720x432 with 1 Axes>"
      ]
     },
     "metadata": {
      "needs_background": "light"
     },
     "output_type": "display_data"
    }
   ],
   "source": [
    "fig, ax = plt.subplots(figsize=(10,6))\n",
    "((ar_w_flare.groupby([\"McIntosh\"])[\"C\"].count())/len(ar_w_flare)).plot.bar(ax=ax, \n",
    "                                                                          alpha=0.4, label=\"Flare\")\n",
    "((ar_no_flare.groupby([\"McIntosh\"])[\"C\"].count())/len(ar_no_flare)).plot.bar(ax=ax, color=\"tab:orange\", \n",
    "                                                                            alpha=0.4, label=\"No Flare\")\n",
    "ax.legend()\n",
    "ax.set_ylabel(\"Normalized % of cases\")"
   ]
  },
  {
   "cell_type": "code",
   "execution_count": 11,
   "id": "90dd2c58",
   "metadata": {},
   "outputs": [
    {
     "data": {
      "text/plain": [
       "10"
      ]
     },
     "execution_count": 11,
     "metadata": {},
     "output_type": "execute_result"
    }
   ],
   "source": [
    "len(data[data[\"MAGTYPE\"].isin([\"GAMMA-DELTA\"])])"
   ]
  },
  {
   "cell_type": "markdown",
   "id": "21a28e0a",
   "metadata": {},
   "source": [
    "## Lets add in some more parameters that will be of importance\n",
    "\n",
    "These include the previous AR/flare properties of each day. Lets add in if that AR flared the day previous, and if what the active region McIntosh and Hale class was the day before, and the area (i.e. has it grown it shrunk?)"
   ]
  },
  {
   "cell_type": "code",
   "execution_count": 12,
   "id": "020cb30c",
   "metadata": {},
   "outputs": [
    {
     "name": "stdout",
     "output_type": "stream",
     "text": [
      "75.1013720035553\n"
     ]
    }
   ],
   "source": [
    "t1 = time.time()\n",
    "prev_area, prev_mcint, prev_mag, prev_flare, z2, p2, c2 = [], [], [], [], [], [], []\n",
    "for i in range(len(data)):\n",
    "\n",
    "    test = data.iloc[i]\n",
    "    previous_day = (pd.to_datetime(test[\"AR issue_date\"])-datetime.timedelta(days=1)).strftime(\"%Y-%m-%d 00:30\")\n",
    "    ar_match = test[\"noaa_ar\"]\n",
    "    data_prev = data[(data[\"AR issue_date\"].isin([previous_day]))&(data[\"noaa_ar\"].isin([ar_match]))]\n",
    "\n",
    "    if len(data_prev)==0:\n",
    "        prev_area.append(np.nan), prev_mcint.append(np.nan), prev_mag.append(np.nan), prev_flare.append(np.nan), \n",
    "        z2.append(np.nan), p2.append(np.nan), c2.append(np.nan)\n",
    "    else:\n",
    "        prev_area.append(data_prev[\"AREA\"].values[0]), prev_mcint.append(data_prev[\"McIntosh\"].values[0]), \n",
    "        prev_mag.append(data_prev[\"MAGTYPE\"].values[0]), prev_flare.append(data_prev[\"C+\"].values[0]), \n",
    "        z2.append(data_prev[\"zurich1\"].values[0]), p2.append(data_prev[\"penumbral1\"].values[0]), c2.append(data_prev[\"compact1\"].values[0])\n",
    "t2 = time.time()\n",
    "print(t2 - t1)\n"
   ]
  },
  {
   "cell_type": "code",
   "execution_count": 13,
   "id": "4439541e",
   "metadata": {},
   "outputs": [],
   "source": [
    "data[\"pre_area\"] = prev_area\n",
    "data[\"pre_mcint\"] = prev_mcint\n",
    "data[\"pre_mag\"] = prev_mag\n",
    "data[\"pre_flare\"] = prev_flare\n",
    "\n",
    "data[\"zurich2\"] = z2\n",
    "data[\"penumbral2\"] = p2\n",
    "data[\"compact2\"] = c2"
   ]
  },
  {
   "cell_type": "code",
   "execution_count": 139,
   "id": "2bc13cea",
   "metadata": {},
   "outputs": [
    {
     "data": {
      "text/html": [
       "<div>\n",
       "<style scoped>\n",
       "    .dataframe tbody tr th:only-of-type {\n",
       "        vertical-align: middle;\n",
       "    }\n",
       "\n",
       "    .dataframe tbody tr th {\n",
       "        vertical-align: top;\n",
       "    }\n",
       "\n",
       "    .dataframe thead th {\n",
       "        text-align: right;\n",
       "    }\n",
       "</style>\n",
       "<table border=\"1\" class=\"dataframe\">\n",
       "  <thead>\n",
       "    <tr style=\"text-align: right;\">\n",
       "      <th></th>\n",
       "      <th>AR issue_date</th>\n",
       "      <th>noaa_ar</th>\n",
       "      <th>Carrington_long</th>\n",
       "      <th>AREA</th>\n",
       "      <th>McIntosh</th>\n",
       "      <th>Longitude_extent</th>\n",
       "      <th>Latitude</th>\n",
       "      <th>Longitude</th>\n",
       "      <th>No_sunspots</th>\n",
       "      <th>MAGTYPE</th>\n",
       "      <th>...</th>\n",
       "      <th>zurich1</th>\n",
       "      <th>penumbral1</th>\n",
       "      <th>compact1</th>\n",
       "      <th>pre_area</th>\n",
       "      <th>pre_mcint</th>\n",
       "      <th>pre_mag</th>\n",
       "      <th>pre_flare</th>\n",
       "      <th>zurich2</th>\n",
       "      <th>penumbral2</th>\n",
       "      <th>compact2</th>\n",
       "    </tr>\n",
       "  </thead>\n",
       "  <tbody>\n",
       "    <tr>\n",
       "      <th>0</th>\n",
       "      <td>1996-08-06 00:30</td>\n",
       "      <td>7981</td>\n",
       "      <td>259</td>\n",
       "      <td>220</td>\n",
       "      <td>CSO</td>\n",
       "      <td>8</td>\n",
       "      <td>-9</td>\n",
       "      <td>46</td>\n",
       "      <td>10.0</td>\n",
       "      <td>BETA</td>\n",
       "      <td>...</td>\n",
       "      <td>C</td>\n",
       "      <td>S</td>\n",
       "      <td>O</td>\n",
       "      <td>NaN</td>\n",
       "      <td>NaN</td>\n",
       "      <td>NaN</td>\n",
       "      <td>NaN</td>\n",
       "      <td>NaN</td>\n",
       "      <td>NaN</td>\n",
       "      <td>NaN</td>\n",
       "    </tr>\n",
       "    <tr>\n",
       "      <th>1</th>\n",
       "      <td>1996-08-07 00:30</td>\n",
       "      <td>7981</td>\n",
       "      <td>260</td>\n",
       "      <td>140</td>\n",
       "      <td>CSO</td>\n",
       "      <td>7</td>\n",
       "      <td>-10</td>\n",
       "      <td>60</td>\n",
       "      <td>3.0</td>\n",
       "      <td>BETA</td>\n",
       "      <td>...</td>\n",
       "      <td>C</td>\n",
       "      <td>S</td>\n",
       "      <td>O</td>\n",
       "      <td>220.0</td>\n",
       "      <td>CSO</td>\n",
       "      <td>BETA</td>\n",
       "      <td>0.0</td>\n",
       "      <td>C</td>\n",
       "      <td>S</td>\n",
       "      <td>O</td>\n",
       "    </tr>\n",
       "    <tr>\n",
       "      <th>2</th>\n",
       "      <td>1996-08-08 00:30</td>\n",
       "      <td>7981</td>\n",
       "      <td>260</td>\n",
       "      <td>130</td>\n",
       "      <td>HSX</td>\n",
       "      <td>2</td>\n",
       "      <td>-11</td>\n",
       "      <td>73</td>\n",
       "      <td>1.0</td>\n",
       "      <td>ALPHA</td>\n",
       "      <td>...</td>\n",
       "      <td>H</td>\n",
       "      <td>S</td>\n",
       "      <td>X</td>\n",
       "      <td>140.0</td>\n",
       "      <td>CSO</td>\n",
       "      <td>BETA</td>\n",
       "      <td>0.0</td>\n",
       "      <td>C</td>\n",
       "      <td>S</td>\n",
       "      <td>O</td>\n",
       "    </tr>\n",
       "  </tbody>\n",
       "</table>\n",
       "<p>3 rows × 27 columns</p>\n",
       "</div>"
      ],
      "text/plain": [
       "      AR issue_date  noaa_ar  Carrington_long  AREA McIntosh  \\\n",
       "0  1996-08-06 00:30     7981              259   220      CSO   \n",
       "1  1996-08-07 00:30     7981              260   140      CSO   \n",
       "2  1996-08-08 00:30     7981              260   130      HSX   \n",
       "\n",
       "   Longitude_extent  Latitude  Longitude  No_sunspots MAGTYPE  ... zurich1  \\\n",
       "0                 8        -9         46         10.0    BETA  ...       C   \n",
       "1                 7       -10         60          3.0    BETA  ...       C   \n",
       "2                 2       -11         73          1.0   ALPHA  ...       H   \n",
       "\n",
       "   penumbral1  compact1  pre_area  pre_mcint  pre_mag  pre_flare zurich2  \\\n",
       "0           S         O       NaN        NaN      NaN        NaN     NaN   \n",
       "1           S         O     220.0        CSO     BETA        0.0       C   \n",
       "2           S         X     140.0        CSO     BETA        0.0       C   \n",
       "\n",
       "  penumbral2 compact2  \n",
       "0        NaN      NaN  \n",
       "1          S        O  \n",
       "2          S        O  \n",
       "\n",
       "[3 rows x 27 columns]"
      ]
     },
     "execution_count": 139,
     "metadata": {},
     "output_type": "execute_result"
    }
   ],
   "source": [
    "data.head(3)"
   ]
  },
  {
   "cell_type": "code",
   "execution_count": 14,
   "id": "d794877d",
   "metadata": {},
   "outputs": [
    {
     "name": "stdout",
     "output_type": "stream",
     "text": [
      "5270\n"
     ]
    }
   ],
   "source": [
    "# lets just check there are no nans\n",
    "is_NaN = data.isnull()\n",
    "row_has_NaN = is_NaN.any(axis=1)\n",
    "rows_with_NaN = data[row_has_NaN]\n",
    "print(np.sum(row_has_NaN))"
   ]
  },
  {
   "cell_type": "code",
   "execution_count": 15,
   "id": "5212080f",
   "metadata": {},
   "outputs": [
    {
     "data": {
      "text/plain": [
       "0.1572617946345976"
      ]
     },
     "execution_count": 15,
     "metadata": {},
     "output_type": "execute_result"
    }
   ],
   "source": [
    "np.sum(row_has_NaN)/len(data)"
   ]
  },
  {
   "cell_type": "code",
   "execution_count": 16,
   "id": "4e0719ae",
   "metadata": {},
   "outputs": [
    {
     "data": {
      "text/html": [
       "<div>\n",
       "<style scoped>\n",
       "    .dataframe tbody tr th:only-of-type {\n",
       "        vertical-align: middle;\n",
       "    }\n",
       "\n",
       "    .dataframe tbody tr th {\n",
       "        vertical-align: top;\n",
       "    }\n",
       "\n",
       "    .dataframe thead th {\n",
       "        text-align: right;\n",
       "    }\n",
       "</style>\n",
       "<table border=\"1\" class=\"dataframe\">\n",
       "  <thead>\n",
       "    <tr style=\"text-align: right;\">\n",
       "      <th></th>\n",
       "      <th>AR issue_date</th>\n",
       "      <th>noaa_ar</th>\n",
       "      <th>Carrington_long</th>\n",
       "      <th>AREA</th>\n",
       "      <th>McIntosh</th>\n",
       "      <th>Longitude_extent</th>\n",
       "      <th>Latitude</th>\n",
       "      <th>Longitude</th>\n",
       "      <th>No_sunspots</th>\n",
       "      <th>MAGTYPE</th>\n",
       "      <th>...</th>\n",
       "      <th>zurich1</th>\n",
       "      <th>penumbral1</th>\n",
       "      <th>compact1</th>\n",
       "      <th>pre_area</th>\n",
       "      <th>pre_mcint</th>\n",
       "      <th>pre_mag</th>\n",
       "      <th>pre_flare</th>\n",
       "      <th>zurich2</th>\n",
       "      <th>penumbral2</th>\n",
       "      <th>compact2</th>\n",
       "    </tr>\n",
       "  </thead>\n",
       "  <tbody>\n",
       "    <tr>\n",
       "      <th>0</th>\n",
       "      <td>1996-08-06 00:30</td>\n",
       "      <td>7981</td>\n",
       "      <td>259</td>\n",
       "      <td>220</td>\n",
       "      <td>CSO</td>\n",
       "      <td>8</td>\n",
       "      <td>-9</td>\n",
       "      <td>46</td>\n",
       "      <td>10.0</td>\n",
       "      <td>BETA</td>\n",
       "      <td>...</td>\n",
       "      <td>C</td>\n",
       "      <td>S</td>\n",
       "      <td>O</td>\n",
       "      <td>NaN</td>\n",
       "      <td>NaN</td>\n",
       "      <td>NaN</td>\n",
       "      <td>NaN</td>\n",
       "      <td>NaN</td>\n",
       "      <td>NaN</td>\n",
       "      <td>NaN</td>\n",
       "    </tr>\n",
       "    <tr>\n",
       "      <th>3</th>\n",
       "      <td>1996-08-08 00:30</td>\n",
       "      <td>7982</td>\n",
       "      <td>165</td>\n",
       "      <td>10</td>\n",
       "      <td>BXO</td>\n",
       "      <td>3</td>\n",
       "      <td>11</td>\n",
       "      <td>-22</td>\n",
       "      <td>5.0</td>\n",
       "      <td>BETA</td>\n",
       "      <td>...</td>\n",
       "      <td>B</td>\n",
       "      <td>X</td>\n",
       "      <td>O</td>\n",
       "      <td>NaN</td>\n",
       "      <td>NaN</td>\n",
       "      <td>NaN</td>\n",
       "      <td>NaN</td>\n",
       "      <td>NaN</td>\n",
       "      <td>NaN</td>\n",
       "      <td>NaN</td>\n",
       "    </tr>\n",
       "    <tr>\n",
       "      <th>8</th>\n",
       "      <td>1996-08-11 00:30</td>\n",
       "      <td>7983</td>\n",
       "      <td>134</td>\n",
       "      <td>10</td>\n",
       "      <td>AXX</td>\n",
       "      <td>2</td>\n",
       "      <td>26</td>\n",
       "      <td>-13</td>\n",
       "      <td>3.0</td>\n",
       "      <td>ALPHA</td>\n",
       "      <td>...</td>\n",
       "      <td>A</td>\n",
       "      <td>X</td>\n",
       "      <td>X</td>\n",
       "      <td>NaN</td>\n",
       "      <td>NaN</td>\n",
       "      <td>NaN</td>\n",
       "      <td>NaN</td>\n",
       "      <td>NaN</td>\n",
       "      <td>NaN</td>\n",
       "      <td>NaN</td>\n",
       "    </tr>\n",
       "    <tr>\n",
       "      <th>13</th>\n",
       "      <td>1996-08-15 00:30</td>\n",
       "      <td>7984</td>\n",
       "      <td>71</td>\n",
       "      <td>10</td>\n",
       "      <td>BXO</td>\n",
       "      <td>4</td>\n",
       "      <td>30</td>\n",
       "      <td>-23</td>\n",
       "      <td>6.0</td>\n",
       "      <td>BETA</td>\n",
       "      <td>...</td>\n",
       "      <td>B</td>\n",
       "      <td>X</td>\n",
       "      <td>O</td>\n",
       "      <td>NaN</td>\n",
       "      <td>NaN</td>\n",
       "      <td>NaN</td>\n",
       "      <td>NaN</td>\n",
       "      <td>NaN</td>\n",
       "      <td>NaN</td>\n",
       "      <td>NaN</td>\n",
       "    </tr>\n",
       "    <tr>\n",
       "      <th>16</th>\n",
       "      <td>1996-08-20 00:30</td>\n",
       "      <td>7985</td>\n",
       "      <td>42</td>\n",
       "      <td>10</td>\n",
       "      <td>AXX</td>\n",
       "      <td>2</td>\n",
       "      <td>10</td>\n",
       "      <td>14</td>\n",
       "      <td>3.0</td>\n",
       "      <td>ALPHA</td>\n",
       "      <td>...</td>\n",
       "      <td>A</td>\n",
       "      <td>X</td>\n",
       "      <td>X</td>\n",
       "      <td>NaN</td>\n",
       "      <td>NaN</td>\n",
       "      <td>NaN</td>\n",
       "      <td>NaN</td>\n",
       "      <td>NaN</td>\n",
       "      <td>NaN</td>\n",
       "      <td>NaN</td>\n",
       "    </tr>\n",
       "    <tr>\n",
       "      <th>...</th>\n",
       "      <td>...</td>\n",
       "      <td>...</td>\n",
       "      <td>...</td>\n",
       "      <td>...</td>\n",
       "      <td>...</td>\n",
       "      <td>...</td>\n",
       "      <td>...</td>\n",
       "      <td>...</td>\n",
       "      <td>...</td>\n",
       "      <td>...</td>\n",
       "      <td>...</td>\n",
       "      <td>...</td>\n",
       "      <td>...</td>\n",
       "      <td>...</td>\n",
       "      <td>...</td>\n",
       "      <td>...</td>\n",
       "      <td>...</td>\n",
       "      <td>...</td>\n",
       "      <td>...</td>\n",
       "      <td>...</td>\n",
       "      <td>...</td>\n",
       "    </tr>\n",
       "    <tr>\n",
       "      <th>33496</th>\n",
       "      <td>2018-11-16 00:30</td>\n",
       "      <td>12727</td>\n",
       "      <td>111</td>\n",
       "      <td>20</td>\n",
       "      <td>CRO</td>\n",
       "      <td>4</td>\n",
       "      <td>1</td>\n",
       "      <td>17</td>\n",
       "      <td>3.0</td>\n",
       "      <td>BETA</td>\n",
       "      <td>...</td>\n",
       "      <td>C</td>\n",
       "      <td>R</td>\n",
       "      <td>O</td>\n",
       "      <td>NaN</td>\n",
       "      <td>NaN</td>\n",
       "      <td>NaN</td>\n",
       "      <td>NaN</td>\n",
       "      <td>NaN</td>\n",
       "      <td>NaN</td>\n",
       "      <td>NaN</td>\n",
       "    </tr>\n",
       "    <tr>\n",
       "      <th>33501</th>\n",
       "      <td>2018-11-25 00:30</td>\n",
       "      <td>12728</td>\n",
       "      <td>339</td>\n",
       "      <td>20</td>\n",
       "      <td>BXO</td>\n",
       "      <td>3</td>\n",
       "      <td>6</td>\n",
       "      <td>3</td>\n",
       "      <td>4.0</td>\n",
       "      <td>BETA</td>\n",
       "      <td>...</td>\n",
       "      <td>B</td>\n",
       "      <td>X</td>\n",
       "      <td>O</td>\n",
       "      <td>NaN</td>\n",
       "      <td>NaN</td>\n",
       "      <td>NaN</td>\n",
       "      <td>NaN</td>\n",
       "      <td>NaN</td>\n",
       "      <td>NaN</td>\n",
       "      <td>NaN</td>\n",
       "    </tr>\n",
       "    <tr>\n",
       "      <th>33503</th>\n",
       "      <td>2018-12-06 00:30</td>\n",
       "      <td>12729</td>\n",
       "      <td>228</td>\n",
       "      <td>30</td>\n",
       "      <td>CRO</td>\n",
       "      <td>4</td>\n",
       "      <td>-5</td>\n",
       "      <td>38</td>\n",
       "      <td>6.0</td>\n",
       "      <td>BETA</td>\n",
       "      <td>...</td>\n",
       "      <td>C</td>\n",
       "      <td>R</td>\n",
       "      <td>O</td>\n",
       "      <td>NaN</td>\n",
       "      <td>NaN</td>\n",
       "      <td>NaN</td>\n",
       "      <td>NaN</td>\n",
       "      <td>NaN</td>\n",
       "      <td>NaN</td>\n",
       "      <td>NaN</td>\n",
       "    </tr>\n",
       "    <tr>\n",
       "      <th>33508</th>\n",
       "      <td>2018-12-12 00:30</td>\n",
       "      <td>12730</td>\n",
       "      <td>94</td>\n",
       "      <td>10</td>\n",
       "      <td>AXX</td>\n",
       "      <td>2</td>\n",
       "      <td>8</td>\n",
       "      <td>-17</td>\n",
       "      <td>1.0</td>\n",
       "      <td>ALPHA</td>\n",
       "      <td>...</td>\n",
       "      <td>A</td>\n",
       "      <td>X</td>\n",
       "      <td>X</td>\n",
       "      <td>NaN</td>\n",
       "      <td>NaN</td>\n",
       "      <td>NaN</td>\n",
       "      <td>NaN</td>\n",
       "      <td>NaN</td>\n",
       "      <td>NaN</td>\n",
       "      <td>NaN</td>\n",
       "    </tr>\n",
       "    <tr>\n",
       "      <th>33509</th>\n",
       "      <td>2018-12-15 00:30</td>\n",
       "      <td>12731</td>\n",
       "      <td>23</td>\n",
       "      <td>10</td>\n",
       "      <td>BXO</td>\n",
       "      <td>5</td>\n",
       "      <td>13</td>\n",
       "      <td>-49</td>\n",
       "      <td>2.0</td>\n",
       "      <td>BETA</td>\n",
       "      <td>...</td>\n",
       "      <td>B</td>\n",
       "      <td>X</td>\n",
       "      <td>O</td>\n",
       "      <td>NaN</td>\n",
       "      <td>NaN</td>\n",
       "      <td>NaN</td>\n",
       "      <td>NaN</td>\n",
       "      <td>NaN</td>\n",
       "      <td>NaN</td>\n",
       "      <td>NaN</td>\n",
       "    </tr>\n",
       "  </tbody>\n",
       "</table>\n",
       "<p>5270 rows × 27 columns</p>\n",
       "</div>"
      ],
      "text/plain": [
       "          AR issue_date  noaa_ar  Carrington_long  AREA McIntosh  \\\n",
       "0      1996-08-06 00:30     7981              259   220      CSO   \n",
       "3      1996-08-08 00:30     7982              165    10      BXO   \n",
       "8      1996-08-11 00:30     7983              134    10      AXX   \n",
       "13     1996-08-15 00:30     7984               71    10      BXO   \n",
       "16     1996-08-20 00:30     7985               42    10      AXX   \n",
       "...                 ...      ...              ...   ...      ...   \n",
       "33496  2018-11-16 00:30    12727              111    20      CRO   \n",
       "33501  2018-11-25 00:30    12728              339    20      BXO   \n",
       "33503  2018-12-06 00:30    12729              228    30      CRO   \n",
       "33508  2018-12-12 00:30    12730               94    10      AXX   \n",
       "33509  2018-12-15 00:30    12731               23    10      BXO   \n",
       "\n",
       "       Longitude_extent  Latitude  Longitude  No_sunspots MAGTYPE  ...  \\\n",
       "0                     8        -9         46         10.0    BETA  ...   \n",
       "3                     3        11        -22          5.0    BETA  ...   \n",
       "8                     2        26        -13          3.0   ALPHA  ...   \n",
       "13                    4        30        -23          6.0    BETA  ...   \n",
       "16                    2        10         14          3.0   ALPHA  ...   \n",
       "...                 ...       ...        ...          ...     ...  ...   \n",
       "33496                 4         1         17          3.0    BETA  ...   \n",
       "33501                 3         6          3          4.0    BETA  ...   \n",
       "33503                 4        -5         38          6.0    BETA  ...   \n",
       "33508                 2         8        -17          1.0   ALPHA  ...   \n",
       "33509                 5        13        -49          2.0    BETA  ...   \n",
       "\n",
       "      zurich1  penumbral1  compact1  pre_area  pre_mcint  pre_mag  pre_flare  \\\n",
       "0           C           S         O       NaN        NaN      NaN        NaN   \n",
       "3           B           X         O       NaN        NaN      NaN        NaN   \n",
       "8           A           X         X       NaN        NaN      NaN        NaN   \n",
       "13          B           X         O       NaN        NaN      NaN        NaN   \n",
       "16          A           X         X       NaN        NaN      NaN        NaN   \n",
       "...       ...         ...       ...       ...        ...      ...        ...   \n",
       "33496       C           R         O       NaN        NaN      NaN        NaN   \n",
       "33501       B           X         O       NaN        NaN      NaN        NaN   \n",
       "33503       C           R         O       NaN        NaN      NaN        NaN   \n",
       "33508       A           X         X       NaN        NaN      NaN        NaN   \n",
       "33509       B           X         O       NaN        NaN      NaN        NaN   \n",
       "\n",
       "      zurich2 penumbral2 compact2  \n",
       "0         NaN        NaN      NaN  \n",
       "3         NaN        NaN      NaN  \n",
       "8         NaN        NaN      NaN  \n",
       "13        NaN        NaN      NaN  \n",
       "16        NaN        NaN      NaN  \n",
       "...       ...        ...      ...  \n",
       "33496     NaN        NaN      NaN  \n",
       "33501     NaN        NaN      NaN  \n",
       "33503     NaN        NaN      NaN  \n",
       "33508     NaN        NaN      NaN  \n",
       "33509     NaN        NaN      NaN  \n",
       "\n",
       "[5270 rows x 27 columns]"
      ]
     },
     "execution_count": 16,
     "metadata": {},
     "output_type": "execute_result"
    }
   ],
   "source": [
    "rows_with_NaN"
   ]
  },
  {
   "cell_type": "code",
   "execution_count": 17,
   "id": "829a732d",
   "metadata": {},
   "outputs": [
    {
     "data": {
      "text/plain": [
       "ALPHA               18.830089\n",
       "BETA                17.109237\n",
       "BETA-DELTA           1.212121\n",
       "BETA-GAMMA           1.753180\n",
       "BETA-GAMMA-DELTA     0.603622\n",
       "GAMMA                     NaN\n",
       "GAMMA-DELTA               NaN\n",
       "Name: MAGTYPE, dtype: float64"
      ]
     },
     "execution_count": 17,
     "metadata": {},
     "output_type": "execute_result"
    }
   ],
   "source": [
    "100*(rows_with_NaN[\"MAGTYPE\"].value_counts()/data[\"MAGTYPE\"].value_counts())"
   ]
  },
  {
   "cell_type": "code",
   "execution_count": 18,
   "id": "6f2cba6f",
   "metadata": {},
   "outputs": [
    {
     "data": {
      "text/plain": [
       "BETA                19206\n",
       "ALPHA               10223\n",
       "BETA-GAMMA           2909\n",
       "BETA-GAMMA-DELTA      994\n",
       "BETA-DELTA            165\n",
       "GAMMA-DELTA            10\n",
       "GAMMA                   4\n",
       "Name: MAGTYPE, dtype: int64"
      ]
     },
     "execution_count": 18,
     "metadata": {},
     "output_type": "execute_result"
    }
   ],
   "source": [
    "data[\"MAGTYPE\"].value_counts()"
   ]
  },
  {
   "cell_type": "code",
   "execution_count": 19,
   "id": "46bca46a",
   "metadata": {},
   "outputs": [
    {
     "data": {
      "text/plain": [
       "(array([1.92522244e-06, 0.00000000e+00, 3.85044487e-05, 1.93869899e-03,\n",
       "        2.05363477e-02, 1.11893928e-02, 2.34607606e-02, 7.05594023e-03,\n",
       "        2.92633810e-04, 1.92522244e-06]),\n",
       " array([-89. , -73.5, -58. , -42.5, -27. , -11.5,   4. ,  19.5,  35. ,\n",
       "         50.5,  66. ]),\n",
       " <BarContainer object of 10 artists>)"
      ]
     },
     "execution_count": 19,
     "metadata": {},
     "output_type": "execute_result"
    },
    {
     "data": {
      "image/png": "[encoded data removed]",
      "text/plain": [
       "<Figure size 432x288 with 1 Axes>"
      ]
     },
     "metadata": {
      "needs_background": "light"
     },
     "output_type": "display_data"
    }
   ],
   "source": [
    "plt.hist(rows_with_NaN[\"Latitude\"], alpha=0.3, density=True)\n",
    "plt.hist(data[\"Latitude\"], alpha=0.3, density=True)"
   ]
  },
  {
   "cell_type": "code",
   "execution_count": 20,
   "id": "39169265",
   "metadata": {},
   "outputs": [
    {
     "data": {
      "text/plain": [
       "(array([0.00172147, 0.00495745, 0.00553341, 0.00653453, 0.00666287,\n",
       "        0.00718108, 0.00665004, 0.00598905, 0.00544678, 0.00308677]),\n",
       " array([-87. , -68.4, -49.8, -31.2, -12.6,   6. ,  24.6,  43.2,  61.8,\n",
       "         80.4,  99. ]),\n",
       " <BarContainer object of 10 artists>)"
      ]
     },
     "execution_count": 20,
     "metadata": {},
     "output_type": "execute_result"
    },
    {
     "data": {
      "image/png": "[encoded data removed]",
      "text/plain": [
       "<Figure size 432x288 with 1 Axes>"
      ]
     },
     "metadata": {
      "needs_background": "light"
     },
     "output_type": "display_data"
    }
   ],
   "source": [
    "plt.hist(rows_with_NaN[\"Longitude\"], alpha=0.3, density=True)\n",
    "plt.hist(data[\"Longitude\"], alpha=0.3, density=True)"
   ]
  },
  {
   "cell_type": "code",
   "execution_count": 21,
   "id": "2d187c65",
   "metadata": {},
   "outputs": [],
   "source": [
    "beta_gamma_nan = rows_with_NaN[rows_with_NaN[\"MAGTYPE\"].isin([\"BETA-GAMMA-DELTA\"])]\n",
    "beta_gamma_data = data[data[\"MAGTYPE\"].isin([\"BETA-GAMMA-DELTA\"])]"
   ]
  },
  {
   "cell_type": "code",
   "execution_count": 22,
   "id": "82cd91ec",
   "metadata": {},
   "outputs": [
    {
     "data": {
      "text/html": [
       "<div>\n",
       "<style scoped>\n",
       "    .dataframe tbody tr th:only-of-type {\n",
       "        vertical-align: middle;\n",
       "    }\n",
       "\n",
       "    .dataframe tbody tr th {\n",
       "        vertical-align: top;\n",
       "    }\n",
       "\n",
       "    .dataframe thead th {\n",
       "        text-align: right;\n",
       "    }\n",
       "</style>\n",
       "<table border=\"1\" class=\"dataframe\">\n",
       "  <thead>\n",
       "    <tr style=\"text-align: right;\">\n",
       "      <th></th>\n",
       "      <th>AR issue_date</th>\n",
       "      <th>noaa_ar</th>\n",
       "      <th>Carrington_long</th>\n",
       "      <th>AREA</th>\n",
       "      <th>McIntosh</th>\n",
       "      <th>Longitude_extent</th>\n",
       "      <th>Latitude</th>\n",
       "      <th>Longitude</th>\n",
       "      <th>No_sunspots</th>\n",
       "      <th>MAGTYPE</th>\n",
       "      <th>...</th>\n",
       "      <th>zurich1</th>\n",
       "      <th>penumbral1</th>\n",
       "      <th>compact1</th>\n",
       "      <th>pre_area</th>\n",
       "      <th>pre_mcint</th>\n",
       "      <th>pre_mag</th>\n",
       "      <th>pre_flare</th>\n",
       "      <th>zurich2</th>\n",
       "      <th>penumbral2</th>\n",
       "      <th>compact2</th>\n",
       "    </tr>\n",
       "  </thead>\n",
       "  <tbody>\n",
       "    <tr>\n",
       "      <th>11178</th>\n",
       "      <td>2001-08-29 00:30</td>\n",
       "      <td>9591</td>\n",
       "      <td>293</td>\n",
       "      <td>620</td>\n",
       "      <td>FKI</td>\n",
       "      <td>26</td>\n",
       "      <td>-19</td>\n",
       "      <td>6</td>\n",
       "      <td>41.0</td>\n",
       "      <td>BETA-GAMMA-DELTA</td>\n",
       "      <td>...</td>\n",
       "      <td>F</td>\n",
       "      <td>K</td>\n",
       "      <td>I</td>\n",
       "      <td>NaN</td>\n",
       "      <td>NaN</td>\n",
       "      <td>NaN</td>\n",
       "      <td>NaN</td>\n",
       "      <td>NaN</td>\n",
       "      <td>NaN</td>\n",
       "      <td>NaN</td>\n",
       "    </tr>\n",
       "    <tr>\n",
       "      <th>15064</th>\n",
       "      <td>2002-09-15 00:30</td>\n",
       "      <td>10114</td>\n",
       "      <td>288</td>\n",
       "      <td>470</td>\n",
       "      <td>DKC</td>\n",
       "      <td>9</td>\n",
       "      <td>-12</td>\n",
       "      <td>2</td>\n",
       "      <td>51.0</td>\n",
       "      <td>BETA-GAMMA-DELTA</td>\n",
       "      <td>...</td>\n",
       "      <td>D</td>\n",
       "      <td>K</td>\n",
       "      <td>C</td>\n",
       "      <td>NaN</td>\n",
       "      <td>NaN</td>\n",
       "      <td>NaN</td>\n",
       "      <td>NaN</td>\n",
       "      <td>NaN</td>\n",
       "      <td>NaN</td>\n",
       "      <td>NaN</td>\n",
       "    </tr>\n",
       "    <tr>\n",
       "      <th>22984</th>\n",
       "      <td>2011-07-28 00:30</td>\n",
       "      <td>11262</td>\n",
       "      <td>66</td>\n",
       "      <td>20</td>\n",
       "      <td>DSO</td>\n",
       "      <td>10</td>\n",
       "      <td>16</td>\n",
       "      <td>38</td>\n",
       "      <td>4.0</td>\n",
       "      <td>BETA-GAMMA-DELTA</td>\n",
       "      <td>...</td>\n",
       "      <td>D</td>\n",
       "      <td>S</td>\n",
       "      <td>O</td>\n",
       "      <td>NaN</td>\n",
       "      <td>NaN</td>\n",
       "      <td>NaN</td>\n",
       "      <td>NaN</td>\n",
       "      <td>NaN</td>\n",
       "      <td>NaN</td>\n",
       "      <td>NaN</td>\n",
       "    </tr>\n",
       "    <tr>\n",
       "      <th>24369</th>\n",
       "      <td>2012-03-22 00:30</td>\n",
       "      <td>11440</td>\n",
       "      <td>154</td>\n",
       "      <td>30</td>\n",
       "      <td>DAI</td>\n",
       "      <td>4</td>\n",
       "      <td>-26</td>\n",
       "      <td>24</td>\n",
       "      <td>5.0</td>\n",
       "      <td>BETA-GAMMA-DELTA</td>\n",
       "      <td>...</td>\n",
       "      <td>D</td>\n",
       "      <td>A</td>\n",
       "      <td>I</td>\n",
       "      <td>NaN</td>\n",
       "      <td>NaN</td>\n",
       "      <td>NaN</td>\n",
       "      <td>NaN</td>\n",
       "      <td>NaN</td>\n",
       "      <td>NaN</td>\n",
       "      <td>NaN</td>\n",
       "    </tr>\n",
       "    <tr>\n",
       "      <th>32082</th>\n",
       "      <td>2016-02-05 00:30</td>\n",
       "      <td>12494</td>\n",
       "      <td>164</td>\n",
       "      <td>150</td>\n",
       "      <td>DAI</td>\n",
       "      <td>7</td>\n",
       "      <td>-12</td>\n",
       "      <td>-9</td>\n",
       "      <td>7.0</td>\n",
       "      <td>BETA-GAMMA-DELTA</td>\n",
       "      <td>...</td>\n",
       "      <td>D</td>\n",
       "      <td>A</td>\n",
       "      <td>I</td>\n",
       "      <td>NaN</td>\n",
       "      <td>NaN</td>\n",
       "      <td>NaN</td>\n",
       "      <td>NaN</td>\n",
       "      <td>NaN</td>\n",
       "      <td>NaN</td>\n",
       "      <td>NaN</td>\n",
       "    </tr>\n",
       "    <tr>\n",
       "      <th>32525</th>\n",
       "      <td>2016-07-16 00:30</td>\n",
       "      <td>12567</td>\n",
       "      <td>166</td>\n",
       "      <td>190</td>\n",
       "      <td>DAC</td>\n",
       "      <td>6</td>\n",
       "      <td>5</td>\n",
       "      <td>-28</td>\n",
       "      <td>13.0</td>\n",
       "      <td>BETA-GAMMA-DELTA</td>\n",
       "      <td>...</td>\n",
       "      <td>D</td>\n",
       "      <td>A</td>\n",
       "      <td>C</td>\n",
       "      <td>NaN</td>\n",
       "      <td>NaN</td>\n",
       "      <td>NaN</td>\n",
       "      <td>NaN</td>\n",
       "      <td>NaN</td>\n",
       "      <td>NaN</td>\n",
       "      <td>NaN</td>\n",
       "    </tr>\n",
       "  </tbody>\n",
       "</table>\n",
       "<p>6 rows × 27 columns</p>\n",
       "</div>"
      ],
      "text/plain": [
       "          AR issue_date  noaa_ar  Carrington_long  AREA McIntosh  \\\n",
       "11178  2001-08-29 00:30     9591              293   620      FKI   \n",
       "15064  2002-09-15 00:30    10114              288   470      DKC   \n",
       "22984  2011-07-28 00:30    11262               66    20      DSO   \n",
       "24369  2012-03-22 00:30    11440              154    30      DAI   \n",
       "32082  2016-02-05 00:30    12494              164   150      DAI   \n",
       "32525  2016-07-16 00:30    12567              166   190      DAC   \n",
       "\n",
       "       Longitude_extent  Latitude  Longitude  No_sunspots           MAGTYPE  \\\n",
       "11178                26       -19          6         41.0  BETA-GAMMA-DELTA   \n",
       "15064                 9       -12          2         51.0  BETA-GAMMA-DELTA   \n",
       "22984                10        16         38          4.0  BETA-GAMMA-DELTA   \n",
       "24369                 4       -26         24          5.0  BETA-GAMMA-DELTA   \n",
       "32082                 7       -12         -9          7.0  BETA-GAMMA-DELTA   \n",
       "32525                 6         5        -28         13.0  BETA-GAMMA-DELTA   \n",
       "\n",
       "       ... zurich1  penumbral1  compact1  pre_area  pre_mcint  pre_mag  \\\n",
       "11178  ...       F           K         I       NaN        NaN      NaN   \n",
       "15064  ...       D           K         C       NaN        NaN      NaN   \n",
       "22984  ...       D           S         O       NaN        NaN      NaN   \n",
       "24369  ...       D           A         I       NaN        NaN      NaN   \n",
       "32082  ...       D           A         I       NaN        NaN      NaN   \n",
       "32525  ...       D           A         C       NaN        NaN      NaN   \n",
       "\n",
       "       pre_flare zurich2 penumbral2 compact2  \n",
       "11178        NaN     NaN        NaN      NaN  \n",
       "15064        NaN     NaN        NaN      NaN  \n",
       "22984        NaN     NaN        NaN      NaN  \n",
       "24369        NaN     NaN        NaN      NaN  \n",
       "32082        NaN     NaN        NaN      NaN  \n",
       "32525        NaN     NaN        NaN      NaN  \n",
       "\n",
       "[6 rows x 27 columns]"
      ]
     },
     "execution_count": 22,
     "metadata": {},
     "output_type": "execute_result"
    }
   ],
   "source": [
    "beta_gamma_nan"
   ]
  },
  {
   "cell_type": "code",
   "execution_count": 23,
   "id": "a2f8cbf6",
   "metadata": {},
   "outputs": [
    {
     "data": {
      "text/plain": [
       "(array([0.001543  , 0.00444384, 0.00604856, 0.00820876, 0.00827048,\n",
       "        0.00999864, 0.00907284, 0.00672748, 0.00450556, 0.00253052]),\n",
       " array([-70. , -53.7, -37.4, -21.1,  -4.8,  11.5,  27.8,  44.1,  60.4,\n",
       "         76.7,  93. ]),\n",
       " <BarContainer object of 10 artists>)"
      ]
     },
     "execution_count": 23,
     "metadata": {},
     "output_type": "execute_result"
    },
    {
     "data": {
      "image/png": "[encoded data removed]",
      "text/plain": [
       "<Figure size 432x288 with 1 Axes>"
      ]
     },
     "metadata": {
      "needs_background": "light"
     },
     "output_type": "display_data"
    }
   ],
   "source": [
    "plt.hist(beta_gamma_nan[\"Longitude\"], alpha=0.3, density=True)\n",
    "plt.hist(beta_gamma_data[\"Longitude\"], alpha=0.3, density=True)"
   ]
  },
  {
   "cell_type": "markdown",
   "id": "7e4c9cd0",
   "metadata": {},
   "source": [
    "## Look at only data that have prior data for evolutions"
   ]
  },
  {
   "cell_type": "code",
   "execution_count": 60,
   "id": "b244e827",
   "metadata": {},
   "outputs": [],
   "source": [
    "data_df = data[~row_has_NaN]\n",
    "data_df.reset_index(inplace=True, drop=True)\n",
    "\n",
    "data_df[\"binary_flare\"] = data_df[\"C+\"].map(lambda x: 1 if x>0 else 0)"
   ]
  },
  {
   "cell_type": "code",
   "execution_count": 61,
   "id": "ccb0e75e",
   "metadata": {
    "scrolled": true
   },
   "outputs": [
    {
     "data": {
      "text/html": [
       "<div>\n",
       "<style scoped>\n",
       "    .dataframe tbody tr th:only-of-type {\n",
       "        vertical-align: middle;\n",
       "    }\n",
       "\n",
       "    .dataframe tbody tr th {\n",
       "        vertical-align: top;\n",
       "    }\n",
       "\n",
       "    .dataframe thead th {\n",
       "        text-align: right;\n",
       "    }\n",
       "</style>\n",
       "<table border=\"1\" class=\"dataframe\">\n",
       "  <thead>\n",
       "    <tr style=\"text-align: right;\">\n",
       "      <th></th>\n",
       "      <th>AR issue_date</th>\n",
       "      <th>noaa_ar</th>\n",
       "      <th>Carrington_long</th>\n",
       "      <th>AREA</th>\n",
       "      <th>McIntosh</th>\n",
       "      <th>Longitude_extent</th>\n",
       "      <th>Latitude</th>\n",
       "      <th>Longitude</th>\n",
       "      <th>No_sunspots</th>\n",
       "      <th>MAGTYPE</th>\n",
       "      <th>...</th>\n",
       "      <th>penumbral1</th>\n",
       "      <th>compact1</th>\n",
       "      <th>pre_area</th>\n",
       "      <th>pre_mcint</th>\n",
       "      <th>pre_mag</th>\n",
       "      <th>pre_flare</th>\n",
       "      <th>zurich2</th>\n",
       "      <th>penumbral2</th>\n",
       "      <th>compact2</th>\n",
       "      <th>binary_flare</th>\n",
       "    </tr>\n",
       "  </thead>\n",
       "  <tbody>\n",
       "    <tr>\n",
       "      <th>0</th>\n",
       "      <td>1996-08-07 00:30</td>\n",
       "      <td>7981</td>\n",
       "      <td>260</td>\n",
       "      <td>140</td>\n",
       "      <td>CSO</td>\n",
       "      <td>7</td>\n",
       "      <td>-10</td>\n",
       "      <td>60</td>\n",
       "      <td>3.0</td>\n",
       "      <td>BETA</td>\n",
       "      <td>...</td>\n",
       "      <td>S</td>\n",
       "      <td>O</td>\n",
       "      <td>220.0</td>\n",
       "      <td>CSO</td>\n",
       "      <td>BETA</td>\n",
       "      <td>0.0</td>\n",
       "      <td>C</td>\n",
       "      <td>S</td>\n",
       "      <td>O</td>\n",
       "      <td>0</td>\n",
       "    </tr>\n",
       "    <tr>\n",
       "      <th>1</th>\n",
       "      <td>1996-08-08 00:30</td>\n",
       "      <td>7981</td>\n",
       "      <td>260</td>\n",
       "      <td>130</td>\n",
       "      <td>HSX</td>\n",
       "      <td>2</td>\n",
       "      <td>-11</td>\n",
       "      <td>73</td>\n",
       "      <td>1.0</td>\n",
       "      <td>ALPHA</td>\n",
       "      <td>...</td>\n",
       "      <td>S</td>\n",
       "      <td>X</td>\n",
       "      <td>140.0</td>\n",
       "      <td>CSO</td>\n",
       "      <td>BETA</td>\n",
       "      <td>0.0</td>\n",
       "      <td>C</td>\n",
       "      <td>S</td>\n",
       "      <td>O</td>\n",
       "      <td>0</td>\n",
       "    </tr>\n",
       "    <tr>\n",
       "      <th>2</th>\n",
       "      <td>1996-08-09 00:30</td>\n",
       "      <td>7981</td>\n",
       "      <td>263</td>\n",
       "      <td>120</td>\n",
       "      <td>HSX</td>\n",
       "      <td>2</td>\n",
       "      <td>-11</td>\n",
       "      <td>89</td>\n",
       "      <td>1.0</td>\n",
       "      <td>ALPHA</td>\n",
       "      <td>...</td>\n",
       "      <td>S</td>\n",
       "      <td>X</td>\n",
       "      <td>130.0</td>\n",
       "      <td>HSX</td>\n",
       "      <td>ALPHA</td>\n",
       "      <td>0.0</td>\n",
       "      <td>H</td>\n",
       "      <td>S</td>\n",
       "      <td>X</td>\n",
       "      <td>0</td>\n",
       "    </tr>\n",
       "    <tr>\n",
       "      <th>3</th>\n",
       "      <td>1996-08-09 00:30</td>\n",
       "      <td>7982</td>\n",
       "      <td>165</td>\n",
       "      <td>0</td>\n",
       "      <td>BXO</td>\n",
       "      <td>5</td>\n",
       "      <td>9</td>\n",
       "      <td>-9</td>\n",
       "      <td>3.0</td>\n",
       "      <td>BETA</td>\n",
       "      <td>...</td>\n",
       "      <td>X</td>\n",
       "      <td>O</td>\n",
       "      <td>10.0</td>\n",
       "      <td>BXO</td>\n",
       "      <td>BETA</td>\n",
       "      <td>0.0</td>\n",
       "      <td>B</td>\n",
       "      <td>X</td>\n",
       "      <td>O</td>\n",
       "      <td>0</td>\n",
       "    </tr>\n",
       "    <tr>\n",
       "      <th>4</th>\n",
       "      <td>1996-08-10 00:30</td>\n",
       "      <td>7982</td>\n",
       "      <td>167</td>\n",
       "      <td>20</td>\n",
       "      <td>BXO</td>\n",
       "      <td>5</td>\n",
       "      <td>10</td>\n",
       "      <td>6</td>\n",
       "      <td>10.0</td>\n",
       "      <td>BETA</td>\n",
       "      <td>...</td>\n",
       "      <td>X</td>\n",
       "      <td>O</td>\n",
       "      <td>0.0</td>\n",
       "      <td>BXO</td>\n",
       "      <td>BETA</td>\n",
       "      <td>0.0</td>\n",
       "      <td>B</td>\n",
       "      <td>X</td>\n",
       "      <td>O</td>\n",
       "      <td>0</td>\n",
       "    </tr>\n",
       "  </tbody>\n",
       "</table>\n",
       "<p>5 rows × 28 columns</p>\n",
       "</div>"
      ],
      "text/plain": [
       "      AR issue_date  noaa_ar  Carrington_long  AREA McIntosh  \\\n",
       "0  1996-08-07 00:30     7981              260   140      CSO   \n",
       "1  1996-08-08 00:30     7981              260   130      HSX   \n",
       "2  1996-08-09 00:30     7981              263   120      HSX   \n",
       "3  1996-08-09 00:30     7982              165     0      BXO   \n",
       "4  1996-08-10 00:30     7982              167    20      BXO   \n",
       "\n",
       "   Longitude_extent  Latitude  Longitude  No_sunspots MAGTYPE  ... penumbral1  \\\n",
       "0                 7       -10         60          3.0    BETA  ...          S   \n",
       "1                 2       -11         73          1.0   ALPHA  ...          S   \n",
       "2                 2       -11         89          1.0   ALPHA  ...          S   \n",
       "3                 5         9         -9          3.0    BETA  ...          X   \n",
       "4                 5        10          6         10.0    BETA  ...          X   \n",
       "\n",
       "   compact1  pre_area  pre_mcint  pre_mag  pre_flare  zurich2 penumbral2  \\\n",
       "0         O     220.0        CSO     BETA        0.0        C          S   \n",
       "1         X     140.0        CSO     BETA        0.0        C          S   \n",
       "2         X     130.0        HSX    ALPHA        0.0        H          S   \n",
       "3         O      10.0        BXO     BETA        0.0        B          X   \n",
       "4         O       0.0        BXO     BETA        0.0        B          X   \n",
       "\n",
       "  compact2 binary_flare  \n",
       "0        O            0  \n",
       "1        O            0  \n",
       "2        X            0  \n",
       "3        O            0  \n",
       "4        O            0  \n",
       "\n",
       "[5 rows x 28 columns]"
      ]
     },
     "execution_count": 61,
     "metadata": {},
     "output_type": "execute_result"
    }
   ],
   "source": [
    "data_df.head()"
   ]
  },
  {
   "cell_type": "markdown",
   "id": "e36b6cd5",
   "metadata": {},
   "source": [
    "# Flaring rates"
   ]
  },
  {
   "cell_type": "code",
   "execution_count": 26,
   "id": "402f33e5",
   "metadata": {},
   "outputs": [],
   "source": [
    "test_rates = data_df.groupby([\"McIntosh\"])[[\"C\", \"M\", \"X\"]].sum()"
   ]
  },
  {
   "cell_type": "code",
   "execution_count": 27,
   "id": "48a1d39e",
   "metadata": {},
   "outputs": [
    {
     "data": {
      "text/plain": [
       "<matplotlib.legend.Legend at 0x13d08d160>"
      ]
     },
     "execution_count": 27,
     "metadata": {},
     "output_type": "execute_result"
    },
    {
     "data": {
      "image/png": "[encoded data removed]",
      "text/plain": [
       "<Figure size 576x432 with 1 Axes>"
      ]
     },
     "metadata": {
      "needs_background": "light"
     },
     "output_type": "display_data"
    }
   ],
   "source": [
    "fig, ax = plt.subplots(figsize=(8,6))\n",
    "\n",
    "(test_rates[\"C\"]/np.sum(test_rates[\"C\"])).plot.bar(ax=ax, alpha=0.4, label=\"C flares\")\n",
    "(test_rates[\"M\"]/np.sum(test_rates[\"M\"])).plot.bar(ax=ax, color=\"tab:orange\", alpha=0.4, label=\"M flares\")\n",
    "(test_rates[\"X\"]/np.sum(test_rates[\"X\"])).plot.bar(ax=ax, color=\"tab:green\", alpha=0.4, label=\"X flares\")\n",
    "\n",
    "ax.legend()"
   ]
  },
  {
   "cell_type": "code",
   "execution_count": 28,
   "id": "b625e89b",
   "metadata": {},
   "outputs": [
    {
     "data": {
      "text/plain": [
       "<AxesSubplot:xlabel='McIntosh'>"
      ]
     },
     "execution_count": 28,
     "metadata": {},
     "output_type": "execute_result"
    },
    {
     "data": {
      "image/png": "[encoded data removed]",
      "text/plain": [
       "<Figure size 576x432 with 1 Axes>"
      ]
     },
     "metadata": {
      "needs_background": "light"
     },
     "output_type": "display_data"
    }
   ],
   "source": [
    "fig, ax = plt.subplots(figsize=(8,6 ))\n",
    "data_df.groupby([\"McIntosh\"])[\"binary_flare\"].sum().plot.bar()"
   ]
  },
  {
   "cell_type": "code",
   "execution_count": 29,
   "id": "65acce6d",
   "metadata": {},
   "outputs": [
    {
     "data": {
      "text/plain": [
       "<AxesSubplot:xlabel='compact1'>"
      ]
     },
     "execution_count": 29,
     "metadata": {},
     "output_type": "execute_result"
    },
    {
     "data": {
      "image/png": "[encoded data removed]",
      "text/plain": [
       "<Figure size 864x288 with 3 Axes>"
      ]
     },
     "metadata": {
      "needs_background": "light"
     },
     "output_type": "display_data"
    }
   ],
   "source": [
    "fig, ax = plt.subplots(1, 3, figsize=(12, 4))\n",
    "data_df.groupby([\"zurich1\"])[\"binary_flare\"].sum().plot.bar(ax=ax[0])\n",
    "data_df.groupby([\"penumbral1\"])[\"binary_flare\"].sum().plot.bar(ax=ax[1], color=\"tab:orange\")\n",
    "data_df.groupby([\"compact1\"])[\"binary_flare\"].sum().plot.bar(ax=ax[2], color=\"tab:green\")"
   ]
  },
  {
   "cell_type": "code",
   "execution_count": 30,
   "id": "7f62be4f",
   "metadata": {},
   "outputs": [
    {
     "data": {
      "text/plain": [
       "<AxesSubplot:xlabel='compact2'>"
      ]
     },
     "execution_count": 30,
     "metadata": {},
     "output_type": "execute_result"
    },
    {
     "data": {
      "image/png": "[encoded data removed]",
      "text/plain": [
       "<Figure size 864x288 with 3 Axes>"
      ]
     },
     "metadata": {
      "needs_background": "light"
     },
     "output_type": "display_data"
    }
   ],
   "source": [
    "fig, ax = plt.subplots(1, 3, figsize=(12, 4))\n",
    "data_df.groupby([\"zurich2\"])[\"binary_flare\"].sum().plot.bar(ax=ax[0])\n",
    "data_df.groupby([\"penumbral2\"])[\"binary_flare\"].sum().plot.bar(ax=ax[1], color=\"tab:orange\")\n",
    "data_df.groupby([\"compact2\"])[\"binary_flare\"].sum().plot.bar(ax=ax[2], color=\"tab:green\")"
   ]
  },
  {
   "cell_type": "code",
   "execution_count": 31,
   "id": "7ec6764b",
   "metadata": {},
   "outputs": [],
   "source": [
    "data_df[\"mcint_evol\"] = data_df[\"McIntosh\"] + data_df[\"pre_mcint\"]"
   ]
  },
  {
   "cell_type": "code",
   "execution_count": 32,
   "id": "0285acdf",
   "metadata": {},
   "outputs": [
    {
     "name": "stdout",
     "output_type": "stream",
     "text": [
      "63\n",
      "62\n",
      "1279\n"
     ]
    }
   ],
   "source": [
    "print(len(data_df[\"McIntosh\"].unique()))\n",
    "print(len(data_df[\"pre_mcint\"].unique()))\n",
    "print(len(data_df[\"mcint_evol\"].unique()))"
   ]
  },
  {
   "cell_type": "code",
   "execution_count": 33,
   "id": "1a3d7c60",
   "metadata": {},
   "outputs": [
    {
     "data": {
      "text/plain": [
       "<AxesSubplot:xlabel='mcint_evol'>"
      ]
     },
     "execution_count": 33,
     "metadata": {},
     "output_type": "execute_result"
    },
    {
     "data": {
      "image/png": "[encoded data removed]",
      "text/plain": [
       "<Figure size 432x288 with 1 Axes>"
      ]
     },
     "metadata": {
      "needs_background": "light"
     },
     "output_type": "display_data"
    }
   ],
   "source": [
    "data_df.groupby([\"mcint_evol\"])[\"binary_flare\"].sum().sort_values(ascending=False).head(20).plot.bar()"
   ]
  },
  {
   "cell_type": "code",
   "execution_count": 34,
   "id": "8467cdb4",
   "metadata": {},
   "outputs": [
    {
     "data": {
      "text/plain": [
       "<AxesSubplot:xlabel='McIntosh'>"
      ]
     },
     "execution_count": 34,
     "metadata": {},
     "output_type": "execute_result"
    },
    {
     "data": {
      "image/png": "[encoded data removed]",
      "text/plain": [
       "<Figure size 432x288 with 1 Axes>"
      ]
     },
     "metadata": {
      "needs_background": "light"
     },
     "output_type": "display_data"
    }
   ],
   "source": [
    "data_df.groupby([\"McIntosh\"])[\"binary_flare\"].sum().sort_values(ascending=False).head(20).plot.bar()"
   ]
  },
  {
   "cell_type": "code",
   "execution_count": 38,
   "id": "e235730d",
   "metadata": {},
   "outputs": [],
   "source": [
    "test_rates = data_df.groupby([\"MAGTYPE\"])[[\"C\", \"M\", \"X\"]].sum()"
   ]
  },
  {
   "cell_type": "code",
   "execution_count": 45,
   "id": "f12942a8",
   "metadata": {},
   "outputs": [
    {
     "data": {
      "text/plain": [
       "<AxesSubplot:xlabel='MAGTYPE'>"
      ]
     },
     "execution_count": 45,
     "metadata": {},
     "output_type": "execute_result"
    },
    {
     "data": {
      "image/png": "[encoded data removed]",
      "text/plain": [
       "<Figure size 432x288 with 1 Axes>"
      ]
     },
     "metadata": {
      "needs_background": "light"
     },
     "output_type": "display_data"
    }
   ],
   "source": [
    "(test_rates[\"C\"]/np.sum(test_rates[\"C\"])).plot.bar(alpha=0.5)\n",
    "(test_rates[\"M\"]/np.sum(test_rates[\"M\"])).plot.bar(alpha=0.5, color=\"tab:orange\")\n",
    "(test_rates[\"X\"]/np.sum(test_rates[\"X\"])).plot.bar(alpha=0.5, color=\"tab:green\")"
   ]
  },
  {
   "cell_type": "markdown",
   "id": "871a3670",
   "metadata": {},
   "source": [
    "## Calculate Flaring Rates"
   ]
  },
  {
   "cell_type": "code",
   "execution_count": 62,
   "id": "0869cc27",
   "metadata": {},
   "outputs": [
    {
     "data": {
      "text/html": [
       "<div>\n",
       "<style scoped>\n",
       "    .dataframe tbody tr th:only-of-type {\n",
       "        vertical-align: middle;\n",
       "    }\n",
       "\n",
       "    .dataframe tbody tr th {\n",
       "        vertical-align: top;\n",
       "    }\n",
       "\n",
       "    .dataframe thead th {\n",
       "        text-align: right;\n",
       "    }\n",
       "</style>\n",
       "<table border=\"1\" class=\"dataframe\">\n",
       "  <thead>\n",
       "    <tr style=\"text-align: right;\">\n",
       "      <th></th>\n",
       "      <th>McIntosh</th>\n",
       "      <th>binary_flare</th>\n",
       "    </tr>\n",
       "  </thead>\n",
       "  <tbody>\n",
       "    <tr>\n",
       "      <th>0</th>\n",
       "      <td>CSO</td>\n",
       "      <td>0</td>\n",
       "    </tr>\n",
       "    <tr>\n",
       "      <th>1</th>\n",
       "      <td>HSX</td>\n",
       "      <td>0</td>\n",
       "    </tr>\n",
       "    <tr>\n",
       "      <th>2</th>\n",
       "      <td>HSX</td>\n",
       "      <td>0</td>\n",
       "    </tr>\n",
       "    <tr>\n",
       "      <th>3</th>\n",
       "      <td>BXO</td>\n",
       "      <td>0</td>\n",
       "    </tr>\n",
       "    <tr>\n",
       "      <th>4</th>\n",
       "      <td>BXO</td>\n",
       "      <td>0</td>\n",
       "    </tr>\n",
       "    <tr>\n",
       "      <th>...</th>\n",
       "      <td>...</td>\n",
       "      <td>...</td>\n",
       "    </tr>\n",
       "    <tr>\n",
       "      <th>28236</th>\n",
       "      <td>CRO</td>\n",
       "      <td>0</td>\n",
       "    </tr>\n",
       "    <tr>\n",
       "      <th>28237</th>\n",
       "      <td>BXO</td>\n",
       "      <td>0</td>\n",
       "    </tr>\n",
       "    <tr>\n",
       "      <th>28238</th>\n",
       "      <td>BXO</td>\n",
       "      <td>0</td>\n",
       "    </tr>\n",
       "    <tr>\n",
       "      <th>28239</th>\n",
       "      <td>BXO</td>\n",
       "      <td>0</td>\n",
       "    </tr>\n",
       "    <tr>\n",
       "      <th>28240</th>\n",
       "      <td>AXX</td>\n",
       "      <td>0</td>\n",
       "    </tr>\n",
       "  </tbody>\n",
       "</table>\n",
       "<p>28241 rows × 2 columns</p>\n",
       "</div>"
      ],
      "text/plain": [
       "      McIntosh  binary_flare\n",
       "0          CSO             0\n",
       "1          HSX             0\n",
       "2          HSX             0\n",
       "3          BXO             0\n",
       "4          BXO             0\n",
       "...        ...           ...\n",
       "28236      CRO             0\n",
       "28237      BXO             0\n",
       "28238      BXO             0\n",
       "28239      BXO             0\n",
       "28240      AXX             0\n",
       "\n",
       "[28241 rows x 2 columns]"
      ]
     },
     "execution_count": 62,
     "metadata": {},
     "output_type": "execute_result"
    }
   ],
   "source": [
    "data_df[[\"McIntosh\", \"binary_flare\"]]"
   ]
  },
  {
   "cell_type": "code",
   "execution_count": 63,
   "id": "c178bcee",
   "metadata": {},
   "outputs": [
    {
     "data": {
      "text/plain": [
       "HSX    3942\n",
       "CSO    2783\n",
       "BXO    2632\n",
       "DAO    2541\n",
       "AXX    2436\n",
       "       ... \n",
       "ERI       1\n",
       "CKC       1\n",
       "FRO       1\n",
       "HSO       1\n",
       "HXX       1\n",
       "Name: McIntosh, Length: 63, dtype: int64"
      ]
     },
     "execution_count": 63,
     "metadata": {},
     "output_type": "execute_result"
    }
   ],
   "source": [
    "data_df[\"McIntosh\"].value_counts()"
   ]
  },
  {
   "cell_type": "code",
   "execution_count": 79,
   "id": "3dc8352e",
   "metadata": {},
   "outputs": [
    {
     "data": {
      "text/plain": [
       "<AxesSubplot:xlabel='McIntosh'>"
      ]
     },
     "execution_count": 79,
     "metadata": {},
     "output_type": "execute_result"
    },
    {
     "data": {
      "image/png": "[encoded data removed]",
      "text/plain": [
       "<Figure size 720x576 with 1 Axes>"
      ]
     },
     "metadata": {
      "needs_background": "light"
     },
     "output_type": "display_data"
    }
   ],
   "source": [
    "fig, ax = plt.subplots(figsize=(10,8))\n",
    "(data_df.groupby([\"McIntosh\"])[\"C\"].sum()).sort_values().plot.bar()"
   ]
  },
  {
   "cell_type": "code",
   "execution_count": 105,
   "id": "022b1297",
   "metadata": {},
   "outputs": [],
   "source": [
    "flare_rates = data.groupby([\"McIntosh\"])[[\"C\", \"M\", \"X\"]].sum().reset_index()"
   ]
  },
  {
   "cell_type": "code",
   "execution_count": 106,
   "id": "cfd8bd0d",
   "metadata": {},
   "outputs": [],
   "source": [
    "total_per_group = data.groupby([\"McIntosh\"])[\"C\"].count().reset_index().rename(columns={\"C\":\"N\"})"
   ]
  },
  {
   "cell_type": "code",
   "execution_count": 107,
   "id": "d85eb4ed",
   "metadata": {},
   "outputs": [],
   "source": [
    "flare_rates[\"N\"] = total_per_group[\"N\"]"
   ]
  },
  {
   "cell_type": "code",
   "execution_count": 119,
   "id": "a7419b06",
   "metadata": {},
   "outputs": [
    {
     "data": {
      "text/plain": [
       "<AxesSubplot:xlabel='McIntosh'>"
      ]
     },
     "execution_count": 119,
     "metadata": {},
     "output_type": "execute_result"
    },
    {
     "data": {
      "image/png": "[encoded data removed]",
      "text/plain": [
       "<Figure size 432x288 with 1 Axes>"
      ]
     },
     "metadata": {
      "needs_background": "light"
     },
     "output_type": "display_data"
    }
   ],
   "source": [
    "flare_rates.set_index(\"McIntosh\")[[\"C\", \"M\", \"X\"]].plot.bar()"
   ]
  },
  {
   "cell_type": "code",
   "execution_count": 132,
   "id": "3c974c55",
   "metadata": {},
   "outputs": [
    {
     "data": {
      "text/html": [
       "<div>\n",
       "<style scoped>\n",
       "    .dataframe tbody tr th:only-of-type {\n",
       "        vertical-align: middle;\n",
       "    }\n",
       "\n",
       "    .dataframe tbody tr th {\n",
       "        vertical-align: top;\n",
       "    }\n",
       "\n",
       "    .dataframe thead th {\n",
       "        text-align: right;\n",
       "    }\n",
       "</style>\n",
       "<table border=\"1\" class=\"dataframe\">\n",
       "  <thead>\n",
       "    <tr style=\"text-align: right;\">\n",
       "      <th></th>\n",
       "      <th>C</th>\n",
       "      <th>M</th>\n",
       "      <th>X</th>\n",
       "    </tr>\n",
       "    <tr>\n",
       "      <th>McIntosh</th>\n",
       "      <th></th>\n",
       "      <th></th>\n",
       "      <th></th>\n",
       "    </tr>\n",
       "  </thead>\n",
       "  <tbody>\n",
       "    <tr>\n",
       "      <th>AXX</th>\n",
       "      <td>0.049091</td>\n",
       "      <td>0.002727</td>\n",
       "      <td>0.000000</td>\n",
       "    </tr>\n",
       "    <tr>\n",
       "      <th>BXI</th>\n",
       "      <td>0.368421</td>\n",
       "      <td>0.000000</td>\n",
       "      <td>0.000000</td>\n",
       "    </tr>\n",
       "    <tr>\n",
       "      <th>BXO</th>\n",
       "      <td>0.094636</td>\n",
       "      <td>0.004302</td>\n",
       "      <td>0.000000</td>\n",
       "    </tr>\n",
       "    <tr>\n",
       "      <th>CAI</th>\n",
       "      <td>0.803571</td>\n",
       "      <td>0.044643</td>\n",
       "      <td>0.000000</td>\n",
       "    </tr>\n",
       "    <tr>\n",
       "      <th>CAO</th>\n",
       "      <td>0.253089</td>\n",
       "      <td>0.024221</td>\n",
       "      <td>0.000000</td>\n",
       "    </tr>\n",
       "    <tr>\n",
       "      <th>...</th>\n",
       "      <td>...</td>\n",
       "      <td>...</td>\n",
       "      <td>...</td>\n",
       "    </tr>\n",
       "    <tr>\n",
       "      <th>HKX</th>\n",
       "      <td>0.299270</td>\n",
       "      <td>0.007299</td>\n",
       "      <td>0.021898</td>\n",
       "    </tr>\n",
       "    <tr>\n",
       "      <th>HRX</th>\n",
       "      <td>0.108815</td>\n",
       "      <td>0.002755</td>\n",
       "      <td>0.000000</td>\n",
       "    </tr>\n",
       "    <tr>\n",
       "      <th>HSO</th>\n",
       "      <td>0.000000</td>\n",
       "      <td>0.000000</td>\n",
       "      <td>0.000000</td>\n",
       "    </tr>\n",
       "    <tr>\n",
       "      <th>HSX</th>\n",
       "      <td>0.083844</td>\n",
       "      <td>0.008100</td>\n",
       "      <td>0.000219</td>\n",
       "    </tr>\n",
       "    <tr>\n",
       "      <th>HXX</th>\n",
       "      <td>0.000000</td>\n",
       "      <td>0.000000</td>\n",
       "      <td>0.000000</td>\n",
       "    </tr>\n",
       "  </tbody>\n",
       "</table>\n",
       "<p>63 rows × 3 columns</p>\n",
       "</div>"
      ],
      "text/plain": [
       "                 C         M         X\n",
       "McIntosh                              \n",
       "AXX       0.049091  0.002727  0.000000\n",
       "BXI       0.368421  0.000000  0.000000\n",
       "BXO       0.094636  0.004302  0.000000\n",
       "CAI       0.803571  0.044643  0.000000\n",
       "CAO       0.253089  0.024221  0.000000\n",
       "...            ...       ...       ...\n",
       "HKX       0.299270  0.007299  0.021898\n",
       "HRX       0.108815  0.002755  0.000000\n",
       "HSO       0.000000  0.000000  0.000000\n",
       "HSX       0.083844  0.008100  0.000219\n",
       "HXX       0.000000  0.000000  0.000000\n",
       "\n",
       "[63 rows x 3 columns]"
      ]
     },
     "execution_count": 132,
     "metadata": {},
     "output_type": "execute_result"
    }
   ],
   "source": [
    "flare_rates.set_index(\"McIntosh\")[[\"C\", \"M\", \"X\"]].div(flare_rates[\"N\"].values, axis=0)"
   ]
  },
  {
   "cell_type": "code",
   "execution_count": 137,
   "id": "8a6a272b",
   "metadata": {},
   "outputs": [
    {
     "data": {
      "text/html": [
       "<div>\n",
       "<style scoped>\n",
       "    .dataframe tbody tr th:only-of-type {\n",
       "        vertical-align: middle;\n",
       "    }\n",
       "\n",
       "    .dataframe tbody tr th {\n",
       "        vertical-align: top;\n",
       "    }\n",
       "\n",
       "    .dataframe thead th {\n",
       "        text-align: right;\n",
       "    }\n",
       "</style>\n",
       "<table border=\"1\" class=\"dataframe\">\n",
       "  <thead>\n",
       "    <tr style=\"text-align: right;\">\n",
       "      <th></th>\n",
       "      <th>C</th>\n",
       "      <th>M</th>\n",
       "      <th>X</th>\n",
       "      <th>N</th>\n",
       "    </tr>\n",
       "    <tr>\n",
       "      <th>McIntosh</th>\n",
       "      <th></th>\n",
       "      <th></th>\n",
       "      <th></th>\n",
       "      <th></th>\n",
       "    </tr>\n",
       "  </thead>\n",
       "  <tbody>\n",
       "    <tr>\n",
       "      <th>AXX</th>\n",
       "      <td>162.0</td>\n",
       "      <td>9.0</td>\n",
       "      <td>0.0</td>\n",
       "      <td>3300</td>\n",
       "    </tr>\n",
       "    <tr>\n",
       "      <th>BXI</th>\n",
       "      <td>7.0</td>\n",
       "      <td>0.0</td>\n",
       "      <td>0.0</td>\n",
       "      <td>19</td>\n",
       "    </tr>\n",
       "    <tr>\n",
       "      <th>BXO</th>\n",
       "      <td>374.0</td>\n",
       "      <td>17.0</td>\n",
       "      <td>0.0</td>\n",
       "      <td>3952</td>\n",
       "    </tr>\n",
       "    <tr>\n",
       "      <th>CAI</th>\n",
       "      <td>90.0</td>\n",
       "      <td>5.0</td>\n",
       "      <td>0.0</td>\n",
       "      <td>112</td>\n",
       "    </tr>\n",
       "    <tr>\n",
       "      <th>CAO</th>\n",
       "      <td>512.0</td>\n",
       "      <td>49.0</td>\n",
       "      <td>0.0</td>\n",
       "      <td>2023</td>\n",
       "    </tr>\n",
       "    <tr>\n",
       "      <th>...</th>\n",
       "      <td>...</td>\n",
       "      <td>...</td>\n",
       "      <td>...</td>\n",
       "      <td>...</td>\n",
       "    </tr>\n",
       "    <tr>\n",
       "      <th>HKX</th>\n",
       "      <td>41.0</td>\n",
       "      <td>1.0</td>\n",
       "      <td>3.0</td>\n",
       "      <td>137</td>\n",
       "    </tr>\n",
       "    <tr>\n",
       "      <th>HRX</th>\n",
       "      <td>79.0</td>\n",
       "      <td>2.0</td>\n",
       "      <td>0.0</td>\n",
       "      <td>726</td>\n",
       "    </tr>\n",
       "    <tr>\n",
       "      <th>HSO</th>\n",
       "      <td>0.0</td>\n",
       "      <td>0.0</td>\n",
       "      <td>0.0</td>\n",
       "      <td>1</td>\n",
       "    </tr>\n",
       "    <tr>\n",
       "      <th>HSX</th>\n",
       "      <td>383.0</td>\n",
       "      <td>37.0</td>\n",
       "      <td>1.0</td>\n",
       "      <td>4568</td>\n",
       "    </tr>\n",
       "    <tr>\n",
       "      <th>HXX</th>\n",
       "      <td>0.0</td>\n",
       "      <td>0.0</td>\n",
       "      <td>0.0</td>\n",
       "      <td>1</td>\n",
       "    </tr>\n",
       "  </tbody>\n",
       "</table>\n",
       "<p>63 rows × 4 columns</p>\n",
       "</div>"
      ],
      "text/plain": [
       "              C     M    X     N\n",
       "McIntosh                        \n",
       "AXX       162.0   9.0  0.0  3300\n",
       "BXI         7.0   0.0  0.0    19\n",
       "BXO       374.0  17.0  0.0  3952\n",
       "CAI        90.0   5.0  0.0   112\n",
       "CAO       512.0  49.0  0.0  2023\n",
       "...         ...   ...  ...   ...\n",
       "HKX        41.0   1.0  3.0   137\n",
       "HRX        79.0   2.0  0.0   726\n",
       "HSO         0.0   0.0  0.0     1\n",
       "HSX       383.0  37.0  1.0  4568\n",
       "HXX         0.0   0.0  0.0     1\n",
       "\n",
       "[63 rows x 4 columns]"
      ]
     },
     "execution_count": 137,
     "metadata": {},
     "output_type": "execute_result"
    }
   ],
   "source": [
    "flare_rates.set_index(\"McIntosh\")[[\"C\", \"M\", \"X\", \"N\"]]"
   ]
  },
  {
   "cell_type": "code",
   "execution_count": null,
   "id": "ac70051a",
   "metadata": {},
   "outputs": [],
   "source": []
  }
 ],
 "metadata": {
  "kernelspec": {
   "display_name": "Python 3",
   "language": "python",
   "name": "python3"
  },
  "language_info": {
   "codemirror_mode": {
    "name": "ipython",
    "version": 3
   },
   "file_extension": ".py",
   "mimetype": "text/x-python",
   "name": "python",
   "nbconvert_exporter": "python",
   "pygments_lexer": "ipython3",
   "version": "3.9.4"
  }
 },
 "nbformat": 4,
 "nbformat_minor": 5
}
