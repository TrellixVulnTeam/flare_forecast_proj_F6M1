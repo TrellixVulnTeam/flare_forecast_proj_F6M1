{
 "cells": [
  {
   "cell_type": "code",
   "execution_count": 131,
   "id": "b8884547",
   "metadata": {},
   "outputs": [],
   "source": [
    "import pandas as pd \n",
    "import matplotlib.pyplot as plt \n",
    "import numpy as np \n",
    "import datetime\n",
    "from sklearn.model_selection import train_test_split, cross_val_score\n",
    "from sklearn.metrics import mean_squared_error\n",
    "from sklearn.ensemble import RandomForestClassifier, GradientBoostingClassifier\n",
    "from sklearn.tree import DecisionTreeClassifier"
   ]
  },
  {
   "cell_type": "markdown",
   "id": "c26557c7",
   "metadata": {},
   "source": [
    "## Read in flarelist"
   ]
  },
  {
   "cell_type": "code",
   "execution_count": 132,
   "id": "34c30f71",
   "metadata": {},
   "outputs": [],
   "source": [
    "## read in flarelist\n",
    "flare_list = pd.read_csv(\"/Users/laurahayes/ml_project_flares/flare_analysis/goes_flare_list/final_flare_list.csv\")\n",
    "# create a column \"matchtime\" which will be used to merge with the AR data\n",
    "flare_list[\"matchtime\"] = pd.to_datetime(flare_list[\"event_starttime\"], format=\"%Y-%m-%d %H:%M:%S\").dt.strftime(\"%Y-%m-%d 00:30\")\n",
    "\n",
    "# tidying up some other columns (i.e. make AR num a string, and sort out dates of start, peak and end of flare)\n",
    "flare_list[\"noaa_ar\"] = flare_list[\"noaa_ar\"].astype(str)\n"
   ]
  },
  {
   "cell_type": "code",
   "execution_count": 133,
   "id": "29ec42a4",
   "metadata": {},
   "outputs": [],
   "source": [
    "test_df = flare_list[(flare_list[\"event_starttime\"]>=\"2016-01-01\")&(flare_list[\"event_starttime\"]<=\"2017-12-31\")]"
   ]
  },
  {
   "cell_type": "code",
   "execution_count": 134,
   "id": "6e9f8507",
   "metadata": {},
   "outputs": [
    {
     "data": {
      "text/plain": [
       "188"
      ]
     },
     "execution_count": 134,
     "metadata": {},
     "output_type": "execute_result"
    }
   ],
   "source": [
    "len(test_df[\"matchtime\"].unique())"
   ]
  },
  {
   "cell_type": "code",
   "execution_count": 135,
   "id": "cef97adb",
   "metadata": {},
   "outputs": [
    {
     "data": {
      "text/plain": [
       "176"
      ]
     },
     "execution_count": 135,
     "metadata": {},
     "output_type": "execute_result"
    }
   ],
   "source": [
    "len(test_df[test_df[\"noaa_ar\"]!=\"     \"][\"matchtime\"].unique())"
   ]
  },
  {
   "cell_type": "code",
   "execution_count": 136,
   "id": "fc6e6791",
   "metadata": {},
   "outputs": [
    {
     "data": {
      "text/plain": [
       "26"
      ]
     },
     "execution_count": 136,
     "metadata": {},
     "output_type": "execute_result"
    }
   ],
   "source": [
    "len(test_df[test_df[\"goes_class_ind\"].isin([\"M\", \"X\"])][\"matchtime\"].unique())"
   ]
  },
  {
   "cell_type": "code",
   "execution_count": 137,
   "id": "cbd3cbcf",
   "metadata": {},
   "outputs": [],
   "source": [
    "flare_list2 = flare_list[[\"matchtime\", \"noaa_ar\", \"goes_class_ind\"]]\n",
    "flare_list2 = flare_list2[flare_list2[\"noaa_ar\"] != \"     \"]\n",
    "flare_list2.reset_index(inplace=True, drop=True)"
   ]
  },
  {
   "cell_type": "code",
   "execution_count": 138,
   "id": "ce4a6902",
   "metadata": {},
   "outputs": [
    {
     "data": {
      "text/html": [
       "<div>\n",
       "<style scoped>\n",
       "    .dataframe tbody tr th:only-of-type {\n",
       "        vertical-align: middle;\n",
       "    }\n",
       "\n",
       "    .dataframe tbody tr th {\n",
       "        vertical-align: top;\n",
       "    }\n",
       "\n",
       "    .dataframe thead th {\n",
       "        text-align: right;\n",
       "    }\n",
       "</style>\n",
       "<table border=\"1\" class=\"dataframe\">\n",
       "  <thead>\n",
       "    <tr style=\"text-align: right;\">\n",
       "      <th></th>\n",
       "      <th>matchtime</th>\n",
       "      <th>noaa_ar</th>\n",
       "      <th>goes_class_ind</th>\n",
       "    </tr>\n",
       "  </thead>\n",
       "  <tbody>\n",
       "    <tr>\n",
       "      <th>0</th>\n",
       "      <td>2010-01-02 00:30</td>\n",
       "      <td>11039</td>\n",
       "      <td>C</td>\n",
       "    </tr>\n",
       "    <tr>\n",
       "      <th>1</th>\n",
       "      <td>2010-01-02 00:30</td>\n",
       "      <td>11039</td>\n",
       "      <td>C</td>\n",
       "    </tr>\n",
       "    <tr>\n",
       "      <th>2</th>\n",
       "      <td>2010-01-03 00:30</td>\n",
       "      <td>11039</td>\n",
       "      <td>C</td>\n",
       "    </tr>\n",
       "    <tr>\n",
       "      <th>3</th>\n",
       "      <td>2010-01-04 00:30</td>\n",
       "      <td>11039</td>\n",
       "      <td>C</td>\n",
       "    </tr>\n",
       "    <tr>\n",
       "      <th>4</th>\n",
       "      <td>2010-01-09 00:30</td>\n",
       "      <td>11040</td>\n",
       "      <td>C</td>\n",
       "    </tr>\n",
       "    <tr>\n",
       "      <th>...</th>\n",
       "      <td>...</td>\n",
       "      <td>...</td>\n",
       "      <td>...</td>\n",
       "    </tr>\n",
       "    <tr>\n",
       "      <th>7664</th>\n",
       "      <td>2018-03-30 00:30</td>\n",
       "      <td>12703</td>\n",
       "      <td>C</td>\n",
       "    </tr>\n",
       "    <tr>\n",
       "      <th>7665</th>\n",
       "      <td>2018-05-23 00:30</td>\n",
       "      <td>12712</td>\n",
       "      <td>C</td>\n",
       "    </tr>\n",
       "    <tr>\n",
       "      <th>7666</th>\n",
       "      <td>2018-05-28 00:30</td>\n",
       "      <td>12712</td>\n",
       "      <td>C</td>\n",
       "    </tr>\n",
       "    <tr>\n",
       "      <th>7667</th>\n",
       "      <td>2018-06-06 00:30</td>\n",
       "      <td>12712</td>\n",
       "      <td>C</td>\n",
       "    </tr>\n",
       "    <tr>\n",
       "      <th>7668</th>\n",
       "      <td>2018-06-21 00:30</td>\n",
       "      <td>12715</td>\n",
       "      <td>C</td>\n",
       "    </tr>\n",
       "  </tbody>\n",
       "</table>\n",
       "<p>7669 rows × 3 columns</p>\n",
       "</div>"
      ],
      "text/plain": [
       "             matchtime noaa_ar goes_class_ind\n",
       "0     2010-01-02 00:30   11039              C\n",
       "1     2010-01-02 00:30   11039              C\n",
       "2     2010-01-03 00:30   11039              C\n",
       "3     2010-01-04 00:30   11039              C\n",
       "4     2010-01-09 00:30   11040              C\n",
       "...                ...     ...            ...\n",
       "7664  2018-03-30 00:30   12703              C\n",
       "7665  2018-05-23 00:30   12712              C\n",
       "7666  2018-05-28 00:30   12712              C\n",
       "7667  2018-06-06 00:30   12712              C\n",
       "7668  2018-06-21 00:30   12715              C\n",
       "\n",
       "[7669 rows x 3 columns]"
      ]
     },
     "execution_count": 138,
     "metadata": {},
     "output_type": "execute_result"
    }
   ],
   "source": [
    "flare_list2"
   ]
  },
  {
   "cell_type": "code",
   "execution_count": 139,
   "id": "12b90a4d",
   "metadata": {},
   "outputs": [],
   "source": [
    "flare_inds = pd.get_dummies(flare_list2[\"goes_class_ind\"])\n",
    "flare_list2 = flare_list2.merge(flare_inds, left_index=True, right_index=True)#.drop(columns=\"goes_class_ind\")"
   ]
  },
  {
   "cell_type": "code",
   "execution_count": 140,
   "id": "2554eb40",
   "metadata": {},
   "outputs": [
    {
     "data": {
      "text/html": [
       "<div>\n",
       "<style scoped>\n",
       "    .dataframe tbody tr th:only-of-type {\n",
       "        vertical-align: middle;\n",
       "    }\n",
       "\n",
       "    .dataframe tbody tr th {\n",
       "        vertical-align: top;\n",
       "    }\n",
       "\n",
       "    .dataframe thead th {\n",
       "        text-align: right;\n",
       "    }\n",
       "</style>\n",
       "<table border=\"1\" class=\"dataframe\">\n",
       "  <thead>\n",
       "    <tr style=\"text-align: right;\">\n",
       "      <th></th>\n",
       "      <th>matchtime</th>\n",
       "      <th>noaa_ar</th>\n",
       "      <th>goes_class_ind</th>\n",
       "      <th>C</th>\n",
       "      <th>M</th>\n",
       "      <th>X</th>\n",
       "    </tr>\n",
       "  </thead>\n",
       "  <tbody>\n",
       "    <tr>\n",
       "      <th>0</th>\n",
       "      <td>2010-01-02 00:30</td>\n",
       "      <td>11039</td>\n",
       "      <td>C</td>\n",
       "      <td>1</td>\n",
       "      <td>0</td>\n",
       "      <td>0</td>\n",
       "    </tr>\n",
       "    <tr>\n",
       "      <th>1</th>\n",
       "      <td>2010-01-02 00:30</td>\n",
       "      <td>11039</td>\n",
       "      <td>C</td>\n",
       "      <td>1</td>\n",
       "      <td>0</td>\n",
       "      <td>0</td>\n",
       "    </tr>\n",
       "    <tr>\n",
       "      <th>2</th>\n",
       "      <td>2010-01-03 00:30</td>\n",
       "      <td>11039</td>\n",
       "      <td>C</td>\n",
       "      <td>1</td>\n",
       "      <td>0</td>\n",
       "      <td>0</td>\n",
       "    </tr>\n",
       "    <tr>\n",
       "      <th>3</th>\n",
       "      <td>2010-01-04 00:30</td>\n",
       "      <td>11039</td>\n",
       "      <td>C</td>\n",
       "      <td>1</td>\n",
       "      <td>0</td>\n",
       "      <td>0</td>\n",
       "    </tr>\n",
       "    <tr>\n",
       "      <th>4</th>\n",
       "      <td>2010-01-09 00:30</td>\n",
       "      <td>11040</td>\n",
       "      <td>C</td>\n",
       "      <td>1</td>\n",
       "      <td>0</td>\n",
       "      <td>0</td>\n",
       "    </tr>\n",
       "    <tr>\n",
       "      <th>...</th>\n",
       "      <td>...</td>\n",
       "      <td>...</td>\n",
       "      <td>...</td>\n",
       "      <td>...</td>\n",
       "      <td>...</td>\n",
       "      <td>...</td>\n",
       "    </tr>\n",
       "    <tr>\n",
       "      <th>7664</th>\n",
       "      <td>2018-03-30 00:30</td>\n",
       "      <td>12703</td>\n",
       "      <td>C</td>\n",
       "      <td>1</td>\n",
       "      <td>0</td>\n",
       "      <td>0</td>\n",
       "    </tr>\n",
       "    <tr>\n",
       "      <th>7665</th>\n",
       "      <td>2018-05-23 00:30</td>\n",
       "      <td>12712</td>\n",
       "      <td>C</td>\n",
       "      <td>1</td>\n",
       "      <td>0</td>\n",
       "      <td>0</td>\n",
       "    </tr>\n",
       "    <tr>\n",
       "      <th>7666</th>\n",
       "      <td>2018-05-28 00:30</td>\n",
       "      <td>12712</td>\n",
       "      <td>C</td>\n",
       "      <td>1</td>\n",
       "      <td>0</td>\n",
       "      <td>0</td>\n",
       "    </tr>\n",
       "    <tr>\n",
       "      <th>7667</th>\n",
       "      <td>2018-06-06 00:30</td>\n",
       "      <td>12712</td>\n",
       "      <td>C</td>\n",
       "      <td>1</td>\n",
       "      <td>0</td>\n",
       "      <td>0</td>\n",
       "    </tr>\n",
       "    <tr>\n",
       "      <th>7668</th>\n",
       "      <td>2018-06-21 00:30</td>\n",
       "      <td>12715</td>\n",
       "      <td>C</td>\n",
       "      <td>1</td>\n",
       "      <td>0</td>\n",
       "      <td>0</td>\n",
       "    </tr>\n",
       "  </tbody>\n",
       "</table>\n",
       "<p>7669 rows × 6 columns</p>\n",
       "</div>"
      ],
      "text/plain": [
       "             matchtime noaa_ar goes_class_ind  C  M  X\n",
       "0     2010-01-02 00:30   11039              C  1  0  0\n",
       "1     2010-01-02 00:30   11039              C  1  0  0\n",
       "2     2010-01-03 00:30   11039              C  1  0  0\n",
       "3     2010-01-04 00:30   11039              C  1  0  0\n",
       "4     2010-01-09 00:30   11040              C  1  0  0\n",
       "...                ...     ...            ... .. .. ..\n",
       "7664  2018-03-30 00:30   12703              C  1  0  0\n",
       "7665  2018-05-23 00:30   12712              C  1  0  0\n",
       "7666  2018-05-28 00:30   12712              C  1  0  0\n",
       "7667  2018-06-06 00:30   12712              C  1  0  0\n",
       "7668  2018-06-21 00:30   12715              C  1  0  0\n",
       "\n",
       "[7669 rows x 6 columns]"
      ]
     },
     "execution_count": 140,
     "metadata": {},
     "output_type": "execute_result"
    }
   ],
   "source": [
    "flare_list2"
   ]
  },
  {
   "cell_type": "code",
   "execution_count": 141,
   "id": "730b0bbf",
   "metadata": {},
   "outputs": [],
   "source": [
    "final_2 = flare_list2.groupby([\"matchtime\", \"noaa_ar\"]).sum().reset_index()"
   ]
  },
  {
   "cell_type": "code",
   "execution_count": null,
   "id": "74fe0a3c",
   "metadata": {},
   "outputs": [],
   "source": []
  },
  {
   "cell_type": "code",
   "execution_count": 142,
   "id": "2681adc3",
   "metadata": {},
   "outputs": [
    {
     "data": {
      "text/html": [
       "<div>\n",
       "<style scoped>\n",
       "    .dataframe tbody tr th:only-of-type {\n",
       "        vertical-align: middle;\n",
       "    }\n",
       "\n",
       "    .dataframe tbody tr th {\n",
       "        vertical-align: top;\n",
       "    }\n",
       "\n",
       "    .dataframe thead th {\n",
       "        text-align: right;\n",
       "    }\n",
       "</style>\n",
       "<table border=\"1\" class=\"dataframe\">\n",
       "  <thead>\n",
       "    <tr style=\"text-align: right;\">\n",
       "      <th></th>\n",
       "      <th>matchtime</th>\n",
       "      <th>noaa_ar</th>\n",
       "      <th>C</th>\n",
       "      <th>M</th>\n",
       "      <th>X</th>\n",
       "    </tr>\n",
       "  </thead>\n",
       "  <tbody>\n",
       "    <tr>\n",
       "      <th>0</th>\n",
       "      <td>2010-01-02 00:30</td>\n",
       "      <td>11039</td>\n",
       "      <td>2</td>\n",
       "      <td>0</td>\n",
       "      <td>0</td>\n",
       "    </tr>\n",
       "    <tr>\n",
       "      <th>1</th>\n",
       "      <td>2010-01-03 00:30</td>\n",
       "      <td>11039</td>\n",
       "      <td>1</td>\n",
       "      <td>0</td>\n",
       "      <td>0</td>\n",
       "    </tr>\n",
       "    <tr>\n",
       "      <th>2</th>\n",
       "      <td>2010-01-04 00:30</td>\n",
       "      <td>11039</td>\n",
       "      <td>1</td>\n",
       "      <td>0</td>\n",
       "      <td>0</td>\n",
       "    </tr>\n",
       "    <tr>\n",
       "      <th>3</th>\n",
       "      <td>2010-01-09 00:30</td>\n",
       "      <td>11040</td>\n",
       "      <td>1</td>\n",
       "      <td>0</td>\n",
       "      <td>0</td>\n",
       "    </tr>\n",
       "    <tr>\n",
       "      <th>4</th>\n",
       "      <td>2010-01-12 00:30</td>\n",
       "      <td>11040</td>\n",
       "      <td>1</td>\n",
       "      <td>0</td>\n",
       "      <td>0</td>\n",
       "    </tr>\n",
       "    <tr>\n",
       "      <th>...</th>\n",
       "      <td>...</td>\n",
       "      <td>...</td>\n",
       "      <td>...</td>\n",
       "      <td>...</td>\n",
       "      <td>...</td>\n",
       "    </tr>\n",
       "    <tr>\n",
       "      <th>3041</th>\n",
       "      <td>2018-03-30 00:30</td>\n",
       "      <td>12703</td>\n",
       "      <td>1</td>\n",
       "      <td>0</td>\n",
       "      <td>0</td>\n",
       "    </tr>\n",
       "    <tr>\n",
       "      <th>3042</th>\n",
       "      <td>2018-05-23 00:30</td>\n",
       "      <td>12712</td>\n",
       "      <td>1</td>\n",
       "      <td>0</td>\n",
       "      <td>0</td>\n",
       "    </tr>\n",
       "    <tr>\n",
       "      <th>3043</th>\n",
       "      <td>2018-05-28 00:30</td>\n",
       "      <td>12712</td>\n",
       "      <td>1</td>\n",
       "      <td>0</td>\n",
       "      <td>0</td>\n",
       "    </tr>\n",
       "    <tr>\n",
       "      <th>3044</th>\n",
       "      <td>2018-06-06 00:30</td>\n",
       "      <td>12712</td>\n",
       "      <td>1</td>\n",
       "      <td>0</td>\n",
       "      <td>0</td>\n",
       "    </tr>\n",
       "    <tr>\n",
       "      <th>3045</th>\n",
       "      <td>2018-06-21 00:30</td>\n",
       "      <td>12715</td>\n",
       "      <td>1</td>\n",
       "      <td>0</td>\n",
       "      <td>0</td>\n",
       "    </tr>\n",
       "  </tbody>\n",
       "</table>\n",
       "<p>3046 rows × 5 columns</p>\n",
       "</div>"
      ],
      "text/plain": [
       "             matchtime noaa_ar  C  M  X\n",
       "0     2010-01-02 00:30   11039  2  0  0\n",
       "1     2010-01-03 00:30   11039  1  0  0\n",
       "2     2010-01-04 00:30   11039  1  0  0\n",
       "3     2010-01-09 00:30   11040  1  0  0\n",
       "4     2010-01-12 00:30   11040  1  0  0\n",
       "...                ...     ... .. .. ..\n",
       "3041  2018-03-30 00:30   12703  1  0  0\n",
       "3042  2018-05-23 00:30   12712  1  0  0\n",
       "3043  2018-05-28 00:30   12712  1  0  0\n",
       "3044  2018-06-06 00:30   12712  1  0  0\n",
       "3045  2018-06-21 00:30   12715  1  0  0\n",
       "\n",
       "[3046 rows x 5 columns]"
      ]
     },
     "execution_count": 142,
     "metadata": {},
     "output_type": "execute_result"
    }
   ],
   "source": [
    "final_2"
   ]
  },
  {
   "cell_type": "code",
   "execution_count": 143,
   "id": "d370d46b",
   "metadata": {},
   "outputs": [],
   "source": [
    "final_2[\"C+\"] = final_2[\"C\"] + final_2[\"M\"] + final_2[\"X\"]\n",
    "final_2[\"M+\"] = final_2[\"M\"] + final_2[\"X\"]\n",
    "final_2[\"X+\"] = final_2[\"X\"]"
   ]
  },
  {
   "cell_type": "code",
   "execution_count": 144,
   "id": "be7b352e",
   "metadata": {},
   "outputs": [],
   "source": [
    "final_2.drop(columns=[\"C\", \"M\", \"X\"], inplace=True)"
   ]
  },
  {
   "cell_type": "code",
   "execution_count": 145,
   "id": "7dd91e73",
   "metadata": {},
   "outputs": [
    {
     "data": {
      "text/html": [
       "<div>\n",
       "<style scoped>\n",
       "    .dataframe tbody tr th:only-of-type {\n",
       "        vertical-align: middle;\n",
       "    }\n",
       "\n",
       "    .dataframe tbody tr th {\n",
       "        vertical-align: top;\n",
       "    }\n",
       "\n",
       "    .dataframe thead th {\n",
       "        text-align: right;\n",
       "    }\n",
       "</style>\n",
       "<table border=\"1\" class=\"dataframe\">\n",
       "  <thead>\n",
       "    <tr style=\"text-align: right;\">\n",
       "      <th></th>\n",
       "      <th>matchtime</th>\n",
       "      <th>noaa_ar</th>\n",
       "      <th>C+</th>\n",
       "      <th>M+</th>\n",
       "      <th>X+</th>\n",
       "    </tr>\n",
       "  </thead>\n",
       "  <tbody>\n",
       "    <tr>\n",
       "      <th>0</th>\n",
       "      <td>2010-01-02 00:30</td>\n",
       "      <td>11039</td>\n",
       "      <td>2</td>\n",
       "      <td>0</td>\n",
       "      <td>0</td>\n",
       "    </tr>\n",
       "    <tr>\n",
       "      <th>1</th>\n",
       "      <td>2010-01-03 00:30</td>\n",
       "      <td>11039</td>\n",
       "      <td>1</td>\n",
       "      <td>0</td>\n",
       "      <td>0</td>\n",
       "    </tr>\n",
       "    <tr>\n",
       "      <th>2</th>\n",
       "      <td>2010-01-04 00:30</td>\n",
       "      <td>11039</td>\n",
       "      <td>1</td>\n",
       "      <td>0</td>\n",
       "      <td>0</td>\n",
       "    </tr>\n",
       "    <tr>\n",
       "      <th>3</th>\n",
       "      <td>2010-01-09 00:30</td>\n",
       "      <td>11040</td>\n",
       "      <td>1</td>\n",
       "      <td>0</td>\n",
       "      <td>0</td>\n",
       "    </tr>\n",
       "    <tr>\n",
       "      <th>4</th>\n",
       "      <td>2010-01-12 00:30</td>\n",
       "      <td>11040</td>\n",
       "      <td>1</td>\n",
       "      <td>0</td>\n",
       "      <td>0</td>\n",
       "    </tr>\n",
       "    <tr>\n",
       "      <th>...</th>\n",
       "      <td>...</td>\n",
       "      <td>...</td>\n",
       "      <td>...</td>\n",
       "      <td>...</td>\n",
       "      <td>...</td>\n",
       "    </tr>\n",
       "    <tr>\n",
       "      <th>3041</th>\n",
       "      <td>2018-03-30 00:30</td>\n",
       "      <td>12703</td>\n",
       "      <td>1</td>\n",
       "      <td>0</td>\n",
       "      <td>0</td>\n",
       "    </tr>\n",
       "    <tr>\n",
       "      <th>3042</th>\n",
       "      <td>2018-05-23 00:30</td>\n",
       "      <td>12712</td>\n",
       "      <td>1</td>\n",
       "      <td>0</td>\n",
       "      <td>0</td>\n",
       "    </tr>\n",
       "    <tr>\n",
       "      <th>3043</th>\n",
       "      <td>2018-05-28 00:30</td>\n",
       "      <td>12712</td>\n",
       "      <td>1</td>\n",
       "      <td>0</td>\n",
       "      <td>0</td>\n",
       "    </tr>\n",
       "    <tr>\n",
       "      <th>3044</th>\n",
       "      <td>2018-06-06 00:30</td>\n",
       "      <td>12712</td>\n",
       "      <td>1</td>\n",
       "      <td>0</td>\n",
       "      <td>0</td>\n",
       "    </tr>\n",
       "    <tr>\n",
       "      <th>3045</th>\n",
       "      <td>2018-06-21 00:30</td>\n",
       "      <td>12715</td>\n",
       "      <td>1</td>\n",
       "      <td>0</td>\n",
       "      <td>0</td>\n",
       "    </tr>\n",
       "  </tbody>\n",
       "</table>\n",
       "<p>3046 rows × 5 columns</p>\n",
       "</div>"
      ],
      "text/plain": [
       "             matchtime noaa_ar  C+  M+  X+\n",
       "0     2010-01-02 00:30   11039   2   0   0\n",
       "1     2010-01-03 00:30   11039   1   0   0\n",
       "2     2010-01-04 00:30   11039   1   0   0\n",
       "3     2010-01-09 00:30   11040   1   0   0\n",
       "4     2010-01-12 00:30   11040   1   0   0\n",
       "...                ...     ...  ..  ..  ..\n",
       "3041  2018-03-30 00:30   12703   1   0   0\n",
       "3042  2018-05-23 00:30   12712   1   0   0\n",
       "3043  2018-05-28 00:30   12712   1   0   0\n",
       "3044  2018-06-06 00:30   12712   1   0   0\n",
       "3045  2018-06-21 00:30   12715   1   0   0\n",
       "\n",
       "[3046 rows x 5 columns]"
      ]
     },
     "execution_count": 145,
     "metadata": {},
     "output_type": "execute_result"
    }
   ],
   "source": [
    "final_2"
   ]
  },
  {
   "cell_type": "code",
   "execution_count": 146,
   "id": "1936f073",
   "metadata": {},
   "outputs": [
    {
     "data": {
      "text/plain": [
       "3046"
      ]
     },
     "execution_count": 146,
     "metadata": {},
     "output_type": "execute_result"
    }
   ],
   "source": [
    "len(final_2)"
   ]
  },
  {
   "cell_type": "markdown",
   "id": "679e797c",
   "metadata": {},
   "source": [
    "## Read in AR list"
   ]
  },
  {
   "cell_type": "code",
   "execution_count": 261,
   "id": "5bf1f531",
   "metadata": {},
   "outputs": [],
   "source": [
    "# read in active region list\n",
    "ar_data = pd.read_csv(\"/Users/laurahayes/ml_project_flares/flare_analysis/AR_analysis/SRS_all_2010-2018.csv\")\n",
    "# pull out only the data of interest (i.e. regions with sunspots marked with ID=\"I\" from SRS)\n",
    "ar_data = ar_data[ar_data[\"ID\"].isin([\"I\"])]#, \"II\"])]\n",
    "# similarly create a \"matchtime\" columns\n",
    "ar_data[\"matchtime\"] = ar_data[\"date\"]\n",
    "# rename AR column so that it can be merged with GOES flare list\n",
    "ar_data[\"noaa_ar\"] = ar_data[\"Number\"].astype(str)\n",
    "ar_data.rename(columns={\"date\":\"AR issue_date\"}, inplace=True)\n"
   ]
  },
  {
   "cell_type": "code",
   "execution_count": 262,
   "id": "2d0df5df",
   "metadata": {},
   "outputs": [
    {
     "data": {
      "text/plain": [
       "11885"
      ]
     },
     "execution_count": 262,
     "metadata": {},
     "output_type": "execute_result"
    }
   ],
   "source": [
    "len(ar_data)"
   ]
  },
  {
   "cell_type": "code",
   "execution_count": 263,
   "id": "f98f3588",
   "metadata": {},
   "outputs": [],
   "source": [
    "merged_db = pd.merge(ar_data, final_2, how=\"left\", on=[\"matchtime\", \"noaa_ar\"])\n",
    "merged_db.reset_index(inplace=True, drop=True)"
   ]
  },
  {
   "cell_type": "code",
   "execution_count": 264,
   "id": "423fb85a",
   "metadata": {},
   "outputs": [
    {
     "data": {
      "text/plain": [
       "11885"
      ]
     },
     "execution_count": 264,
     "metadata": {},
     "output_type": "execute_result"
    }
   ],
   "source": [
    "len(merged_db)"
   ]
  },
  {
   "cell_type": "code",
   "execution_count": 265,
   "id": "31dca9e7",
   "metadata": {},
   "outputs": [
    {
     "data": {
      "text/plain": [
       "2517"
      ]
     },
     "execution_count": 265,
     "metadata": {},
     "output_type": "execute_result"
    }
   ],
   "source": [
    "len(merged_db[merged_db[\"C+\"].notnull()])"
   ]
  },
  {
   "cell_type": "code",
   "execution_count": 266,
   "id": "5befc1bd",
   "metadata": {},
   "outputs": [
    {
     "data": {
      "text/plain": [
       "0.21177955405973917"
      ]
     },
     "execution_count": 266,
     "metadata": {},
     "output_type": "execute_result"
    }
   ],
   "source": [
    "merged_db[\"C+\"].notnull().sum()/len(merged_db)"
   ]
  },
  {
   "cell_type": "code",
   "execution_count": 267,
   "id": "76aa4ca8",
   "metadata": {},
   "outputs": [],
   "source": [
    "merged_db[\"flare\"] = merged_db[\"C+\"].map(lambda x: 1 if x>0 else 0)"
   ]
  },
  {
   "cell_type": "code",
   "execution_count": 268,
   "id": "82578c7b",
   "metadata": {},
   "outputs": [
    {
     "data": {
      "text/html": [
       "<div>\n",
       "<style scoped>\n",
       "    .dataframe tbody tr th:only-of-type {\n",
       "        vertical-align: middle;\n",
       "    }\n",
       "\n",
       "    .dataframe tbody tr th {\n",
       "        vertical-align: top;\n",
       "    }\n",
       "\n",
       "    .dataframe thead th {\n",
       "        text-align: right;\n",
       "    }\n",
       "</style>\n",
       "<table border=\"1\" class=\"dataframe\">\n",
       "  <thead>\n",
       "    <tr style=\"text-align: right;\">\n",
       "      <th></th>\n",
       "      <th>ID</th>\n",
       "      <th>Number</th>\n",
       "      <th>Carrington Longitude</th>\n",
       "      <th>Area</th>\n",
       "      <th>Z</th>\n",
       "      <th>Longitudinal Extent</th>\n",
       "      <th>Number of Sunspots</th>\n",
       "      <th>Mag Type</th>\n",
       "      <th>Latitude</th>\n",
       "      <th>Longitude</th>\n",
       "      <th>AR issue_date</th>\n",
       "      <th>matchtime</th>\n",
       "      <th>noaa_ar</th>\n",
       "      <th>C+</th>\n",
       "      <th>M+</th>\n",
       "      <th>X+</th>\n",
       "      <th>flare</th>\n",
       "    </tr>\n",
       "  </thead>\n",
       "  <tbody>\n",
       "    <tr>\n",
       "      <th>0</th>\n",
       "      <td>I</td>\n",
       "      <td>11039</td>\n",
       "      <td>54.0</td>\n",
       "      <td>130.0</td>\n",
       "      <td>Dai</td>\n",
       "      <td>6.0</td>\n",
       "      <td>8.0</td>\n",
       "      <td>Beta</td>\n",
       "      <td>-28.0</td>\n",
       "      <td>21.0</td>\n",
       "      <td>2010-01-01 00:30</td>\n",
       "      <td>2010-01-01 00:30</td>\n",
       "      <td>11039</td>\n",
       "      <td>NaN</td>\n",
       "      <td>NaN</td>\n",
       "      <td>NaN</td>\n",
       "      <td>0</td>\n",
       "    </tr>\n",
       "    <tr>\n",
       "      <th>1</th>\n",
       "      <td>I</td>\n",
       "      <td>11039</td>\n",
       "      <td>54.0</td>\n",
       "      <td>120.0</td>\n",
       "      <td>Dso</td>\n",
       "      <td>9.0</td>\n",
       "      <td>6.0</td>\n",
       "      <td>Beta</td>\n",
       "      <td>-27.0</td>\n",
       "      <td>35.0</td>\n",
       "      <td>2010-01-02 00:30</td>\n",
       "      <td>2010-01-02 00:30</td>\n",
       "      <td>11039</td>\n",
       "      <td>2.0</td>\n",
       "      <td>0.0</td>\n",
       "      <td>0.0</td>\n",
       "      <td>1</td>\n",
       "    </tr>\n",
       "    <tr>\n",
       "      <th>2</th>\n",
       "      <td>I</td>\n",
       "      <td>11039</td>\n",
       "      <td>52.0</td>\n",
       "      <td>190.0</td>\n",
       "      <td>Dso</td>\n",
       "      <td>8.0</td>\n",
       "      <td>12.0</td>\n",
       "      <td>Beta</td>\n",
       "      <td>-28.0</td>\n",
       "      <td>46.0</td>\n",
       "      <td>2010-01-03 00:30</td>\n",
       "      <td>2010-01-03 00:30</td>\n",
       "      <td>11039</td>\n",
       "      <td>1.0</td>\n",
       "      <td>0.0</td>\n",
       "      <td>0.0</td>\n",
       "      <td>1</td>\n",
       "    </tr>\n",
       "    <tr>\n",
       "      <th>3</th>\n",
       "      <td>I</td>\n",
       "      <td>11039</td>\n",
       "      <td>52.0</td>\n",
       "      <td>220.0</td>\n",
       "      <td>Dso</td>\n",
       "      <td>7.0</td>\n",
       "      <td>10.0</td>\n",
       "      <td>Beta</td>\n",
       "      <td>-29.0</td>\n",
       "      <td>59.0</td>\n",
       "      <td>2010-01-04 00:30</td>\n",
       "      <td>2010-01-04 00:30</td>\n",
       "      <td>11039</td>\n",
       "      <td>1.0</td>\n",
       "      <td>0.0</td>\n",
       "      <td>0.0</td>\n",
       "      <td>1</td>\n",
       "    </tr>\n",
       "    <tr>\n",
       "      <th>4</th>\n",
       "      <td>I</td>\n",
       "      <td>11039</td>\n",
       "      <td>52.0</td>\n",
       "      <td>150.0</td>\n",
       "      <td>Dso</td>\n",
       "      <td>7.0</td>\n",
       "      <td>5.0</td>\n",
       "      <td>Beta</td>\n",
       "      <td>-28.0</td>\n",
       "      <td>72.0</td>\n",
       "      <td>2010-01-05 00:30</td>\n",
       "      <td>2010-01-05 00:30</td>\n",
       "      <td>11039</td>\n",
       "      <td>NaN</td>\n",
       "      <td>NaN</td>\n",
       "      <td>NaN</td>\n",
       "      <td>0</td>\n",
       "    </tr>\n",
       "  </tbody>\n",
       "</table>\n",
       "</div>"
      ],
      "text/plain": [
       "  ID  Number  Carrington Longitude   Area    Z  Longitudinal Extent  \\\n",
       "0  I   11039                  54.0  130.0  Dai                  6.0   \n",
       "1  I   11039                  54.0  120.0  Dso                  9.0   \n",
       "2  I   11039                  52.0  190.0  Dso                  8.0   \n",
       "3  I   11039                  52.0  220.0  Dso                  7.0   \n",
       "4  I   11039                  52.0  150.0  Dso                  7.0   \n",
       "\n",
       "   Number of Sunspots Mag Type  Latitude  Longitude     AR issue_date  \\\n",
       "0                 8.0     Beta     -28.0       21.0  2010-01-01 00:30   \n",
       "1                 6.0     Beta     -27.0       35.0  2010-01-02 00:30   \n",
       "2                12.0     Beta     -28.0       46.0  2010-01-03 00:30   \n",
       "3                10.0     Beta     -29.0       59.0  2010-01-04 00:30   \n",
       "4                 5.0     Beta     -28.0       72.0  2010-01-05 00:30   \n",
       "\n",
       "          matchtime noaa_ar   C+   M+   X+  flare  \n",
       "0  2010-01-01 00:30   11039  NaN  NaN  NaN      0  \n",
       "1  2010-01-02 00:30   11039  2.0  0.0  0.0      1  \n",
       "2  2010-01-03 00:30   11039  1.0  0.0  0.0      1  \n",
       "3  2010-01-04 00:30   11039  1.0  0.0  0.0      1  \n",
       "4  2010-01-05 00:30   11039  NaN  NaN  NaN      0  "
      ]
     },
     "execution_count": 268,
     "metadata": {},
     "output_type": "execute_result"
    }
   ],
   "source": [
    "merged_db.head()"
   ]
  },
  {
   "cell_type": "markdown",
   "id": "af524fe0",
   "metadata": {},
   "source": [
    "## Lets try get a column that says if there was a flare the day previously on that AR"
   ]
  },
  {
   "cell_type": "code",
   "execution_count": 269,
   "id": "c47dcf14",
   "metadata": {},
   "outputs": [
    {
     "data": {
      "text/plain": [
       "matchtime    2010-01-12 00:30\n",
       "noaa_ar                 11040\n",
       "Name: 10, dtype: object"
      ]
     },
     "execution_count": 269,
     "metadata": {},
     "output_type": "execute_result"
    }
   ],
   "source": [
    "merged_db[[\"matchtime\", \"noaa_ar\"]].iloc[10]"
   ]
  },
  {
   "cell_type": "code",
   "execution_count": 270,
   "id": "268ad38a",
   "metadata": {},
   "outputs": [],
   "source": [
    "if np.isnan(merged_db.iloc[10][\"C+\"]) is False:\n",
    "    print(\"helo\")"
   ]
  },
  {
   "cell_type": "code",
   "execution_count": 157,
   "id": "d7d451fb",
   "metadata": {},
   "outputs": [],
   "source": [
    "# i = 1\n",
    "# test = merged_db.iloc[i]\n",
    "# previous_day = (pd.to_datetime(test[\"matchtime\"])-datetime.timedelta(days=1)).strftime(\"%Y-%m-%d 00:30\")\n",
    "# ar_match = test[\"noaa_ar\"]\n",
    "# data_prev = merged_db[(merged_db[\"matchtime\"].isin([previous_day]))&(merged_db[\"noaa_ar\"].isin([ar_match]))]\n"
   ]
  },
  {
   "cell_type": "code",
   "execution_count": 158,
   "id": "1080b16d",
   "metadata": {},
   "outputs": [
    {
     "data": {
      "text/plain": [
       "'Dai'"
      ]
     },
     "execution_count": 158,
     "metadata": {},
     "output_type": "execute_result"
    }
   ],
   "source": [
    "data_prev[\"Z\"].values[0]"
   ]
  },
  {
   "cell_type": "code",
   "execution_count": 159,
   "id": "07d93230",
   "metadata": {},
   "outputs": [],
   "source": [
    "if not np.isnan(data_prev[\"C+\"].values):\n",
    "    print(\"hello\")"
   ]
  },
  {
   "cell_type": "code",
   "execution_count": 160,
   "id": "4e9e2eeb",
   "metadata": {},
   "outputs": [],
   "source": [
    "def get_prev(i):\n",
    "    test = merged_db.iloc[i]\n",
    "    previous_day = (pd.to_datetime(test[\"matchtime\"])-datetime.timedelta(days=1)).strftime(\"%Y-%m-%d 00:30\")\n",
    "    ar_match = test[\"noaa_ar\"]\n",
    "    data_prev = merged_db[(merged_db[\"matchtime\"].isin([previous_day]))&(merged_db[\"noaa_ar\"].isin([ar_match]))]\n",
    "#     if len(data_prev)==1:\n",
    "#         if not np.isnan(data_prev[\"no_flares\"].values):\n",
    "#             return data_prev[\"no_flares\"].values[0]\n",
    "#         else:\n",
    "#             return 0\n",
    "#     else\n",
    "#         return 0\n",
    "    return data_prev\n",
    "\n"
   ]
  },
  {
   "cell_type": "code",
   "execution_count": 181,
   "id": "d3a4bc04",
   "metadata": {},
   "outputs": [
    {
     "data": {
      "text/plain": [
       "Series([], Name: Z, dtype: object)"
      ]
     },
     "execution_count": 181,
     "metadata": {},
     "output_type": "execute_result"
    }
   ],
   "source": [
    "get_prev(0)[[\"Z\", \"flare\"]]"
   ]
  },
  {
   "cell_type": "code",
   "execution_count": 165,
   "id": "c4eeec48",
   "metadata": {},
   "outputs": [],
   "source": [
    "# previous = [get_prev(i)[[\"Z\", \"flare\"]] for i in range(len(merged_db))]"
   ]
  },
  {
   "cell_type": "code",
   "execution_count": 167,
   "id": "dcd0c417",
   "metadata": {},
   "outputs": [],
   "source": [
    "# merged_db[\"previous_day_flare\"] = previous"
   ]
  },
  {
   "cell_type": "code",
   "execution_count": 271,
   "id": "dcce4190",
   "metadata": {},
   "outputs": [],
   "source": [
    "# previous[1][\"Z\"].values[0]"
   ]
  },
  {
   "cell_type": "code",
   "execution_count": 272,
   "id": "5dcd3115",
   "metadata": {},
   "outputs": [
    {
     "data": {
      "text/html": [
       "<div>\n",
       "<style scoped>\n",
       "    .dataframe tbody tr th:only-of-type {\n",
       "        vertical-align: middle;\n",
       "    }\n",
       "\n",
       "    .dataframe tbody tr th {\n",
       "        vertical-align: top;\n",
       "    }\n",
       "\n",
       "    .dataframe thead th {\n",
       "        text-align: right;\n",
       "    }\n",
       "</style>\n",
       "<table border=\"1\" class=\"dataframe\">\n",
       "  <thead>\n",
       "    <tr style=\"text-align: right;\">\n",
       "      <th></th>\n",
       "      <th>ID</th>\n",
       "      <th>Number</th>\n",
       "      <th>Carrington Longitude</th>\n",
       "      <th>Area</th>\n",
       "      <th>Z</th>\n",
       "      <th>Longitudinal Extent</th>\n",
       "      <th>Number of Sunspots</th>\n",
       "      <th>Mag Type</th>\n",
       "      <th>Latitude</th>\n",
       "      <th>Longitude</th>\n",
       "      <th>AR issue_date</th>\n",
       "      <th>matchtime</th>\n",
       "      <th>noaa_ar</th>\n",
       "      <th>C+</th>\n",
       "      <th>M+</th>\n",
       "      <th>X+</th>\n",
       "      <th>flare</th>\n",
       "    </tr>\n",
       "  </thead>\n",
       "  <tbody>\n",
       "    <tr>\n",
       "      <th>11880</th>\n",
       "      <td>I</td>\n",
       "      <td>12729</td>\n",
       "      <td>231.0</td>\n",
       "      <td>10.0</td>\n",
       "      <td>Bxo</td>\n",
       "      <td>6.0</td>\n",
       "      <td>2.0</td>\n",
       "      <td>Beta</td>\n",
       "      <td>-5.0</td>\n",
       "      <td>80.0</td>\n",
       "      <td>2018-12-09 00:30</td>\n",
       "      <td>2018-12-09 00:30</td>\n",
       "      <td>12729</td>\n",
       "      <td>NaN</td>\n",
       "      <td>NaN</td>\n",
       "      <td>NaN</td>\n",
       "      <td>0</td>\n",
       "    </tr>\n",
       "    <tr>\n",
       "      <th>11881</th>\n",
       "      <td>I</td>\n",
       "      <td>12729</td>\n",
       "      <td>231.0</td>\n",
       "      <td>10.0</td>\n",
       "      <td>Bxo</td>\n",
       "      <td>6.0</td>\n",
       "      <td>2.0</td>\n",
       "      <td>Beta</td>\n",
       "      <td>-5.0</td>\n",
       "      <td>93.0</td>\n",
       "      <td>2018-12-10 00:30</td>\n",
       "      <td>2018-12-10 00:30</td>\n",
       "      <td>12729</td>\n",
       "      <td>NaN</td>\n",
       "      <td>NaN</td>\n",
       "      <td>NaN</td>\n",
       "      <td>0</td>\n",
       "    </tr>\n",
       "    <tr>\n",
       "      <th>11882</th>\n",
       "      <td>I</td>\n",
       "      <td>12730</td>\n",
       "      <td>94.0</td>\n",
       "      <td>10.0</td>\n",
       "      <td>Axx</td>\n",
       "      <td>2.0</td>\n",
       "      <td>1.0</td>\n",
       "      <td>Alpha</td>\n",
       "      <td>8.0</td>\n",
       "      <td>-17.0</td>\n",
       "      <td>2018-12-12 00:30</td>\n",
       "      <td>2018-12-12 00:30</td>\n",
       "      <td>12730</td>\n",
       "      <td>NaN</td>\n",
       "      <td>NaN</td>\n",
       "      <td>NaN</td>\n",
       "      <td>0</td>\n",
       "    </tr>\n",
       "    <tr>\n",
       "      <th>11883</th>\n",
       "      <td>I</td>\n",
       "      <td>12731</td>\n",
       "      <td>23.0</td>\n",
       "      <td>10.0</td>\n",
       "      <td>Bxo</td>\n",
       "      <td>5.0</td>\n",
       "      <td>2.0</td>\n",
       "      <td>Beta</td>\n",
       "      <td>13.0</td>\n",
       "      <td>-49.0</td>\n",
       "      <td>2018-12-15 00:30</td>\n",
       "      <td>2018-12-15 00:30</td>\n",
       "      <td>12731</td>\n",
       "      <td>NaN</td>\n",
       "      <td>NaN</td>\n",
       "      <td>NaN</td>\n",
       "      <td>0</td>\n",
       "    </tr>\n",
       "    <tr>\n",
       "      <th>11884</th>\n",
       "      <td>I</td>\n",
       "      <td>12731</td>\n",
       "      <td>24.0</td>\n",
       "      <td>10.0</td>\n",
       "      <td>Axx</td>\n",
       "      <td>1.0</td>\n",
       "      <td>2.0</td>\n",
       "      <td>Alpha</td>\n",
       "      <td>13.0</td>\n",
       "      <td>-35.0</td>\n",
       "      <td>2018-12-16 00:30</td>\n",
       "      <td>2018-12-16 00:30</td>\n",
       "      <td>12731</td>\n",
       "      <td>NaN</td>\n",
       "      <td>NaN</td>\n",
       "      <td>NaN</td>\n",
       "      <td>0</td>\n",
       "    </tr>\n",
       "  </tbody>\n",
       "</table>\n",
       "</div>"
      ],
      "text/plain": [
       "      ID  Number  Carrington Longitude  Area    Z  Longitudinal Extent  \\\n",
       "11880  I   12729                 231.0  10.0  Bxo                  6.0   \n",
       "11881  I   12729                 231.0  10.0  Bxo                  6.0   \n",
       "11882  I   12730                  94.0  10.0  Axx                  2.0   \n",
       "11883  I   12731                  23.0  10.0  Bxo                  5.0   \n",
       "11884  I   12731                  24.0  10.0  Axx                  1.0   \n",
       "\n",
       "       Number of Sunspots Mag Type  Latitude  Longitude     AR issue_date  \\\n",
       "11880                 2.0     Beta      -5.0       80.0  2018-12-09 00:30   \n",
       "11881                 2.0     Beta      -5.0       93.0  2018-12-10 00:30   \n",
       "11882                 1.0    Alpha       8.0      -17.0  2018-12-12 00:30   \n",
       "11883                 2.0     Beta      13.0      -49.0  2018-12-15 00:30   \n",
       "11884                 2.0    Alpha      13.0      -35.0  2018-12-16 00:30   \n",
       "\n",
       "              matchtime noaa_ar  C+  M+  X+  flare  \n",
       "11880  2018-12-09 00:30   12729 NaN NaN NaN      0  \n",
       "11881  2018-12-10 00:30   12729 NaN NaN NaN      0  \n",
       "11882  2018-12-12 00:30   12730 NaN NaN NaN      0  \n",
       "11883  2018-12-15 00:30   12731 NaN NaN NaN      0  \n",
       "11884  2018-12-16 00:30   12731 NaN NaN NaN      0  "
      ]
     },
     "execution_count": 272,
     "metadata": {},
     "output_type": "execute_result"
    }
   ],
   "source": [
    "merged_db.tail()"
   ]
  },
  {
   "cell_type": "code",
   "execution_count": 284,
   "id": "5ddca1d0",
   "metadata": {},
   "outputs": [],
   "source": [
    "merged_db[[\"C+\", \"M+\", \"X+\"]] = merged_db[[\"C+\", \"M+\", \"X+\"]].fillna(0)"
   ]
  },
  {
   "cell_type": "code",
   "execution_count": 285,
   "id": "8047017b",
   "metadata": {},
   "outputs": [],
   "source": [
    "merged_db[\"zurich\"] = merged_db[\"Z\"].map(lambda x: x[0])\n",
    "merged_db[\"penumbral\"] = merged_db[\"Z\"].map(lambda x: x[1])\n",
    "merged_db[\"compact\"] = merged_db[\"Z\"].map(lambda x: x[2])"
   ]
  },
  {
   "cell_type": "code",
   "execution_count": 286,
   "id": "f27373a4",
   "metadata": {},
   "outputs": [
    {
     "data": {
      "text/plain": [
       "array(['i', 'o', 'c', 'x'], dtype=object)"
      ]
     },
     "execution_count": 286,
     "metadata": {},
     "output_type": "execute_result"
    }
   ],
   "source": [
    "merged_db[\"compact\"].unique()"
   ]
  },
  {
   "cell_type": "code",
   "execution_count": 287,
   "id": "044088af",
   "metadata": {},
   "outputs": [
    {
     "data": {
      "text/html": [
       "<div>\n",
       "<style scoped>\n",
       "    .dataframe tbody tr th:only-of-type {\n",
       "        vertical-align: middle;\n",
       "    }\n",
       "\n",
       "    .dataframe tbody tr th {\n",
       "        vertical-align: top;\n",
       "    }\n",
       "\n",
       "    .dataframe thead th {\n",
       "        text-align: right;\n",
       "    }\n",
       "</style>\n",
       "<table border=\"1\" class=\"dataframe\">\n",
       "  <thead>\n",
       "    <tr style=\"text-align: right;\">\n",
       "      <th></th>\n",
       "      <th>zurich</th>\n",
       "      <th>noaa_ar</th>\n",
       "      <th>matchtime</th>\n",
       "    </tr>\n",
       "  </thead>\n",
       "  <tbody>\n",
       "    <tr>\n",
       "      <th>0</th>\n",
       "      <td>D</td>\n",
       "      <td>11039</td>\n",
       "      <td>2010-01-01 00:30</td>\n",
       "    </tr>\n",
       "    <tr>\n",
       "      <th>1</th>\n",
       "      <td>D</td>\n",
       "      <td>11039</td>\n",
       "      <td>2010-01-02 00:30</td>\n",
       "    </tr>\n",
       "    <tr>\n",
       "      <th>2</th>\n",
       "      <td>D</td>\n",
       "      <td>11039</td>\n",
       "      <td>2010-01-03 00:30</td>\n",
       "    </tr>\n",
       "    <tr>\n",
       "      <th>3</th>\n",
       "      <td>D</td>\n",
       "      <td>11039</td>\n",
       "      <td>2010-01-04 00:30</td>\n",
       "    </tr>\n",
       "    <tr>\n",
       "      <th>4</th>\n",
       "      <td>D</td>\n",
       "      <td>11039</td>\n",
       "      <td>2010-01-05 00:30</td>\n",
       "    </tr>\n",
       "    <tr>\n",
       "      <th>...</th>\n",
       "      <td>...</td>\n",
       "      <td>...</td>\n",
       "      <td>...</td>\n",
       "    </tr>\n",
       "    <tr>\n",
       "      <th>11880</th>\n",
       "      <td>B</td>\n",
       "      <td>12729</td>\n",
       "      <td>2018-12-09 00:30</td>\n",
       "    </tr>\n",
       "    <tr>\n",
       "      <th>11881</th>\n",
       "      <td>B</td>\n",
       "      <td>12729</td>\n",
       "      <td>2018-12-10 00:30</td>\n",
       "    </tr>\n",
       "    <tr>\n",
       "      <th>11882</th>\n",
       "      <td>A</td>\n",
       "      <td>12730</td>\n",
       "      <td>2018-12-12 00:30</td>\n",
       "    </tr>\n",
       "    <tr>\n",
       "      <th>11883</th>\n",
       "      <td>B</td>\n",
       "      <td>12731</td>\n",
       "      <td>2018-12-15 00:30</td>\n",
       "    </tr>\n",
       "    <tr>\n",
       "      <th>11884</th>\n",
       "      <td>A</td>\n",
       "      <td>12731</td>\n",
       "      <td>2018-12-16 00:30</td>\n",
       "    </tr>\n",
       "  </tbody>\n",
       "</table>\n",
       "<p>11885 rows × 3 columns</p>\n",
       "</div>"
      ],
      "text/plain": [
       "      zurich noaa_ar         matchtime\n",
       "0          D   11039  2010-01-01 00:30\n",
       "1          D   11039  2010-01-02 00:30\n",
       "2          D   11039  2010-01-03 00:30\n",
       "3          D   11039  2010-01-04 00:30\n",
       "4          D   11039  2010-01-05 00:30\n",
       "...      ...     ...               ...\n",
       "11880      B   12729  2018-12-09 00:30\n",
       "11881      B   12729  2018-12-10 00:30\n",
       "11882      A   12730  2018-12-12 00:30\n",
       "11883      B   12731  2018-12-15 00:30\n",
       "11884      A   12731  2018-12-16 00:30\n",
       "\n",
       "[11885 rows x 3 columns]"
      ]
     },
     "execution_count": 287,
     "metadata": {},
     "output_type": "execute_result"
    }
   ],
   "source": [
    "merged_db[[\"zurich\", \"noaa_ar\", \"matchtime\"]]"
   ]
  },
  {
   "cell_type": "code",
   "execution_count": 288,
   "id": "ec0e8d62",
   "metadata": {},
   "outputs": [
    {
     "data": {
      "text/plain": [
       "1689"
      ]
     },
     "execution_count": 288,
     "metadata": {},
     "output_type": "execute_result"
    }
   ],
   "source": [
    "len(merged_db[\"noaa_ar\"].unique())"
   ]
  },
  {
   "cell_type": "code",
   "execution_count": 289,
   "id": "9d3bedfe",
   "metadata": {},
   "outputs": [
    {
     "data": {
      "text/html": [
       "<div>\n",
       "<style scoped>\n",
       "    .dataframe tbody tr th:only-of-type {\n",
       "        vertical-align: middle;\n",
       "    }\n",
       "\n",
       "    .dataframe tbody tr th {\n",
       "        vertical-align: top;\n",
       "    }\n",
       "\n",
       "    .dataframe thead th {\n",
       "        text-align: right;\n",
       "    }\n",
       "</style>\n",
       "<table border=\"1\" class=\"dataframe\">\n",
       "  <thead>\n",
       "    <tr style=\"text-align: right;\">\n",
       "      <th></th>\n",
       "      <th>ID</th>\n",
       "      <th>Number</th>\n",
       "      <th>Carrington Longitude</th>\n",
       "      <th>Area</th>\n",
       "      <th>Z</th>\n",
       "      <th>Longitudinal Extent</th>\n",
       "      <th>Number of Sunspots</th>\n",
       "      <th>Mag Type</th>\n",
       "      <th>Latitude</th>\n",
       "      <th>Longitude</th>\n",
       "      <th>AR issue_date</th>\n",
       "      <th>matchtime</th>\n",
       "      <th>noaa_ar</th>\n",
       "      <th>C+</th>\n",
       "      <th>M+</th>\n",
       "      <th>X+</th>\n",
       "      <th>flare</th>\n",
       "      <th>zurich</th>\n",
       "      <th>penumbral</th>\n",
       "      <th>compact</th>\n",
       "    </tr>\n",
       "  </thead>\n",
       "  <tbody>\n",
       "    <tr>\n",
       "      <th>0</th>\n",
       "      <td>I</td>\n",
       "      <td>11039</td>\n",
       "      <td>54.0</td>\n",
       "      <td>130.0</td>\n",
       "      <td>Dai</td>\n",
       "      <td>6.0</td>\n",
       "      <td>8.0</td>\n",
       "      <td>Beta</td>\n",
       "      <td>-28.0</td>\n",
       "      <td>21.0</td>\n",
       "      <td>2010-01-01 00:30</td>\n",
       "      <td>2010-01-01 00:30</td>\n",
       "      <td>11039</td>\n",
       "      <td>0.0</td>\n",
       "      <td>0.0</td>\n",
       "      <td>0.0</td>\n",
       "      <td>0</td>\n",
       "      <td>D</td>\n",
       "      <td>a</td>\n",
       "      <td>i</td>\n",
       "    </tr>\n",
       "    <tr>\n",
       "      <th>1</th>\n",
       "      <td>I</td>\n",
       "      <td>11039</td>\n",
       "      <td>54.0</td>\n",
       "      <td>120.0</td>\n",
       "      <td>Dso</td>\n",
       "      <td>9.0</td>\n",
       "      <td>6.0</td>\n",
       "      <td>Beta</td>\n",
       "      <td>-27.0</td>\n",
       "      <td>35.0</td>\n",
       "      <td>2010-01-02 00:30</td>\n",
       "      <td>2010-01-02 00:30</td>\n",
       "      <td>11039</td>\n",
       "      <td>2.0</td>\n",
       "      <td>0.0</td>\n",
       "      <td>0.0</td>\n",
       "      <td>1</td>\n",
       "      <td>D</td>\n",
       "      <td>s</td>\n",
       "      <td>o</td>\n",
       "    </tr>\n",
       "    <tr>\n",
       "      <th>2</th>\n",
       "      <td>I</td>\n",
       "      <td>11039</td>\n",
       "      <td>52.0</td>\n",
       "      <td>190.0</td>\n",
       "      <td>Dso</td>\n",
       "      <td>8.0</td>\n",
       "      <td>12.0</td>\n",
       "      <td>Beta</td>\n",
       "      <td>-28.0</td>\n",
       "      <td>46.0</td>\n",
       "      <td>2010-01-03 00:30</td>\n",
       "      <td>2010-01-03 00:30</td>\n",
       "      <td>11039</td>\n",
       "      <td>1.0</td>\n",
       "      <td>0.0</td>\n",
       "      <td>0.0</td>\n",
       "      <td>1</td>\n",
       "      <td>D</td>\n",
       "      <td>s</td>\n",
       "      <td>o</td>\n",
       "    </tr>\n",
       "    <tr>\n",
       "      <th>3</th>\n",
       "      <td>I</td>\n",
       "      <td>11039</td>\n",
       "      <td>52.0</td>\n",
       "      <td>220.0</td>\n",
       "      <td>Dso</td>\n",
       "      <td>7.0</td>\n",
       "      <td>10.0</td>\n",
       "      <td>Beta</td>\n",
       "      <td>-29.0</td>\n",
       "      <td>59.0</td>\n",
       "      <td>2010-01-04 00:30</td>\n",
       "      <td>2010-01-04 00:30</td>\n",
       "      <td>11039</td>\n",
       "      <td>1.0</td>\n",
       "      <td>0.0</td>\n",
       "      <td>0.0</td>\n",
       "      <td>1</td>\n",
       "      <td>D</td>\n",
       "      <td>s</td>\n",
       "      <td>o</td>\n",
       "    </tr>\n",
       "    <tr>\n",
       "      <th>4</th>\n",
       "      <td>I</td>\n",
       "      <td>11039</td>\n",
       "      <td>52.0</td>\n",
       "      <td>150.0</td>\n",
       "      <td>Dso</td>\n",
       "      <td>7.0</td>\n",
       "      <td>5.0</td>\n",
       "      <td>Beta</td>\n",
       "      <td>-28.0</td>\n",
       "      <td>72.0</td>\n",
       "      <td>2010-01-05 00:30</td>\n",
       "      <td>2010-01-05 00:30</td>\n",
       "      <td>11039</td>\n",
       "      <td>0.0</td>\n",
       "      <td>0.0</td>\n",
       "      <td>0.0</td>\n",
       "      <td>0</td>\n",
       "      <td>D</td>\n",
       "      <td>s</td>\n",
       "      <td>o</td>\n",
       "    </tr>\n",
       "  </tbody>\n",
       "</table>\n",
       "</div>"
      ],
      "text/plain": [
       "  ID  Number  Carrington Longitude   Area    Z  Longitudinal Extent  \\\n",
       "0  I   11039                  54.0  130.0  Dai                  6.0   \n",
       "1  I   11039                  54.0  120.0  Dso                  9.0   \n",
       "2  I   11039                  52.0  190.0  Dso                  8.0   \n",
       "3  I   11039                  52.0  220.0  Dso                  7.0   \n",
       "4  I   11039                  52.0  150.0  Dso                  7.0   \n",
       "\n",
       "   Number of Sunspots Mag Type  Latitude  Longitude     AR issue_date  \\\n",
       "0                 8.0     Beta     -28.0       21.0  2010-01-01 00:30   \n",
       "1                 6.0     Beta     -27.0       35.0  2010-01-02 00:30   \n",
       "2                12.0     Beta     -28.0       46.0  2010-01-03 00:30   \n",
       "3                10.0     Beta     -29.0       59.0  2010-01-04 00:30   \n",
       "4                 5.0     Beta     -28.0       72.0  2010-01-05 00:30   \n",
       "\n",
       "          matchtime noaa_ar   C+   M+   X+  flare zurich penumbral compact  \n",
       "0  2010-01-01 00:30   11039  0.0  0.0  0.0      0      D         a       i  \n",
       "1  2010-01-02 00:30   11039  2.0  0.0  0.0      1      D         s       o  \n",
       "2  2010-01-03 00:30   11039  1.0  0.0  0.0      1      D         s       o  \n",
       "3  2010-01-04 00:30   11039  1.0  0.0  0.0      1      D         s       o  \n",
       "4  2010-01-05 00:30   11039  0.0  0.0  0.0      0      D         s       o  "
      ]
     },
     "execution_count": 289,
     "metadata": {},
     "output_type": "execute_result"
    }
   ],
   "source": [
    "merged_db.head()"
   ]
  },
  {
   "cell_type": "markdown",
   "id": "2951ba7d",
   "metadata": {},
   "source": [
    "## Lets build a first simple ML model"
   ]
  },
  {
   "cell_type": "code",
   "execution_count": 290,
   "id": "fcc0b76f",
   "metadata": {},
   "outputs": [],
   "source": [
    "first_db = merged_db.drop(columns=[\"ID\", \"Number\", \"Carrington Longitude\", \"Latitude\", \"Longitude\", \n",
    "                                  \"AR issue_date\", \"noaa_ar\",\n",
    "                                   \"zurich\", \"penumbral\", \"compact\"])"
   ]
  },
  {
   "cell_type": "code",
   "execution_count": 291,
   "id": "c591f154",
   "metadata": {},
   "outputs": [
    {
     "data": {
      "text/html": [
       "<div>\n",
       "<style scoped>\n",
       "    .dataframe tbody tr th:only-of-type {\n",
       "        vertical-align: middle;\n",
       "    }\n",
       "\n",
       "    .dataframe tbody tr th {\n",
       "        vertical-align: top;\n",
       "    }\n",
       "\n",
       "    .dataframe thead th {\n",
       "        text-align: right;\n",
       "    }\n",
       "</style>\n",
       "<table border=\"1\" class=\"dataframe\">\n",
       "  <thead>\n",
       "    <tr style=\"text-align: right;\">\n",
       "      <th></th>\n",
       "      <th>Area</th>\n",
       "      <th>Z</th>\n",
       "      <th>Longitudinal Extent</th>\n",
       "      <th>Number of Sunspots</th>\n",
       "      <th>Mag Type</th>\n",
       "      <th>matchtime</th>\n",
       "      <th>C+</th>\n",
       "      <th>M+</th>\n",
       "      <th>X+</th>\n",
       "      <th>flare</th>\n",
       "    </tr>\n",
       "  </thead>\n",
       "  <tbody>\n",
       "    <tr>\n",
       "      <th>0</th>\n",
       "      <td>130.0</td>\n",
       "      <td>Dai</td>\n",
       "      <td>6.0</td>\n",
       "      <td>8.0</td>\n",
       "      <td>Beta</td>\n",
       "      <td>2010-01-01 00:30</td>\n",
       "      <td>0.0</td>\n",
       "      <td>0.0</td>\n",
       "      <td>0.0</td>\n",
       "      <td>0</td>\n",
       "    </tr>\n",
       "    <tr>\n",
       "      <th>1</th>\n",
       "      <td>120.0</td>\n",
       "      <td>Dso</td>\n",
       "      <td>9.0</td>\n",
       "      <td>6.0</td>\n",
       "      <td>Beta</td>\n",
       "      <td>2010-01-02 00:30</td>\n",
       "      <td>2.0</td>\n",
       "      <td>0.0</td>\n",
       "      <td>0.0</td>\n",
       "      <td>1</td>\n",
       "    </tr>\n",
       "    <tr>\n",
       "      <th>2</th>\n",
       "      <td>190.0</td>\n",
       "      <td>Dso</td>\n",
       "      <td>8.0</td>\n",
       "      <td>12.0</td>\n",
       "      <td>Beta</td>\n",
       "      <td>2010-01-03 00:30</td>\n",
       "      <td>1.0</td>\n",
       "      <td>0.0</td>\n",
       "      <td>0.0</td>\n",
       "      <td>1</td>\n",
       "    </tr>\n",
       "    <tr>\n",
       "      <th>3</th>\n",
       "      <td>220.0</td>\n",
       "      <td>Dso</td>\n",
       "      <td>7.0</td>\n",
       "      <td>10.0</td>\n",
       "      <td>Beta</td>\n",
       "      <td>2010-01-04 00:30</td>\n",
       "      <td>1.0</td>\n",
       "      <td>0.0</td>\n",
       "      <td>0.0</td>\n",
       "      <td>1</td>\n",
       "    </tr>\n",
       "    <tr>\n",
       "      <th>4</th>\n",
       "      <td>150.0</td>\n",
       "      <td>Dso</td>\n",
       "      <td>7.0</td>\n",
       "      <td>5.0</td>\n",
       "      <td>Beta</td>\n",
       "      <td>2010-01-05 00:30</td>\n",
       "      <td>0.0</td>\n",
       "      <td>0.0</td>\n",
       "      <td>0.0</td>\n",
       "      <td>0</td>\n",
       "    </tr>\n",
       "    <tr>\n",
       "      <th>...</th>\n",
       "      <td>...</td>\n",
       "      <td>...</td>\n",
       "      <td>...</td>\n",
       "      <td>...</td>\n",
       "      <td>...</td>\n",
       "      <td>...</td>\n",
       "      <td>...</td>\n",
       "      <td>...</td>\n",
       "      <td>...</td>\n",
       "      <td>...</td>\n",
       "    </tr>\n",
       "    <tr>\n",
       "      <th>11880</th>\n",
       "      <td>10.0</td>\n",
       "      <td>Bxo</td>\n",
       "      <td>6.0</td>\n",
       "      <td>2.0</td>\n",
       "      <td>Beta</td>\n",
       "      <td>2018-12-09 00:30</td>\n",
       "      <td>0.0</td>\n",
       "      <td>0.0</td>\n",
       "      <td>0.0</td>\n",
       "      <td>0</td>\n",
       "    </tr>\n",
       "    <tr>\n",
       "      <th>11881</th>\n",
       "      <td>10.0</td>\n",
       "      <td>Bxo</td>\n",
       "      <td>6.0</td>\n",
       "      <td>2.0</td>\n",
       "      <td>Beta</td>\n",
       "      <td>2018-12-10 00:30</td>\n",
       "      <td>0.0</td>\n",
       "      <td>0.0</td>\n",
       "      <td>0.0</td>\n",
       "      <td>0</td>\n",
       "    </tr>\n",
       "    <tr>\n",
       "      <th>11882</th>\n",
       "      <td>10.0</td>\n",
       "      <td>Axx</td>\n",
       "      <td>2.0</td>\n",
       "      <td>1.0</td>\n",
       "      <td>Alpha</td>\n",
       "      <td>2018-12-12 00:30</td>\n",
       "      <td>0.0</td>\n",
       "      <td>0.0</td>\n",
       "      <td>0.0</td>\n",
       "      <td>0</td>\n",
       "    </tr>\n",
       "    <tr>\n",
       "      <th>11883</th>\n",
       "      <td>10.0</td>\n",
       "      <td>Bxo</td>\n",
       "      <td>5.0</td>\n",
       "      <td>2.0</td>\n",
       "      <td>Beta</td>\n",
       "      <td>2018-12-15 00:30</td>\n",
       "      <td>0.0</td>\n",
       "      <td>0.0</td>\n",
       "      <td>0.0</td>\n",
       "      <td>0</td>\n",
       "    </tr>\n",
       "    <tr>\n",
       "      <th>11884</th>\n",
       "      <td>10.0</td>\n",
       "      <td>Axx</td>\n",
       "      <td>1.0</td>\n",
       "      <td>2.0</td>\n",
       "      <td>Alpha</td>\n",
       "      <td>2018-12-16 00:30</td>\n",
       "      <td>0.0</td>\n",
       "      <td>0.0</td>\n",
       "      <td>0.0</td>\n",
       "      <td>0</td>\n",
       "    </tr>\n",
       "  </tbody>\n",
       "</table>\n",
       "<p>11885 rows × 10 columns</p>\n",
       "</div>"
      ],
      "text/plain": [
       "        Area    Z  Longitudinal Extent  Number of Sunspots Mag Type  \\\n",
       "0      130.0  Dai                  6.0                 8.0     Beta   \n",
       "1      120.0  Dso                  9.0                 6.0     Beta   \n",
       "2      190.0  Dso                  8.0                12.0     Beta   \n",
       "3      220.0  Dso                  7.0                10.0     Beta   \n",
       "4      150.0  Dso                  7.0                 5.0     Beta   \n",
       "...      ...  ...                  ...                 ...      ...   \n",
       "11880   10.0  Bxo                  6.0                 2.0     Beta   \n",
       "11881   10.0  Bxo                  6.0                 2.0     Beta   \n",
       "11882   10.0  Axx                  2.0                 1.0    Alpha   \n",
       "11883   10.0  Bxo                  5.0                 2.0     Beta   \n",
       "11884   10.0  Axx                  1.0                 2.0    Alpha   \n",
       "\n",
       "              matchtime   C+   M+   X+  flare  \n",
       "0      2010-01-01 00:30  0.0  0.0  0.0      0  \n",
       "1      2010-01-02 00:30  2.0  0.0  0.0      1  \n",
       "2      2010-01-03 00:30  1.0  0.0  0.0      1  \n",
       "3      2010-01-04 00:30  1.0  0.0  0.0      1  \n",
       "4      2010-01-05 00:30  0.0  0.0  0.0      0  \n",
       "...                 ...  ...  ...  ...    ...  \n",
       "11880  2018-12-09 00:30  0.0  0.0  0.0      0  \n",
       "11881  2018-12-10 00:30  0.0  0.0  0.0      0  \n",
       "11882  2018-12-12 00:30  0.0  0.0  0.0      0  \n",
       "11883  2018-12-15 00:30  0.0  0.0  0.0      0  \n",
       "11884  2018-12-16 00:30  0.0  0.0  0.0      0  \n",
       "\n",
       "[11885 rows x 10 columns]"
      ]
     },
     "execution_count": 291,
     "metadata": {},
     "output_type": "execute_result"
    }
   ],
   "source": [
    "first_db"
   ]
  },
  {
   "cell_type": "code",
   "execution_count": 292,
   "id": "a481b7c7",
   "metadata": {},
   "outputs": [
    {
     "data": {
      "text/plain": [
       "0    78.822045\n",
       "1    21.177955\n",
       "Name: flare, dtype: float64"
      ]
     },
     "execution_count": 292,
     "metadata": {},
     "output_type": "execute_result"
    }
   ],
   "source": [
    "100*first_db[\"flare\"].value_counts()/len(first_db)"
   ]
  },
  {
   "cell_type": "code",
   "execution_count": 293,
   "id": "0b49bebc",
   "metadata": {},
   "outputs": [
    {
     "data": {
      "text/html": [
       "<div>\n",
       "<style scoped>\n",
       "    .dataframe tbody tr th:only-of-type {\n",
       "        vertical-align: middle;\n",
       "    }\n",
       "\n",
       "    .dataframe tbody tr th {\n",
       "        vertical-align: top;\n",
       "    }\n",
       "\n",
       "    .dataframe thead th {\n",
       "        text-align: right;\n",
       "    }\n",
       "</style>\n",
       "<table border=\"1\" class=\"dataframe\">\n",
       "  <thead>\n",
       "    <tr style=\"text-align: right;\">\n",
       "      <th></th>\n",
       "      <th>Area</th>\n",
       "      <th>Z</th>\n",
       "      <th>Longitudinal Extent</th>\n",
       "      <th>Number of Sunspots</th>\n",
       "      <th>Mag Type</th>\n",
       "      <th>matchtime</th>\n",
       "      <th>C+</th>\n",
       "      <th>M+</th>\n",
       "      <th>X+</th>\n",
       "      <th>flare</th>\n",
       "    </tr>\n",
       "  </thead>\n",
       "  <tbody>\n",
       "    <tr>\n",
       "      <th>0</th>\n",
       "      <td>130.0</td>\n",
       "      <td>Dai</td>\n",
       "      <td>6.0</td>\n",
       "      <td>8.0</td>\n",
       "      <td>Beta</td>\n",
       "      <td>2010-01-01 00:30</td>\n",
       "      <td>0.0</td>\n",
       "      <td>0.0</td>\n",
       "      <td>0.0</td>\n",
       "      <td>0</td>\n",
       "    </tr>\n",
       "    <tr>\n",
       "      <th>1</th>\n",
       "      <td>120.0</td>\n",
       "      <td>Dso</td>\n",
       "      <td>9.0</td>\n",
       "      <td>6.0</td>\n",
       "      <td>Beta</td>\n",
       "      <td>2010-01-02 00:30</td>\n",
       "      <td>2.0</td>\n",
       "      <td>0.0</td>\n",
       "      <td>0.0</td>\n",
       "      <td>1</td>\n",
       "    </tr>\n",
       "    <tr>\n",
       "      <th>2</th>\n",
       "      <td>190.0</td>\n",
       "      <td>Dso</td>\n",
       "      <td>8.0</td>\n",
       "      <td>12.0</td>\n",
       "      <td>Beta</td>\n",
       "      <td>2010-01-03 00:30</td>\n",
       "      <td>1.0</td>\n",
       "      <td>0.0</td>\n",
       "      <td>0.0</td>\n",
       "      <td>1</td>\n",
       "    </tr>\n",
       "    <tr>\n",
       "      <th>3</th>\n",
       "      <td>220.0</td>\n",
       "      <td>Dso</td>\n",
       "      <td>7.0</td>\n",
       "      <td>10.0</td>\n",
       "      <td>Beta</td>\n",
       "      <td>2010-01-04 00:30</td>\n",
       "      <td>1.0</td>\n",
       "      <td>0.0</td>\n",
       "      <td>0.0</td>\n",
       "      <td>1</td>\n",
       "    </tr>\n",
       "    <tr>\n",
       "      <th>4</th>\n",
       "      <td>150.0</td>\n",
       "      <td>Dso</td>\n",
       "      <td>7.0</td>\n",
       "      <td>5.0</td>\n",
       "      <td>Beta</td>\n",
       "      <td>2010-01-05 00:30</td>\n",
       "      <td>0.0</td>\n",
       "      <td>0.0</td>\n",
       "      <td>0.0</td>\n",
       "      <td>0</td>\n",
       "    </tr>\n",
       "  </tbody>\n",
       "</table>\n",
       "</div>"
      ],
      "text/plain": [
       "    Area    Z  Longitudinal Extent  Number of Sunspots Mag Type  \\\n",
       "0  130.0  Dai                  6.0                 8.0     Beta   \n",
       "1  120.0  Dso                  9.0                 6.0     Beta   \n",
       "2  190.0  Dso                  8.0                12.0     Beta   \n",
       "3  220.0  Dso                  7.0                10.0     Beta   \n",
       "4  150.0  Dso                  7.0                 5.0     Beta   \n",
       "\n",
       "          matchtime   C+   M+   X+  flare  \n",
       "0  2010-01-01 00:30  0.0  0.0  0.0      0  \n",
       "1  2010-01-02 00:30  2.0  0.0  0.0      1  \n",
       "2  2010-01-03 00:30  1.0  0.0  0.0      1  \n",
       "3  2010-01-04 00:30  1.0  0.0  0.0      1  \n",
       "4  2010-01-05 00:30  0.0  0.0  0.0      0  "
      ]
     },
     "execution_count": 293,
     "metadata": {},
     "output_type": "execute_result"
    }
   ],
   "source": [
    "first_db.head()"
   ]
  },
  {
   "cell_type": "code",
   "execution_count": 294,
   "id": "91062be0",
   "metadata": {},
   "outputs": [
    {
     "data": {
      "text/plain": [
       "['D', 'a', 'i']"
      ]
     },
     "execution_count": 294,
     "metadata": {},
     "output_type": "execute_result"
    }
   ],
   "source": [
    "list(first_db[\"Z\"].iloc[0])"
   ]
  },
  {
   "cell_type": "code",
   "execution_count": 295,
   "id": "e4229e5e",
   "metadata": {},
   "outputs": [],
   "source": [
    "# first_db[\"zurich\"] = first_db[\"Z\"].map(lambda x: x[0])\n",
    "# first_db[\"penumbral\"] = first_db[\"Z\"].map(lambda x: x[1])\n",
    "# first_db[\"compact\"] = first_db[\"Z\"].map(lambda x: x[2])\n",
    "# first_db.drop(columns=\"Z\", inplace=True)"
   ]
  },
  {
   "cell_type": "code",
   "execution_count": 296,
   "id": "c8edd391",
   "metadata": {},
   "outputs": [],
   "source": [
    "# first_db[\"penumbral\"].unique()"
   ]
  },
  {
   "cell_type": "code",
   "execution_count": 297,
   "id": "fe9f4677",
   "metadata": {},
   "outputs": [],
   "source": [
    "# first_db[\"zurich\"].unique()"
   ]
  },
  {
   "cell_type": "code",
   "execution_count": 298,
   "id": "5f2d8ca6",
   "metadata": {},
   "outputs": [],
   "source": [
    "# first_db[\"compact\"].unique()"
   ]
  },
  {
   "cell_type": "code",
   "execution_count": 299,
   "id": "5eba88d0",
   "metadata": {},
   "outputs": [],
   "source": [
    "# print(first_db[first_db[\"flare\"]==1][\"zurich\"].value_counts())\n",
    "# print(first_db[first_db[\"flare\"]==0][\"zurich\"].value_counts())"
   ]
  },
  {
   "cell_type": "code",
   "execution_count": 300,
   "id": "9e1e3996",
   "metadata": {},
   "outputs": [
    {
     "data": {
      "text/html": [
       "<div>\n",
       "<style scoped>\n",
       "    .dataframe tbody tr th:only-of-type {\n",
       "        vertical-align: middle;\n",
       "    }\n",
       "\n",
       "    .dataframe tbody tr th {\n",
       "        vertical-align: top;\n",
       "    }\n",
       "\n",
       "    .dataframe thead th {\n",
       "        text-align: right;\n",
       "    }\n",
       "</style>\n",
       "<table border=\"1\" class=\"dataframe\">\n",
       "  <thead>\n",
       "    <tr style=\"text-align: right;\">\n",
       "      <th></th>\n",
       "      <th>Area</th>\n",
       "      <th>Z</th>\n",
       "      <th>Longitudinal Extent</th>\n",
       "      <th>Number of Sunspots</th>\n",
       "      <th>Mag Type</th>\n",
       "      <th>matchtime</th>\n",
       "      <th>C+</th>\n",
       "      <th>M+</th>\n",
       "      <th>X+</th>\n",
       "      <th>flare</th>\n",
       "    </tr>\n",
       "  </thead>\n",
       "  <tbody>\n",
       "    <tr>\n",
       "      <th>0</th>\n",
       "      <td>130.0</td>\n",
       "      <td>Dai</td>\n",
       "      <td>6.0</td>\n",
       "      <td>8.0</td>\n",
       "      <td>Beta</td>\n",
       "      <td>2010-01-01 00:30</td>\n",
       "      <td>0.0</td>\n",
       "      <td>0.0</td>\n",
       "      <td>0.0</td>\n",
       "      <td>0</td>\n",
       "    </tr>\n",
       "    <tr>\n",
       "      <th>1</th>\n",
       "      <td>120.0</td>\n",
       "      <td>Dso</td>\n",
       "      <td>9.0</td>\n",
       "      <td>6.0</td>\n",
       "      <td>Beta</td>\n",
       "      <td>2010-01-02 00:30</td>\n",
       "      <td>2.0</td>\n",
       "      <td>0.0</td>\n",
       "      <td>0.0</td>\n",
       "      <td>1</td>\n",
       "    </tr>\n",
       "    <tr>\n",
       "      <th>2</th>\n",
       "      <td>190.0</td>\n",
       "      <td>Dso</td>\n",
       "      <td>8.0</td>\n",
       "      <td>12.0</td>\n",
       "      <td>Beta</td>\n",
       "      <td>2010-01-03 00:30</td>\n",
       "      <td>1.0</td>\n",
       "      <td>0.0</td>\n",
       "      <td>0.0</td>\n",
       "      <td>1</td>\n",
       "    </tr>\n",
       "    <tr>\n",
       "      <th>3</th>\n",
       "      <td>220.0</td>\n",
       "      <td>Dso</td>\n",
       "      <td>7.0</td>\n",
       "      <td>10.0</td>\n",
       "      <td>Beta</td>\n",
       "      <td>2010-01-04 00:30</td>\n",
       "      <td>1.0</td>\n",
       "      <td>0.0</td>\n",
       "      <td>0.0</td>\n",
       "      <td>1</td>\n",
       "    </tr>\n",
       "    <tr>\n",
       "      <th>4</th>\n",
       "      <td>150.0</td>\n",
       "      <td>Dso</td>\n",
       "      <td>7.0</td>\n",
       "      <td>5.0</td>\n",
       "      <td>Beta</td>\n",
       "      <td>2010-01-05 00:30</td>\n",
       "      <td>0.0</td>\n",
       "      <td>0.0</td>\n",
       "      <td>0.0</td>\n",
       "      <td>0</td>\n",
       "    </tr>\n",
       "  </tbody>\n",
       "</table>\n",
       "</div>"
      ],
      "text/plain": [
       "    Area    Z  Longitudinal Extent  Number of Sunspots Mag Type  \\\n",
       "0  130.0  Dai                  6.0                 8.0     Beta   \n",
       "1  120.0  Dso                  9.0                 6.0     Beta   \n",
       "2  190.0  Dso                  8.0                12.0     Beta   \n",
       "3  220.0  Dso                  7.0                10.0     Beta   \n",
       "4  150.0  Dso                  7.0                 5.0     Beta   \n",
       "\n",
       "          matchtime   C+   M+   X+  flare  \n",
       "0  2010-01-01 00:30  0.0  0.0  0.0      0  \n",
       "1  2010-01-02 00:30  2.0  0.0  0.0      1  \n",
       "2  2010-01-03 00:30  1.0  0.0  0.0      1  \n",
       "3  2010-01-04 00:30  1.0  0.0  0.0      1  \n",
       "4  2010-01-05 00:30  0.0  0.0  0.0      0  "
      ]
     },
     "execution_count": 300,
     "metadata": {},
     "output_type": "execute_result"
    }
   ],
   "source": [
    "first_db.head()"
   ]
  },
  {
   "cell_type": "markdown",
   "id": "c6a5a366",
   "metadata": {},
   "source": [
    "Encode the Hale Classes"
   ]
  },
  {
   "cell_type": "code",
   "execution_count": 301,
   "id": "6e6ba1d3",
   "metadata": {},
   "outputs": [],
   "source": [
    "# encode hale\n",
    "hale_encode = pd.get_dummies(first_db[\"Mag Type\"])\n",
    "first_db = first_db.merge(hale_encode, left_index=True, right_index=True).drop(columns=\"Mag Type\")"
   ]
  },
  {
   "cell_type": "code",
   "execution_count": 302,
   "id": "8e640d92",
   "metadata": {},
   "outputs": [
    {
     "data": {
      "text/html": [
       "<div>\n",
       "<style scoped>\n",
       "    .dataframe tbody tr th:only-of-type {\n",
       "        vertical-align: middle;\n",
       "    }\n",
       "\n",
       "    .dataframe tbody tr th {\n",
       "        vertical-align: top;\n",
       "    }\n",
       "\n",
       "    .dataframe thead th {\n",
       "        text-align: right;\n",
       "    }\n",
       "</style>\n",
       "<table border=\"1\" class=\"dataframe\">\n",
       "  <thead>\n",
       "    <tr style=\"text-align: right;\">\n",
       "      <th></th>\n",
       "      <th>Area</th>\n",
       "      <th>Z</th>\n",
       "      <th>Longitudinal Extent</th>\n",
       "      <th>Number of Sunspots</th>\n",
       "      <th>matchtime</th>\n",
       "      <th>C+</th>\n",
       "      <th>M+</th>\n",
       "      <th>X+</th>\n",
       "      <th>flare</th>\n",
       "      <th>Alpha</th>\n",
       "      <th>Beta</th>\n",
       "      <th>Beta-Delta</th>\n",
       "      <th>Beta-Gamma</th>\n",
       "      <th>Beta-Gamma-Delta</th>\n",
       "    </tr>\n",
       "  </thead>\n",
       "  <tbody>\n",
       "    <tr>\n",
       "      <th>11880</th>\n",
       "      <td>10.0</td>\n",
       "      <td>Bxo</td>\n",
       "      <td>6.0</td>\n",
       "      <td>2.0</td>\n",
       "      <td>2018-12-09 00:30</td>\n",
       "      <td>0.0</td>\n",
       "      <td>0.0</td>\n",
       "      <td>0.0</td>\n",
       "      <td>0</td>\n",
       "      <td>0</td>\n",
       "      <td>1</td>\n",
       "      <td>0</td>\n",
       "      <td>0</td>\n",
       "      <td>0</td>\n",
       "    </tr>\n",
       "    <tr>\n",
       "      <th>11881</th>\n",
       "      <td>10.0</td>\n",
       "      <td>Bxo</td>\n",
       "      <td>6.0</td>\n",
       "      <td>2.0</td>\n",
       "      <td>2018-12-10 00:30</td>\n",
       "      <td>0.0</td>\n",
       "      <td>0.0</td>\n",
       "      <td>0.0</td>\n",
       "      <td>0</td>\n",
       "      <td>0</td>\n",
       "      <td>1</td>\n",
       "      <td>0</td>\n",
       "      <td>0</td>\n",
       "      <td>0</td>\n",
       "    </tr>\n",
       "    <tr>\n",
       "      <th>11882</th>\n",
       "      <td>10.0</td>\n",
       "      <td>Axx</td>\n",
       "      <td>2.0</td>\n",
       "      <td>1.0</td>\n",
       "      <td>2018-12-12 00:30</td>\n",
       "      <td>0.0</td>\n",
       "      <td>0.0</td>\n",
       "      <td>0.0</td>\n",
       "      <td>0</td>\n",
       "      <td>1</td>\n",
       "      <td>0</td>\n",
       "      <td>0</td>\n",
       "      <td>0</td>\n",
       "      <td>0</td>\n",
       "    </tr>\n",
       "    <tr>\n",
       "      <th>11883</th>\n",
       "      <td>10.0</td>\n",
       "      <td>Bxo</td>\n",
       "      <td>5.0</td>\n",
       "      <td>2.0</td>\n",
       "      <td>2018-12-15 00:30</td>\n",
       "      <td>0.0</td>\n",
       "      <td>0.0</td>\n",
       "      <td>0.0</td>\n",
       "      <td>0</td>\n",
       "      <td>0</td>\n",
       "      <td>1</td>\n",
       "      <td>0</td>\n",
       "      <td>0</td>\n",
       "      <td>0</td>\n",
       "    </tr>\n",
       "    <tr>\n",
       "      <th>11884</th>\n",
       "      <td>10.0</td>\n",
       "      <td>Axx</td>\n",
       "      <td>1.0</td>\n",
       "      <td>2.0</td>\n",
       "      <td>2018-12-16 00:30</td>\n",
       "      <td>0.0</td>\n",
       "      <td>0.0</td>\n",
       "      <td>0.0</td>\n",
       "      <td>0</td>\n",
       "      <td>1</td>\n",
       "      <td>0</td>\n",
       "      <td>0</td>\n",
       "      <td>0</td>\n",
       "      <td>0</td>\n",
       "    </tr>\n",
       "  </tbody>\n",
       "</table>\n",
       "</div>"
      ],
      "text/plain": [
       "       Area    Z  Longitudinal Extent  Number of Sunspots         matchtime  \\\n",
       "11880  10.0  Bxo                  6.0                 2.0  2018-12-09 00:30   \n",
       "11881  10.0  Bxo                  6.0                 2.0  2018-12-10 00:30   \n",
       "11882  10.0  Axx                  2.0                 1.0  2018-12-12 00:30   \n",
       "11883  10.0  Bxo                  5.0                 2.0  2018-12-15 00:30   \n",
       "11884  10.0  Axx                  1.0                 2.0  2018-12-16 00:30   \n",
       "\n",
       "        C+   M+   X+  flare  Alpha  Beta  Beta-Delta  Beta-Gamma  \\\n",
       "11880  0.0  0.0  0.0      0      0     1           0           0   \n",
       "11881  0.0  0.0  0.0      0      0     1           0           0   \n",
       "11882  0.0  0.0  0.0      0      1     0           0           0   \n",
       "11883  0.0  0.0  0.0      0      0     1           0           0   \n",
       "11884  0.0  0.0  0.0      0      1     0           0           0   \n",
       "\n",
       "       Beta-Gamma-Delta  \n",
       "11880                 0  \n",
       "11881                 0  \n",
       "11882                 0  \n",
       "11883                 0  \n",
       "11884                 0  "
      ]
     },
     "execution_count": 302,
     "metadata": {},
     "output_type": "execute_result"
    }
   ],
   "source": [
    "first_db.tail()"
   ]
  },
  {
   "cell_type": "code",
   "execution_count": 303,
   "id": "3452ecc0",
   "metadata": {},
   "outputs": [],
   "source": [
    "# encode mcintosh\n",
    "hale_encode = pd.get_dummies(first_db[\"Z\"])\n",
    "first_db = first_db.merge(hale_encode, left_index=True, right_index=True).drop(columns=\"Z\")"
   ]
  },
  {
   "cell_type": "code",
   "execution_count": 304,
   "id": "f3ceeffa",
   "metadata": {},
   "outputs": [],
   "source": [
    "# encode mcintosh - this will need to be fixed\n",
    "# hale_encode = pd.get_dummies(first_db[\"zurich\"])\n",
    "# first_db = first_db.merge(hale_encode, left_index=True, right_index=True).drop(columns=\"zurich\")\n",
    "\n",
    "# hale_encode2 = pd.get_dummies(first_db[\"penumbral\"])\n",
    "# first_db = first_db.merge(hale_encode2, left_index=True, right_index=True).drop(columns=\"penumbral\")\n",
    "\n",
    "# hale_encode3 = pd.get_dummies(first_db[\"compact\"])\n",
    "# first_db = first_db.merge(hale_encode3, left_index=True, right_index=True).drop(columns=\"compact\")"
   ]
  },
  {
   "cell_type": "code",
   "execution_count": 305,
   "id": "def31e7f",
   "metadata": {},
   "outputs": [
    {
     "data": {
      "text/html": [
       "<div>\n",
       "<style scoped>\n",
       "    .dataframe tbody tr th:only-of-type {\n",
       "        vertical-align: middle;\n",
       "    }\n",
       "\n",
       "    .dataframe tbody tr th {\n",
       "        vertical-align: top;\n",
       "    }\n",
       "\n",
       "    .dataframe thead th {\n",
       "        text-align: right;\n",
       "    }\n",
       "</style>\n",
       "<table border=\"1\" class=\"dataframe\">\n",
       "  <thead>\n",
       "    <tr style=\"text-align: right;\">\n",
       "      <th></th>\n",
       "      <th>Area</th>\n",
       "      <th>Longitudinal Extent</th>\n",
       "      <th>Number of Sunspots</th>\n",
       "      <th>matchtime</th>\n",
       "      <th>C+</th>\n",
       "      <th>M+</th>\n",
       "      <th>X+</th>\n",
       "      <th>flare</th>\n",
       "      <th>Alpha</th>\n",
       "      <th>Beta</th>\n",
       "      <th>...</th>\n",
       "      <th>Fko</th>\n",
       "      <th>Fsc</th>\n",
       "      <th>Fsi</th>\n",
       "      <th>Fso</th>\n",
       "      <th>Hax</th>\n",
       "      <th>Hhx</th>\n",
       "      <th>Hkx</th>\n",
       "      <th>Hrx</th>\n",
       "      <th>Hso</th>\n",
       "      <th>Hsx</th>\n",
       "    </tr>\n",
       "  </thead>\n",
       "  <tbody>\n",
       "    <tr>\n",
       "      <th>0</th>\n",
       "      <td>130.0</td>\n",
       "      <td>6.0</td>\n",
       "      <td>8.0</td>\n",
       "      <td>2010-01-01 00:30</td>\n",
       "      <td>0.0</td>\n",
       "      <td>0.0</td>\n",
       "      <td>0.0</td>\n",
       "      <td>0</td>\n",
       "      <td>0</td>\n",
       "      <td>1</td>\n",
       "      <td>...</td>\n",
       "      <td>0</td>\n",
       "      <td>0</td>\n",
       "      <td>0</td>\n",
       "      <td>0</td>\n",
       "      <td>0</td>\n",
       "      <td>0</td>\n",
       "      <td>0</td>\n",
       "      <td>0</td>\n",
       "      <td>0</td>\n",
       "      <td>0</td>\n",
       "    </tr>\n",
       "    <tr>\n",
       "      <th>1</th>\n",
       "      <td>120.0</td>\n",
       "      <td>9.0</td>\n",
       "      <td>6.0</td>\n",
       "      <td>2010-01-02 00:30</td>\n",
       "      <td>2.0</td>\n",
       "      <td>0.0</td>\n",
       "      <td>0.0</td>\n",
       "      <td>1</td>\n",
       "      <td>0</td>\n",
       "      <td>1</td>\n",
       "      <td>...</td>\n",
       "      <td>0</td>\n",
       "      <td>0</td>\n",
       "      <td>0</td>\n",
       "      <td>0</td>\n",
       "      <td>0</td>\n",
       "      <td>0</td>\n",
       "      <td>0</td>\n",
       "      <td>0</td>\n",
       "      <td>0</td>\n",
       "      <td>0</td>\n",
       "    </tr>\n",
       "    <tr>\n",
       "      <th>2</th>\n",
       "      <td>190.0</td>\n",
       "      <td>8.0</td>\n",
       "      <td>12.0</td>\n",
       "      <td>2010-01-03 00:30</td>\n",
       "      <td>1.0</td>\n",
       "      <td>0.0</td>\n",
       "      <td>0.0</td>\n",
       "      <td>1</td>\n",
       "      <td>0</td>\n",
       "      <td>1</td>\n",
       "      <td>...</td>\n",
       "      <td>0</td>\n",
       "      <td>0</td>\n",
       "      <td>0</td>\n",
       "      <td>0</td>\n",
       "      <td>0</td>\n",
       "      <td>0</td>\n",
       "      <td>0</td>\n",
       "      <td>0</td>\n",
       "      <td>0</td>\n",
       "      <td>0</td>\n",
       "    </tr>\n",
       "    <tr>\n",
       "      <th>3</th>\n",
       "      <td>220.0</td>\n",
       "      <td>7.0</td>\n",
       "      <td>10.0</td>\n",
       "      <td>2010-01-04 00:30</td>\n",
       "      <td>1.0</td>\n",
       "      <td>0.0</td>\n",
       "      <td>0.0</td>\n",
       "      <td>1</td>\n",
       "      <td>0</td>\n",
       "      <td>1</td>\n",
       "      <td>...</td>\n",
       "      <td>0</td>\n",
       "      <td>0</td>\n",
       "      <td>0</td>\n",
       "      <td>0</td>\n",
       "      <td>0</td>\n",
       "      <td>0</td>\n",
       "      <td>0</td>\n",
       "      <td>0</td>\n",
       "      <td>0</td>\n",
       "      <td>0</td>\n",
       "    </tr>\n",
       "    <tr>\n",
       "      <th>4</th>\n",
       "      <td>150.0</td>\n",
       "      <td>7.0</td>\n",
       "      <td>5.0</td>\n",
       "      <td>2010-01-05 00:30</td>\n",
       "      <td>0.0</td>\n",
       "      <td>0.0</td>\n",
       "      <td>0.0</td>\n",
       "      <td>0</td>\n",
       "      <td>0</td>\n",
       "      <td>1</td>\n",
       "      <td>...</td>\n",
       "      <td>0</td>\n",
       "      <td>0</td>\n",
       "      <td>0</td>\n",
       "      <td>0</td>\n",
       "      <td>0</td>\n",
       "      <td>0</td>\n",
       "      <td>0</td>\n",
       "      <td>0</td>\n",
       "      <td>0</td>\n",
       "      <td>0</td>\n",
       "    </tr>\n",
       "    <tr>\n",
       "      <th>...</th>\n",
       "      <td>...</td>\n",
       "      <td>...</td>\n",
       "      <td>...</td>\n",
       "      <td>...</td>\n",
       "      <td>...</td>\n",
       "      <td>...</td>\n",
       "      <td>...</td>\n",
       "      <td>...</td>\n",
       "      <td>...</td>\n",
       "      <td>...</td>\n",
       "      <td>...</td>\n",
       "      <td>...</td>\n",
       "      <td>...</td>\n",
       "      <td>...</td>\n",
       "      <td>...</td>\n",
       "      <td>...</td>\n",
       "      <td>...</td>\n",
       "      <td>...</td>\n",
       "      <td>...</td>\n",
       "      <td>...</td>\n",
       "      <td>...</td>\n",
       "    </tr>\n",
       "    <tr>\n",
       "      <th>11880</th>\n",
       "      <td>10.0</td>\n",
       "      <td>6.0</td>\n",
       "      <td>2.0</td>\n",
       "      <td>2018-12-09 00:30</td>\n",
       "      <td>0.0</td>\n",
       "      <td>0.0</td>\n",
       "      <td>0.0</td>\n",
       "      <td>0</td>\n",
       "      <td>0</td>\n",
       "      <td>1</td>\n",
       "      <td>...</td>\n",
       "      <td>0</td>\n",
       "      <td>0</td>\n",
       "      <td>0</td>\n",
       "      <td>0</td>\n",
       "      <td>0</td>\n",
       "      <td>0</td>\n",
       "      <td>0</td>\n",
       "      <td>0</td>\n",
       "      <td>0</td>\n",
       "      <td>0</td>\n",
       "    </tr>\n",
       "    <tr>\n",
       "      <th>11881</th>\n",
       "      <td>10.0</td>\n",
       "      <td>6.0</td>\n",
       "      <td>2.0</td>\n",
       "      <td>2018-12-10 00:30</td>\n",
       "      <td>0.0</td>\n",
       "      <td>0.0</td>\n",
       "      <td>0.0</td>\n",
       "      <td>0</td>\n",
       "      <td>0</td>\n",
       "      <td>1</td>\n",
       "      <td>...</td>\n",
       "      <td>0</td>\n",
       "      <td>0</td>\n",
       "      <td>0</td>\n",
       "      <td>0</td>\n",
       "      <td>0</td>\n",
       "      <td>0</td>\n",
       "      <td>0</td>\n",
       "      <td>0</td>\n",
       "      <td>0</td>\n",
       "      <td>0</td>\n",
       "    </tr>\n",
       "    <tr>\n",
       "      <th>11882</th>\n",
       "      <td>10.0</td>\n",
       "      <td>2.0</td>\n",
       "      <td>1.0</td>\n",
       "      <td>2018-12-12 00:30</td>\n",
       "      <td>0.0</td>\n",
       "      <td>0.0</td>\n",
       "      <td>0.0</td>\n",
       "      <td>0</td>\n",
       "      <td>1</td>\n",
       "      <td>0</td>\n",
       "      <td>...</td>\n",
       "      <td>0</td>\n",
       "      <td>0</td>\n",
       "      <td>0</td>\n",
       "      <td>0</td>\n",
       "      <td>0</td>\n",
       "      <td>0</td>\n",
       "      <td>0</td>\n",
       "      <td>0</td>\n",
       "      <td>0</td>\n",
       "      <td>0</td>\n",
       "    </tr>\n",
       "    <tr>\n",
       "      <th>11883</th>\n",
       "      <td>10.0</td>\n",
       "      <td>5.0</td>\n",
       "      <td>2.0</td>\n",
       "      <td>2018-12-15 00:30</td>\n",
       "      <td>0.0</td>\n",
       "      <td>0.0</td>\n",
       "      <td>0.0</td>\n",
       "      <td>0</td>\n",
       "      <td>0</td>\n",
       "      <td>1</td>\n",
       "      <td>...</td>\n",
       "      <td>0</td>\n",
       "      <td>0</td>\n",
       "      <td>0</td>\n",
       "      <td>0</td>\n",
       "      <td>0</td>\n",
       "      <td>0</td>\n",
       "      <td>0</td>\n",
       "      <td>0</td>\n",
       "      <td>0</td>\n",
       "      <td>0</td>\n",
       "    </tr>\n",
       "    <tr>\n",
       "      <th>11884</th>\n",
       "      <td>10.0</td>\n",
       "      <td>1.0</td>\n",
       "      <td>2.0</td>\n",
       "      <td>2018-12-16 00:30</td>\n",
       "      <td>0.0</td>\n",
       "      <td>0.0</td>\n",
       "      <td>0.0</td>\n",
       "      <td>0</td>\n",
       "      <td>1</td>\n",
       "      <td>0</td>\n",
       "      <td>...</td>\n",
       "      <td>0</td>\n",
       "      <td>0</td>\n",
       "      <td>0</td>\n",
       "      <td>0</td>\n",
       "      <td>0</td>\n",
       "      <td>0</td>\n",
       "      <td>0</td>\n",
       "      <td>0</td>\n",
       "      <td>0</td>\n",
       "      <td>0</td>\n",
       "    </tr>\n",
       "  </tbody>\n",
       "</table>\n",
       "<p>11885 rows × 72 columns</p>\n",
       "</div>"
      ],
      "text/plain": [
       "        Area  Longitudinal Extent  Number of Sunspots         matchtime   C+  \\\n",
       "0      130.0                  6.0                 8.0  2010-01-01 00:30  0.0   \n",
       "1      120.0                  9.0                 6.0  2010-01-02 00:30  2.0   \n",
       "2      190.0                  8.0                12.0  2010-01-03 00:30  1.0   \n",
       "3      220.0                  7.0                10.0  2010-01-04 00:30  1.0   \n",
       "4      150.0                  7.0                 5.0  2010-01-05 00:30  0.0   \n",
       "...      ...                  ...                 ...               ...  ...   \n",
       "11880   10.0                  6.0                 2.0  2018-12-09 00:30  0.0   \n",
       "11881   10.0                  6.0                 2.0  2018-12-10 00:30  0.0   \n",
       "11882   10.0                  2.0                 1.0  2018-12-12 00:30  0.0   \n",
       "11883   10.0                  5.0                 2.0  2018-12-15 00:30  0.0   \n",
       "11884   10.0                  1.0                 2.0  2018-12-16 00:30  0.0   \n",
       "\n",
       "        M+   X+  flare  Alpha  Beta  ...  Fko  Fsc  Fsi  Fso  Hax  Hhx  Hkx  \\\n",
       "0      0.0  0.0      0      0     1  ...    0    0    0    0    0    0    0   \n",
       "1      0.0  0.0      1      0     1  ...    0    0    0    0    0    0    0   \n",
       "2      0.0  0.0      1      0     1  ...    0    0    0    0    0    0    0   \n",
       "3      0.0  0.0      1      0     1  ...    0    0    0    0    0    0    0   \n",
       "4      0.0  0.0      0      0     1  ...    0    0    0    0    0    0    0   \n",
       "...    ...  ...    ...    ...   ...  ...  ...  ...  ...  ...  ...  ...  ...   \n",
       "11880  0.0  0.0      0      0     1  ...    0    0    0    0    0    0    0   \n",
       "11881  0.0  0.0      0      0     1  ...    0    0    0    0    0    0    0   \n",
       "11882  0.0  0.0      0      1     0  ...    0    0    0    0    0    0    0   \n",
       "11883  0.0  0.0      0      0     1  ...    0    0    0    0    0    0    0   \n",
       "11884  0.0  0.0      0      1     0  ...    0    0    0    0    0    0    0   \n",
       "\n",
       "       Hrx  Hso  Hsx  \n",
       "0        0    0    0  \n",
       "1        0    0    0  \n",
       "2        0    0    0  \n",
       "3        0    0    0  \n",
       "4        0    0    0  \n",
       "...    ...  ...  ...  \n",
       "11880    0    0    0  \n",
       "11881    0    0    0  \n",
       "11882    0    0    0  \n",
       "11883    0    0    0  \n",
       "11884    0    0    0  \n",
       "\n",
       "[11885 rows x 72 columns]"
      ]
     },
     "execution_count": 305,
     "metadata": {},
     "output_type": "execute_result"
    }
   ],
   "source": [
    "first_db"
   ]
  },
  {
   "cell_type": "code",
   "execution_count": 306,
   "id": "6cc21730",
   "metadata": {},
   "outputs": [],
   "source": [
    "first_db[\"matchtime\"] = pd.to_datetime(first_db[\"matchtime\"])"
   ]
  },
  {
   "cell_type": "code",
   "execution_count": 307,
   "id": "b772b8d7",
   "metadata": {},
   "outputs": [],
   "source": [
    "test_db = first_db[(first_db[\"matchtime\"]>\"2016-01-01\")&(first_db[\"matchtime\"]<\"2017-12-31\")]\n",
    "train_db = first_db[~(first_db[\"matchtime\"]>\"2016-01-01\")&(first_db[\"matchtime\"]<\"2017-12-31\")]"
   ]
  },
  {
   "cell_type": "code",
   "execution_count": 308,
   "id": "67b39c99",
   "metadata": {},
   "outputs": [
    {
     "name": "stdout",
     "output_type": "stream",
     "text": [
      "1388 10332 11.678586453512832 86.93310896087505\n",
      "169 0.06714342471195868\n"
     ]
    }
   ],
   "source": [
    "print(len(test_db), len(train_db), 100*len(test_db)/len(first_db), 100*len(train_db)/len(first_db))\n",
    "print(np.sum(test_db[\"flare\"]), np.sum(test_db[\"flare\"])/np.sum(first_db[\"flare\"]))"
   ]
  },
  {
   "cell_type": "code",
   "execution_count": 309,
   "id": "c9816cd9",
   "metadata": {},
   "outputs": [
    {
     "data": {
      "text/html": [
       "<div>\n",
       "<style scoped>\n",
       "    .dataframe tbody tr th:only-of-type {\n",
       "        vertical-align: middle;\n",
       "    }\n",
       "\n",
       "    .dataframe tbody tr th {\n",
       "        vertical-align: top;\n",
       "    }\n",
       "\n",
       "    .dataframe thead th {\n",
       "        text-align: right;\n",
       "    }\n",
       "</style>\n",
       "<table border=\"1\" class=\"dataframe\">\n",
       "  <thead>\n",
       "    <tr style=\"text-align: right;\">\n",
       "      <th></th>\n",
       "      <th>Area</th>\n",
       "      <th>Longitudinal Extent</th>\n",
       "      <th>Number of Sunspots</th>\n",
       "      <th>matchtime</th>\n",
       "      <th>C+</th>\n",
       "      <th>M+</th>\n",
       "      <th>X+</th>\n",
       "      <th>flare</th>\n",
       "      <th>Alpha</th>\n",
       "      <th>Beta</th>\n",
       "      <th>...</th>\n",
       "      <th>Fko</th>\n",
       "      <th>Fsc</th>\n",
       "      <th>Fsi</th>\n",
       "      <th>Fso</th>\n",
       "      <th>Hax</th>\n",
       "      <th>Hhx</th>\n",
       "      <th>Hkx</th>\n",
       "      <th>Hrx</th>\n",
       "      <th>Hso</th>\n",
       "      <th>Hsx</th>\n",
       "    </tr>\n",
       "  </thead>\n",
       "  <tbody>\n",
       "    <tr>\n",
       "      <th>0</th>\n",
       "      <td>130.0</td>\n",
       "      <td>6.0</td>\n",
       "      <td>8.0</td>\n",
       "      <td>2010-01-01 00:30:00</td>\n",
       "      <td>0.0</td>\n",
       "      <td>0.0</td>\n",
       "      <td>0.0</td>\n",
       "      <td>0</td>\n",
       "      <td>0</td>\n",
       "      <td>1</td>\n",
       "      <td>...</td>\n",
       "      <td>0</td>\n",
       "      <td>0</td>\n",
       "      <td>0</td>\n",
       "      <td>0</td>\n",
       "      <td>0</td>\n",
       "      <td>0</td>\n",
       "      <td>0</td>\n",
       "      <td>0</td>\n",
       "      <td>0</td>\n",
       "      <td>0</td>\n",
       "    </tr>\n",
       "    <tr>\n",
       "      <th>1</th>\n",
       "      <td>120.0</td>\n",
       "      <td>9.0</td>\n",
       "      <td>6.0</td>\n",
       "      <td>2010-01-02 00:30:00</td>\n",
       "      <td>2.0</td>\n",
       "      <td>0.0</td>\n",
       "      <td>0.0</td>\n",
       "      <td>1</td>\n",
       "      <td>0</td>\n",
       "      <td>1</td>\n",
       "      <td>...</td>\n",
       "      <td>0</td>\n",
       "      <td>0</td>\n",
       "      <td>0</td>\n",
       "      <td>0</td>\n",
       "      <td>0</td>\n",
       "      <td>0</td>\n",
       "      <td>0</td>\n",
       "      <td>0</td>\n",
       "      <td>0</td>\n",
       "      <td>0</td>\n",
       "    </tr>\n",
       "    <tr>\n",
       "      <th>2</th>\n",
       "      <td>190.0</td>\n",
       "      <td>8.0</td>\n",
       "      <td>12.0</td>\n",
       "      <td>2010-01-03 00:30:00</td>\n",
       "      <td>1.0</td>\n",
       "      <td>0.0</td>\n",
       "      <td>0.0</td>\n",
       "      <td>1</td>\n",
       "      <td>0</td>\n",
       "      <td>1</td>\n",
       "      <td>...</td>\n",
       "      <td>0</td>\n",
       "      <td>0</td>\n",
       "      <td>0</td>\n",
       "      <td>0</td>\n",
       "      <td>0</td>\n",
       "      <td>0</td>\n",
       "      <td>0</td>\n",
       "      <td>0</td>\n",
       "      <td>0</td>\n",
       "      <td>0</td>\n",
       "    </tr>\n",
       "    <tr>\n",
       "      <th>3</th>\n",
       "      <td>220.0</td>\n",
       "      <td>7.0</td>\n",
       "      <td>10.0</td>\n",
       "      <td>2010-01-04 00:30:00</td>\n",
       "      <td>1.0</td>\n",
       "      <td>0.0</td>\n",
       "      <td>0.0</td>\n",
       "      <td>1</td>\n",
       "      <td>0</td>\n",
       "      <td>1</td>\n",
       "      <td>...</td>\n",
       "      <td>0</td>\n",
       "      <td>0</td>\n",
       "      <td>0</td>\n",
       "      <td>0</td>\n",
       "      <td>0</td>\n",
       "      <td>0</td>\n",
       "      <td>0</td>\n",
       "      <td>0</td>\n",
       "      <td>0</td>\n",
       "      <td>0</td>\n",
       "    </tr>\n",
       "    <tr>\n",
       "      <th>4</th>\n",
       "      <td>150.0</td>\n",
       "      <td>7.0</td>\n",
       "      <td>5.0</td>\n",
       "      <td>2010-01-05 00:30:00</td>\n",
       "      <td>0.0</td>\n",
       "      <td>0.0</td>\n",
       "      <td>0.0</td>\n",
       "      <td>0</td>\n",
       "      <td>0</td>\n",
       "      <td>1</td>\n",
       "      <td>...</td>\n",
       "      <td>0</td>\n",
       "      <td>0</td>\n",
       "      <td>0</td>\n",
       "      <td>0</td>\n",
       "      <td>0</td>\n",
       "      <td>0</td>\n",
       "      <td>0</td>\n",
       "      <td>0</td>\n",
       "      <td>0</td>\n",
       "      <td>0</td>\n",
       "    </tr>\n",
       "    <tr>\n",
       "      <th>...</th>\n",
       "      <td>...</td>\n",
       "      <td>...</td>\n",
       "      <td>...</td>\n",
       "      <td>...</td>\n",
       "      <td>...</td>\n",
       "      <td>...</td>\n",
       "      <td>...</td>\n",
       "      <td>...</td>\n",
       "      <td>...</td>\n",
       "      <td>...</td>\n",
       "      <td>...</td>\n",
       "      <td>...</td>\n",
       "      <td>...</td>\n",
       "      <td>...</td>\n",
       "      <td>...</td>\n",
       "      <td>...</td>\n",
       "      <td>...</td>\n",
       "      <td>...</td>\n",
       "      <td>...</td>\n",
       "      <td>...</td>\n",
       "      <td>...</td>\n",
       "    </tr>\n",
       "    <tr>\n",
       "      <th>11880</th>\n",
       "      <td>10.0</td>\n",
       "      <td>6.0</td>\n",
       "      <td>2.0</td>\n",
       "      <td>2018-12-09 00:30:00</td>\n",
       "      <td>0.0</td>\n",
       "      <td>0.0</td>\n",
       "      <td>0.0</td>\n",
       "      <td>0</td>\n",
       "      <td>0</td>\n",
       "      <td>1</td>\n",
       "      <td>...</td>\n",
       "      <td>0</td>\n",
       "      <td>0</td>\n",
       "      <td>0</td>\n",
       "      <td>0</td>\n",
       "      <td>0</td>\n",
       "      <td>0</td>\n",
       "      <td>0</td>\n",
       "      <td>0</td>\n",
       "      <td>0</td>\n",
       "      <td>0</td>\n",
       "    </tr>\n",
       "    <tr>\n",
       "      <th>11881</th>\n",
       "      <td>10.0</td>\n",
       "      <td>6.0</td>\n",
       "      <td>2.0</td>\n",
       "      <td>2018-12-10 00:30:00</td>\n",
       "      <td>0.0</td>\n",
       "      <td>0.0</td>\n",
       "      <td>0.0</td>\n",
       "      <td>0</td>\n",
       "      <td>0</td>\n",
       "      <td>1</td>\n",
       "      <td>...</td>\n",
       "      <td>0</td>\n",
       "      <td>0</td>\n",
       "      <td>0</td>\n",
       "      <td>0</td>\n",
       "      <td>0</td>\n",
       "      <td>0</td>\n",
       "      <td>0</td>\n",
       "      <td>0</td>\n",
       "      <td>0</td>\n",
       "      <td>0</td>\n",
       "    </tr>\n",
       "    <tr>\n",
       "      <th>11882</th>\n",
       "      <td>10.0</td>\n",
       "      <td>2.0</td>\n",
       "      <td>1.0</td>\n",
       "      <td>2018-12-12 00:30:00</td>\n",
       "      <td>0.0</td>\n",
       "      <td>0.0</td>\n",
       "      <td>0.0</td>\n",
       "      <td>0</td>\n",
       "      <td>1</td>\n",
       "      <td>0</td>\n",
       "      <td>...</td>\n",
       "      <td>0</td>\n",
       "      <td>0</td>\n",
       "      <td>0</td>\n",
       "      <td>0</td>\n",
       "      <td>0</td>\n",
       "      <td>0</td>\n",
       "      <td>0</td>\n",
       "      <td>0</td>\n",
       "      <td>0</td>\n",
       "      <td>0</td>\n",
       "    </tr>\n",
       "    <tr>\n",
       "      <th>11883</th>\n",
       "      <td>10.0</td>\n",
       "      <td>5.0</td>\n",
       "      <td>2.0</td>\n",
       "      <td>2018-12-15 00:30:00</td>\n",
       "      <td>0.0</td>\n",
       "      <td>0.0</td>\n",
       "      <td>0.0</td>\n",
       "      <td>0</td>\n",
       "      <td>0</td>\n",
       "      <td>1</td>\n",
       "      <td>...</td>\n",
       "      <td>0</td>\n",
       "      <td>0</td>\n",
       "      <td>0</td>\n",
       "      <td>0</td>\n",
       "      <td>0</td>\n",
       "      <td>0</td>\n",
       "      <td>0</td>\n",
       "      <td>0</td>\n",
       "      <td>0</td>\n",
       "      <td>0</td>\n",
       "    </tr>\n",
       "    <tr>\n",
       "      <th>11884</th>\n",
       "      <td>10.0</td>\n",
       "      <td>1.0</td>\n",
       "      <td>2.0</td>\n",
       "      <td>2018-12-16 00:30:00</td>\n",
       "      <td>0.0</td>\n",
       "      <td>0.0</td>\n",
       "      <td>0.0</td>\n",
       "      <td>0</td>\n",
       "      <td>1</td>\n",
       "      <td>0</td>\n",
       "      <td>...</td>\n",
       "      <td>0</td>\n",
       "      <td>0</td>\n",
       "      <td>0</td>\n",
       "      <td>0</td>\n",
       "      <td>0</td>\n",
       "      <td>0</td>\n",
       "      <td>0</td>\n",
       "      <td>0</td>\n",
       "      <td>0</td>\n",
       "      <td>0</td>\n",
       "    </tr>\n",
       "  </tbody>\n",
       "</table>\n",
       "<p>11885 rows × 72 columns</p>\n",
       "</div>"
      ],
      "text/plain": [
       "        Area  Longitudinal Extent  Number of Sunspots           matchtime  \\\n",
       "0      130.0                  6.0                 8.0 2010-01-01 00:30:00   \n",
       "1      120.0                  9.0                 6.0 2010-01-02 00:30:00   \n",
       "2      190.0                  8.0                12.0 2010-01-03 00:30:00   \n",
       "3      220.0                  7.0                10.0 2010-01-04 00:30:00   \n",
       "4      150.0                  7.0                 5.0 2010-01-05 00:30:00   \n",
       "...      ...                  ...                 ...                 ...   \n",
       "11880   10.0                  6.0                 2.0 2018-12-09 00:30:00   \n",
       "11881   10.0                  6.0                 2.0 2018-12-10 00:30:00   \n",
       "11882   10.0                  2.0                 1.0 2018-12-12 00:30:00   \n",
       "11883   10.0                  5.0                 2.0 2018-12-15 00:30:00   \n",
       "11884   10.0                  1.0                 2.0 2018-12-16 00:30:00   \n",
       "\n",
       "        C+   M+   X+  flare  Alpha  Beta  ...  Fko  Fsc  Fsi  Fso  Hax  Hhx  \\\n",
       "0      0.0  0.0  0.0      0      0     1  ...    0    0    0    0    0    0   \n",
       "1      2.0  0.0  0.0      1      0     1  ...    0    0    0    0    0    0   \n",
       "2      1.0  0.0  0.0      1      0     1  ...    0    0    0    0    0    0   \n",
       "3      1.0  0.0  0.0      1      0     1  ...    0    0    0    0    0    0   \n",
       "4      0.0  0.0  0.0      0      0     1  ...    0    0    0    0    0    0   \n",
       "...    ...  ...  ...    ...    ...   ...  ...  ...  ...  ...  ...  ...  ...   \n",
       "11880  0.0  0.0  0.0      0      0     1  ...    0    0    0    0    0    0   \n",
       "11881  0.0  0.0  0.0      0      0     1  ...    0    0    0    0    0    0   \n",
       "11882  0.0  0.0  0.0      0      1     0  ...    0    0    0    0    0    0   \n",
       "11883  0.0  0.0  0.0      0      0     1  ...    0    0    0    0    0    0   \n",
       "11884  0.0  0.0  0.0      0      1     0  ...    0    0    0    0    0    0   \n",
       "\n",
       "       Hkx  Hrx  Hso  Hsx  \n",
       "0        0    0    0    0  \n",
       "1        0    0    0    0  \n",
       "2        0    0    0    0  \n",
       "3        0    0    0    0  \n",
       "4        0    0    0    0  \n",
       "...    ...  ...  ...  ...  \n",
       "11880    0    0    0    0  \n",
       "11881    0    0    0    0  \n",
       "11882    0    0    0    0  \n",
       "11883    0    0    0    0  \n",
       "11884    0    0    0    0  \n",
       "\n",
       "[11885 rows x 72 columns]"
      ]
     },
     "execution_count": 309,
     "metadata": {},
     "output_type": "execute_result"
    }
   ],
   "source": [
    "first_db"
   ]
  },
  {
   "cell_type": "markdown",
   "id": "0cfa0213",
   "metadata": {},
   "source": [
    "## First pass - dont split that way"
   ]
  },
  {
   "cell_type": "code",
   "execution_count": 312,
   "id": "16de0a00",
   "metadata": {},
   "outputs": [],
   "source": [
    "first_db[\"C+\"] = first_db[\"C+\"].map(lambda x: 1 if x>0 else 0)\n",
    "first_db[\"M+\"] = first_db[\"M+\"].map(lambda x: 1 if x>0 else 0)\n",
    "first_db[\"X+\"] = first_db[\"X+\"].map(lambda x: 1 if x>0 else 0)"
   ]
  },
  {
   "cell_type": "code",
   "execution_count": 403,
   "id": "75f7e75a",
   "metadata": {},
   "outputs": [],
   "source": [
    "features = first_db.drop(columns=[\"matchtime\", \"flare\", \"C+\", \"M+\", \"X+\"])\n",
    "labels = first_db[\"flare\"]"
   ]
  },
  {
   "cell_type": "code",
   "execution_count": 404,
   "id": "e2cc675d",
   "metadata": {},
   "outputs": [
    {
     "data": {
      "text/plain": [
       "array([0, 1])"
      ]
     },
     "execution_count": 404,
     "metadata": {},
     "output_type": "execute_result"
    }
   ],
   "source": [
    "labels.unique()"
   ]
  },
  {
   "cell_type": "code",
   "execution_count": 405,
   "id": "086d66ed",
   "metadata": {},
   "outputs": [
    {
     "data": {
      "text/plain": [
       "0    0\n",
       "1    1\n",
       "2    1\n",
       "3    1\n",
       "4    0\n",
       "Name: flare, dtype: int64"
      ]
     },
     "execution_count": 405,
     "metadata": {},
     "output_type": "execute_result"
    }
   ],
   "source": [
    "labels.head()"
   ]
  },
  {
   "cell_type": "code",
   "execution_count": 406,
   "id": "d26fce1f",
   "metadata": {},
   "outputs": [
    {
     "data": {
      "text/html": [
       "<div>\n",
       "<style scoped>\n",
       "    .dataframe tbody tr th:only-of-type {\n",
       "        vertical-align: middle;\n",
       "    }\n",
       "\n",
       "    .dataframe tbody tr th {\n",
       "        vertical-align: top;\n",
       "    }\n",
       "\n",
       "    .dataframe thead th {\n",
       "        text-align: right;\n",
       "    }\n",
       "</style>\n",
       "<table border=\"1\" class=\"dataframe\">\n",
       "  <thead>\n",
       "    <tr style=\"text-align: right;\">\n",
       "      <th></th>\n",
       "      <th>Area</th>\n",
       "      <th>Longitudinal Extent</th>\n",
       "      <th>Number of Sunspots</th>\n",
       "      <th>Alpha</th>\n",
       "      <th>Beta</th>\n",
       "      <th>Beta-Delta</th>\n",
       "      <th>Beta-Gamma</th>\n",
       "      <th>Beta-Gamma-Delta</th>\n",
       "      <th>Axx</th>\n",
       "      <th>Bxi</th>\n",
       "      <th>...</th>\n",
       "      <th>Fko</th>\n",
       "      <th>Fsc</th>\n",
       "      <th>Fsi</th>\n",
       "      <th>Fso</th>\n",
       "      <th>Hax</th>\n",
       "      <th>Hhx</th>\n",
       "      <th>Hkx</th>\n",
       "      <th>Hrx</th>\n",
       "      <th>Hso</th>\n",
       "      <th>Hsx</th>\n",
       "    </tr>\n",
       "  </thead>\n",
       "  <tbody>\n",
       "    <tr>\n",
       "      <th>0</th>\n",
       "      <td>130.0</td>\n",
       "      <td>6.0</td>\n",
       "      <td>8.0</td>\n",
       "      <td>0</td>\n",
       "      <td>1</td>\n",
       "      <td>0</td>\n",
       "      <td>0</td>\n",
       "      <td>0</td>\n",
       "      <td>0</td>\n",
       "      <td>0</td>\n",
       "      <td>...</td>\n",
       "      <td>0</td>\n",
       "      <td>0</td>\n",
       "      <td>0</td>\n",
       "      <td>0</td>\n",
       "      <td>0</td>\n",
       "      <td>0</td>\n",
       "      <td>0</td>\n",
       "      <td>0</td>\n",
       "      <td>0</td>\n",
       "      <td>0</td>\n",
       "    </tr>\n",
       "    <tr>\n",
       "      <th>1</th>\n",
       "      <td>120.0</td>\n",
       "      <td>9.0</td>\n",
       "      <td>6.0</td>\n",
       "      <td>0</td>\n",
       "      <td>1</td>\n",
       "      <td>0</td>\n",
       "      <td>0</td>\n",
       "      <td>0</td>\n",
       "      <td>0</td>\n",
       "      <td>0</td>\n",
       "      <td>...</td>\n",
       "      <td>0</td>\n",
       "      <td>0</td>\n",
       "      <td>0</td>\n",
       "      <td>0</td>\n",
       "      <td>0</td>\n",
       "      <td>0</td>\n",
       "      <td>0</td>\n",
       "      <td>0</td>\n",
       "      <td>0</td>\n",
       "      <td>0</td>\n",
       "    </tr>\n",
       "    <tr>\n",
       "      <th>2</th>\n",
       "      <td>190.0</td>\n",
       "      <td>8.0</td>\n",
       "      <td>12.0</td>\n",
       "      <td>0</td>\n",
       "      <td>1</td>\n",
       "      <td>0</td>\n",
       "      <td>0</td>\n",
       "      <td>0</td>\n",
       "      <td>0</td>\n",
       "      <td>0</td>\n",
       "      <td>...</td>\n",
       "      <td>0</td>\n",
       "      <td>0</td>\n",
       "      <td>0</td>\n",
       "      <td>0</td>\n",
       "      <td>0</td>\n",
       "      <td>0</td>\n",
       "      <td>0</td>\n",
       "      <td>0</td>\n",
       "      <td>0</td>\n",
       "      <td>0</td>\n",
       "    </tr>\n",
       "    <tr>\n",
       "      <th>3</th>\n",
       "      <td>220.0</td>\n",
       "      <td>7.0</td>\n",
       "      <td>10.0</td>\n",
       "      <td>0</td>\n",
       "      <td>1</td>\n",
       "      <td>0</td>\n",
       "      <td>0</td>\n",
       "      <td>0</td>\n",
       "      <td>0</td>\n",
       "      <td>0</td>\n",
       "      <td>...</td>\n",
       "      <td>0</td>\n",
       "      <td>0</td>\n",
       "      <td>0</td>\n",
       "      <td>0</td>\n",
       "      <td>0</td>\n",
       "      <td>0</td>\n",
       "      <td>0</td>\n",
       "      <td>0</td>\n",
       "      <td>0</td>\n",
       "      <td>0</td>\n",
       "    </tr>\n",
       "    <tr>\n",
       "      <th>4</th>\n",
       "      <td>150.0</td>\n",
       "      <td>7.0</td>\n",
       "      <td>5.0</td>\n",
       "      <td>0</td>\n",
       "      <td>1</td>\n",
       "      <td>0</td>\n",
       "      <td>0</td>\n",
       "      <td>0</td>\n",
       "      <td>0</td>\n",
       "      <td>0</td>\n",
       "      <td>...</td>\n",
       "      <td>0</td>\n",
       "      <td>0</td>\n",
       "      <td>0</td>\n",
       "      <td>0</td>\n",
       "      <td>0</td>\n",
       "      <td>0</td>\n",
       "      <td>0</td>\n",
       "      <td>0</td>\n",
       "      <td>0</td>\n",
       "      <td>0</td>\n",
       "    </tr>\n",
       "  </tbody>\n",
       "</table>\n",
       "<p>5 rows × 67 columns</p>\n",
       "</div>"
      ],
      "text/plain": [
       "    Area  Longitudinal Extent  Number of Sunspots  Alpha  Beta  Beta-Delta  \\\n",
       "0  130.0                  6.0                 8.0      0     1           0   \n",
       "1  120.0                  9.0                 6.0      0     1           0   \n",
       "2  190.0                  8.0                12.0      0     1           0   \n",
       "3  220.0                  7.0                10.0      0     1           0   \n",
       "4  150.0                  7.0                 5.0      0     1           0   \n",
       "\n",
       "   Beta-Gamma  Beta-Gamma-Delta  Axx  Bxi  ...  Fko  Fsc  Fsi  Fso  Hax  Hhx  \\\n",
       "0           0                 0    0    0  ...    0    0    0    0    0    0   \n",
       "1           0                 0    0    0  ...    0    0    0    0    0    0   \n",
       "2           0                 0    0    0  ...    0    0    0    0    0    0   \n",
       "3           0                 0    0    0  ...    0    0    0    0    0    0   \n",
       "4           0                 0    0    0  ...    0    0    0    0    0    0   \n",
       "\n",
       "   Hkx  Hrx  Hso  Hsx  \n",
       "0    0    0    0    0  \n",
       "1    0    0    0    0  \n",
       "2    0    0    0    0  \n",
       "3    0    0    0    0  \n",
       "4    0    0    0    0  \n",
       "\n",
       "[5 rows x 67 columns]"
      ]
     },
     "execution_count": 406,
     "metadata": {},
     "output_type": "execute_result"
    }
   ],
   "source": [
    "features.head()"
   ]
  },
  {
   "cell_type": "code",
   "execution_count": 407,
   "id": "273e504d",
   "metadata": {},
   "outputs": [
    {
     "name": "stdout",
     "output_type": "stream",
     "text": [
      "67\n"
     ]
    }
   ],
   "source": [
    "print(len(features.columns))"
   ]
  },
  {
   "cell_type": "markdown",
   "id": "16c0f223",
   "metadata": {},
   "source": [
    "Lets now split this data to train and test (80/20%). First off lets shuffle"
   ]
  },
  {
   "cell_type": "code",
   "execution_count": 430,
   "id": "e602accb",
   "metadata": {},
   "outputs": [],
   "source": [
    "X_train, X_test, Y_train, Y_test = train_test_split(features, labels, test_size=0.1, shuffle=True)"
   ]
  },
  {
   "cell_type": "code",
   "execution_count": 431,
   "id": "068999c9",
   "metadata": {},
   "outputs": [
    {
     "name": "stdout",
     "output_type": "stream",
     "text": [
      "0.21204188481675393 0.2094196804037006\n"
     ]
    }
   ],
   "source": [
    "print(np.sum(Y_train)/len(Y_train), np.sum(Y_test)/len(Y_test))"
   ]
  },
  {
   "cell_type": "code",
   "execution_count": 432,
   "id": "0e014171",
   "metadata": {},
   "outputs": [
    {
     "data": {
      "text/plain": [
       "GradientBoostingClassifier()"
      ]
     },
     "execution_count": 432,
     "metadata": {},
     "output_type": "execute_result"
    }
   ],
   "source": [
    "mdl = GradientBoostingClassifier()\n",
    "mdl.fit(X_train, Y_train)"
   ]
  },
  {
   "cell_type": "code",
   "execution_count": 433,
   "id": "a6aa46a1",
   "metadata": {},
   "outputs": [],
   "source": [
    "prediction = mdl.predict(X_test)"
   ]
  },
  {
   "cell_type": "code",
   "execution_count": 386,
   "id": "48c013c3",
   "metadata": {},
   "outputs": [],
   "source": [
    "probs = mdl.predict_proba(X_test)"
   ]
  },
  {
   "cell_type": "code",
   "execution_count": 387,
   "id": "342d7ffd",
   "metadata": {},
   "outputs": [],
   "source": [
    "from sklearn.metrics import roc_curve, auc"
   ]
  },
  {
   "cell_type": "code",
   "execution_count": 389,
   "id": "5f9c64d9",
   "metadata": {},
   "outputs": [],
   "source": [
    "fpr, tpr, thresholds = roc_curve(Y_test, probs[:, 1])\n",
    "auc_roc = auc(fpr, tpr)"
   ]
  },
  {
   "cell_type": "code",
   "execution_count": 391,
   "id": "21b764bf",
   "metadata": {},
   "outputs": [
    {
     "data": {
      "text/plain": [
       "[<matplotlib.lines.Line2D at 0x14a92a880>]"
      ]
     },
     "execution_count": 391,
     "metadata": {},
     "output_type": "execute_result"
    },
    {
     "data": {
      "image/png": "[encoded data removed]",
      "text/plain": [
       "<Figure size 432x288 with 1 Axes>"
      ]
     },
     "metadata": {
      "needs_background": "light"
     },
     "output_type": "display_data"
    }
   ],
   "source": [
    "plt.plot(fpr, tpr, marker='.')"
   ]
  },
  {
   "cell_type": "code",
   "execution_count": 393,
   "id": "d27f6b06",
   "metadata": {},
   "outputs": [
    {
     "data": {
      "text/plain": [
       "0.9974768713204374"
      ]
     },
     "execution_count": 393,
     "metadata": {},
     "output_type": "execute_result"
    }
   ],
   "source": [
    "mdl.score(X_test, Y_test)"
   ]
  },
  {
   "cell_type": "code",
   "execution_count": 396,
   "id": "7048ef73",
   "metadata": {},
   "outputs": [
    {
     "data": {
      "image/png": "[encoded data removed]",
      "text/plain": [
       "<Figure size 288x360 with 2 Axes>"
      ]
     },
     "metadata": {
      "needs_background": "light"
     },
     "output_type": "display_data"
    }
   ],
   "source": [
    "fig_rel = plt.figure(figsize=(4,5))\n",
    "ax_rel = plt.subplot2grid((4, 1), (0, 0), rowspan=3)\n",
    "\n",
    "ax_sharp = plt.subplot2grid((4, 1), (3, 0))\n"
   ]
  },
  {
   "cell_type": "code",
   "execution_count": 371,
   "id": "85f49fda",
   "metadata": {},
   "outputs": [],
   "source": [
    "from sklearn.metrics import confusion_matrix, plot_confusion_matrix"
   ]
  },
  {
   "cell_type": "code",
   "execution_count": 372,
   "id": "1c6f29dd",
   "metadata": {},
   "outputs": [],
   "source": [
    "CM = confusion_matrix(Y_test, prediction)"
   ]
  },
  {
   "cell_type": "code",
   "execution_count": 373,
   "id": "82b8c0f9",
   "metadata": {},
   "outputs": [
    {
     "data": {
      "text/plain": [
       "0.3324901630129286"
      ]
     },
     "execution_count": 373,
     "metadata": {},
     "output_type": "execute_result"
    }
   ],
   "source": [
    "CM = confusion_matrix(Y_test, prediction)\n",
    "TN = CM[0][0]\n",
    "FN = CM[1][0]\n",
    "TP = CM[1][1]\n",
    "FP = CM[0][1]\n",
    "\n",
    "def get_tss(tp, fp, tn, fn):\n",
    "    return (tp/(tp+fn)) - (fp/(fp+tn))\n",
    "\n",
    "tss = get_tss(TP, FP, TN, FN)\n",
    "tss"
   ]
  },
  {
   "cell_type": "code",
   "execution_count": 374,
   "id": "06be002b",
   "metadata": {},
   "outputs": [
    {
     "data": {
      "text/plain": [
       "<sklearn.metrics._plot.confusion_matrix.ConfusionMatrixDisplay at 0x14800cfa0>"
      ]
     },
     "execution_count": 374,
     "metadata": {},
     "output_type": "execute_result"
    },
    {
     "data": {
      "image/png": "[encoded data removed]",
      "text/plain": [
       "<Figure size 432x288 with 2 Axes>"
      ]
     },
     "metadata": {
      "needs_background": "light"
     },
     "output_type": "display_data"
    }
   ],
   "source": [
    "plot_confusion_matrix(mdl, X_test, Y_test, cmap=plt.cm.Blues,\n",
    "                                 normalize='true')"
   ]
  },
  {
   "cell_type": "code",
   "execution_count": 434,
   "id": "3c0dc775",
   "metadata": {},
   "outputs": [],
   "source": [
    "from sklearn import svm"
   ]
  },
  {
   "cell_type": "code",
   "execution_count": 435,
   "id": "1acb1344",
   "metadata": {},
   "outputs": [
    {
     "data": {
      "text/plain": [
       "SVC(class_weight='balanced')"
      ]
     },
     "execution_count": 435,
     "metadata": {},
     "output_type": "execute_result"
    }
   ],
   "source": [
    "clf = svm.SVC(class_weight=\"balanced\")\n",
    "clf.fit(X_train, Y_train)"
   ]
  },
  {
   "cell_type": "code",
   "execution_count": 436,
   "id": "d31abd04",
   "metadata": {},
   "outputs": [],
   "source": [
    "pred = clf.predict(X_test)"
   ]
  },
  {
   "cell_type": "code",
   "execution_count": 437,
   "id": "d5b6c6e6",
   "metadata": {},
   "outputs": [
    {
     "data": {
      "text/plain": [
       "336"
      ]
     },
     "execution_count": 437,
     "metadata": {},
     "output_type": "execute_result"
    }
   ],
   "source": [
    "np.sum(pred)"
   ]
  },
  {
   "cell_type": "code",
   "execution_count": 438,
   "id": "33954a69",
   "metadata": {},
   "outputs": [
    {
     "data": {
      "text/plain": [
       "249"
      ]
     },
     "execution_count": 438,
     "metadata": {},
     "output_type": "execute_result"
    }
   ],
   "source": [
    "np.sum(Y_test)"
   ]
  },
  {
   "cell_type": "code",
   "execution_count": 439,
   "id": "62aa8571",
   "metadata": {},
   "outputs": [
    {
     "data": {
      "text/plain": [
       "<sklearn.metrics._plot.confusion_matrix.ConfusionMatrixDisplay at 0x14a953c70>"
      ]
     },
     "execution_count": 439,
     "metadata": {},
     "output_type": "execute_result"
    },
    {
     "data": {
      "image/png": "[encoded data removed]",
      "text/plain": [
       "<Figure size 432x288 with 2 Axes>"
      ]
     },
     "metadata": {
      "needs_background": "light"
     },
     "output_type": "display_data"
    }
   ],
   "source": [
    "plot_confusion_matrix(clf, X_test, Y_test, cmap=plt.cm.Blues, normalize='true')"
   ]
  },
  {
   "cell_type": "code",
   "execution_count": 440,
   "id": "3be87fbc",
   "metadata": {},
   "outputs": [
    {
     "data": {
      "text/plain": [
       "<sklearn.metrics._plot.confusion_matrix.ConfusionMatrixDisplay at 0x14abd8a60>"
      ]
     },
     "execution_count": 440,
     "metadata": {},
     "output_type": "execute_result"
    },
    {
     "data": {
      "image/png": "[encoded data removed]",
      "text/plain": [
       "<Figure size 432x288 with 2 Axes>"
      ]
     },
     "metadata": {
      "needs_background": "light"
     },
     "output_type": "display_data"
    }
   ],
   "source": [
    "plot_confusion_matrix(clf, X_test, Y_test, cmap=plt.cm.Blues)"
   ]
  },
  {
   "cell_type": "code",
   "execution_count": 441,
   "id": "eefdaed4",
   "metadata": {},
   "outputs": [
    {
     "data": {
      "text/plain": [
       "0.4553362385713065"
      ]
     },
     "execution_count": 441,
     "metadata": {},
     "output_type": "execute_result"
    }
   ],
   "source": [
    "CM = confusion_matrix(Y_test, pred)\n",
    "TN = CM[0][0]\n",
    "FN = CM[1][0]\n",
    "TP = CM[1][1]\n",
    "FP = CM[0][1]\n",
    "\n",
    "def get_tss(tp, fp, tn, fn):\n",
    "    return (tp/(tp+fn)) - (fp/(fp+tn))\n",
    "\n",
    "tss = get_tss(TP, FP, TN, FN)\n",
    "tss"
   ]
  },
  {
   "cell_type": "code",
   "execution_count": 95,
   "id": "3febd237",
   "metadata": {},
   "outputs": [],
   "source": []
  },
  {
   "cell_type": "code",
   "execution_count": 99,
   "id": "0f04ca2c",
   "metadata": {},
   "outputs": [
    {
     "data": {
      "text/plain": [
       "0.30399434429126904"
      ]
     },
     "execution_count": 99,
     "metadata": {},
     "output_type": "execute_result"
    }
   ],
   "source": [
    "tss = get_tss(TP, FP, TN, FN)\n",
    "tss"
   ]
  },
  {
   "cell_type": "code",
   "execution_count": 97,
   "id": "1f6c4341",
   "metadata": {},
   "outputs": [],
   "source": [
    "def plot_feature_importance(mdl, features, top=-1, title=\"Feature importance\"):\n",
    "    \"\"\"\n",
    "    Function to plot the importance of features from a model. \n",
    "    \n",
    "    Parameters\n",
    "    ----------\n",
    "    mdl : sklearn model that has been already fit\n",
    "    features : `pd.DataFrame` of features. \n",
    "    top : `int`, optional, number of top features to plot.\n",
    "          default is to plot all. \n",
    "    \n",
    "    \"\"\"\n",
    "    feature_importance = mdl.feature_importances_\n",
    "    \n",
    "    sorted_idx = np.argsort(feature_importance)[::-1][0:top]\n",
    "    np.array(features.columns)[sorted_idx]\n",
    "    \n",
    "    pos = np.arange(0, sorted_idx.shape[0]*2, 2)\n",
    "    \n",
    "    fig = plt.figure(figsize=(10, 8))\n",
    "    plt.barh(pos, feature_importance[sorted_idx], 2, align='center')\n",
    "    plt.gca().invert_yaxis()\n",
    "    plt.yticks(pos, np.array(features.columns)[sorted_idx])\n",
    "    plt.title(title)"
   ]
  },
  {
   "cell_type": "code",
   "execution_count": 98,
   "id": "f75ad78c",
   "metadata": {},
   "outputs": [
    {
     "data": {
      "image/png": "[encoded data removed]",
      "text/plain": [
       "<Figure size 720x576 with 1 Axes>"
      ]
     },
     "metadata": {
      "needs_background": "light"
     },
     "output_type": "display_data"
    }
   ],
   "source": [
    "plot_feature_importance(mdl, features)"
   ]
  },
  {
   "cell_type": "code",
   "execution_count": null,
   "id": "ec08abc3",
   "metadata": {},
   "outputs": [],
   "source": []
  },
  {
   "cell_type": "code",
   "execution_count": null,
   "id": "13422077",
   "metadata": {},
   "outputs": [],
   "source": []
  },
  {
   "cell_type": "code",
   "execution_count": null,
   "id": "7cbcae27",
   "metadata": {},
   "outputs": [],
   "source": []
  },
  {
   "cell_type": "code",
   "execution_count": null,
   "id": "91e0540f",
   "metadata": {},
   "outputs": [],
   "source": []
  },
  {
   "cell_type": "code",
   "execution_count": null,
   "id": "640dd6d1",
   "metadata": {},
   "outputs": [],
   "source": []
  },
  {
   "cell_type": "code",
   "execution_count": 442,
   "id": "12d8d9e0",
   "metadata": {},
   "outputs": [],
   "source": [
    "from sklearn import svm, datasets"
   ]
  },
  {
   "cell_type": "code",
   "execution_count": 444,
   "id": "10d6fb89",
   "metadata": {},
   "outputs": [],
   "source": [
    "iris = datasets.load_iris()\n",
    "#Store variables as target y and the first two features as X (sepal length and sepal width of the iris flowers)\n",
    "X = iris.data[:, :2]\n",
    "y = iris.target\n"
   ]
  },
  {
   "cell_type": "code",
   "execution_count": 445,
   "id": "22662c17",
   "metadata": {},
   "outputs": [
    {
     "data": {
      "text/plain": [
       "array([0, 0, 0, 0, 0, 0, 0, 0, 0, 0, 0, 0, 0, 0, 0, 0, 0, 0, 0, 0, 0, 0,\n",
       "       0, 0, 0, 0, 0, 0, 0, 0, 0, 0, 0, 0, 0, 0, 0, 0, 0, 0, 0, 0, 0, 0,\n",
       "       0, 0, 0, 0, 0, 0, 1, 1, 1, 1, 1, 1, 1, 1, 1, 1, 1, 1, 1, 1, 1, 1,\n",
       "       1, 1, 1, 1, 1, 1, 1, 1, 1, 1, 1, 1, 1, 1, 1, 1, 1, 1, 1, 1, 1, 1,\n",
       "       1, 1, 1, 1, 1, 1, 1, 1, 1, 1, 1, 1, 2, 2, 2, 2, 2, 2, 2, 2, 2, 2,\n",
       "       2, 2, 2, 2, 2, 2, 2, 2, 2, 2, 2, 2, 2, 2, 2, 2, 2, 2, 2, 2, 2, 2,\n",
       "       2, 2, 2, 2, 2, 2, 2, 2, 2, 2, 2, 2, 2, 2, 2, 2, 2, 2])"
      ]
     },
     "execution_count": 445,
     "metadata": {},
     "output_type": "execute_result"
    }
   ],
   "source": [
    "y"
   ]
  },
  {
   "cell_type": "code",
   "execution_count": null,
   "id": "828d89ee",
   "metadata": {},
   "outputs": [],
   "source": []
  }
 ],
 "metadata": {
  "kernelspec": {
   "display_name": "Python 3",
   "language": "python",
   "name": "python3"
  },
  "language_info": {
   "codemirror_mode": {
    "name": "ipython",
    "version": 3
   },
   "file_extension": ".py",
   "mimetype": "text/x-python",
   "name": "python",
   "nbconvert_exporter": "python",
   "pygments_lexer": "ipython3",
   "version": "3.9.4"
  }
 },
 "nbformat": 4,
 "nbformat_minor": 5
}
