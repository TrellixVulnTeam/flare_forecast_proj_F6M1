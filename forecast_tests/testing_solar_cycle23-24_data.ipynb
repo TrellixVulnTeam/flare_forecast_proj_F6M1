{
 "cells": [
  {
   "cell_type": "code",
   "execution_count": 105,
   "id": "fc9cb2c3",
   "metadata": {},
   "outputs": [],
   "source": [
    "import pandas as pd \n",
    "import matplotlib.pyplot as plt \n",
    "from matplotlib.colors import LogNorm\n",
    "import numpy as np \n",
    "import seaborn as sns"
   ]
  },
  {
   "cell_type": "markdown",
   "id": "d86bb0e1",
   "metadata": {},
   "source": [
    "This script takes a GOES flare list that has been created using `final_flare_pos.py` and an AR list\n",
    "created using `get_ar_data.py` and merges them to create a flare list that then includes AR data associated with each flare.\n",
    "You can also merge it the other way if you like to create an AR database (for each day) with associated flares. \n",
    "\n",
    "It outputs a csv file of the merged flare and AR property list.\n"
   ]
  },
  {
   "cell_type": "code",
   "execution_count": 42,
   "id": "7c387e52",
   "metadata": {},
   "outputs": [],
   "source": [
    "## read in flarelist\n",
    "flare_list = pd.read_csv(\"/Users/laurahayes/ml_project_flares/flare_analysis/goes_flare_list/swpc_flarelist_19960731_20181231.csv\")\n",
    "# create a column \"matchtime\" which will be used to merge with the AR data\n",
    "flare_list[\"matchtime\"] = pd.to_datetime(flare_list[\"start_time\"], format=\"%Y-%m-%d %H:%M:%S\").dt.strftime(\"%Y-%m-%d 00:30\")\n",
    "\n",
    "# tidying up some other columns (i.e. make AR num a string, and sort out dates of start, peak and end of flare)\n",
    "flare_list[\"noaa_ar\"] = flare_list[\"noaa_ar\"].astype(str)\n",
    "\n",
    "def get_goes_class(x):\n",
    "    try:\n",
    "        if x[0]==\"C\":\n",
    "            return float(x[1:])*1e-6\n",
    "        elif x[0] == \"M\":\n",
    "            return float(x[1:])*(1e-5)\n",
    "        elif x[0] == \"X\":\n",
    "            return float(x[1:])*(1e-4)\n",
    "        else:\n",
    "            return\n",
    "    except:\n",
    "        return np.nan\n",
    "    \n",
    "flare_list[\"goes_class_val\"] = flare_list[\"goes_class\"].map(get_goes_class)"
   ]
  },
  {
   "cell_type": "code",
   "execution_count": 43,
   "id": "95ffa672",
   "metadata": {},
   "outputs": [
    {
     "data": {
      "text/html": [
       "<div>\n",
       "<style scoped>\n",
       "    .dataframe tbody tr th:only-of-type {\n",
       "        vertical-align: middle;\n",
       "    }\n",
       "\n",
       "    .dataframe tbody tr th {\n",
       "        vertical-align: top;\n",
       "    }\n",
       "\n",
       "    .dataframe thead th {\n",
       "        text-align: right;\n",
       "    }\n",
       "</style>\n",
       "<table border=\"1\" class=\"dataframe\">\n",
       "  <thead>\n",
       "    <tr style=\"text-align: right;\">\n",
       "      <th></th>\n",
       "      <th>date</th>\n",
       "      <th>event_no</th>\n",
       "      <th>start_time</th>\n",
       "      <th>max_time</th>\n",
       "      <th>end_time</th>\n",
       "      <th>goes_sat</th>\n",
       "      <th>goes_channel</th>\n",
       "      <th>goes_class_ind</th>\n",
       "      <th>goes_class</th>\n",
       "      <th>integrated_flux</th>\n",
       "      <th>noaa_ar</th>\n",
       "      <th>ts</th>\n",
       "      <th>matchtime</th>\n",
       "      <th>goes_class_val</th>\n",
       "    </tr>\n",
       "  </thead>\n",
       "  <tbody>\n",
       "    <tr>\n",
       "      <th>0</th>\n",
       "      <td>19960806</td>\n",
       "      <td>4370</td>\n",
       "      <td>1996-08-06 19:10:00</td>\n",
       "      <td>2201</td>\n",
       "      <td>1996-08-06 22:43:00</td>\n",
       "      <td>GO9</td>\n",
       "      <td>1-8A</td>\n",
       "      <td>C</td>\n",
       "      <td>C1.5</td>\n",
       "      <td>8.23E-0</td>\n",
       "      <td>0</td>\n",
       "      <td>199608061910</td>\n",
       "      <td>1996-08-06 00:30</td>\n",
       "      <td>0.000002</td>\n",
       "    </tr>\n",
       "    <tr>\n",
       "      <th>1</th>\n",
       "      <td>19960807</td>\n",
       "      <td>4420</td>\n",
       "      <td>1996-08-07 23:16:00</td>\n",
       "      <td>2320</td>\n",
       "      <td>1996-08-07 23:24:00</td>\n",
       "      <td>GO9</td>\n",
       "      <td>1-8A</td>\n",
       "      <td>C</td>\n",
       "      <td>C1.0</td>\n",
       "      <td>2.90E-0</td>\n",
       "      <td>0</td>\n",
       "      <td>199608072316</td>\n",
       "      <td>1996-08-07 00:30</td>\n",
       "      <td>0.000001</td>\n",
       "    </tr>\n",
       "  </tbody>\n",
       "</table>\n",
       "</div>"
      ],
      "text/plain": [
       "       date  event_no           start_time max_time             end_time  \\\n",
       "0  19960806      4370  1996-08-06 19:10:00     2201  1996-08-06 22:43:00   \n",
       "1  19960807      4420  1996-08-07 23:16:00     2320  1996-08-07 23:24:00   \n",
       "\n",
       "  goes_sat goes_channel goes_class_ind goes_class integrated_flux noaa_ar  \\\n",
       "0      GO9         1-8A              C       C1.5         8.23E-0       0   \n",
       "1      GO9         1-8A              C       C1.0         2.90E-0       0   \n",
       "\n",
       "             ts         matchtime  goes_class_val  \n",
       "0  199608061910  1996-08-06 00:30        0.000002  \n",
       "1  199608072316  1996-08-07 00:30        0.000001  "
      ]
     },
     "execution_count": 43,
     "metadata": {},
     "output_type": "execute_result"
    }
   ],
   "source": [
    "flare_list.head(2)"
   ]
  },
  {
   "cell_type": "code",
   "execution_count": 44,
   "id": "0e538806",
   "metadata": {},
   "outputs": [
    {
     "data": {
      "text/html": [
       "<div>\n",
       "<style scoped>\n",
       "    .dataframe tbody tr th:only-of-type {\n",
       "        vertical-align: middle;\n",
       "    }\n",
       "\n",
       "    .dataframe tbody tr th {\n",
       "        vertical-align: top;\n",
       "    }\n",
       "\n",
       "    .dataframe thead th {\n",
       "        text-align: right;\n",
       "    }\n",
       "</style>\n",
       "<table border=\"1\" class=\"dataframe\">\n",
       "  <thead>\n",
       "    <tr style=\"text-align: right;\">\n",
       "      <th></th>\n",
       "      <th>ar_noaanum</th>\n",
       "      <th>LOCATION</th>\n",
       "      <th>Carrington_long</th>\n",
       "      <th>AREA</th>\n",
       "      <th>Z</th>\n",
       "      <th>Longitude_extent</th>\n",
       "      <th>No_sunspots</th>\n",
       "      <th>MAGTYPE</th>\n",
       "      <th>date</th>\n",
       "      <th>matchtime</th>\n",
       "      <th>noaa_ar</th>\n",
       "    </tr>\n",
       "  </thead>\n",
       "  <tbody>\n",
       "    <tr>\n",
       "      <th>0</th>\n",
       "      <td>7935</td>\n",
       "      <td>N11W06</td>\n",
       "      <td>205</td>\n",
       "      <td>10</td>\n",
       "      <td>BXO</td>\n",
       "      <td>8</td>\n",
       "      <td>4.0</td>\n",
       "      <td>BETA</td>\n",
       "      <td>1996-01-02 00:30</td>\n",
       "      <td>1996-01-02 00:30</td>\n",
       "      <td>7935</td>\n",
       "    </tr>\n",
       "    <tr>\n",
       "      <th>1</th>\n",
       "      <td>7937</td>\n",
       "      <td>S09E49</td>\n",
       "      <td>150</td>\n",
       "      <td>0</td>\n",
       "      <td>AXX</td>\n",
       "      <td>1</td>\n",
       "      <td>1.0</td>\n",
       "      <td>ALPHA</td>\n",
       "      <td>1996-01-02 00:30</td>\n",
       "      <td>1996-01-02 00:30</td>\n",
       "      <td>7937</td>\n",
       "    </tr>\n",
       "  </tbody>\n",
       "</table>\n",
       "</div>"
      ],
      "text/plain": [
       "   ar_noaanum LOCATION  Carrington_long  AREA    Z  Longitude_extent  \\\n",
       "0        7935   N11W06              205    10  BXO                 8   \n",
       "1        7937   S09E49              150     0  AXX                 1   \n",
       "\n",
       "   No_sunspots MAGTYPE              date         matchtime noaa_ar  \n",
       "0          4.0    BETA  1996-01-02 00:30  1996-01-02 00:30    7935  \n",
       "1          1.0   ALPHA  1996-01-02 00:30  1996-01-02 00:30    7937  "
      ]
     },
     "execution_count": 44,
     "metadata": {},
     "output_type": "execute_result"
    }
   ],
   "source": [
    "ar_data.head(2)"
   ]
  },
  {
   "cell_type": "code",
   "execution_count": 45,
   "id": "3785cd1a",
   "metadata": {},
   "outputs": [],
   "source": [
    "# read in active region list\n",
    "ar_data = pd.read_csv(\"/Users/laurahayes/ml_project_flares/flare_analysis/AR_analysis/SRS_data_new_19960101_20181231.csv\")\n",
    "\n",
    "# # similarly create a \"matchtime\" columns\n",
    "ar_data[\"matchtime\"] = pd.to_datetime(ar_data[\"date\"]).dt.strftime(\"%Y-%m-%d 00:30\")\n",
    "# # rename AR column so that it can be merged with GOES flare list\n",
    "ar_data[\"noaa_ar\"] = ar_data[\"ar_noaanum\"].astype(str)\n",
    "ar_data.drop(columns=[\"NM\", \"NONE\", \"BETA\"], inplace=True)\n",
    "# ar_data.rename(columns={\"date\":\"AR issue_date\"}, inplace=True)\n",
    "\n"
   ]
  },
  {
   "cell_type": "code",
   "execution_count": 46,
   "id": "6fef8950",
   "metadata": {},
   "outputs": [
    {
     "data": {
      "text/html": [
       "<div>\n",
       "<style scoped>\n",
       "    .dataframe tbody tr th:only-of-type {\n",
       "        vertical-align: middle;\n",
       "    }\n",
       "\n",
       "    .dataframe tbody tr th {\n",
       "        vertical-align: top;\n",
       "    }\n",
       "\n",
       "    .dataframe thead th {\n",
       "        text-align: right;\n",
       "    }\n",
       "</style>\n",
       "<table border=\"1\" class=\"dataframe\">\n",
       "  <thead>\n",
       "    <tr style=\"text-align: right;\">\n",
       "      <th></th>\n",
       "      <th>ar_noaanum</th>\n",
       "      <th>LOCATION</th>\n",
       "      <th>Carrington_long</th>\n",
       "      <th>AREA</th>\n",
       "      <th>Z</th>\n",
       "      <th>Longitude_extent</th>\n",
       "      <th>No_sunspots</th>\n",
       "      <th>MAGTYPE</th>\n",
       "      <th>date</th>\n",
       "      <th>matchtime</th>\n",
       "      <th>noaa_ar</th>\n",
       "    </tr>\n",
       "  </thead>\n",
       "  <tbody>\n",
       "    <tr>\n",
       "      <th>0</th>\n",
       "      <td>7935</td>\n",
       "      <td>N11W06</td>\n",
       "      <td>205</td>\n",
       "      <td>10</td>\n",
       "      <td>BXO</td>\n",
       "      <td>8</td>\n",
       "      <td>4.0</td>\n",
       "      <td>BETA</td>\n",
       "      <td>1996-01-02 00:30</td>\n",
       "      <td>1996-01-02 00:30</td>\n",
       "      <td>7935</td>\n",
       "    </tr>\n",
       "    <tr>\n",
       "      <th>1</th>\n",
       "      <td>7937</td>\n",
       "      <td>S09E49</td>\n",
       "      <td>150</td>\n",
       "      <td>0</td>\n",
       "      <td>AXX</td>\n",
       "      <td>1</td>\n",
       "      <td>1.0</td>\n",
       "      <td>ALPHA</td>\n",
       "      <td>1996-01-02 00:30</td>\n",
       "      <td>1996-01-02 00:30</td>\n",
       "      <td>7937</td>\n",
       "    </tr>\n",
       "    <tr>\n",
       "      <th>2</th>\n",
       "      <td>7934</td>\n",
       "      <td>S08W60</td>\n",
       "      <td>245</td>\n",
       "      <td>0</td>\n",
       "      <td>AXX</td>\n",
       "      <td>0</td>\n",
       "      <td>1.0</td>\n",
       "      <td>ALPHA</td>\n",
       "      <td>1996-01-03 00:30</td>\n",
       "      <td>1996-01-03 00:30</td>\n",
       "      <td>7934</td>\n",
       "    </tr>\n",
       "  </tbody>\n",
       "</table>\n",
       "</div>"
      ],
      "text/plain": [
       "   ar_noaanum LOCATION  Carrington_long  AREA    Z  Longitude_extent  \\\n",
       "0        7935   N11W06              205    10  BXO                 8   \n",
       "1        7937   S09E49              150     0  AXX                 1   \n",
       "2        7934   S08W60              245     0  AXX                 0   \n",
       "\n",
       "   No_sunspots MAGTYPE              date         matchtime noaa_ar  \n",
       "0          4.0    BETA  1996-01-02 00:30  1996-01-02 00:30    7935  \n",
       "1          1.0   ALPHA  1996-01-02 00:30  1996-01-02 00:30    7937  \n",
       "2          1.0   ALPHA  1996-01-03 00:30  1996-01-03 00:30    7934  "
      ]
     },
     "execution_count": 46,
     "metadata": {},
     "output_type": "execute_result"
    }
   ],
   "source": [
    "ar_data.head(3)"
   ]
  },
  {
   "cell_type": "code",
   "execution_count": null,
   "id": "b09b5791",
   "metadata": {},
   "outputs": [],
   "source": []
  },
  {
   "cell_type": "code",
   "execution_count": 47,
   "id": "d74233c2",
   "metadata": {},
   "outputs": [],
   "source": [
    "flare_list2 = flare_list[~flare_list[\"noaa_ar\"].isin([\"0\"])]"
   ]
  },
  {
   "cell_type": "code",
   "execution_count": 48,
   "id": "14f1af2e",
   "metadata": {},
   "outputs": [],
   "source": [
    "## merge the files!\n",
    "merged_db = pd.merge(flare_list2, ar_data, how=\"left\", on=[\"matchtime\", \"noaa_ar\"])\n",
    "merged_db[\"noaa_ar\"] = merged_db[\"noaa_ar\"].replace([\"\\n\",\"\", \"     \"], 0)\n",
    "merged_db.drop_duplicates(subset=\"start_time\", keep=\"last\", inplace=True)\n",
    "merged_db.reset_index(inplace=True, drop=True)"
   ]
  },
  {
   "cell_type": "code",
   "execution_count": 49,
   "id": "4a6256f6",
   "metadata": {},
   "outputs": [],
   "source": [
    "flare_ar_df = merged_db[~merged_db[\"ar_noaanum\"].isnull()]"
   ]
  },
  {
   "cell_type": "code",
   "execution_count": 50,
   "id": "358a6669",
   "metadata": {},
   "outputs": [
    {
     "data": {
      "text/plain": [
       "0.9036406448107227"
      ]
     },
     "execution_count": 50,
     "metadata": {},
     "output_type": "execute_result"
    }
   ],
   "source": [
    "len(flare_ar_df)/len(merged_db)"
   ]
  },
  {
   "cell_type": "code",
   "execution_count": 51,
   "id": "c389625e",
   "metadata": {},
   "outputs": [
    {
     "data": {
      "text/html": [
       "<div>\n",
       "<style scoped>\n",
       "    .dataframe tbody tr th:only-of-type {\n",
       "        vertical-align: middle;\n",
       "    }\n",
       "\n",
       "    .dataframe tbody tr th {\n",
       "        vertical-align: top;\n",
       "    }\n",
       "\n",
       "    .dataframe thead th {\n",
       "        text-align: right;\n",
       "    }\n",
       "</style>\n",
       "<table border=\"1\" class=\"dataframe\">\n",
       "  <thead>\n",
       "    <tr style=\"text-align: right;\">\n",
       "      <th></th>\n",
       "      <th>date_x</th>\n",
       "      <th>event_no</th>\n",
       "      <th>start_time</th>\n",
       "      <th>max_time</th>\n",
       "      <th>end_time</th>\n",
       "      <th>goes_sat</th>\n",
       "      <th>goes_channel</th>\n",
       "      <th>goes_class_ind</th>\n",
       "      <th>goes_class</th>\n",
       "      <th>integrated_flux</th>\n",
       "      <th>...</th>\n",
       "      <th>goes_class_val</th>\n",
       "      <th>ar_noaanum</th>\n",
       "      <th>LOCATION</th>\n",
       "      <th>Carrington_long</th>\n",
       "      <th>AREA</th>\n",
       "      <th>Z</th>\n",
       "      <th>Longitude_extent</th>\n",
       "      <th>No_sunspots</th>\n",
       "      <th>MAGTYPE</th>\n",
       "      <th>date_y</th>\n",
       "    </tr>\n",
       "  </thead>\n",
       "  <tbody>\n",
       "    <tr>\n",
       "      <th>0</th>\n",
       "      <td>19960825</td>\n",
       "      <td>4730</td>\n",
       "      <td>1996-08-25 12:10:00</td>\n",
       "      <td>1236</td>\n",
       "      <td>1996-08-25 12:39:00</td>\n",
       "      <td>GO9</td>\n",
       "      <td>1-8A</td>\n",
       "      <td>C</td>\n",
       "      <td>C1.0</td>\n",
       "      <td>8.36E-0</td>\n",
       "      <td>...</td>\n",
       "      <td>0.000001</td>\n",
       "      <td>7986.0</td>\n",
       "      <td>S12E64</td>\n",
       "      <td>258.0</td>\n",
       "      <td>90.0</td>\n",
       "      <td>HSX</td>\n",
       "      <td>2.0</td>\n",
       "      <td>1.0</td>\n",
       "      <td>ALPHA</td>\n",
       "      <td>1996-08-25 00:30</td>\n",
       "    </tr>\n",
       "    <tr>\n",
       "      <th>1</th>\n",
       "      <td>19961124</td>\n",
       "      <td>6350</td>\n",
       "      <td>1996-11-24 17:31:00</td>\n",
       "      <td>1747</td>\n",
       "      <td>1996-11-24 17:59:00</td>\n",
       "      <td>GO9</td>\n",
       "      <td>1-8A</td>\n",
       "      <td>C</td>\n",
       "      <td>C2.8</td>\n",
       "      <td>4.03E-0</td>\n",
       "      <td>...</td>\n",
       "      <td>0.000003</td>\n",
       "      <td>7999.0</td>\n",
       "      <td>S04E33</td>\n",
       "      <td>169.0</td>\n",
       "      <td>170.0</td>\n",
       "      <td>DAO</td>\n",
       "      <td>8.0</td>\n",
       "      <td>21.0</td>\n",
       "      <td>BETA</td>\n",
       "      <td>1996-11-24 00:30</td>\n",
       "    </tr>\n",
       "  </tbody>\n",
       "</table>\n",
       "<p>2 rows × 23 columns</p>\n",
       "</div>"
      ],
      "text/plain": [
       "     date_x  event_no           start_time max_time             end_time  \\\n",
       "0  19960825      4730  1996-08-25 12:10:00     1236  1996-08-25 12:39:00   \n",
       "1  19961124      6350  1996-11-24 17:31:00     1747  1996-11-24 17:59:00   \n",
       "\n",
       "  goes_sat goes_channel goes_class_ind goes_class integrated_flux  ...  \\\n",
       "0      GO9         1-8A              C       C1.0         8.36E-0  ...   \n",
       "1      GO9         1-8A              C       C2.8         4.03E-0  ...   \n",
       "\n",
       "  goes_class_val  ar_noaanum LOCATION  Carrington_long   AREA    Z  \\\n",
       "0       0.000001      7986.0   S12E64            258.0   90.0  HSX   \n",
       "1       0.000003      7999.0   S04E33            169.0  170.0  DAO   \n",
       "\n",
       "   Longitude_extent  No_sunspots MAGTYPE            date_y  \n",
       "0               2.0          1.0   ALPHA  1996-08-25 00:30  \n",
       "1               8.0         21.0    BETA  1996-11-24 00:30  \n",
       "\n",
       "[2 rows x 23 columns]"
      ]
     },
     "execution_count": 51,
     "metadata": {},
     "output_type": "execute_result"
    }
   ],
   "source": [
    "flare_ar_df.head(2)"
   ]
  },
  {
   "cell_type": "code",
   "execution_count": 52,
   "id": "14a4eba1",
   "metadata": {},
   "outputs": [
    {
     "data": {
      "text/plain": [
       "array(['ALPHA', 'BETA', 'BETA-GAMMA', 'BETA-GAMMA-DELTA', 'GAMMA-DELTA',\n",
       "       'BETA-DELTA', 'GAMMA'], dtype=object)"
      ]
     },
     "execution_count": 52,
     "metadata": {},
     "output_type": "execute_result"
    }
   ],
   "source": [
    "flare_ar_df[\"MAGTYPE\"].unique()"
   ]
  },
  {
   "cell_type": "code",
   "execution_count": 56,
   "id": "b1408944",
   "metadata": {},
   "outputs": [
    {
     "data": {
      "image/png": "[encoded data removed]",
      "text/plain": [
       "<Figure size 864x288 with 3 Axes>"
      ]
     },
     "metadata": {
      "needs_background": "light"
     },
     "output_type": "display_data"
    }
   ],
   "source": [
    "cmap = \"magma_r\"\n",
    "fig, ax = plt.subplots(1, 3, figsize=(12, 4))\n",
    "\n",
    "\n",
    "ax[0].scatter(flare_ar_df[\"AREA\"], flare_ar_df[\"goes_class_val\"], marker='.', c=  flare_ar_df[\"goes_class_val\"], \n",
    "              alpha=0.5, norm=LogNorm(), cmap=cmap)\n",
    "ax[0].set_yscale(\"log\")\n",
    "ax[0].set_xscale(\"log\")\n",
    "ax[0].set_ylabel(\"GOES peak flux\")\n",
    "ax[0].set_xlabel(\"Area\")\n",
    "\n",
    "ax[1].scatter(flare_ar_df[\"Longitude_extent\"], flare_ar_df[\"goes_class_val\"], marker='.', c=flare_ar_df[\"goes_class_val\"], \n",
    "              alpha=0.5, norm=LogNorm(), cmap=cmap)\n",
    "ax[1].set_yscale(\"log\")\n",
    "ax[1].set_ylabel(\"GOES peak flux\")\n",
    "ax[1].set_xlabel(\"Longitudinal Extent\")\n",
    "\n",
    "ax[2].scatter(flare_ar_df[\"No_sunspots\"], flare_ar_df[\"goes_class_val\"], marker='.',  c=flare_ar_df[\"goes_class_val\"],\n",
    "              alpha=0.5, norm=LogNorm(), cmap=cmap)\n",
    "ax[2].set_yscale(\"log\")\n",
    "ax[2].set_ylabel(\"GOES peak flux\")\n",
    "ax[2].set_xlabel(\"Number of Sunspots\")\n",
    "\n",
    "plt.tight_layout()"
   ]
  },
  {
   "cell_type": "code",
   "execution_count": 108,
   "id": "99e08b0f",
   "metadata": {},
   "outputs": [
    {
     "data": {
      "image/png": "[encoded data removed]",
      "text/plain": [
       "<Figure size 432x288 with 1 Axes>"
      ]
     },
     "metadata": {
      "needs_background": "light"
     },
     "output_type": "display_data"
    }
   ],
   "source": [
    "unique_ar = flare_ar_df[\"noaa_ar\"].unique()\n",
    "events = []\n",
    "for ar in unique_ar:\n",
    "    unique_df = flare_ar_df[flare_ar_df.noaa_ar.isin([ar])]\n",
    "    event = {}\n",
    "    event[\"ar_num\"] = ar\n",
    "    event[\"max_flare\"] = np.max(unique_df[\"goes_class_val\"])\n",
    "    event[\"max_area\"] = np.max(unique_df[\"AREA\"])\n",
    "    event[\"ar_class_max\"] = unique_df.iloc[np.argmax(unique_df[\"goes_class_val\"])][\"MAGTYPE\"]\n",
    "    events.append(event)\n",
    "\n",
    "\n",
    "events = pd.DataFrame(events)\n",
    "\n",
    "events = events[events.max_area>0]\n",
    "\n",
    "order = ['ALPHA', 'BETA', 'BETA-GAMMA', 'BETA-DELTA', 'GAMMA-DELTA',  'GAMMA', 'BETA-GAMMA-DELTA',]\n",
    "sns.scatterplot(data=events, x=\"max_area\", y=\"max_flare\", hue=\"ar_class_max\", palette=\"magma\", hue_order=order[::-1])\n",
    "plt.xscale(\"log\")\n",
    "plt.yscale(\"log\")"
   ]
  },
  {
   "cell_type": "code",
   "execution_count": 122,
   "id": "abca95ca",
   "metadata": {},
   "outputs": [],
   "source": [
    "testy = flare_ar_df.groupby([\"MAGTYPE\", \"goes_class_ind\"])[\"goes_class\"].count().unstack()\n",
    "testy2 = testy/flare_ar_df[\"goes_class_ind\"].value_counts()"
   ]
  },
  {
   "cell_type": "code",
   "execution_count": 123,
   "id": "311118c0",
   "metadata": {},
   "outputs": [
    {
     "data": {
      "text/plain": [
       "<AxesSubplot:xlabel='MAGTYPE'>"
      ]
     },
     "execution_count": 123,
     "metadata": {},
     "output_type": "execute_result"
    },
    {
     "data": {
      "image/png": "[encoded data removed]",
      "text/plain": [
       "<Figure size 432x288 with 1 Axes>"
      ]
     },
     "metadata": {
      "needs_background": "light"
     },
     "output_type": "display_data"
    }
   ],
   "source": [
    "testy2.plot.bar()"
   ]
  },
  {
   "cell_type": "code",
   "execution_count": 121,
   "id": "3b034155",
   "metadata": {},
   "outputs": [
    {
     "data": {
      "text/plain": [
       "<AxesSubplot:xlabel='MAGTYPE'>"
      ]
     },
     "execution_count": 121,
     "metadata": {},
     "output_type": "execute_result"
    },
    {
     "data": {
      "image/png": "[encoded data removed]",
      "text/plain": [
       "<Figure size 432x288 with 1 Axes>"
      ]
     },
     "metadata": {
      "needs_background": "light"
     },
     "output_type": "display_data"
    }
   ],
   "source": [
    "flare_ar_df.groupby([\"MAGTYPE\", \"goes_class_ind\"])[\"goes_class_ind\"].count().unstack().plot.bar()"
   ]
  },
  {
   "cell_type": "code",
   "execution_count": 185,
   "id": "6ba8461e",
   "metadata": {},
   "outputs": [
    {
     "data": {
      "text/plain": [
       "Text(0, 0.5, '% of total events (per class)')"
      ]
     },
     "execution_count": 185,
     "metadata": {},
     "output_type": "execute_result"
    },
    {
     "data": {
      "image/png": "[encoded data removed]",
      "text/plain": [
       "<Figure size 576x432 with 1 Axes>"
      ]
     },
     "metadata": {
      "needs_background": "light"
     },
     "output_type": "display_data"
    }
   ],
   "source": [
    "order = ['ALPHA', 'BETA', 'BETA-GAMMA', 'BETA-GAMMA-DELTA', 'GAMMA-DELTA', 'BETA-DELTA', 'GAMMA']\n",
    "labels = [r'$\\alpha$', r'$\\beta$', r'$\\beta\\gamma$', r'$\\beta\\gamma\\delta$', r'$\\gamma\\delta$', r'$\\beta\\delta$',r'$\\gamma$',]\n",
    "\n",
    "label_dict = {'ALPHA': r'$\\alpha$',\n",
    "              'BETA': r'$\\beta$',\n",
    "              'BETA-DELTA': r'$\\beta\\delta$',\n",
    "              'BETA-GAMMA': r'$\\beta\\gamma$',\n",
    "              'BETA-GAMMA-DELTA': r'$\\beta\\gamma\\delta$', \n",
    "              'GAMMA' : r'$\\gamma$', \n",
    "              'GAMMA-DELTA': r'$\\gamma\\delta$',}\n",
    "\n",
    "\n",
    "\n",
    "marker = ['o', '.', '+', '^', '*']\n",
    "colors = ['pink', 'green', 'blue', 'yellow', 'red']\n",
    "colors=plt.cm.magma_r(np.linspace(0.1,1,4))\n",
    "\n",
    "testy2 = 100*(testy/flare_ar_df[\"goes_class_ind\"].value_counts())\n",
    "labels = [label_dict[x] for x in testy2.index]\n",
    "fig, ax = plt.subplots(figsize=(8, 6))\n",
    "testy2.plot.bar(color=colors, ax=ax, width=0.7)\n",
    "ax.legend([\"C\", \"M\", \"X\"])\n",
    "ax.set_xticklabels(labels, rotation=0)\n",
    "ax.set_xlabel(\"Magnetic Class\")\n",
    "ax.set_ylabel(\"% of total events (per class)\")\n"
   ]
  },
  {
   "cell_type": "code",
   "execution_count": 183,
   "id": "2cfb3782",
   "metadata": {},
   "outputs": [
    {
     "data": {
      "text/plain": [
       "['$\\\\alpha$',\n",
       " '$\\\\beta$',\n",
       " '$\\\\beta\\\\delta$',\n",
       " '$\\\\beta\\\\gamma$',\n",
       " '$\\\\beta\\\\gamma\\\\delta$',\n",
       " '$\\\\gamma$',\n",
       " '$gamma\\\\delta$']"
      ]
     },
     "execution_count": 183,
     "metadata": {},
     "output_type": "execute_result"
    }
   ],
   "source": [
    "labels = [label_dict[x] for x in testy2.index]\n",
    "labels"
   ]
  },
  {
   "cell_type": "code",
   "execution_count": 127,
   "id": "22daf700",
   "metadata": {},
   "outputs": [
    {
     "data": {
      "text/html": [
       "<div>\n",
       "<style scoped>\n",
       "    .dataframe tbody tr th:only-of-type {\n",
       "        vertical-align: middle;\n",
       "    }\n",
       "\n",
       "    .dataframe tbody tr th {\n",
       "        vertical-align: top;\n",
       "    }\n",
       "\n",
       "    .dataframe thead th {\n",
       "        text-align: right;\n",
       "    }\n",
       "</style>\n",
       "<table border=\"1\" class=\"dataframe\">\n",
       "  <thead>\n",
       "    <tr style=\"text-align: right;\">\n",
       "      <th></th>\n",
       "      <th>date_x</th>\n",
       "      <th>event_no</th>\n",
       "      <th>start_time</th>\n",
       "      <th>max_time</th>\n",
       "      <th>end_time</th>\n",
       "      <th>goes_sat</th>\n",
       "      <th>goes_channel</th>\n",
       "      <th>goes_class_ind</th>\n",
       "      <th>goes_class</th>\n",
       "      <th>integrated_flux</th>\n",
       "      <th>...</th>\n",
       "      <th>goes_class_val</th>\n",
       "      <th>ar_noaanum</th>\n",
       "      <th>LOCATION</th>\n",
       "      <th>Carrington_long</th>\n",
       "      <th>AREA</th>\n",
       "      <th>Z</th>\n",
       "      <th>Longitude_extent</th>\n",
       "      <th>No_sunspots</th>\n",
       "      <th>MAGTYPE</th>\n",
       "      <th>date_y</th>\n",
       "    </tr>\n",
       "  </thead>\n",
       "  <tbody>\n",
       "    <tr>\n",
       "      <th>6600</th>\n",
       "      <td>20030701</td>\n",
       "      <td>5160</td>\n",
       "      <td>2003-07-01 13:33:00</td>\n",
       "      <td>1343</td>\n",
       "      <td>2003-07-01 14:03:00</td>\n",
       "      <td>G12</td>\n",
       "      <td>1-8A</td>\n",
       "      <td>C</td>\n",
       "      <td>C2.3</td>\n",
       "      <td>3.3E-03</td>\n",
       "      <td>...</td>\n",
       "      <td>0.000002</td>\n",
       "      <td>10397.0</td>\n",
       "      <td>N11E40</td>\n",
       "      <td>34.0</td>\n",
       "      <td>850.0</td>\n",
       "      <td>FHI</td>\n",
       "      <td>18.0</td>\n",
       "      <td>30.0</td>\n",
       "      <td>GAMMA-DELTA</td>\n",
       "      <td>2003-07-01 00:30</td>\n",
       "    </tr>\n",
       "    <tr>\n",
       "      <th>6601</th>\n",
       "      <td>20030701</td>\n",
       "      <td>5260</td>\n",
       "      <td>2003-07-01 17:54:00</td>\n",
       "      <td>1802</td>\n",
       "      <td>2003-07-01 18:06:00</td>\n",
       "      <td>G12</td>\n",
       "      <td>1-8A</td>\n",
       "      <td>C</td>\n",
       "      <td>C1.4</td>\n",
       "      <td>7.8E-04</td>\n",
       "      <td>...</td>\n",
       "      <td>0.000001</td>\n",
       "      <td>10397.0</td>\n",
       "      <td>N11E40</td>\n",
       "      <td>34.0</td>\n",
       "      <td>850.0</td>\n",
       "      <td>FHI</td>\n",
       "      <td>18.0</td>\n",
       "      <td>30.0</td>\n",
       "      <td>GAMMA-DELTA</td>\n",
       "      <td>2003-07-01 00:30</td>\n",
       "    </tr>\n",
       "    <tr>\n",
       "      <th>6602</th>\n",
       "      <td>20030701</td>\n",
       "      <td>5270</td>\n",
       "      <td>2003-07-01 18:40:00</td>\n",
       "      <td>1902</td>\n",
       "      <td>2003-07-01 19:29:00</td>\n",
       "      <td>G12</td>\n",
       "      <td>1-8A</td>\n",
       "      <td>C</td>\n",
       "      <td>C1.1</td>\n",
       "      <td>2.6E-03</td>\n",
       "      <td>...</td>\n",
       "      <td>0.000001</td>\n",
       "      <td>10397.0</td>\n",
       "      <td>N11E40</td>\n",
       "      <td>34.0</td>\n",
       "      <td>850.0</td>\n",
       "      <td>FHI</td>\n",
       "      <td>18.0</td>\n",
       "      <td>30.0</td>\n",
       "      <td>GAMMA-DELTA</td>\n",
       "      <td>2003-07-01 00:30</td>\n",
       "    </tr>\n",
       "    <tr>\n",
       "      <th>6603</th>\n",
       "      <td>20030701</td>\n",
       "      <td>5280</td>\n",
       "      <td>2003-07-01 20:10:00</td>\n",
       "      <td>2029</td>\n",
       "      <td>2003-07-01 20:45:00</td>\n",
       "      <td>G12</td>\n",
       "      <td>1-8A</td>\n",
       "      <td>C</td>\n",
       "      <td>C1.0</td>\n",
       "      <td>1.8E-03</td>\n",
       "      <td>...</td>\n",
       "      <td>0.000001</td>\n",
       "      <td>10397.0</td>\n",
       "      <td>N11E40</td>\n",
       "      <td>34.0</td>\n",
       "      <td>850.0</td>\n",
       "      <td>FHI</td>\n",
       "      <td>18.0</td>\n",
       "      <td>30.0</td>\n",
       "      <td>GAMMA-DELTA</td>\n",
       "      <td>2003-07-01 00:30</td>\n",
       "    </tr>\n",
       "    <tr>\n",
       "      <th>6604</th>\n",
       "      <td>20030702</td>\n",
       "      <td>5420</td>\n",
       "      <td>2003-07-02 07:06:00</td>\n",
       "      <td>0728</td>\n",
       "      <td>2003-07-02 07:46:00</td>\n",
       "      <td>G12</td>\n",
       "      <td>1-8A</td>\n",
       "      <td>M</td>\n",
       "      <td>M3.0</td>\n",
       "      <td>4.7E-02</td>\n",
       "      <td>...</td>\n",
       "      <td>0.000030</td>\n",
       "      <td>10397.0</td>\n",
       "      <td>N12E26</td>\n",
       "      <td>34.0</td>\n",
       "      <td>770.0</td>\n",
       "      <td>EKI</td>\n",
       "      <td>15.0</td>\n",
       "      <td>28.0</td>\n",
       "      <td>GAMMA-DELTA</td>\n",
       "      <td>2003-07-02 00:30</td>\n",
       "    </tr>\n",
       "  </tbody>\n",
       "</table>\n",
       "<p>5 rows × 23 columns</p>\n",
       "</div>"
      ],
      "text/plain": [
       "        date_x  event_no           start_time max_time             end_time  \\\n",
       "6600  20030701      5160  2003-07-01 13:33:00     1343  2003-07-01 14:03:00   \n",
       "6601  20030701      5260  2003-07-01 17:54:00     1802  2003-07-01 18:06:00   \n",
       "6602  20030701      5270  2003-07-01 18:40:00     1902  2003-07-01 19:29:00   \n",
       "6603  20030701      5280  2003-07-01 20:10:00     2029  2003-07-01 20:45:00   \n",
       "6604  20030702      5420  2003-07-02 07:06:00     0728  2003-07-02 07:46:00   \n",
       "\n",
       "     goes_sat goes_channel goes_class_ind goes_class integrated_flux  ...  \\\n",
       "6600      G12         1-8A              C       C2.3         3.3E-03  ...   \n",
       "6601      G12         1-8A              C       C1.4         7.8E-04  ...   \n",
       "6602      G12         1-8A              C       C1.1         2.6E-03  ...   \n",
       "6603      G12         1-8A              C       C1.0         1.8E-03  ...   \n",
       "6604      G12         1-8A              M       M3.0         4.7E-02  ...   \n",
       "\n",
       "     goes_class_val  ar_noaanum LOCATION  Carrington_long   AREA    Z  \\\n",
       "6600       0.000002     10397.0   N11E40             34.0  850.0  FHI   \n",
       "6601       0.000001     10397.0   N11E40             34.0  850.0  FHI   \n",
       "6602       0.000001     10397.0   N11E40             34.0  850.0  FHI   \n",
       "6603       0.000001     10397.0   N11E40             34.0  850.0  FHI   \n",
       "6604       0.000030     10397.0   N12E26             34.0  770.0  EKI   \n",
       "\n",
       "      Longitude_extent  No_sunspots      MAGTYPE            date_y  \n",
       "6600              18.0         30.0  GAMMA-DELTA  2003-07-01 00:30  \n",
       "6601              18.0         30.0  GAMMA-DELTA  2003-07-01 00:30  \n",
       "6602              18.0         30.0  GAMMA-DELTA  2003-07-01 00:30  \n",
       "6603              18.0         30.0  GAMMA-DELTA  2003-07-01 00:30  \n",
       "6604              15.0         28.0  GAMMA-DELTA  2003-07-02 00:30  \n",
       "\n",
       "[5 rows x 23 columns]"
      ]
     },
     "execution_count": 127,
     "metadata": {},
     "output_type": "execute_result"
    }
   ],
   "source": [
    "flare_ar_df[flare_ar_df[\"MAGTYPE\"].isin([\"GAMMA-DELTA\"])].tail()"
   ]
  },
  {
   "cell_type": "code",
   "execution_count": 129,
   "id": "9a964b84",
   "metadata": {},
   "outputs": [
    {
     "data": {
      "text/html": [
       "<div>\n",
       "<style scoped>\n",
       "    .dataframe tbody tr th:only-of-type {\n",
       "        vertical-align: middle;\n",
       "    }\n",
       "\n",
       "    .dataframe tbody tr th {\n",
       "        vertical-align: top;\n",
       "    }\n",
       "\n",
       "    .dataframe thead th {\n",
       "        text-align: right;\n",
       "    }\n",
       "</style>\n",
       "<table border=\"1\" class=\"dataframe\">\n",
       "  <thead>\n",
       "    <tr style=\"text-align: right;\">\n",
       "      <th></th>\n",
       "      <th>date_x</th>\n",
       "      <th>event_no</th>\n",
       "      <th>start_time</th>\n",
       "      <th>max_time</th>\n",
       "      <th>end_time</th>\n",
       "      <th>goes_sat</th>\n",
       "      <th>goes_channel</th>\n",
       "      <th>goes_class_ind</th>\n",
       "      <th>goes_class</th>\n",
       "      <th>integrated_flux</th>\n",
       "      <th>...</th>\n",
       "      <th>goes_class_val</th>\n",
       "      <th>ar_noaanum</th>\n",
       "      <th>LOCATION</th>\n",
       "      <th>Carrington_long</th>\n",
       "      <th>AREA</th>\n",
       "      <th>Z</th>\n",
       "      <th>Longitude_extent</th>\n",
       "      <th>No_sunspots</th>\n",
       "      <th>MAGTYPE</th>\n",
       "      <th>date_y</th>\n",
       "    </tr>\n",
       "  </thead>\n",
       "  <tbody>\n",
       "    <tr>\n",
       "      <th>116</th>\n",
       "      <td>19971104</td>\n",
       "      <td>3950</td>\n",
       "      <td>1997-11-04 01:13:00</td>\n",
       "      <td>0116</td>\n",
       "      <td>1997-11-04 01:20:00</td>\n",
       "      <td>GO9</td>\n",
       "      <td>1-8A</td>\n",
       "      <td>C</td>\n",
       "      <td>C3.7</td>\n",
       "      <td>1.3E-03</td>\n",
       "      <td>...</td>\n",
       "      <td>0.000004</td>\n",
       "      <td>8100.0</td>\n",
       "      <td>S20W27</td>\n",
       "      <td>353.0</td>\n",
       "      <td>660.0</td>\n",
       "      <td>FKC</td>\n",
       "      <td>16.0</td>\n",
       "      <td>34.0</td>\n",
       "      <td>BETA-GAMMA-DELTA</td>\n",
       "      <td>1997-11-04 00:30</td>\n",
       "    </tr>\n",
       "    <tr>\n",
       "      <th>117</th>\n",
       "      <td>19971104</td>\n",
       "      <td>3960</td>\n",
       "      <td>1997-11-04 01:27:00</td>\n",
       "      <td>0135</td>\n",
       "      <td>1997-11-04 01:40:00</td>\n",
       "      <td>GO9</td>\n",
       "      <td>1-8A</td>\n",
       "      <td>M</td>\n",
       "      <td>M1.3</td>\n",
       "      <td>7.3E-03</td>\n",
       "      <td>...</td>\n",
       "      <td>0.000013</td>\n",
       "      <td>8100.0</td>\n",
       "      <td>S20W27</td>\n",
       "      <td>353.0</td>\n",
       "      <td>660.0</td>\n",
       "      <td>FKC</td>\n",
       "      <td>16.0</td>\n",
       "      <td>34.0</td>\n",
       "      <td>BETA-GAMMA-DELTA</td>\n",
       "      <td>1997-11-04 00:30</td>\n",
       "    </tr>\n",
       "    <tr>\n",
       "      <th>118</th>\n",
       "      <td>19971104</td>\n",
       "      <td>3980</td>\n",
       "      <td>1997-11-04 02:32:00</td>\n",
       "      <td>0242</td>\n",
       "      <td>1997-11-04 03:03:00</td>\n",
       "      <td>GO9</td>\n",
       "      <td>1-8A</td>\n",
       "      <td>M</td>\n",
       "      <td>M4.1</td>\n",
       "      <td>5.3E-02</td>\n",
       "      <td>...</td>\n",
       "      <td>0.000041</td>\n",
       "      <td>8100.0</td>\n",
       "      <td>S20W27</td>\n",
       "      <td>353.0</td>\n",
       "      <td>660.0</td>\n",
       "      <td>FKC</td>\n",
       "      <td>16.0</td>\n",
       "      <td>34.0</td>\n",
       "      <td>BETA-GAMMA-DELTA</td>\n",
       "      <td>1997-11-04 00:30</td>\n",
       "    </tr>\n",
       "    <tr>\n",
       "      <th>119</th>\n",
       "      <td>19971104</td>\n",
       "      <td>4050</td>\n",
       "      <td>1997-11-04 05:52:00</td>\n",
       "      <td>0558</td>\n",
       "      <td>1997-11-04 06:02:00</td>\n",
       "      <td>GO9</td>\n",
       "      <td>1-8A</td>\n",
       "      <td>X</td>\n",
       "      <td>X2.1</td>\n",
       "      <td>5.6E-02</td>\n",
       "      <td>...</td>\n",
       "      <td>0.000210</td>\n",
       "      <td>8100.0</td>\n",
       "      <td>S20W27</td>\n",
       "      <td>353.0</td>\n",
       "      <td>660.0</td>\n",
       "      <td>FKC</td>\n",
       "      <td>16.0</td>\n",
       "      <td>34.0</td>\n",
       "      <td>BETA-GAMMA-DELTA</td>\n",
       "      <td>1997-11-04 00:30</td>\n",
       "    </tr>\n",
       "    <tr>\n",
       "      <th>120</th>\n",
       "      <td>19971104</td>\n",
       "      <td>4100</td>\n",
       "      <td>1997-11-04 07:14:00</td>\n",
       "      <td>0717</td>\n",
       "      <td>1997-11-04 07:20:00</td>\n",
       "      <td>GO9</td>\n",
       "      <td>1-8A</td>\n",
       "      <td>C</td>\n",
       "      <td>C3.0</td>\n",
       "      <td>9.8E-04</td>\n",
       "      <td>...</td>\n",
       "      <td>0.000003</td>\n",
       "      <td>8100.0</td>\n",
       "      <td>S20W27</td>\n",
       "      <td>353.0</td>\n",
       "      <td>660.0</td>\n",
       "      <td>FKC</td>\n",
       "      <td>16.0</td>\n",
       "      <td>34.0</td>\n",
       "      <td>BETA-GAMMA-DELTA</td>\n",
       "      <td>1997-11-04 00:30</td>\n",
       "    </tr>\n",
       "  </tbody>\n",
       "</table>\n",
       "<p>5 rows × 23 columns</p>\n",
       "</div>"
      ],
      "text/plain": [
       "       date_x  event_no           start_time max_time             end_time  \\\n",
       "116  19971104      3950  1997-11-04 01:13:00     0116  1997-11-04 01:20:00   \n",
       "117  19971104      3960  1997-11-04 01:27:00     0135  1997-11-04 01:40:00   \n",
       "118  19971104      3980  1997-11-04 02:32:00     0242  1997-11-04 03:03:00   \n",
       "119  19971104      4050  1997-11-04 05:52:00     0558  1997-11-04 06:02:00   \n",
       "120  19971104      4100  1997-11-04 07:14:00     0717  1997-11-04 07:20:00   \n",
       "\n",
       "    goes_sat goes_channel goes_class_ind goes_class integrated_flux  ...  \\\n",
       "116      GO9         1-8A              C       C3.7         1.3E-03  ...   \n",
       "117      GO9         1-8A              M       M1.3         7.3E-03  ...   \n",
       "118      GO9         1-8A              M       M4.1         5.3E-02  ...   \n",
       "119      GO9         1-8A              X       X2.1         5.6E-02  ...   \n",
       "120      GO9         1-8A              C       C3.0         9.8E-04  ...   \n",
       "\n",
       "    goes_class_val  ar_noaanum LOCATION  Carrington_long   AREA    Z  \\\n",
       "116       0.000004      8100.0   S20W27            353.0  660.0  FKC   \n",
       "117       0.000013      8100.0   S20W27            353.0  660.0  FKC   \n",
       "118       0.000041      8100.0   S20W27            353.0  660.0  FKC   \n",
       "119       0.000210      8100.0   S20W27            353.0  660.0  FKC   \n",
       "120       0.000003      8100.0   S20W27            353.0  660.0  FKC   \n",
       "\n",
       "     Longitude_extent  No_sunspots           MAGTYPE            date_y  \n",
       "116              16.0         34.0  BETA-GAMMA-DELTA  1997-11-04 00:30  \n",
       "117              16.0         34.0  BETA-GAMMA-DELTA  1997-11-04 00:30  \n",
       "118              16.0         34.0  BETA-GAMMA-DELTA  1997-11-04 00:30  \n",
       "119              16.0         34.0  BETA-GAMMA-DELTA  1997-11-04 00:30  \n",
       "120              16.0         34.0  BETA-GAMMA-DELTA  1997-11-04 00:30  \n",
       "\n",
       "[5 rows x 23 columns]"
      ]
     },
     "execution_count": 129,
     "metadata": {},
     "output_type": "execute_result"
    }
   ],
   "source": [
    "flare_ar_df[flare_ar_df[\"MAGTYPE\"].isin([\"BETA-GAMMA-DELTA\"])].head()"
   ]
  },
  {
   "cell_type": "code",
   "execution_count": 131,
   "id": "78917f75",
   "metadata": {},
   "outputs": [
    {
     "data": {
      "text/plain": [
       "<AxesSubplot:>"
      ]
     },
     "execution_count": 131,
     "metadata": {},
     "output_type": "execute_result"
    },
    {
     "data": {
      "image/png": "[encoded data removed]",
      "text/plain": [
       "<Figure size 432x288 with 1 Axes>"
      ]
     },
     "metadata": {
      "needs_background": "light"
     },
     "output_type": "display_data"
    }
   ],
   "source": [
    "flare_ar_df[\"goes_class_ind\"].value_counts().plot.bar()"
   ]
  },
  {
   "cell_type": "code",
   "execution_count": 132,
   "id": "af49600b",
   "metadata": {},
   "outputs": [],
   "source": [
    "## read in flarelist\n",
    "flare_list = pd.read_csv(\"/Users/laurahayes/ml_project_flares/flare_analysis/goes_flare_list/swpc_flarelist_19960731_20181231.csv\")\n",
    "# create a column \"matchtime\" which will be used to merge with the AR data\n",
    "flare_list[\"matchtime\"] = pd.to_datetime(flare_list[\"start_time\"], format=\"%Y-%m-%d %H:%M:%S\").dt.strftime(\"%Y-%m-%d 00:30\")\n",
    "\n"
   ]
  },
  {
   "cell_type": "code",
   "execution_count": 136,
   "id": "13ec523c",
   "metadata": {},
   "outputs": [
    {
     "data": {
      "text/plain": [
       "0"
      ]
     },
     "execution_count": 136,
     "metadata": {},
     "output_type": "execute_result"
    }
   ],
   "source": [
    "flare_list[\"noaa_ar\"][0]"
   ]
  },
  {
   "cell_type": "markdown",
   "id": "689eddbd",
   "metadata": {},
   "source": [
    "## Testing merged data from `making_ml_df_sc23-24.py`"
   ]
  },
  {
   "cell_type": "code",
   "execution_count": 139,
   "id": "a5bffc0d",
   "metadata": {},
   "outputs": [],
   "source": [
    "flare_ana = pd.read_csv(\"flare_AR_23_24.csv\")\n",
    "flare_ana = flare_ana[~flare_ana[\"ar_noaanum\"].isnull()]\n",
    "flare_ana.reset_index(inplace=True, drop=True)"
   ]
  },
  {
   "cell_type": "code",
   "execution_count": 143,
   "id": "618612a6",
   "metadata": {},
   "outputs": [
    {
     "data": {
      "text/plain": [
       "6"
      ]
     },
     "execution_count": 143,
     "metadata": {},
     "output_type": "execute_result"
    }
   ],
   "source": [
    "len(flare_ana[\"LOCATION\"].iloc[0])"
   ]
  },
  {
   "cell_type": "code",
   "execution_count": 147,
   "id": "5c6ff0a9",
   "metadata": {},
   "outputs": [],
   "source": [
    "location = flare_ana[\"LOCATION\"].iloc[0]"
   ]
  },
  {
   "cell_type": "code",
   "execution_count": 148,
   "id": "14bd312c",
   "metadata": {},
   "outputs": [
    {
     "data": {
      "text/plain": [
       "'S12E64'"
      ]
     },
     "execution_count": 148,
     "metadata": {},
     "output_type": "execute_result"
    }
   ],
   "source": [
    "location"
   ]
  },
  {
   "cell_type": "code",
   "execution_count": 149,
   "id": "cff11b15",
   "metadata": {},
   "outputs": [
    {
     "data": {
      "text/plain": [
       "'S12'"
      ]
     },
     "execution_count": 149,
     "metadata": {},
     "output_type": "execute_result"
    }
   ],
   "source": [
    "location[0:3]"
   ]
  },
  {
   "cell_type": "code",
   "execution_count": 150,
   "id": "ed98bb02",
   "metadata": {},
   "outputs": [
    {
     "data": {
      "text/plain": [
       "'E64'"
      ]
     },
     "execution_count": 150,
     "metadata": {},
     "output_type": "execute_result"
    }
   ],
   "source": [
    "location[3:]"
   ]
  },
  {
   "cell_type": "code",
   "execution_count": 151,
   "id": "2930e216",
   "metadata": {},
   "outputs": [],
   "source": [
    "lat = location[0:3]\n",
    "long = location[3:]"
   ]
  },
  {
   "cell_type": "code",
   "execution_count": 160,
   "id": "762a7a7e",
   "metadata": {},
   "outputs": [],
   "source": [
    "def get_lat_long(location):\n",
    "    location_dict = {\"S\":-1, \"N\":1, \"E\":-1, \"W\":1}\n",
    "    lat = location[0:3]\n",
    "    long = location[3:]\n",
    "\n",
    "    lat = location_dict[lat[0]]*int(lat[1:])\n",
    "    long = location_dict[long[0]]*int(long[1:])\n",
    "    \n",
    "    return lat, long"
   ]
  },
  {
   "cell_type": "code",
   "execution_count": 161,
   "id": "e673d7dd",
   "metadata": {},
   "outputs": [
    {
     "data": {
      "text/plain": [
       "(-19, 12)"
      ]
     },
     "execution_count": 161,
     "metadata": {},
     "output_type": "execute_result"
    }
   ],
   "source": [
    "get_lat_long(flare_ana[\"LOCATION\"].iloc[100])"
   ]
  },
  {
   "cell_type": "code",
   "execution_count": 162,
   "id": "938d2815",
   "metadata": {},
   "outputs": [
    {
     "data": {
      "text/plain": [
       "'S19W12'"
      ]
     },
     "execution_count": 162,
     "metadata": {},
     "output_type": "execute_result"
    }
   ],
   "source": [
    "flare_ana[\"LOCATION\"].iloc[100]"
   ]
  },
  {
   "cell_type": "code",
   "execution_count": 163,
   "id": "4980ce80",
   "metadata": {},
   "outputs": [],
   "source": [
    "lat, long = [], []\n",
    "for i in range(len(flare_ana)):\n",
    "    latt, longg = get_lat_long(flare_ana[\"LOCATION\"].iloc[i])\n",
    "    lat.append(latt)\n",
    "    long.append(longg)"
   ]
  },
  {
   "cell_type": "code",
   "execution_count": 167,
   "id": "97d57897",
   "metadata": {},
   "outputs": [
    {
     "data": {
      "text/plain": [
       "<matplotlib.collections.PathCollection at 0x14465ee50>"
      ]
     },
     "execution_count": 167,
     "metadata": {},
     "output_type": "execute_result"
    },
    {
     "data": {
      "image/png": "[encoded data removed]",
      "text/plain": [
       "<Figure size 432x288 with 1 Axes>"
      ]
     },
     "metadata": {
      "needs_background": "light"
     },
     "output_type": "display_data"
    }
   ],
   "source": [
    "plt.scatter(long, lat)"
   ]
  },
  {
   "cell_type": "code",
   "execution_count": 168,
   "id": "8da7beb6",
   "metadata": {},
   "outputs": [
    {
     "data": {
      "text/plain": [
       "(array([ 790., 1696., 1877., 1860., 1807., 1739., 1661., 1751., 1244.,\n",
       "         542.]),\n",
       " array([-87. , -68.6, -50.2, -31.8, -13.4,   5. ,  23.4,  41.8,  60.2,\n",
       "         78.6,  97. ]),\n",
       " <BarContainer object of 10 artists>)"
      ]
     },
     "execution_count": 168,
     "metadata": {},
     "output_type": "execute_result"
    },
    {
     "data": {
      "image/png": "[encoded data removed]",
      "text/plain": [
       "<Figure size 432x288 with 1 Axes>"
      ]
     },
     "metadata": {
      "needs_background": "light"
     },
     "output_type": "display_data"
    }
   ],
   "source": [
    "plt.hist(long)"
   ]
  },
  {
   "cell_type": "code",
   "execution_count": 169,
   "id": "a9c6c62f",
   "metadata": {},
   "outputs": [
    {
     "data": {
      "text/plain": [
       "(array([  23.,  518., 3763., 3382.,  440., 1938., 3268., 1465.,  142.,\n",
       "          28.]),\n",
       " array([-40. , -31.6, -23.2, -14.8,  -6.4,   2. ,  10.4,  18.8,  27.2,\n",
       "         35.6,  44. ]),\n",
       " <BarContainer object of 10 artists>)"
      ]
     },
     "execution_count": 169,
     "metadata": {},
     "output_type": "execute_result"
    },
    {
     "data": {
      "image/png": "[encoded data removed]",
      "text/plain": [
       "<Figure size 432x288 with 1 Axes>"
      ]
     },
     "metadata": {
      "needs_background": "light"
     },
     "output_type": "display_data"
    }
   ],
   "source": [
    "plt.hist(lat)"
   ]
  },
  {
   "cell_type": "code",
   "execution_count": 186,
   "id": "a63a2909",
   "metadata": {},
   "outputs": [
    {
     "data": {
      "text/html": [
       "<div>\n",
       "<style scoped>\n",
       "    .dataframe tbody tr th:only-of-type {\n",
       "        vertical-align: middle;\n",
       "    }\n",
       "\n",
       "    .dataframe tbody tr th {\n",
       "        vertical-align: top;\n",
       "    }\n",
       "\n",
       "    .dataframe thead th {\n",
       "        text-align: right;\n",
       "    }\n",
       "</style>\n",
       "<table border=\"1\" class=\"dataframe\">\n",
       "  <thead>\n",
       "    <tr style=\"text-align: right;\">\n",
       "      <th></th>\n",
       "      <th>matchtime</th>\n",
       "      <th>goes_class_ind</th>\n",
       "      <th>noaa_ar</th>\n",
       "      <th>C</th>\n",
       "      <th>M</th>\n",
       "      <th>X</th>\n",
       "      <th>C+</th>\n",
       "      <th>M+</th>\n",
       "      <th>X+</th>\n",
       "      <th>ar_noaanum</th>\n",
       "      <th>LOCATION</th>\n",
       "      <th>Carrington_long</th>\n",
       "      <th>AREA</th>\n",
       "      <th>Z</th>\n",
       "      <th>Longitude_extent</th>\n",
       "      <th>No_sunspots</th>\n",
       "      <th>MAGTYPE</th>\n",
       "      <th>AR issue_date</th>\n",
       "    </tr>\n",
       "  </thead>\n",
       "  <tbody>\n",
       "    <tr>\n",
       "      <th>0</th>\n",
       "      <td>1996-08-25 00:30</td>\n",
       "      <td>C</td>\n",
       "      <td>7986</td>\n",
       "      <td>1</td>\n",
       "      <td>0</td>\n",
       "      <td>0</td>\n",
       "      <td>1</td>\n",
       "      <td>0</td>\n",
       "      <td>0</td>\n",
       "      <td>7986.0</td>\n",
       "      <td>S12E64</td>\n",
       "      <td>258.0</td>\n",
       "      <td>90.0</td>\n",
       "      <td>HSX</td>\n",
       "      <td>2.0</td>\n",
       "      <td>1.0</td>\n",
       "      <td>ALPHA</td>\n",
       "      <td>1996-08-25 00:30</td>\n",
       "    </tr>\n",
       "    <tr>\n",
       "      <th>1</th>\n",
       "      <td>1996-11-24 00:30</td>\n",
       "      <td>C</td>\n",
       "      <td>7999</td>\n",
       "      <td>1</td>\n",
       "      <td>0</td>\n",
       "      <td>0</td>\n",
       "      <td>1</td>\n",
       "      <td>0</td>\n",
       "      <td>0</td>\n",
       "      <td>7999.0</td>\n",
       "      <td>S04E33</td>\n",
       "      <td>169.0</td>\n",
       "      <td>170.0</td>\n",
       "      <td>DAO</td>\n",
       "      <td>8.0</td>\n",
       "      <td>21.0</td>\n",
       "      <td>BETA</td>\n",
       "      <td>1996-11-24 00:30</td>\n",
       "    </tr>\n",
       "    <tr>\n",
       "      <th>2</th>\n",
       "      <td>1996-11-24 00:30</td>\n",
       "      <td>C</td>\n",
       "      <td>7999</td>\n",
       "      <td>1</td>\n",
       "      <td>0</td>\n",
       "      <td>0</td>\n",
       "      <td>1</td>\n",
       "      <td>0</td>\n",
       "      <td>0</td>\n",
       "      <td>7999.0</td>\n",
       "      <td>S04E33</td>\n",
       "      <td>169.0</td>\n",
       "      <td>170.0</td>\n",
       "      <td>DAO</td>\n",
       "      <td>8.0</td>\n",
       "      <td>21.0</td>\n",
       "      <td>BETA</td>\n",
       "      <td>1996-11-24 00:30</td>\n",
       "    </tr>\n",
       "    <tr>\n",
       "      <th>3</th>\n",
       "      <td>1996-11-24 00:30</td>\n",
       "      <td>C</td>\n",
       "      <td>7999</td>\n",
       "      <td>1</td>\n",
       "      <td>0</td>\n",
       "      <td>0</td>\n",
       "      <td>1</td>\n",
       "      <td>0</td>\n",
       "      <td>0</td>\n",
       "      <td>7999.0</td>\n",
       "      <td>S04E33</td>\n",
       "      <td>169.0</td>\n",
       "      <td>170.0</td>\n",
       "      <td>DAO</td>\n",
       "      <td>8.0</td>\n",
       "      <td>21.0</td>\n",
       "      <td>BETA</td>\n",
       "      <td>1996-11-24 00:30</td>\n",
       "    </tr>\n",
       "    <tr>\n",
       "      <th>4</th>\n",
       "      <td>1996-11-24 00:30</td>\n",
       "      <td>C</td>\n",
       "      <td>7999</td>\n",
       "      <td>1</td>\n",
       "      <td>0</td>\n",
       "      <td>0</td>\n",
       "      <td>1</td>\n",
       "      <td>0</td>\n",
       "      <td>0</td>\n",
       "      <td>7999.0</td>\n",
       "      <td>S04E33</td>\n",
       "      <td>169.0</td>\n",
       "      <td>170.0</td>\n",
       "      <td>DAO</td>\n",
       "      <td>8.0</td>\n",
       "      <td>21.0</td>\n",
       "      <td>BETA</td>\n",
       "      <td>1996-11-24 00:30</td>\n",
       "    </tr>\n",
       "    <tr>\n",
       "      <th>...</th>\n",
       "      <td>...</td>\n",
       "      <td>...</td>\n",
       "      <td>...</td>\n",
       "      <td>...</td>\n",
       "      <td>...</td>\n",
       "      <td>...</td>\n",
       "      <td>...</td>\n",
       "      <td>...</td>\n",
       "      <td>...</td>\n",
       "      <td>...</td>\n",
       "      <td>...</td>\n",
       "      <td>...</td>\n",
       "      <td>...</td>\n",
       "      <td>...</td>\n",
       "      <td>...</td>\n",
       "      <td>...</td>\n",
       "      <td>...</td>\n",
       "      <td>...</td>\n",
       "    </tr>\n",
       "    <tr>\n",
       "      <th>14962</th>\n",
       "      <td>2018-02-10 00:30</td>\n",
       "      <td>C</td>\n",
       "      <td>12699</td>\n",
       "      <td>1</td>\n",
       "      <td>0</td>\n",
       "      <td>0</td>\n",
       "      <td>1</td>\n",
       "      <td>0</td>\n",
       "      <td>0</td>\n",
       "      <td>12699.0</td>\n",
       "      <td>S07E13</td>\n",
       "      <td>166.0</td>\n",
       "      <td>210.0</td>\n",
       "      <td>DAI</td>\n",
       "      <td>9.0</td>\n",
       "      <td>13.0</td>\n",
       "      <td>BETA</td>\n",
       "      <td>2018-02-10 00:30</td>\n",
       "    </tr>\n",
       "    <tr>\n",
       "      <th>14963</th>\n",
       "      <td>2018-02-12 00:30</td>\n",
       "      <td>C</td>\n",
       "      <td>12699</td>\n",
       "      <td>1</td>\n",
       "      <td>0</td>\n",
       "      <td>0</td>\n",
       "      <td>1</td>\n",
       "      <td>0</td>\n",
       "      <td>0</td>\n",
       "      <td>12699.0</td>\n",
       "      <td>S07W14</td>\n",
       "      <td>167.0</td>\n",
       "      <td>230.0</td>\n",
       "      <td>DAI</td>\n",
       "      <td>10.0</td>\n",
       "      <td>14.0</td>\n",
       "      <td>BETA</td>\n",
       "      <td>2018-02-12 00:30</td>\n",
       "    </tr>\n",
       "    <tr>\n",
       "      <th>14964</th>\n",
       "      <td>2018-03-02 00:30</td>\n",
       "      <td>C</td>\n",
       "      <td>12700</td>\n",
       "      <td>1</td>\n",
       "      <td>0</td>\n",
       "      <td>0</td>\n",
       "      <td>1</td>\n",
       "      <td>0</td>\n",
       "      <td>0</td>\n",
       "      <td>12700.0</td>\n",
       "      <td>N08W55</td>\n",
       "      <td>330.0</td>\n",
       "      <td>10.0</td>\n",
       "      <td>AXX</td>\n",
       "      <td>1.0</td>\n",
       "      <td>1.0</td>\n",
       "      <td>ALPHA</td>\n",
       "      <td>2018-03-02 00:35</td>\n",
       "    </tr>\n",
       "    <tr>\n",
       "      <th>14965</th>\n",
       "      <td>2018-05-28 00:30</td>\n",
       "      <td>C</td>\n",
       "      <td>12712</td>\n",
       "      <td>1</td>\n",
       "      <td>0</td>\n",
       "      <td>0</td>\n",
       "      <td>1</td>\n",
       "      <td>0</td>\n",
       "      <td>0</td>\n",
       "      <td>12712.0</td>\n",
       "      <td>N15E28</td>\n",
       "      <td>179.0</td>\n",
       "      <td>40.0</td>\n",
       "      <td>CRO</td>\n",
       "      <td>9.0</td>\n",
       "      <td>5.0</td>\n",
       "      <td>BETA</td>\n",
       "      <td>2018-05-28 00:30</td>\n",
       "    </tr>\n",
       "    <tr>\n",
       "      <th>14966</th>\n",
       "      <td>2018-06-21 00:30</td>\n",
       "      <td>C</td>\n",
       "      <td>12715</td>\n",
       "      <td>1</td>\n",
       "      <td>0</td>\n",
       "      <td>0</td>\n",
       "      <td>1</td>\n",
       "      <td>0</td>\n",
       "      <td>0</td>\n",
       "      <td>12715.0</td>\n",
       "      <td>N08E20</td>\n",
       "      <td>230.0</td>\n",
       "      <td>110.0</td>\n",
       "      <td>DAI</td>\n",
       "      <td>6.0</td>\n",
       "      <td>12.0</td>\n",
       "      <td>BETA</td>\n",
       "      <td>2018-06-21 00:30</td>\n",
       "    </tr>\n",
       "  </tbody>\n",
       "</table>\n",
       "<p>14967 rows × 18 columns</p>\n",
       "</div>"
      ],
      "text/plain": [
       "              matchtime goes_class_ind  noaa_ar  C  M  X  C+  M+  X+  \\\n",
       "0      1996-08-25 00:30              C     7986  1  0  0   1   0   0   \n",
       "1      1996-11-24 00:30              C     7999  1  0  0   1   0   0   \n",
       "2      1996-11-24 00:30              C     7999  1  0  0   1   0   0   \n",
       "3      1996-11-24 00:30              C     7999  1  0  0   1   0   0   \n",
       "4      1996-11-24 00:30              C     7999  1  0  0   1   0   0   \n",
       "...                 ...            ...      ... .. .. ..  ..  ..  ..   \n",
       "14962  2018-02-10 00:30              C    12699  1  0  0   1   0   0   \n",
       "14963  2018-02-12 00:30              C    12699  1  0  0   1   0   0   \n",
       "14964  2018-03-02 00:30              C    12700  1  0  0   1   0   0   \n",
       "14965  2018-05-28 00:30              C    12712  1  0  0   1   0   0   \n",
       "14966  2018-06-21 00:30              C    12715  1  0  0   1   0   0   \n",
       "\n",
       "       ar_noaanum LOCATION  Carrington_long   AREA    Z  Longitude_extent  \\\n",
       "0          7986.0   S12E64            258.0   90.0  HSX               2.0   \n",
       "1          7999.0   S04E33            169.0  170.0  DAO               8.0   \n",
       "2          7999.0   S04E33            169.0  170.0  DAO               8.0   \n",
       "3          7999.0   S04E33            169.0  170.0  DAO               8.0   \n",
       "4          7999.0   S04E33            169.0  170.0  DAO               8.0   \n",
       "...           ...      ...              ...    ...  ...               ...   \n",
       "14962     12699.0   S07E13            166.0  210.0  DAI               9.0   \n",
       "14963     12699.0   S07W14            167.0  230.0  DAI              10.0   \n",
       "14964     12700.0   N08W55            330.0   10.0  AXX               1.0   \n",
       "14965     12712.0   N15E28            179.0   40.0  CRO               9.0   \n",
       "14966     12715.0   N08E20            230.0  110.0  DAI               6.0   \n",
       "\n",
       "       No_sunspots MAGTYPE     AR issue_date  \n",
       "0              1.0   ALPHA  1996-08-25 00:30  \n",
       "1             21.0    BETA  1996-11-24 00:30  \n",
       "2             21.0    BETA  1996-11-24 00:30  \n",
       "3             21.0    BETA  1996-11-24 00:30  \n",
       "4             21.0    BETA  1996-11-24 00:30  \n",
       "...            ...     ...               ...  \n",
       "14962         13.0    BETA  2018-02-10 00:30  \n",
       "14963         14.0    BETA  2018-02-12 00:30  \n",
       "14964          1.0   ALPHA  2018-03-02 00:35  \n",
       "14965          5.0    BETA  2018-05-28 00:30  \n",
       "14966         12.0    BETA  2018-06-21 00:30  \n",
       "\n",
       "[14967 rows x 18 columns]"
      ]
     },
     "execution_count": 186,
     "metadata": {},
     "output_type": "execute_result"
    }
   ],
   "source": [
    "flare_ana"
   ]
  },
  {
   "cell_type": "code",
   "execution_count": null,
   "id": "c66e477c",
   "metadata": {},
   "outputs": [],
   "source": []
  }
 ],
 "metadata": {
  "kernelspec": {
   "display_name": "Python 3",
   "language": "python",
   "name": "python3"
  },
  "language_info": {
   "codemirror_mode": {
    "name": "ipython",
    "version": 3
   },
   "file_extension": ".py",
   "mimetype": "text/x-python",
   "name": "python",
   "nbconvert_exporter": "python",
   "pygments_lexer": "ipython3",
   "version": "3.9.4"
  }
 },
 "nbformat": 4,
 "nbformat_minor": 5
}
