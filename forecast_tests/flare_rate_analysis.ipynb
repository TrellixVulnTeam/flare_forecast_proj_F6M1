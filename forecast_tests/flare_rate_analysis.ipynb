{
 "cells": [
  {
   "cell_type": "code",
   "execution_count": 1,
   "id": "40970306",
   "metadata": {},
   "outputs": [],
   "source": [
    "import pandas as pd \n",
    "import datetime\n",
    "import matplotlib.pyplot as plt\n",
    "import numpy as np \n",
    "import seaborn as sns \n",
    "\n",
    "\n",
    "from sklearn.metrics import confusion_matrix\n",
    "from sklearn.calibration import calibration_curve\n",
    "from sklearn.model_selection import train_test_split\n",
    "from sklearn import metrics\n",
    "\n",
    "plt.rcParams['xtick.direction'] = \"in\"\n",
    "plt.rcParams['ytick.direction'] = \"in\"\n",
    "plt.rcParams['xtick.minor.visible'] = True\n",
    "plt.rcParams['ytick.minor.visible'] = True\n",
    "plt.rcParams['font.family'] = 'Helvetica'\n",
    "sns.set_context(\"paper\", font_scale=1.2)"
   ]
  },
  {
   "cell_type": "code",
   "execution_count": 2,
   "id": "0248d94f",
   "metadata": {},
   "outputs": [],
   "source": [
    "# ar data with flares\n",
    "data_ar = pd.read_csv(\"AR_flare_ml_23_24.csv\")\n",
    "\n",
    "# evolution data\n",
    "data_ar_evol = pd.read_csv(\"AR_flare_ml_23_24_evol.csv\")\n",
    "row_has_NaN = data_ar_evol.isnull().any(axis=1)\n",
    "data_ar_evol = data_ar_evol[~row_has_NaN]\n",
    "data_ar_evol[\"evolution_mcint\"] = data_ar_evol[\"pre_mcint\"] + data_ar_evol[\"McIntosh\"]"
   ]
  },
  {
   "cell_type": "code",
   "execution_count": null,
   "id": "aff17f8a",
   "metadata": {},
   "outputs": [],
   "source": []
  },
  {
   "cell_type": "code",
   "execution_count": 3,
   "id": "e7d578f9",
   "metadata": {},
   "outputs": [],
   "source": [
    "def get_flare_rates(data):\n",
    "    \"\"\"\n",
    "    Determine flare rates for each McIntosh classification given an input \n",
    "    dataframe of AR-flare data.\n",
    "    \"\"\"\n",
    "\n",
    "    flare_number_per_group = data.groupby([\"McIntosh\"])[[\"C+\", \"M+\", \"X+\"]].sum().reset_index()\n",
    "    total_per_group = data.groupby([\"McIntosh\"])[\"C+\"].count().reset_index().rename(columns={\"C+\":\"N\"})\n",
    "    flare_number_per_group[\"N\"] = total_per_group[\"N\"]\n",
    "\n",
    "    flare_rates_per_group = flare_number_per_group.set_index(\"McIntosh\")[[\"C+\", \"M+\", \"X+\"]].div(flare_number_per_group[\"N\"].values, axis=0)\n",
    "\n",
    "    flare_number_per_group[\"C_rate\"] = flare_rates_per_group[\"C+\"].values\n",
    "    flare_number_per_group[\"M_rate\"] = flare_rates_per_group[\"M+\"].values\n",
    "    flare_number_per_group[\"X_rate\"] = flare_rates_per_group[\"X+\"].values\n",
    "\n",
    "    return flare_number_per_group\n",
    "\n",
    "flare_rates = get_flare_rates(data_ar)"
   ]
  },
  {
   "cell_type": "code",
   "execution_count": 4,
   "id": "0f6f65ed",
   "metadata": {},
   "outputs": [
    {
     "name": "stdout",
     "output_type": "stream",
     "text": [
      "Probability of C-class flare: 0.468916\n",
      "Probability of M-class flare: 0.084294\n",
      "Probability of X-class flare: 0.001491\n"
     ]
    }
   ],
   "source": [
    "i = 2200\n",
    "mcint = data_ar.iloc[i][\"McIntosh\"]\n",
    "flare_rate_mcint = flare_rates[flare_rates[\"McIntosh\"].isin([mcint])]\n",
    "\n",
    "c_prob = 1-np.exp(-flare_rate_mcint[\"C_rate\"].values[0])\n",
    "m_prob = 1-np.exp(-flare_rate_mcint[\"M_rate\"].values[0])\n",
    "x_prob = 1-np.exp(-flare_rate_mcint[\"X_rate\"].values[0])\n",
    "\n",
    "print(\"Probability of C-class flare: {:f}\".format(c_prob))\n",
    "print(\"Probability of M-class flare: {:f}\".format(m_prob))\n",
    "print(\"Probability of X-class flare: {:f}\".format(x_prob))\n"
   ]
  },
  {
   "cell_type": "code",
   "execution_count": 5,
   "id": "392cf5dc",
   "metadata": {},
   "outputs": [],
   "source": [
    "def get_predicted_flare_rates(flare_rates, mcint):\n",
    "    flare_rate_mcint = flare_rates[flare_rates[\"McIntosh\"].isin([mcint])]\n",
    "    if len(flare_rate_mcint)==0:\n",
    "        return 0, 0, 0\n",
    "    c_prob = 1-np.exp(-flare_rate_mcint[\"C_rate\"].values[0])\n",
    "    m_prob = 1-np.exp(-flare_rate_mcint[\"M_rate\"].values[0])\n",
    "    x_prob = 1-np.exp(-flare_rate_mcint[\"X_rate\"].values[0])\n",
    "    return c_prob, m_prob, x_prob\n"
   ]
  },
  {
   "cell_type": "code",
   "execution_count": 6,
   "id": "df25dadf",
   "metadata": {},
   "outputs": [],
   "source": [
    "def get_tss(true_vals, pred_vals, thresh):\n",
    "\n",
    "    pred_y_thresh = [1 if x>thresh else 0 for x in pred_vals]\n",
    "    tn, fp, fn, tp = confusion_matrix(true_vals, pred_y_thresh).ravel()\n",
    "    TSS = (tp / (tp + fn)) - (fp / (fp + tn))\n",
    "    return TSS"
   ]
  },
  {
   "cell_type": "markdown",
   "id": "01cf792a",
   "metadata": {},
   "source": [
    "## Define the training and testing data"
   ]
  },
  {
   "cell_type": "code",
   "execution_count": 7,
   "id": "5e4f087e",
   "metadata": {},
   "outputs": [],
   "source": [
    "train_ar = data_ar[~(data_ar[\"AR issue_date\"]>=\"2016-01-01\")&(data_ar[\"AR issue_date\"]<=\"2017-12-31\")]\n",
    "test_ar = data_ar[(data_ar[\"AR issue_date\"]>=\"2016-01-01\")&(data_ar[\"AR issue_date\"]<=\"2017-12-31\")]\n",
    "\n",
    "\n",
    "flare_rates_train = get_flare_rates(train_ar)\n",
    "X_test = test_ar[\"McIntosh\"].values"
   ]
  },
  {
   "cell_type": "code",
   "execution_count": 8,
   "id": "1a6fad95",
   "metadata": {},
   "outputs": [
    {
     "data": {
      "text/plain": [
       "(14465.0, 494.0)"
      ]
     },
     "execution_count": 8,
     "metadata": {},
     "output_type": "execute_result"
    }
   ],
   "source": [
    "np.sum(train_ar[\"C+\"]), np.sum(test_ar[\"C+\"])"
   ]
  },
  {
   "cell_type": "code",
   "execution_count": 9,
   "id": "d9a5f54d",
   "metadata": {},
   "outputs": [
    {
     "data": {
      "text/html": [
       "<div>\n",
       "<style scoped>\n",
       "    .dataframe tbody tr th:only-of-type {\n",
       "        vertical-align: middle;\n",
       "    }\n",
       "\n",
       "    .dataframe tbody tr th {\n",
       "        vertical-align: top;\n",
       "    }\n",
       "\n",
       "    .dataframe thead th {\n",
       "        text-align: right;\n",
       "    }\n",
       "</style>\n",
       "<table border=\"1\" class=\"dataframe\">\n",
       "  <thead>\n",
       "    <tr style=\"text-align: right;\">\n",
       "      <th></th>\n",
       "      <th>McIntosh</th>\n",
       "      <th>C+</th>\n",
       "      <th>M+</th>\n",
       "      <th>X+</th>\n",
       "      <th>N</th>\n",
       "      <th>C_rate</th>\n",
       "      <th>M_rate</th>\n",
       "      <th>X_rate</th>\n",
       "    </tr>\n",
       "  </thead>\n",
       "  <tbody>\n",
       "    <tr>\n",
       "      <th>0</th>\n",
       "      <td>AXX</td>\n",
       "      <td>169.0</td>\n",
       "      <td>9.0</td>\n",
       "      <td>0.0</td>\n",
       "      <td>3114</td>\n",
       "      <td>0.054271</td>\n",
       "      <td>0.002890</td>\n",
       "      <td>0.000000</td>\n",
       "    </tr>\n",
       "    <tr>\n",
       "      <th>1</th>\n",
       "      <td>BXI</td>\n",
       "      <td>6.0</td>\n",
       "      <td>0.0</td>\n",
       "      <td>0.0</td>\n",
       "      <td>16</td>\n",
       "      <td>0.375000</td>\n",
       "      <td>0.000000</td>\n",
       "      <td>0.000000</td>\n",
       "    </tr>\n",
       "    <tr>\n",
       "      <th>2</th>\n",
       "      <td>BXO</td>\n",
       "      <td>382.0</td>\n",
       "      <td>17.0</td>\n",
       "      <td>0.0</td>\n",
       "      <td>3732</td>\n",
       "      <td>0.102358</td>\n",
       "      <td>0.004555</td>\n",
       "      <td>0.000000</td>\n",
       "    </tr>\n",
       "    <tr>\n",
       "      <th>3</th>\n",
       "      <td>CAI</td>\n",
       "      <td>92.0</td>\n",
       "      <td>5.0</td>\n",
       "      <td>0.0</td>\n",
       "      <td>103</td>\n",
       "      <td>0.893204</td>\n",
       "      <td>0.048544</td>\n",
       "      <td>0.000000</td>\n",
       "    </tr>\n",
       "    <tr>\n",
       "      <th>4</th>\n",
       "      <td>CAO</td>\n",
       "      <td>543.0</td>\n",
       "      <td>48.0</td>\n",
       "      <td>0.0</td>\n",
       "      <td>1909</td>\n",
       "      <td>0.284442</td>\n",
       "      <td>0.025144</td>\n",
       "      <td>0.000000</td>\n",
       "    </tr>\n",
       "    <tr>\n",
       "      <th>...</th>\n",
       "      <td>...</td>\n",
       "      <td>...</td>\n",
       "      <td>...</td>\n",
       "      <td>...</td>\n",
       "      <td>...</td>\n",
       "      <td>...</td>\n",
       "      <td>...</td>\n",
       "      <td>...</td>\n",
       "    </tr>\n",
       "    <tr>\n",
       "      <th>58</th>\n",
       "      <td>HKX</td>\n",
       "      <td>43.0</td>\n",
       "      <td>4.0</td>\n",
       "      <td>3.0</td>\n",
       "      <td>122</td>\n",
       "      <td>0.352459</td>\n",
       "      <td>0.032787</td>\n",
       "      <td>0.024590</td>\n",
       "    </tr>\n",
       "    <tr>\n",
       "      <th>59</th>\n",
       "      <td>HRX</td>\n",
       "      <td>73.0</td>\n",
       "      <td>2.0</td>\n",
       "      <td>0.0</td>\n",
       "      <td>676</td>\n",
       "      <td>0.107988</td>\n",
       "      <td>0.002959</td>\n",
       "      <td>0.000000</td>\n",
       "    </tr>\n",
       "    <tr>\n",
       "      <th>60</th>\n",
       "      <td>HSO</td>\n",
       "      <td>0.0</td>\n",
       "      <td>0.0</td>\n",
       "      <td>0.0</td>\n",
       "      <td>1</td>\n",
       "      <td>0.000000</td>\n",
       "      <td>0.000000</td>\n",
       "      <td>0.000000</td>\n",
       "    </tr>\n",
       "    <tr>\n",
       "      <th>61</th>\n",
       "      <td>HSX</td>\n",
       "      <td>408.0</td>\n",
       "      <td>38.0</td>\n",
       "      <td>1.0</td>\n",
       "      <td>4337</td>\n",
       "      <td>0.094074</td>\n",
       "      <td>0.008762</td>\n",
       "      <td>0.000231</td>\n",
       "    </tr>\n",
       "    <tr>\n",
       "      <th>62</th>\n",
       "      <td>HXX</td>\n",
       "      <td>0.0</td>\n",
       "      <td>0.0</td>\n",
       "      <td>0.0</td>\n",
       "      <td>1</td>\n",
       "      <td>0.000000</td>\n",
       "      <td>0.000000</td>\n",
       "      <td>0.000000</td>\n",
       "    </tr>\n",
       "  </tbody>\n",
       "</table>\n",
       "<p>63 rows × 8 columns</p>\n",
       "</div>"
      ],
      "text/plain": [
       "   McIntosh     C+    M+   X+     N    C_rate    M_rate    X_rate\n",
       "0       AXX  169.0   9.0  0.0  3114  0.054271  0.002890  0.000000\n",
       "1       BXI    6.0   0.0  0.0    16  0.375000  0.000000  0.000000\n",
       "2       BXO  382.0  17.0  0.0  3732  0.102358  0.004555  0.000000\n",
       "3       CAI   92.0   5.0  0.0   103  0.893204  0.048544  0.000000\n",
       "4       CAO  543.0  48.0  0.0  1909  0.284442  0.025144  0.000000\n",
       "..      ...    ...   ...  ...   ...       ...       ...       ...\n",
       "58      HKX   43.0   4.0  3.0   122  0.352459  0.032787  0.024590\n",
       "59      HRX   73.0   2.0  0.0   676  0.107988  0.002959  0.000000\n",
       "60      HSO    0.0   0.0  0.0     1  0.000000  0.000000  0.000000\n",
       "61      HSX  408.0  38.0  1.0  4337  0.094074  0.008762  0.000231\n",
       "62      HXX    0.0   0.0  0.0     1  0.000000  0.000000  0.000000\n",
       "\n",
       "[63 rows x 8 columns]"
      ]
     },
     "execution_count": 9,
     "metadata": {},
     "output_type": "execute_result"
    }
   ],
   "source": [
    "flare_rates_train"
   ]
  },
  {
   "cell_type": "code",
   "execution_count": 10,
   "id": "12e4ef25",
   "metadata": {},
   "outputs": [],
   "source": [
    "y_test_c = test_ar[\"C+\"].map(lambda x: 1 if x>0 else 0).values\n",
    "y_test_m = test_ar[\"M+\"].map(lambda x: 1 if x>0 else 0).values\n",
    "y_test_x = test_ar[\"X+\"].map(lambda x: 1 if x>0 else 0).values"
   ]
  },
  {
   "cell_type": "code",
   "execution_count": 11,
   "id": "343ed44e",
   "metadata": {},
   "outputs": [],
   "source": [
    "pred_y_c = [get_predicted_flare_rates(flare_rates_train, x)[0] for x in X_test]\n",
    "pred_y_m = [get_predicted_flare_rates(flare_rates_train, x)[1] for x in X_test]\n",
    "pred_y_x = [get_predicted_flare_rates(flare_rates_train, x)[2] for x in X_test]"
   ]
  },
  {
   "cell_type": "code",
   "execution_count": 12,
   "id": "85516cc6",
   "metadata": {},
   "outputs": [],
   "source": [
    "thresholds = np.linspace(0.01, 1, 100)\n",
    "tss_c, tss_m, tss_x = [], [], []\n",
    "for t in thresholds:\n",
    "    tss_c.append(get_tss(y_test_c, pred_y_c, t))\n",
    "    tss_m.append(get_tss(y_test_m, pred_y_m, t))\n",
    "    tss_x.append(get_tss(y_test_x, pred_y_x, t))"
   ]
  },
  {
   "cell_type": "code",
   "execution_count": 13,
   "id": "0bbe30ab",
   "metadata": {},
   "outputs": [
    {
     "data": {
      "image/png": "[encoded data removed]",
      "text/plain": [
       "<Figure size 432x288 with 1 Axes>"
      ]
     },
     "metadata": {
      "needs_background": "light"
     },
     "output_type": "display_data"
    }
   ],
   "source": [
    "fig, ax = plt.subplots()\n",
    "ax.plot(thresholds*100, tss_c, drawstyle=\"steps-mid\", label=\"C-class\")\n",
    "ax.plot(thresholds*100, tss_m, drawstyle=\"steps-mid\", label=\"M-class\")\n",
    "ax.plot(thresholds*100, tss_x, drawstyle=\"steps-mid\", label=\"X-class\")\n",
    "\n",
    "ax.legend()\n",
    "ax.set_xlim(0, 100)\n",
    "ax.set_ylim(0, 0.8)\n",
    "ax.set_xlabel(\"Threshold Probability (%)\")\n",
    "ax.set_ylabel(\"Total Skill Score (TSS)\")\n",
    "\n",
    "ax.set_title(\"McStat ($\\geqslant$ C1.0)\")\n",
    "plt.savefig(\"./overview_plots/threshold_mcstat.png\", dpi=300, facecolor=\"w\", bbox_inches=\"tight\")"
   ]
  },
  {
   "cell_type": "code",
   "execution_count": 14,
   "id": "a31cf960",
   "metadata": {},
   "outputs": [],
   "source": [
    "fpr, tpr, _ = metrics.roc_curve(y_test_c, pred_y_c)\n",
    "auc_mcstat = metrics.auc(fpr, tpr)\n",
    "climatology_mcstat = np.mean(y_test_c)"
   ]
  },
  {
   "cell_type": "code",
   "execution_count": 15,
   "id": "e1f34f5b",
   "metadata": {},
   "outputs": [
    {
     "data": {
      "image/png": "[encoded data removed]",
      "text/plain": [
       "<Figure size 432x288 with 1 Axes>"
      ]
     },
     "metadata": {
      "needs_background": "light"
     },
     "output_type": "display_data"
    }
   ],
   "source": [
    "fig, ax = plt.subplots()\n",
    "ax.plot(fpr, tpr, label=\"McStat (AUC = {:.2f})\".format(auc_mcstat))\n",
    "ax.plot([0, 1], [0, 1], color='grey', linestyle='--')\n",
    "ax.set_xlabel(\"False Positive Rate\")\n",
    "ax.set_ylabel(\"True Positive Rate\")\n",
    "ax.legend(loc=\"lower right\")\n",
    "ax.set_title(\"ROC Curve McStat ($\\geqslant$ C1.0)\")\n",
    "plt.savefig(\"./overview_plots/roc_mcstat.png\", dpi=300, facecolor=\"w\", bbox_inches=\"tight\")"
   ]
  },
  {
   "cell_type": "code",
   "execution_count": 16,
   "id": "64a7ccea",
   "metadata": {},
   "outputs": [],
   "source": [
    "from metric_utils import *"
   ]
  },
  {
   "cell_type": "code",
   "execution_count": 17,
   "id": "3f15ea37",
   "metadata": {},
   "outputs": [
    {
     "data": {
      "text/plain": [
       "0.15418619072867834"
      ]
     },
     "execution_count": 17,
     "metadata": {},
     "output_type": "execute_result"
    }
   ],
   "source": [
    "calculate_bss(y_test_c, pred_y_c)"
   ]
  },
  {
   "cell_type": "code",
   "execution_count": 18,
   "id": "66544c9f",
   "metadata": {},
   "outputs": [
    {
     "data": {
      "text/plain": [
       "0.3872500724427702"
      ]
     },
     "execution_count": 18,
     "metadata": {},
     "output_type": "execute_result"
    }
   ],
   "source": [
    "calculate_tss(y_test_c, [1 if x > 0.4 else 0 for x in pred_y_c])"
   ]
  },
  {
   "cell_type": "code",
   "execution_count": 19,
   "id": "cbac1ad9",
   "metadata": {},
   "outputs": [
    {
     "data": {
      "text/plain": [
       "0.3872500724427702"
      ]
     },
     "execution_count": 19,
     "metadata": {},
     "output_type": "execute_result"
    }
   ],
   "source": [
    "calculate_tss_threshold(y_test_c, pred_y_c, thresh=0.4)"
   ]
  },
  {
   "cell_type": "code",
   "execution_count": 20,
   "id": "9ccdf496",
   "metadata": {},
   "outputs": [
    {
     "data": {
      "image/png": "[encoded data removed]",
      "text/plain": [
       "<Figure size 432x288 with 1 Axes>"
      ]
     },
     "metadata": {
      "needs_background": "light"
     },
     "output_type": "display_data"
    }
   ],
   "source": [
    "plot_roc_curve(y_test_c, pred_y_c)"
   ]
  },
  {
   "cell_type": "code",
   "execution_count": 21,
   "id": "06609cdd",
   "metadata": {},
   "outputs": [
    {
     "data": {
      "image/png": "[encoded data removed]",
      "text/plain": [
       "<Figure size 432x432 with 2 Axes>"
      ]
     },
     "metadata": {
      "needs_background": "light"
     },
     "output_type": "display_data"
    }
   ],
   "source": [
    "plot_reliability_curve(y_test_c, pred_y_c)"
   ]
  },
  {
   "cell_type": "code",
   "execution_count": null,
   "id": "058d030a",
   "metadata": {},
   "outputs": [],
   "source": []
  },
  {
   "cell_type": "code",
   "execution_count": null,
   "id": "e417d054",
   "metadata": {},
   "outputs": [],
   "source": [
    "fraction_of_positives_c, mean_predicted_value_c = calibration_curve(y_test_c, pred_y_c, n_bins=10)\n",
    "fraction_of_positives_m, mean_predicted_value_m = calibration_curve(y_test_m, pred_y_m, n_bins=10)\n",
    "fraction_of_positives_x, mean_predicted_value_x = calibration_curve(y_test_x, pred_y_x, n_bins=20)\n",
    "\n",
    "\n",
    "fig = plt.figure(figsize=(6,6))\n",
    "gs1 = fig.add_gridspec(nrows=4, ncols=1)\n",
    "\n",
    "ax1 = fig.add_subplot(gs1[0:3, 0])\n",
    "ax2 = fig.add_subplot(gs1[3, 0], sharex=ax1)\n",
    "\n",
    "ax1.plot([0, 1], [0, 1], \"k:\", label=\"Perfectly calibrated\")\n",
    "ax1.plot(mean_predicted_value_c, fraction_of_positives_c, \"s-\")\n",
    "ax1.set_ylabel(\"Fraction of positives\")\n",
    "ax1.tick_params(which=\"both\", labelbottom=False)\n",
    "ax1.axhline(climatology_mcstat, color=\"grey\", label=\"climatology\")\n",
    "ax1.legend()\n",
    "ax1.set_title(\"McStat ($\\geqslant$ C1.0) \")\n",
    "\n",
    "ax2.hist(pred_y_c, range=(0, 1), bins=10, \n",
    "         histtype=\"step\", lw=2)\n",
    "ax2.set_xlabel(\"Mean predicted value\")\n",
    "ax2.set_ylabel(\"# events\")\n",
    "\n",
    "plt.tight_layout()\n",
    "plt.subplots_adjust(hspace=0.05)\n",
    "plt.savefig(\"./overview_plots/reliability_mcstat.png\", dpi=300, facecolor=\"w\", bbox_inches=\"tight\")"
   ]
  },
  {
   "cell_type": "code",
   "execution_count": null,
   "id": "f9d00730",
   "metadata": {},
   "outputs": [],
   "source": [
    "\n",
    "def plot_reliability_curve(true_vals, pred_vals, n_bins=10):\n",
    "\n",
    "\n",
    "    fraction_of_positives, mean_predicted_value = calibration_curve(true_vals, pred_vals, n_bins=n_bins)\n",
    "    climatology = np.mean(true_vals)\n",
    "\n",
    "    fig = plt.figure(figsize=(6,6))\n",
    "    gs1 = fig.add_gridspec(nrows=4, ncols=1)\n",
    "    ax1 = fig.add_subplot(gs1[0:3, 0])\n",
    "    ax2 = fig.add_subplot(gs1[3, 0], sharex=ax1)\n",
    "\n",
    "    ax1.plot([0, 1], [0, 1], \"k:\", label=\"Perfectly calibrated\")\n",
    "    ax1.plot(mean_predicted_value, fraction_of_positives, \"s-\")\n",
    "    \n",
    "    ax1.set_ylabel(\"Fraction of positives\")\n",
    "    ax1.tick_params(which=\"both\", labelbottom=False)\n",
    "    ax1.axhline(climatology, color=\"grey\", label=\"climatology\")\n",
    "    ax1.legend()\n",
    "    ax1.set_title(\"Reliability Curve\")\n",
    "\n",
    "    ax2.hist(pred_y_c, range=(0, 1), bins=10, \n",
    "             histtype=\"step\", lw=2)\n",
    "    ax2.set_xlabel(\"Mean predicted value\")\n",
    "    ax2.set_ylabel(\"# events\")\n",
    "\n",
    "    plt.tight_layout()\n",
    "    plt.subplots_adjust(hspace=0.05)\n"
   ]
  },
  {
   "cell_type": "code",
   "execution_count": null,
   "id": "3aa215d5",
   "metadata": {},
   "outputs": [],
   "source": [
    "plot_reliability_curve(y_test_c, pred_y_c)"
   ]
  },
  {
   "cell_type": "code",
   "execution_count": null,
   "id": "7a3afbb7",
   "metadata": {},
   "outputs": [],
   "source": [
    "bss_mcstat = calculate_bss(y_test_c, pred_y_c)\n",
    "tss_mcstat = np.max(tss_c)"
   ]
  },
  {
   "cell_type": "code",
   "execution_count": null,
   "id": "0ff7f8aa",
   "metadata": {},
   "outputs": [],
   "source": [
    "print(bss_mcstat, tss_mcstat)"
   ]
  },
  {
   "cell_type": "markdown",
   "id": "6849b690",
   "metadata": {},
   "source": [
    "## McEvol"
   ]
  },
  {
   "cell_type": "code",
   "execution_count": null,
   "id": "366d258d",
   "metadata": {},
   "outputs": [],
   "source": [
    "def get_flare_rates_evol(data):\n",
    "    \"\"\"\n",
    "    Determine flare rates for each McIntosh classification given an input \n",
    "    dataframe of AR-flare data.\n",
    "    \"\"\"\n",
    "\n",
    "    flare_number_per_group = data.groupby([\"evolution_mcint\"])[[\"C+\", \"M+\", \"X+\"]].sum().reset_index()\n",
    "    total_per_group = data.groupby([\"evolution_mcint\"])[\"C+\"].count().reset_index().rename(columns={\"C+\":\"N\"})\n",
    "    flare_number_per_group[\"N\"] = total_per_group[\"N\"]\n",
    "\n",
    "    flare_rates_per_group = flare_number_per_group.set_index(\"evolution_mcint\")[[\"C+\", \"M+\", \"X+\"]].div(flare_number_per_group[\"N\"].values, axis=0)\n",
    "\n",
    "    flare_number_per_group[\"C_rate\"] = flare_rates_per_group[\"C+\"].values\n",
    "    flare_number_per_group[\"M_rate\"] = flare_rates_per_group[\"M+\"].values\n",
    "    flare_number_per_group[\"X_rate\"] = flare_rates_per_group[\"X+\"].values\n",
    "\n",
    "    return flare_number_per_group"
   ]
  },
  {
   "cell_type": "code",
   "execution_count": null,
   "id": "a96edf50",
   "metadata": {},
   "outputs": [],
   "source": [
    "flare_rates_evol = get_flare_rates_evol(data_ar_evol)"
   ]
  },
  {
   "cell_type": "code",
   "execution_count": null,
   "id": "84263037",
   "metadata": {},
   "outputs": [],
   "source": [
    "def get_predicted_flare_rates_evol(flare_rates, mcint):\n",
    "    flare_rate_mcint = flare_rates[flare_rates[\"evolution_mcint\"].isin([mcint])]\n",
    "    if len(flare_rate_mcint)==0:\n",
    "        return 0, 0, 0\n",
    "    c_prob = 1-np.exp(-flare_rate_mcint[\"C_rate\"].values[0])\n",
    "    m_prob = 1-np.exp(-flare_rate_mcint[\"M_rate\"].values[0])\n",
    "    x_prob = 1-np.exp(-flare_rate_mcint[\"X_rate\"].values[0])\n",
    "    return c_prob, m_prob, x_prob"
   ]
  },
  {
   "cell_type": "code",
   "execution_count": null,
   "id": "a357db7c",
   "metadata": {},
   "outputs": [],
   "source": [
    "train_ar_evol = data_ar_evol[data_ar_evol[\"AR issue_date\"]<=\"2009-01-01\"]\n",
    "test_ar_evol = data_ar_evol[data_ar_evol[\"AR issue_date\"]>=\"2008-12-31\"]\n",
    "\n",
    "flare_rates_train_evol = get_flare_rates_evol(train_ar_evol)\n",
    "\n",
    "X_test_evol = test_ar_evol[\"evolution_mcint\"].values"
   ]
  },
  {
   "cell_type": "code",
   "execution_count": null,
   "id": "b3da614e",
   "metadata": {},
   "outputs": [],
   "source": [
    "y_test_c_evol = test_ar_evol[\"C+\"].map(lambda x: 1 if x>0 else 0).values\n",
    "y_test_m_evol = test_ar_evol[\"M+\"].map(lambda x: 1 if x>0 else 0).values\n",
    "y_test_x_evol = test_ar_evol[\"X+\"].map(lambda x: 1 if x>0 else 0).values"
   ]
  },
  {
   "cell_type": "code",
   "execution_count": null,
   "id": "caaac622",
   "metadata": {},
   "outputs": [],
   "source": [
    "pred_y_c_evol = [get_predicted_flare_rates_evol(flare_rates_train_evol, x)[0] for x in X_test_evol]\n",
    "pred_y_m_evol = [get_predicted_flare_rates_evol(flare_rates_train_evol, x)[1] for x in X_test_evol]\n",
    "pred_y_x_evol = [get_predicted_flare_rates_evol(flare_rates_train_evol, x)[2] for x in X_test_evol]"
   ]
  },
  {
   "cell_type": "code",
   "execution_count": null,
   "id": "335dc4b7",
   "metadata": {},
   "outputs": [],
   "source": [
    "thresholds = np.linspace(0.01, 1, 100)\n",
    "tss_c_evol, tss_m_evol, tss_x_evol = [], [], []\n",
    "for t in thresholds:\n",
    "    tss_c_evol.append(get_tss(y_test_c_evol, pred_y_c_evol, t))\n",
    "    tss_m_evol.append(get_tss(y_test_m_evol, pred_y_m_evol, t))\n",
    "    tss_x_evol.append(get_tss(y_test_x_evol, pred_y_x_evol, t))"
   ]
  },
  {
   "cell_type": "code",
   "execution_count": null,
   "id": "ad9e23fc",
   "metadata": {},
   "outputs": [],
   "source": [
    "fig, ax = plt.subplots()\n",
    "ax.plot(thresholds*100, tss_c_evol, drawstyle=\"steps-mid\", label=\"C-class\")\n",
    "ax.plot(thresholds*100, tss_m_evol, drawstyle=\"steps-mid\", label=\"M-class\")\n",
    "ax.plot(thresholds*100, tss_x_evol, drawstyle=\"steps-mid\", label=\"X-class\")\n",
    "\n",
    "\n",
    "# ax.plot(thresholds*100, tss_c, drawstyle=\"steps-mid\",ls=\"dashed\", label=\"C-class\")\n",
    "# ax.plot(thresholds*100, tss_m, drawstyle=\"steps-mid\",ls=\"dashed\", label=\"M-class\")\n",
    "# ax.plot(thresholds*100, tss_x, drawstyle=\"steps-mid\",ls=\"dashed\", label=\"X-class\")\n",
    "\n",
    "ax.legend()\n",
    "ax.set_xlim(0, 100)\n",
    "ax.set_ylim(0, 0.8)\n",
    "ax.set_xlabel(\"Threshold Probability (%)\")\n",
    "ax.set_ylabel(\"Total Skill Score (TSS)\")\n",
    "\n",
    "ax.set_title(\"McEvol ($\\geqslant$ C1.0)\")\n",
    "plt.savefig(\"./overview_plots/threshold_mcevol.png\", dpi=300, facecolor=\"w\", bbox_inches=\"tight\")"
   ]
  },
  {
   "cell_type": "code",
   "execution_count": null,
   "id": "1addd48b",
   "metadata": {},
   "outputs": [],
   "source": [
    "fpr, tpr, _ = metrics.roc_curve(y_test_c_evol, pred_y_c_evol)\n",
    "auc_mcevol = metrics.auc(fpr, tpr)\n",
    "climatology_mcevol = np.mean(y_test_c)"
   ]
  },
  {
   "cell_type": "code",
   "execution_count": null,
   "id": "f124e25b",
   "metadata": {},
   "outputs": [],
   "source": [
    "fig, ax = plt.subplots()\n",
    "ax.plot(fpr, tpr, label=\"McEvol (AUC = {:.2f})\".format(auc_mcevol))\n",
    "ax.plot([0, 1], [0, 1], color='grey', linestyle='--')\n",
    "ax.set_xlabel(\"False Positive Rate\")\n",
    "ax.set_ylabel(\"True Positive Rate\")\n",
    "ax.legend(loc=\"lower right\")\n",
    "ax.set_title(\"ROC Curve McEvol ($\\geqslant$ C1.0)\")\n",
    "plt.savefig(\"./overview_plots/roc_mcevol.png\", dpi=300, facecolor=\"w\", bbox_inches=\"tight\")"
   ]
  },
  {
   "cell_type": "code",
   "execution_count": null,
   "id": "2583dc9a",
   "metadata": {},
   "outputs": [],
   "source": [
    "fraction_of_positives_c_evol, mean_predicted_value_c_evol = calibration_curve(y_test_c_evol, pred_y_c_evol, n_bins=10)\n",
    "fraction_of_positives_m_evol, mean_predicted_value_m_evol = calibration_curve(y_test_m_evol, pred_y_m_evol, n_bins=10)\n",
    "fraction_of_positives_x_evol, mean_predicted_value_x_evol = calibration_curve(y_test_x_evol, pred_y_x_evol, n_bins=20)\n",
    "\n",
    "fig = plt.figure(figsize=(6,6))\n",
    "gs1 = fig.add_gridspec(nrows=4, ncols=1)\n",
    "\n",
    "ax1 = fig.add_subplot(gs1[0:3, 0])\n",
    "ax2 = fig.add_subplot(gs1[3, 0], sharex=ax1)\n",
    "\n",
    "ax1.plot([0, 1], [0, 1], \"k:\", label=\"Perfectly calibrated\")\n",
    "ax1.plot(mean_predicted_value_c_evol, fraction_of_positives_c_evol, \"s-\")\n",
    "ax1.set_ylabel(\"Fraction of positives\")\n",
    "ax1.tick_params(which=\"both\", labelbottom=False)\n",
    "ax1.axhline(climatology_mcevol, color=\"grey\", label=\"climatology\")\n",
    "ax1.legend()\n",
    "ax1.set_title(\"McEvol ($\\geqslant$ C1.0) \")\n",
    "\n",
    "ax2.hist(pred_y_c_evol, range=(0, 1), bins=10, \n",
    "         histtype=\"step\", lw=2)\n",
    "ax2.set_xlabel(\"Mean predicted value\")\n",
    "ax2.set_ylabel(\"# events\")\n",
    "\n",
    "plt.tight_layout()\n",
    "plt.subplots_adjust(hspace=0.05)\n",
    "plt.savefig(\"./overview_plots/reliability_mcevol.png\", dpi=300, facecolor=\"w\", bbox_inches=\"tight\")"
   ]
  },
  {
   "cell_type": "code",
   "execution_count": null,
   "id": "b5a2386b",
   "metadata": {},
   "outputs": [],
   "source": [
    "bss_mcevol = calculate_bss(y_test_c_evol, pred_y_c_evol)\n",
    "tss_mcevol = np.max(tss_c_evol)"
   ]
  },
  {
   "cell_type": "code",
   "execution_count": null,
   "id": "f744c399",
   "metadata": {},
   "outputs": [],
   "source": [
    "print(bss_mcevol, tss_mcevol)"
   ]
  },
  {
   "cell_type": "code",
   "execution_count": null,
   "id": "d89d91ca",
   "metadata": {},
   "outputs": [],
   "source": [
    "from metric_utils import *"
   ]
  },
  {
   "cell_type": "code",
   "execution_count": null,
   "id": "cf616586",
   "metadata": {},
   "outputs": [],
   "source": []
  },
  {
   "cell_type": "code",
   "execution_count": null,
   "id": "bc3057fd",
   "metadata": {},
   "outputs": [],
   "source": []
  },
  {
   "cell_type": "code",
   "execution_count": null,
   "id": "703dc2c6",
   "metadata": {},
   "outputs": [],
   "source": []
  },
  {
   "cell_type": "code",
   "execution_count": null,
   "id": "87a94591",
   "metadata": {},
   "outputs": [],
   "source": []
  }
 ],
 "metadata": {
  "kernelspec": {
   "display_name": "Python 3",
   "language": "python",
   "name": "python3"
  },
  "language_info": {
   "codemirror_mode": {
    "name": "ipython",
    "version": 3
   },
   "file_extension": ".py",
   "mimetype": "text/x-python",
   "name": "python",
   "nbconvert_exporter": "python",
   "pygments_lexer": "ipython3",
   "version": "3.9.4"
  }
 },
 "nbformat": 4,
 "nbformat_minor": 5
}
